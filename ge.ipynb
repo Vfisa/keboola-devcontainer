{
 "cells": [
  {
   "cell_type": "code",
   "execution_count": 19,
   "metadata": {},
   "outputs": [],
   "source": [
    "import great_expectations as gx\n",
    "import yaml"
   ]
  },
  {
   "cell_type": "code",
   "execution_count": 24,
   "metadata": {},
   "outputs": [],
   "source": [
    "file = \"in/tables/jobs.csv\"\n",
    "context_root_dir='great_expectations'"
   ]
  },
  {
   "cell_type": "code",
   "execution_count": 31,
   "metadata": {},
   "outputs": [
    {
     "name": "stdout",
     "output_type": "stream",
     "text": [
      "{\n",
      "  \"expectation_suite_name\": \"jobs_validation\",\n",
      "  \"ge_cloud_id\": null,\n",
      "  \"expectations\": [],\n",
      "  \"data_asset_type\": null,\n",
      "  \"meta\": {\n",
      "    \"great_expectations_version\": \"0.17.21\"\n",
      "  }\n",
      "}\n"
     ]
    }
   ],
   "source": [
    "context = gx.get_context(context_root_dir=context_root_dir)\n",
    "\n",
    "validator = context.sources.pandas_default.read_csv(file)\n",
    "\n",
    "datasource_name = \"keboola_jobs\"\n",
    "asset_name = \"keboola_jobs\"\n",
    "datasource = context.sources.add_pandas(datasource_name)\n",
    "\n",
    "asset = datasource.add_csv_asset(asset_name, filepath_or_buffer=file)\n",
    "\n",
    "batch_request = asset.build_batch_request()\n",
    "\n",
    "expectation_suite_name = \"jobs_validation\"\n",
    "expectation_suite = context.add_or_update_expectation_suite(expectation_suite_name=expectation_suite_name)\n",
    "\n",
    "print(expectation_suite)\n",
    "\n",
    "validator.save_expectation_suite()"
   ]
  },
  {
   "cell_type": "code",
   "execution_count": 33,
   "metadata": {},
   "outputs": [
    {
     "data": {
      "text/plain": [
       "CSVAsset(name='keboola_jobs', type='csv', id=None, order_by=[], batch_metadata={}, filepath_or_buffer=PosixPath('in/tables/jobs.csv'), sep=None, delimiter=None, header='infer', names=None, index_col=None, usecols=None, dtype=None, engine=None, true_values=None, false_values=None, skipinitialspace=False, skiprows=None, skipfooter=0, nrows=None, na_values=None, keep_default_na=True, na_filter=True, verbose=False, skip_blank_lines=True, parse_dates=None, infer_datetime_format=None, keep_date_col=False, date_format=None, dayfirst=False, cache_dates=True, iterator=False, chunksize=None, compression='infer', thousands=None, decimal='.', lineterminator=None, quotechar='\"', quoting=0, doublequote=True, escapechar=None, comment=None, encoding=None, encoding_errors='strict', dialect=None, on_bad_lines='error', delim_whitespace=False, low_memory=True, memory_map=False, float_precision=None, storage_options=None, dtype_backend=None)"
      ]
     },
     "execution_count": 33,
     "metadata": {},
     "output_type": "execute_result"
    }
   ],
   "source": [
    "my_asset = context.get_datasource(datasource_name).get_asset(datasource_name)\n",
    "my_asset"
   ]
  },
  {
   "cell_type": "code",
   "execution_count": 34,
   "metadata": {},
   "outputs": [
    {
     "name": "stdout",
     "output_type": "stream",
     "text": [
      "\n"
     ]
    },
    {
     "data": {
      "application/vnd.jupyter.widget-view+json": {
       "model_id": "2f28d8fe58c7412b9755a901f48533a3",
       "version_major": 2,
       "version_minor": 0
      },
      "text/plain": [
       "Generating Expectations:   0%|          | 0/8 [00:00<?, ?it/s]"
      ]
     },
     "metadata": {},
     "output_type": "display_data"
    },
    {
     "data": {
      "application/vnd.jupyter.widget-view+json": {
       "model_id": "b4e1af0589304efbb4edbcb06bab30b7",
       "version_major": 2,
       "version_minor": 0
      },
      "text/plain": [
       "Profiling Dataset:         0%|          | 0/1 [00:00<?, ?it/s]"
      ]
     },
     "metadata": {},
     "output_type": "display_data"
    },
    {
     "data": {
      "application/vnd.jupyter.widget-view+json": {
       "model_id": "a6e3ce645d424cf8b2de5f01770c07f7",
       "version_major": 2,
       "version_minor": 0
      },
      "text/plain": [
       "Calculating Metrics:   0%|          | 0/1 [00:00<?, ?it/s]"
      ]
     },
     "metadata": {},
     "output_type": "display_data"
    },
    {
     "data": {
      "application/vnd.jupyter.widget-view+json": {
       "model_id": "d312318c8ddd4b55b894d7dbbf2e7829",
       "version_major": 2,
       "version_minor": 0
      },
      "text/plain": [
       "Calculating Metrics:   0%|          | 0/2 [00:00<?, ?it/s]"
      ]
     },
     "metadata": {},
     "output_type": "display_data"
    },
    {
     "data": {
      "application/vnd.jupyter.widget-view+json": {
       "model_id": "2d8571dbdef14af48d5105aa1a5878a0",
       "version_major": 2,
       "version_minor": 0
      },
      "text/plain": [
       "Calculating Metrics:   0%|          | 0/2 [00:00<?, ?it/s]"
      ]
     },
     "metadata": {},
     "output_type": "display_data"
    },
    {
     "data": {
      "application/vnd.jupyter.widget-view+json": {
       "model_id": "29708edf6dd04afaa47e858e57b08f3d",
       "version_major": 2,
       "version_minor": 0
      },
      "text/plain": [
       "Calculating Metrics:   0%|          | 0/2 [00:00<?, ?it/s]"
      ]
     },
     "metadata": {},
     "output_type": "display_data"
    },
    {
     "data": {
      "application/vnd.jupyter.widget-view+json": {
       "model_id": "82d8ec25c17f40e6ae4711f845c86123",
       "version_major": 2,
       "version_minor": 0
      },
      "text/plain": [
       "Calculating Metrics:   0%|          | 0/1 [00:00<?, ?it/s]"
      ]
     },
     "metadata": {},
     "output_type": "display_data"
    },
    {
     "data": {
      "application/vnd.jupyter.widget-view+json": {
       "model_id": "38813225c43c4fca83bf04295f41bb0a",
       "version_major": 2,
       "version_minor": 0
      },
      "text/plain": [
       "Calculating Metrics:   0%|          | 0/1 [00:00<?, ?it/s]"
      ]
     },
     "metadata": {},
     "output_type": "display_data"
    },
    {
     "data": {
      "application/vnd.jupyter.widget-view+json": {
       "model_id": "29f02a258458470badb0eea0d1ee581f",
       "version_major": 2,
       "version_minor": 0
      },
      "text/plain": [
       "Calculating Metrics:   0%|          | 0/71 [00:00<?, ?it/s]"
      ]
     },
     "metadata": {},
     "output_type": "display_data"
    },
    {
     "data": {
      "application/vnd.jupyter.widget-view+json": {
       "model_id": "3348867a62654d49a1f3c775e0858fc7",
       "version_major": 2,
       "version_minor": 0
      },
      "text/plain": [
       "Profiling Dataset:         0%|          | 0/3 [00:00<?, ?it/s]"
      ]
     },
     "metadata": {},
     "output_type": "display_data"
    },
    {
     "data": {
      "application/vnd.jupyter.widget-view+json": {
       "model_id": "e99897b43a3541378d1eda41cbcb8312",
       "version_major": 2,
       "version_minor": 0
      },
      "text/plain": [
       "Calculating Metrics:   0%|          | 0/5 [00:00<?, ?it/s]"
      ]
     },
     "metadata": {},
     "output_type": "display_data"
    },
    {
     "data": {
      "application/vnd.jupyter.widget-view+json": {
       "model_id": "86e2b84bc0a345318701b504701235c2",
       "version_major": 2,
       "version_minor": 0
      },
      "text/plain": [
       "Calculating Metrics:   0%|          | 0/1 [00:00<?, ?it/s]"
      ]
     },
     "metadata": {},
     "output_type": "display_data"
    },
    {
     "data": {
      "application/vnd.jupyter.widget-view+json": {
       "model_id": "d5b72307b8ac45f6a95ed71afc6134e8",
       "version_major": 2,
       "version_minor": 0
      },
      "text/plain": [
       "Calculating Metrics:   0%|          | 0/5 [00:00<?, ?it/s]"
      ]
     },
     "metadata": {},
     "output_type": "display_data"
    },
    {
     "data": {
      "application/vnd.jupyter.widget-view+json": {
       "model_id": "31c97a9bb0de4a3abb4adf522b7408fd",
       "version_major": 2,
       "version_minor": 0
      },
      "text/plain": [
       "Calculating Metrics:   0%|          | 0/5 [00:00<?, ?it/s]"
      ]
     },
     "metadata": {},
     "output_type": "display_data"
    },
    {
     "data": {
      "application/vnd.jupyter.widget-view+json": {
       "model_id": "2a73cdde011d45ffbbf1ba6a79f9391f",
       "version_major": 2,
       "version_minor": 0
      },
      "text/plain": [
       "Calculating Metrics:   0%|          | 0/5 [00:00<?, ?it/s]"
      ]
     },
     "metadata": {},
     "output_type": "display_data"
    },
    {
     "data": {
      "application/vnd.jupyter.widget-view+json": {
       "model_id": "3ec6c5d5bf7b4142a421563fc3e28b78",
       "version_major": 2,
       "version_minor": 0
      },
      "text/plain": [
       "Calculating Metrics:   0%|          | 0/1 [00:00<?, ?it/s]"
      ]
     },
     "metadata": {},
     "output_type": "display_data"
    },
    {
     "data": {
      "application/vnd.jupyter.widget-view+json": {
       "model_id": "3b017405e331474a90a7fae0c5d8a6d5",
       "version_major": 2,
       "version_minor": 0
      },
      "text/plain": [
       "Calculating Metrics:   0%|          | 0/5 [00:00<?, ?it/s]"
      ]
     },
     "metadata": {},
     "output_type": "display_data"
    },
    {
     "data": {
      "application/vnd.jupyter.widget-view+json": {
       "model_id": "a55679fce85b4eb59577a3dc783669e2",
       "version_major": 2,
       "version_minor": 0
      },
      "text/plain": [
       "Calculating Metrics:   0%|          | 0/5 [00:00<?, ?it/s]"
      ]
     },
     "metadata": {},
     "output_type": "display_data"
    },
    {
     "data": {
      "application/vnd.jupyter.widget-view+json": {
       "model_id": "d6022276ff3840d197a5d48d72f0f46f",
       "version_major": 2,
       "version_minor": 0
      },
      "text/plain": [
       "Calculating Metrics:   0%|          | 0/5 [00:00<?, ?it/s]"
      ]
     },
     "metadata": {},
     "output_type": "display_data"
    },
    {
     "data": {
      "application/vnd.jupyter.widget-view+json": {
       "model_id": "b239ab7724c1438e80a95330303d3833",
       "version_major": 2,
       "version_minor": 0
      },
      "text/plain": [
       "Calculating Metrics:   0%|          | 0/1 [00:00<?, ?it/s]"
      ]
     },
     "metadata": {},
     "output_type": "display_data"
    },
    {
     "data": {
      "application/vnd.jupyter.widget-view+json": {
       "model_id": "ca78a3f981b94eb9aa716645cb94b9a5",
       "version_major": 2,
       "version_minor": 0
      },
      "text/plain": [
       "Calculating Metrics:   0%|          | 0/5 [00:00<?, ?it/s]"
      ]
     },
     "metadata": {},
     "output_type": "display_data"
    },
    {
     "data": {
      "application/vnd.jupyter.widget-view+json": {
       "model_id": "e8e51ba979d74d18a2c877687a6246a0",
       "version_major": 2,
       "version_minor": 0
      },
      "text/plain": [
       "Calculating Metrics:   0%|          | 0/5 [00:00<?, ?it/s]"
      ]
     },
     "metadata": {},
     "output_type": "display_data"
    },
    {
     "data": {
      "application/vnd.jupyter.widget-view+json": {
       "model_id": "c534777672164f51937eb09ef1ed7bc5",
       "version_major": 2,
       "version_minor": 0
      },
      "text/plain": [
       "Calculating Metrics:   0%|          | 0/2 [00:00<?, ?it/s]"
      ]
     },
     "metadata": {},
     "output_type": "display_data"
    },
    {
     "data": {
      "application/vnd.jupyter.widget-view+json": {
       "model_id": "88359da6ec374d4fb377da9a91b5a075",
       "version_major": 2,
       "version_minor": 0
      },
      "text/plain": [
       "Calculating Metrics:   0%|          | 0/1 [00:00<?, ?it/s]"
      ]
     },
     "metadata": {},
     "output_type": "display_data"
    },
    {
     "data": {
      "application/vnd.jupyter.widget-view+json": {
       "model_id": "9758b842ed8243eeae2c91425bf491aa",
       "version_major": 2,
       "version_minor": 0
      },
      "text/plain": [
       "Calculating Metrics:   0%|          | 0/1 [00:00<?, ?it/s]"
      ]
     },
     "metadata": {},
     "output_type": "display_data"
    },
    {
     "data": {
      "application/vnd.jupyter.widget-view+json": {
       "model_id": "2ed2c60e2ed9423b88eb32233d9fd192",
       "version_major": 2,
       "version_minor": 0
      },
      "text/plain": [
       "Calculating Metrics:   0%|          | 0/71 [00:00<?, ?it/s]"
      ]
     },
     "metadata": {},
     "output_type": "display_data"
    },
    {
     "data": {
      "application/vnd.jupyter.widget-view+json": {
       "model_id": "dd69f45f5db04525b62abe2e80771adf",
       "version_major": 2,
       "version_minor": 0
      },
      "text/plain": [
       "Profiling Dataset:         0%|          | 0/2 [00:00<?, ?it/s]"
      ]
     },
     "metadata": {},
     "output_type": "display_data"
    },
    {
     "data": {
      "application/vnd.jupyter.widget-view+json": {
       "model_id": "1464937c83e1462a820c9361f4cf964e",
       "version_major": 2,
       "version_minor": 0
      },
      "text/plain": [
       "Calculating Metrics:   0%|          | 0/5 [00:00<?, ?it/s]"
      ]
     },
     "metadata": {},
     "output_type": "display_data"
    },
    {
     "data": {
      "application/vnd.jupyter.widget-view+json": {
       "model_id": "3980179707cf414fab185afb070cb59c",
       "version_major": 2,
       "version_minor": 0
      },
      "text/plain": [
       "Calculating Metrics:   0%|          | 0/1 [00:00<?, ?it/s]"
      ]
     },
     "metadata": {},
     "output_type": "display_data"
    },
    {
     "data": {
      "application/vnd.jupyter.widget-view+json": {
       "model_id": "cf3af2d2f9c044a28c23f09dfdbff615",
       "version_major": 2,
       "version_minor": 0
      },
      "text/plain": [
       "Calculating Metrics:   0%|          | 0/5 [00:00<?, ?it/s]"
      ]
     },
     "metadata": {},
     "output_type": "display_data"
    },
    {
     "data": {
      "application/vnd.jupyter.widget-view+json": {
       "model_id": "40a219fd85a64a86abb6ff0b5f837d18",
       "version_major": 2,
       "version_minor": 0
      },
      "text/plain": [
       "Calculating Metrics:   0%|          | 0/5 [00:00<?, ?it/s]"
      ]
     },
     "metadata": {},
     "output_type": "display_data"
    },
    {
     "data": {
      "application/vnd.jupyter.widget-view+json": {
       "model_id": "2619eee50adf4137b2d59e210e2c5eec",
       "version_major": 2,
       "version_minor": 0
      },
      "text/plain": [
       "Calculating Metrics:   0%|          | 0/1 [00:00<?, ?it/s]"
      ]
     },
     "metadata": {},
     "output_type": "display_data"
    },
    {
     "data": {
      "application/vnd.jupyter.widget-view+json": {
       "model_id": "0c3774686111499a9b20796e1fb40a2b",
       "version_major": 2,
       "version_minor": 0
      },
      "text/plain": [
       "Calculating Metrics:   0%|          | 0/5 [00:00<?, ?it/s]"
      ]
     },
     "metadata": {},
     "output_type": "display_data"
    },
    {
     "data": {
      "application/vnd.jupyter.widget-view+json": {
       "model_id": "c783a35dcb84448bb6e360aad19f8cc8",
       "version_major": 2,
       "version_minor": 0
      },
      "text/plain": [
       "Calculating Metrics:   0%|          | 0/2 [00:00<?, ?it/s]"
      ]
     },
     "metadata": {},
     "output_type": "display_data"
    },
    {
     "data": {
      "application/vnd.jupyter.widget-view+json": {
       "model_id": "02c607ed548a42adb73c3fedf4bfd6e6",
       "version_major": 2,
       "version_minor": 0
      },
      "text/plain": [
       "Calculating Metrics:   0%|          | 0/1 [00:00<?, ?it/s]"
      ]
     },
     "metadata": {},
     "output_type": "display_data"
    },
    {
     "data": {
      "application/vnd.jupyter.widget-view+json": {
       "model_id": "e970a19de15c4c38845c5ae95b5a54f5",
       "version_major": 2,
       "version_minor": 0
      },
      "text/plain": [
       "Calculating Metrics:   0%|          | 0/1 [00:00<?, ?it/s]"
      ]
     },
     "metadata": {},
     "output_type": "display_data"
    },
    {
     "data": {
      "application/vnd.jupyter.widget-view+json": {
       "model_id": "a5c8f45b008b4a2784c7a727a276648f",
       "version_major": 2,
       "version_minor": 0
      },
      "text/plain": [
       "Calculating Metrics:   0%|          | 0/71 [00:00<?, ?it/s]"
      ]
     },
     "metadata": {},
     "output_type": "display_data"
    },
    {
     "data": {
      "application/vnd.jupyter.widget-view+json": {
       "model_id": "dd482e1aa0d24e4ca574d116b30a4b55",
       "version_major": 2,
       "version_minor": 0
      },
      "text/plain": [
       "Profiling Dataset:         0%|          | 0/21 [00:00<?, ?it/s]"
      ]
     },
     "metadata": {},
     "output_type": "display_data"
    },
    {
     "data": {
      "application/vnd.jupyter.widget-view+json": {
       "model_id": "94cf55c833f54971adff8b4527644429",
       "version_major": 2,
       "version_minor": 0
      },
      "text/plain": [
       "Calculating Metrics:   0%|          | 0/5 [00:00<?, ?it/s]"
      ]
     },
     "metadata": {},
     "output_type": "display_data"
    },
    {
     "data": {
      "application/vnd.jupyter.widget-view+json": {
       "model_id": "9501cfabc9934eca976d93f5d428a597",
       "version_major": 2,
       "version_minor": 0
      },
      "text/plain": [
       "Calculating Metrics:   0%|          | 0/1 [00:00<?, ?it/s]"
      ]
     },
     "metadata": {},
     "output_type": "display_data"
    },
    {
     "data": {
      "application/vnd.jupyter.widget-view+json": {
       "model_id": "dc4984096d87482e8e3e16edad2ad7e6",
       "version_major": 2,
       "version_minor": 0
      },
      "text/plain": [
       "Calculating Metrics:   0%|          | 0/5 [00:00<?, ?it/s]"
      ]
     },
     "metadata": {},
     "output_type": "display_data"
    },
    {
     "data": {
      "application/vnd.jupyter.widget-view+json": {
       "model_id": "c4abea0268ae49b7bcba1b51815a0df1",
       "version_major": 2,
       "version_minor": 0
      },
      "text/plain": [
       "Calculating Metrics:   0%|          | 0/5 [00:00<?, ?it/s]"
      ]
     },
     "metadata": {},
     "output_type": "display_data"
    },
    {
     "data": {
      "application/vnd.jupyter.widget-view+json": {
       "model_id": "72d83f8abce34f468e3cc6f124148b46",
       "version_major": 2,
       "version_minor": 0
      },
      "text/plain": [
       "Calculating Metrics:   0%|          | 0/5 [00:00<?, ?it/s]"
      ]
     },
     "metadata": {},
     "output_type": "display_data"
    },
    {
     "data": {
      "application/vnd.jupyter.widget-view+json": {
       "model_id": "2302d85f027a49f28e0df7429a7e487b",
       "version_major": 2,
       "version_minor": 0
      },
      "text/plain": [
       "Calculating Metrics:   0%|          | 0/1 [00:00<?, ?it/s]"
      ]
     },
     "metadata": {},
     "output_type": "display_data"
    },
    {
     "data": {
      "application/vnd.jupyter.widget-view+json": {
       "model_id": "7fc1d6d5a986444eb21c50e4354d8609",
       "version_major": 2,
       "version_minor": 0
      },
      "text/plain": [
       "Calculating Metrics:   0%|          | 0/5 [00:00<?, ?it/s]"
      ]
     },
     "metadata": {},
     "output_type": "display_data"
    },
    {
     "data": {
      "application/vnd.jupyter.widget-view+json": {
       "model_id": "28c006bce8514499a2afb2fa00000a14",
       "version_major": 2,
       "version_minor": 0
      },
      "text/plain": [
       "Calculating Metrics:   0%|          | 0/5 [00:00<?, ?it/s]"
      ]
     },
     "metadata": {},
     "output_type": "display_data"
    },
    {
     "data": {
      "application/vnd.jupyter.widget-view+json": {
       "model_id": "e50c9f557ccc4e8686c7911cfc6ef636",
       "version_major": 2,
       "version_minor": 0
      },
      "text/plain": [
       "Calculating Metrics:   0%|          | 0/5 [00:00<?, ?it/s]"
      ]
     },
     "metadata": {},
     "output_type": "display_data"
    },
    {
     "data": {
      "application/vnd.jupyter.widget-view+json": {
       "model_id": "50f0e797865b42cf8d9bc93b81efc9d0",
       "version_major": 2,
       "version_minor": 0
      },
      "text/plain": [
       "Calculating Metrics:   0%|          | 0/1 [00:00<?, ?it/s]"
      ]
     },
     "metadata": {},
     "output_type": "display_data"
    },
    {
     "data": {
      "application/vnd.jupyter.widget-view+json": {
       "model_id": "e173fb5015e04e50920856e7f6c1a292",
       "version_major": 2,
       "version_minor": 0
      },
      "text/plain": [
       "Calculating Metrics:   0%|          | 0/5 [00:00<?, ?it/s]"
      ]
     },
     "metadata": {},
     "output_type": "display_data"
    },
    {
     "data": {
      "application/vnd.jupyter.widget-view+json": {
       "model_id": "0948fd94574a403cb7aabb5befc845ae",
       "version_major": 2,
       "version_minor": 0
      },
      "text/plain": [
       "Calculating Metrics:   0%|          | 0/5 [00:00<?, ?it/s]"
      ]
     },
     "metadata": {},
     "output_type": "display_data"
    },
    {
     "data": {
      "application/vnd.jupyter.widget-view+json": {
       "model_id": "b05d55c823fa4371a82b2b91a54a0a69",
       "version_major": 2,
       "version_minor": 0
      },
      "text/plain": [
       "Calculating Metrics:   0%|          | 0/5 [00:00<?, ?it/s]"
      ]
     },
     "metadata": {},
     "output_type": "display_data"
    },
    {
     "data": {
      "application/vnd.jupyter.widget-view+json": {
       "model_id": "4a90f4d271194983b81754d127869031",
       "version_major": 2,
       "version_minor": 0
      },
      "text/plain": [
       "Calculating Metrics:   0%|          | 0/1 [00:00<?, ?it/s]"
      ]
     },
     "metadata": {},
     "output_type": "display_data"
    },
    {
     "data": {
      "application/vnd.jupyter.widget-view+json": {
       "model_id": "3caff2554d5d4048a29d2b8a13df736f",
       "version_major": 2,
       "version_minor": 0
      },
      "text/plain": [
       "Calculating Metrics:   0%|          | 0/5 [00:00<?, ?it/s]"
      ]
     },
     "metadata": {},
     "output_type": "display_data"
    },
    {
     "data": {
      "application/vnd.jupyter.widget-view+json": {
       "model_id": "6cee3af0b9784c9d8f83ff5b12a6af54",
       "version_major": 2,
       "version_minor": 0
      },
      "text/plain": [
       "Calculating Metrics:   0%|          | 0/5 [00:00<?, ?it/s]"
      ]
     },
     "metadata": {},
     "output_type": "display_data"
    },
    {
     "data": {
      "application/vnd.jupyter.widget-view+json": {
       "model_id": "45e68320d2514787b88672f68db086d0",
       "version_major": 2,
       "version_minor": 0
      },
      "text/plain": [
       "Calculating Metrics:   0%|          | 0/5 [00:00<?, ?it/s]"
      ]
     },
     "metadata": {},
     "output_type": "display_data"
    },
    {
     "data": {
      "application/vnd.jupyter.widget-view+json": {
       "model_id": "21d232fbff1b4a5e8daf92d35bef1525",
       "version_major": 2,
       "version_minor": 0
      },
      "text/plain": [
       "Calculating Metrics:   0%|          | 0/1 [00:00<?, ?it/s]"
      ]
     },
     "metadata": {},
     "output_type": "display_data"
    },
    {
     "data": {
      "application/vnd.jupyter.widget-view+json": {
       "model_id": "95f3a52a44b34ff295ec7e090cba81bd",
       "version_major": 2,
       "version_minor": 0
      },
      "text/plain": [
       "Calculating Metrics:   0%|          | 0/5 [00:00<?, ?it/s]"
      ]
     },
     "metadata": {},
     "output_type": "display_data"
    },
    {
     "data": {
      "application/vnd.jupyter.widget-view+json": {
       "model_id": "fb7d3097fdd642fcb2a260ed198d14ae",
       "version_major": 2,
       "version_minor": 0
      },
      "text/plain": [
       "Calculating Metrics:   0%|          | 0/5 [00:00<?, ?it/s]"
      ]
     },
     "metadata": {},
     "output_type": "display_data"
    },
    {
     "data": {
      "application/vnd.jupyter.widget-view+json": {
       "model_id": "29e5dd17a9a842f3a81b8fa906832d3e",
       "version_major": 2,
       "version_minor": 0
      },
      "text/plain": [
       "Calculating Metrics:   0%|          | 0/5 [00:00<?, ?it/s]"
      ]
     },
     "metadata": {},
     "output_type": "display_data"
    },
    {
     "data": {
      "application/vnd.jupyter.widget-view+json": {
       "model_id": "e86159c687c34efcbb46ee56fd4349a1",
       "version_major": 2,
       "version_minor": 0
      },
      "text/plain": [
       "Calculating Metrics:   0%|          | 0/1 [00:00<?, ?it/s]"
      ]
     },
     "metadata": {},
     "output_type": "display_data"
    },
    {
     "data": {
      "application/vnd.jupyter.widget-view+json": {
       "model_id": "2045fefdafc6496aac98567c4d5efca0",
       "version_major": 2,
       "version_minor": 0
      },
      "text/plain": [
       "Calculating Metrics:   0%|          | 0/5 [00:00<?, ?it/s]"
      ]
     },
     "metadata": {},
     "output_type": "display_data"
    },
    {
     "data": {
      "application/vnd.jupyter.widget-view+json": {
       "model_id": "03c1e628309448b980ceb4af62a521a4",
       "version_major": 2,
       "version_minor": 0
      },
      "text/plain": [
       "Calculating Metrics:   0%|          | 0/5 [00:00<?, ?it/s]"
      ]
     },
     "metadata": {},
     "output_type": "display_data"
    },
    {
     "data": {
      "application/vnd.jupyter.widget-view+json": {
       "model_id": "ace5c677a6a54d6c95ecbf66dff1b5cb",
       "version_major": 2,
       "version_minor": 0
      },
      "text/plain": [
       "Calculating Metrics:   0%|          | 0/5 [00:00<?, ?it/s]"
      ]
     },
     "metadata": {},
     "output_type": "display_data"
    },
    {
     "data": {
      "application/vnd.jupyter.widget-view+json": {
       "model_id": "b2961805359b4cda925ee7218227275a",
       "version_major": 2,
       "version_minor": 0
      },
      "text/plain": [
       "Calculating Metrics:   0%|          | 0/1 [00:00<?, ?it/s]"
      ]
     },
     "metadata": {},
     "output_type": "display_data"
    },
    {
     "data": {
      "application/vnd.jupyter.widget-view+json": {
       "model_id": "3eb9241aa38140489ecb242b514220c9",
       "version_major": 2,
       "version_minor": 0
      },
      "text/plain": [
       "Calculating Metrics:   0%|          | 0/5 [00:00<?, ?it/s]"
      ]
     },
     "metadata": {},
     "output_type": "display_data"
    },
    {
     "data": {
      "application/vnd.jupyter.widget-view+json": {
       "model_id": "1b3d00af42b44ff7a062ab2b384bb0b6",
       "version_major": 2,
       "version_minor": 0
      },
      "text/plain": [
       "Calculating Metrics:   0%|          | 0/5 [00:00<?, ?it/s]"
      ]
     },
     "metadata": {},
     "output_type": "display_data"
    },
    {
     "data": {
      "application/vnd.jupyter.widget-view+json": {
       "model_id": "f17ba5e1810e45dd816862705b0a24c9",
       "version_major": 2,
       "version_minor": 0
      },
      "text/plain": [
       "Calculating Metrics:   0%|          | 0/5 [00:00<?, ?it/s]"
      ]
     },
     "metadata": {},
     "output_type": "display_data"
    },
    {
     "data": {
      "application/vnd.jupyter.widget-view+json": {
       "model_id": "df704a0f7f5d4cdcb62f9492bbf5e62b",
       "version_major": 2,
       "version_minor": 0
      },
      "text/plain": [
       "Calculating Metrics:   0%|          | 0/1 [00:00<?, ?it/s]"
      ]
     },
     "metadata": {},
     "output_type": "display_data"
    },
    {
     "data": {
      "application/vnd.jupyter.widget-view+json": {
       "model_id": "94d2faf669da4e6fbed9a6bc05d168cc",
       "version_major": 2,
       "version_minor": 0
      },
      "text/plain": [
       "Calculating Metrics:   0%|          | 0/5 [00:00<?, ?it/s]"
      ]
     },
     "metadata": {},
     "output_type": "display_data"
    },
    {
     "data": {
      "application/vnd.jupyter.widget-view+json": {
       "model_id": "187f535cecba49a2b5c2e6a78912b4db",
       "version_major": 2,
       "version_minor": 0
      },
      "text/plain": [
       "Calculating Metrics:   0%|          | 0/5 [00:00<?, ?it/s]"
      ]
     },
     "metadata": {},
     "output_type": "display_data"
    },
    {
     "data": {
      "application/vnd.jupyter.widget-view+json": {
       "model_id": "89f78bede2e84f4d82d47179921d95ba",
       "version_major": 2,
       "version_minor": 0
      },
      "text/plain": [
       "Calculating Metrics:   0%|          | 0/5 [00:00<?, ?it/s]"
      ]
     },
     "metadata": {},
     "output_type": "display_data"
    },
    {
     "data": {
      "application/vnd.jupyter.widget-view+json": {
       "model_id": "ded0bcffd4684e8ba5357044d4ce7a8e",
       "version_major": 2,
       "version_minor": 0
      },
      "text/plain": [
       "Calculating Metrics:   0%|          | 0/1 [00:00<?, ?it/s]"
      ]
     },
     "metadata": {},
     "output_type": "display_data"
    },
    {
     "data": {
      "application/vnd.jupyter.widget-view+json": {
       "model_id": "75a1e98289ed4d40839ea9a490d2d0b7",
       "version_major": 2,
       "version_minor": 0
      },
      "text/plain": [
       "Calculating Metrics:   0%|          | 0/5 [00:00<?, ?it/s]"
      ]
     },
     "metadata": {},
     "output_type": "display_data"
    },
    {
     "data": {
      "application/vnd.jupyter.widget-view+json": {
       "model_id": "df304ea878504c77b1c924c704752052",
       "version_major": 2,
       "version_minor": 0
      },
      "text/plain": [
       "Calculating Metrics:   0%|          | 0/5 [00:00<?, ?it/s]"
      ]
     },
     "metadata": {},
     "output_type": "display_data"
    },
    {
     "data": {
      "application/vnd.jupyter.widget-view+json": {
       "model_id": "d28a848860684a19a739105675746580",
       "version_major": 2,
       "version_minor": 0
      },
      "text/plain": [
       "Calculating Metrics:   0%|          | 0/5 [00:00<?, ?it/s]"
      ]
     },
     "metadata": {},
     "output_type": "display_data"
    },
    {
     "data": {
      "application/vnd.jupyter.widget-view+json": {
       "model_id": "8366166dca294c1ea6a00b1bc34642e4",
       "version_major": 2,
       "version_minor": 0
      },
      "text/plain": [
       "Calculating Metrics:   0%|          | 0/1 [00:00<?, ?it/s]"
      ]
     },
     "metadata": {},
     "output_type": "display_data"
    },
    {
     "data": {
      "application/vnd.jupyter.widget-view+json": {
       "model_id": "46bd1cdbf25e42bfbc2fae21c738ed80",
       "version_major": 2,
       "version_minor": 0
      },
      "text/plain": [
       "Calculating Metrics:   0%|          | 0/5 [00:00<?, ?it/s]"
      ]
     },
     "metadata": {},
     "output_type": "display_data"
    },
    {
     "data": {
      "application/vnd.jupyter.widget-view+json": {
       "model_id": "3c8fc94321de4b5a98f93b7237921dc4",
       "version_major": 2,
       "version_minor": 0
      },
      "text/plain": [
       "Calculating Metrics:   0%|          | 0/5 [00:00<?, ?it/s]"
      ]
     },
     "metadata": {},
     "output_type": "display_data"
    },
    {
     "data": {
      "application/vnd.jupyter.widget-view+json": {
       "model_id": "ec5cccbb519e4b6ba4448b36400ea457",
       "version_major": 2,
       "version_minor": 0
      },
      "text/plain": [
       "Calculating Metrics:   0%|          | 0/5 [00:00<?, ?it/s]"
      ]
     },
     "metadata": {},
     "output_type": "display_data"
    },
    {
     "data": {
      "application/vnd.jupyter.widget-view+json": {
       "model_id": "268fc8cdbc904cc384e1d8d2b8a64556",
       "version_major": 2,
       "version_minor": 0
      },
      "text/plain": [
       "Calculating Metrics:   0%|          | 0/1 [00:00<?, ?it/s]"
      ]
     },
     "metadata": {},
     "output_type": "display_data"
    },
    {
     "data": {
      "application/vnd.jupyter.widget-view+json": {
       "model_id": "0e50782e40fc4292afd65eea387c7905",
       "version_major": 2,
       "version_minor": 0
      },
      "text/plain": [
       "Calculating Metrics:   0%|          | 0/5 [00:00<?, ?it/s]"
      ]
     },
     "metadata": {},
     "output_type": "display_data"
    },
    {
     "data": {
      "application/vnd.jupyter.widget-view+json": {
       "model_id": "7ef03d5f870b4e1dab00d33bc1927857",
       "version_major": 2,
       "version_minor": 0
      },
      "text/plain": [
       "Calculating Metrics:   0%|          | 0/5 [00:00<?, ?it/s]"
      ]
     },
     "metadata": {},
     "output_type": "display_data"
    },
    {
     "data": {
      "application/vnd.jupyter.widget-view+json": {
       "model_id": "8f3628788e044aed8fb07143a05d094e",
       "version_major": 2,
       "version_minor": 0
      },
      "text/plain": [
       "Calculating Metrics:   0%|          | 0/5 [00:00<?, ?it/s]"
      ]
     },
     "metadata": {},
     "output_type": "display_data"
    },
    {
     "data": {
      "application/vnd.jupyter.widget-view+json": {
       "model_id": "d7f1ed9f91ac414ca18bb0d5b9308d2a",
       "version_major": 2,
       "version_minor": 0
      },
      "text/plain": [
       "Calculating Metrics:   0%|          | 0/1 [00:00<?, ?it/s]"
      ]
     },
     "metadata": {},
     "output_type": "display_data"
    },
    {
     "data": {
      "application/vnd.jupyter.widget-view+json": {
       "model_id": "ff6aa3ceed0348f1bebe6726678cc7c0",
       "version_major": 2,
       "version_minor": 0
      },
      "text/plain": [
       "Calculating Metrics:   0%|          | 0/5 [00:00<?, ?it/s]"
      ]
     },
     "metadata": {},
     "output_type": "display_data"
    },
    {
     "data": {
      "application/vnd.jupyter.widget-view+json": {
       "model_id": "338199d94ca94a65a1043e9b62f427a6",
       "version_major": 2,
       "version_minor": 0
      },
      "text/plain": [
       "Calculating Metrics:   0%|          | 0/5 [00:00<?, ?it/s]"
      ]
     },
     "metadata": {},
     "output_type": "display_data"
    },
    {
     "data": {
      "application/vnd.jupyter.widget-view+json": {
       "model_id": "c879cddc9f054c8192148311e4eefb62",
       "version_major": 2,
       "version_minor": 0
      },
      "text/plain": [
       "Calculating Metrics:   0%|          | 0/5 [00:00<?, ?it/s]"
      ]
     },
     "metadata": {},
     "output_type": "display_data"
    },
    {
     "data": {
      "application/vnd.jupyter.widget-view+json": {
       "model_id": "f85e83d5f6b74c85b5c0a6d8bd6a79e3",
       "version_major": 2,
       "version_minor": 0
      },
      "text/plain": [
       "Calculating Metrics:   0%|          | 0/1 [00:00<?, ?it/s]"
      ]
     },
     "metadata": {},
     "output_type": "display_data"
    },
    {
     "data": {
      "application/vnd.jupyter.widget-view+json": {
       "model_id": "5fceac9186ea4677beb70e901bb70745",
       "version_major": 2,
       "version_minor": 0
      },
      "text/plain": [
       "Calculating Metrics:   0%|          | 0/5 [00:00<?, ?it/s]"
      ]
     },
     "metadata": {},
     "output_type": "display_data"
    },
    {
     "data": {
      "application/vnd.jupyter.widget-view+json": {
       "model_id": "48b5f73cf51f4fccaf75e32aba10f8b5",
       "version_major": 2,
       "version_minor": 0
      },
      "text/plain": [
       "Calculating Metrics:   0%|          | 0/5 [00:00<?, ?it/s]"
      ]
     },
     "metadata": {},
     "output_type": "display_data"
    },
    {
     "data": {
      "application/vnd.jupyter.widget-view+json": {
       "model_id": "328ae22ae8584e64affc44e742ceb6b4",
       "version_major": 2,
       "version_minor": 0
      },
      "text/plain": [
       "Calculating Metrics:   0%|          | 0/5 [00:00<?, ?it/s]"
      ]
     },
     "metadata": {},
     "output_type": "display_data"
    },
    {
     "data": {
      "application/vnd.jupyter.widget-view+json": {
       "model_id": "e7a7841cbb8d4f50a96797a2e4b1e06d",
       "version_major": 2,
       "version_minor": 0
      },
      "text/plain": [
       "Calculating Metrics:   0%|          | 0/1 [00:00<?, ?it/s]"
      ]
     },
     "metadata": {},
     "output_type": "display_data"
    },
    {
     "data": {
      "application/vnd.jupyter.widget-view+json": {
       "model_id": "584c31548d25444588ed8bf1b57701e2",
       "version_major": 2,
       "version_minor": 0
      },
      "text/plain": [
       "Calculating Metrics:   0%|          | 0/5 [00:00<?, ?it/s]"
      ]
     },
     "metadata": {},
     "output_type": "display_data"
    },
    {
     "data": {
      "application/vnd.jupyter.widget-view+json": {
       "model_id": "f65bf2e6d4e145e88829e02656c9a4f1",
       "version_major": 2,
       "version_minor": 0
      },
      "text/plain": [
       "Calculating Metrics:   0%|          | 0/5 [00:00<?, ?it/s]"
      ]
     },
     "metadata": {},
     "output_type": "display_data"
    },
    {
     "data": {
      "application/vnd.jupyter.widget-view+json": {
       "model_id": "b8e359998ac34ddaa7bf04219d206be4",
       "version_major": 2,
       "version_minor": 0
      },
      "text/plain": [
       "Calculating Metrics:   0%|          | 0/5 [00:00<?, ?it/s]"
      ]
     },
     "metadata": {},
     "output_type": "display_data"
    },
    {
     "data": {
      "application/vnd.jupyter.widget-view+json": {
       "model_id": "1122ed0e7f65416d8ae1895eb67bf9c7",
       "version_major": 2,
       "version_minor": 0
      },
      "text/plain": [
       "Calculating Metrics:   0%|          | 0/1 [00:00<?, ?it/s]"
      ]
     },
     "metadata": {},
     "output_type": "display_data"
    },
    {
     "data": {
      "application/vnd.jupyter.widget-view+json": {
       "model_id": "e89237e84a7347b8adb7c1ee4b7b9963",
       "version_major": 2,
       "version_minor": 0
      },
      "text/plain": [
       "Calculating Metrics:   0%|          | 0/5 [00:00<?, ?it/s]"
      ]
     },
     "metadata": {},
     "output_type": "display_data"
    },
    {
     "data": {
      "application/vnd.jupyter.widget-view+json": {
       "model_id": "0afe0206bbdc439c8bf05ad86dc71003",
       "version_major": 2,
       "version_minor": 0
      },
      "text/plain": [
       "Calculating Metrics:   0%|          | 0/5 [00:00<?, ?it/s]"
      ]
     },
     "metadata": {},
     "output_type": "display_data"
    },
    {
     "data": {
      "application/vnd.jupyter.widget-view+json": {
       "model_id": "abb744672eae4bdaa04f88ceb2048b2c",
       "version_major": 2,
       "version_minor": 0
      },
      "text/plain": [
       "Calculating Metrics:   0%|          | 0/5 [00:00<?, ?it/s]"
      ]
     },
     "metadata": {},
     "output_type": "display_data"
    },
    {
     "data": {
      "application/vnd.jupyter.widget-view+json": {
       "model_id": "c7ef09275d33409996e37e286ccc282b",
       "version_major": 2,
       "version_minor": 0
      },
      "text/plain": [
       "Calculating Metrics:   0%|          | 0/1 [00:00<?, ?it/s]"
      ]
     },
     "metadata": {},
     "output_type": "display_data"
    },
    {
     "data": {
      "application/vnd.jupyter.widget-view+json": {
       "model_id": "7d240687fa644e7cbe798407c2b9099c",
       "version_major": 2,
       "version_minor": 0
      },
      "text/plain": [
       "Calculating Metrics:   0%|          | 0/5 [00:00<?, ?it/s]"
      ]
     },
     "metadata": {},
     "output_type": "display_data"
    },
    {
     "data": {
      "application/vnd.jupyter.widget-view+json": {
       "model_id": "1ab5253314aa4852ae5edde3549d6cda",
       "version_major": 2,
       "version_minor": 0
      },
      "text/plain": [
       "Calculating Metrics:   0%|          | 0/5 [00:00<?, ?it/s]"
      ]
     },
     "metadata": {},
     "output_type": "display_data"
    },
    {
     "data": {
      "application/vnd.jupyter.widget-view+json": {
       "model_id": "93f2d1539c0444f4a0b77919dc51c90f",
       "version_major": 2,
       "version_minor": 0
      },
      "text/plain": [
       "Calculating Metrics:   0%|          | 0/5 [00:00<?, ?it/s]"
      ]
     },
     "metadata": {},
     "output_type": "display_data"
    },
    {
     "data": {
      "application/vnd.jupyter.widget-view+json": {
       "model_id": "f19c85b0073241629d656b4389119c02",
       "version_major": 2,
       "version_minor": 0
      },
      "text/plain": [
       "Calculating Metrics:   0%|          | 0/1 [00:00<?, ?it/s]"
      ]
     },
     "metadata": {},
     "output_type": "display_data"
    },
    {
     "data": {
      "application/vnd.jupyter.widget-view+json": {
       "model_id": "fe6039de341e4f668633fdbf90962d66",
       "version_major": 2,
       "version_minor": 0
      },
      "text/plain": [
       "Calculating Metrics:   0%|          | 0/5 [00:00<?, ?it/s]"
      ]
     },
     "metadata": {},
     "output_type": "display_data"
    },
    {
     "data": {
      "application/vnd.jupyter.widget-view+json": {
       "model_id": "bfce46d5db084dfbac33faf120a20c1b",
       "version_major": 2,
       "version_minor": 0
      },
      "text/plain": [
       "Calculating Metrics:   0%|          | 0/5 [00:00<?, ?it/s]"
      ]
     },
     "metadata": {},
     "output_type": "display_data"
    },
    {
     "data": {
      "application/vnd.jupyter.widget-view+json": {
       "model_id": "57ae7ebcfc244b24a5f9b626b437459e",
       "version_major": 2,
       "version_minor": 0
      },
      "text/plain": [
       "Calculating Metrics:   0%|          | 0/5 [00:00<?, ?it/s]"
      ]
     },
     "metadata": {},
     "output_type": "display_data"
    },
    {
     "data": {
      "application/vnd.jupyter.widget-view+json": {
       "model_id": "7c7fe28ce0bb490e82a9725388ffae30",
       "version_major": 2,
       "version_minor": 0
      },
      "text/plain": [
       "Calculating Metrics:   0%|          | 0/1 [00:00<?, ?it/s]"
      ]
     },
     "metadata": {},
     "output_type": "display_data"
    },
    {
     "data": {
      "application/vnd.jupyter.widget-view+json": {
       "model_id": "2ab554e823b044318f7e0cde1383adf5",
       "version_major": 2,
       "version_minor": 0
      },
      "text/plain": [
       "Calculating Metrics:   0%|          | 0/5 [00:00<?, ?it/s]"
      ]
     },
     "metadata": {},
     "output_type": "display_data"
    },
    {
     "data": {
      "application/vnd.jupyter.widget-view+json": {
       "model_id": "f709d5d95d824c46a1214fb98fb4f58a",
       "version_major": 2,
       "version_minor": 0
      },
      "text/plain": [
       "Calculating Metrics:   0%|          | 0/5 [00:00<?, ?it/s]"
      ]
     },
     "metadata": {},
     "output_type": "display_data"
    },
    {
     "data": {
      "application/vnd.jupyter.widget-view+json": {
       "model_id": "605ca72dd85442a1a37fff9cd12520b1",
       "version_major": 2,
       "version_minor": 0
      },
      "text/plain": [
       "Calculating Metrics:   0%|          | 0/5 [00:00<?, ?it/s]"
      ]
     },
     "metadata": {},
     "output_type": "display_data"
    },
    {
     "data": {
      "application/vnd.jupyter.widget-view+json": {
       "model_id": "adada3aa4732447cacc1bd1a900cc78f",
       "version_major": 2,
       "version_minor": 0
      },
      "text/plain": [
       "Calculating Metrics:   0%|          | 0/1 [00:00<?, ?it/s]"
      ]
     },
     "metadata": {},
     "output_type": "display_data"
    },
    {
     "data": {
      "application/vnd.jupyter.widget-view+json": {
       "model_id": "fb5ccc4ad2564bd7844b9703f2a0d3f7",
       "version_major": 2,
       "version_minor": 0
      },
      "text/plain": [
       "Calculating Metrics:   0%|          | 0/5 [00:00<?, ?it/s]"
      ]
     },
     "metadata": {},
     "output_type": "display_data"
    },
    {
     "data": {
      "application/vnd.jupyter.widget-view+json": {
       "model_id": "0c80c2958f304fc78c9c06cb186f09a3",
       "version_major": 2,
       "version_minor": 0
      },
      "text/plain": [
       "Calculating Metrics:   0%|          | 0/5 [00:00<?, ?it/s]"
      ]
     },
     "metadata": {},
     "output_type": "display_data"
    },
    {
     "data": {
      "application/vnd.jupyter.widget-view+json": {
       "model_id": "e67d78a88cc343e3841a24dcd6e5729d",
       "version_major": 2,
       "version_minor": 0
      },
      "text/plain": [
       "Calculating Metrics:   0%|          | 0/5 [00:00<?, ?it/s]"
      ]
     },
     "metadata": {},
     "output_type": "display_data"
    },
    {
     "data": {
      "application/vnd.jupyter.widget-view+json": {
       "model_id": "d5be57a5f9d24e05b5e1609bd3b65ded",
       "version_major": 2,
       "version_minor": 0
      },
      "text/plain": [
       "Calculating Metrics:   0%|          | 0/1 [00:00<?, ?it/s]"
      ]
     },
     "metadata": {},
     "output_type": "display_data"
    },
    {
     "data": {
      "application/vnd.jupyter.widget-view+json": {
       "model_id": "1a3ceeee856f4336b12903d9e272e289",
       "version_major": 2,
       "version_minor": 0
      },
      "text/plain": [
       "Calculating Metrics:   0%|          | 0/5 [00:00<?, ?it/s]"
      ]
     },
     "metadata": {},
     "output_type": "display_data"
    },
    {
     "data": {
      "application/vnd.jupyter.widget-view+json": {
       "model_id": "b2f09edf86e44008be6e5fb1b5e19827",
       "version_major": 2,
       "version_minor": 0
      },
      "text/plain": [
       "Calculating Metrics:   0%|          | 0/5 [00:00<?, ?it/s]"
      ]
     },
     "metadata": {},
     "output_type": "display_data"
    },
    {
     "data": {
      "application/vnd.jupyter.widget-view+json": {
       "model_id": "8d773198e4564d36bbe40e0d0c7ba937",
       "version_major": 2,
       "version_minor": 0
      },
      "text/plain": [
       "Calculating Metrics:   0%|          | 0/5 [00:00<?, ?it/s]"
      ]
     },
     "metadata": {},
     "output_type": "display_data"
    },
    {
     "data": {
      "application/vnd.jupyter.widget-view+json": {
       "model_id": "89e791eb7ecf48279429cc1093981132",
       "version_major": 2,
       "version_minor": 0
      },
      "text/plain": [
       "Calculating Metrics:   0%|          | 0/1 [00:00<?, ?it/s]"
      ]
     },
     "metadata": {},
     "output_type": "display_data"
    },
    {
     "data": {
      "application/vnd.jupyter.widget-view+json": {
       "model_id": "6daa51c637bb40fd86be8c3cb7531fc7",
       "version_major": 2,
       "version_minor": 0
      },
      "text/plain": [
       "Calculating Metrics:   0%|          | 0/5 [00:00<?, ?it/s]"
      ]
     },
     "metadata": {},
     "output_type": "display_data"
    },
    {
     "data": {
      "application/vnd.jupyter.widget-view+json": {
       "model_id": "2ee3b1b1e3d14b5987e9b4d7c652f35f",
       "version_major": 2,
       "version_minor": 0
      },
      "text/plain": [
       "Calculating Metrics:   0%|          | 0/5 [00:00<?, ?it/s]"
      ]
     },
     "metadata": {},
     "output_type": "display_data"
    },
    {
     "data": {
      "application/vnd.jupyter.widget-view+json": {
       "model_id": "c11825d045d14a5d9b642284638230a8",
       "version_major": 2,
       "version_minor": 0
      },
      "text/plain": [
       "Calculating Metrics:   0%|          | 0/2 [00:00<?, ?it/s]"
      ]
     },
     "metadata": {},
     "output_type": "display_data"
    },
    {
     "data": {
      "application/vnd.jupyter.widget-view+json": {
       "model_id": "8d2162884feb455a90803d19be094129",
       "version_major": 2,
       "version_minor": 0
      },
      "text/plain": [
       "Calculating Metrics:   0%|          | 0/1 [00:00<?, ?it/s]"
      ]
     },
     "metadata": {},
     "output_type": "display_data"
    },
    {
     "data": {
      "application/vnd.jupyter.widget-view+json": {
       "model_id": "f5bc91c071354bfabff4e7145f770e0e",
       "version_major": 2,
       "version_minor": 0
      },
      "text/plain": [
       "Profiling Dataset:         0%|          | 0/9 [00:00<?, ?it/s]"
      ]
     },
     "metadata": {},
     "output_type": "display_data"
    },
    {
     "data": {
      "application/vnd.jupyter.widget-view+json": {
       "model_id": "30609ef17a294e439392a6f78790e535",
       "version_major": 2,
       "version_minor": 0
      },
      "text/plain": [
       "Calculating Metrics:   0%|          | 0/6 [00:00<?, ?it/s]"
      ]
     },
     "metadata": {},
     "output_type": "display_data"
    },
    {
     "data": {
      "application/vnd.jupyter.widget-view+json": {
       "model_id": "9a8668c682854ccb807084e7de60d1a0",
       "version_major": 2,
       "version_minor": 0
      },
      "text/plain": [
       "Calculating Metrics:   0%|          | 0/6 [00:00<?, ?it/s]"
      ]
     },
     "metadata": {},
     "output_type": "display_data"
    },
    {
     "data": {
      "application/vnd.jupyter.widget-view+json": {
       "model_id": "985e619ab78e452a8ffd2fb9aeafb205",
       "version_major": 2,
       "version_minor": 0
      },
      "text/plain": [
       "Calculating Metrics:   0%|          | 0/4 [00:00<?, ?it/s]"
      ]
     },
     "metadata": {},
     "output_type": "display_data"
    },
    {
     "data": {
      "application/vnd.jupyter.widget-view+json": {
       "model_id": "3891cece58f54e7599a7aad93b5c29f2",
       "version_major": 2,
       "version_minor": 0
      },
      "text/plain": [
       "Calculating Metrics:   0%|          | 0/4 [00:00<?, ?it/s]"
      ]
     },
     "metadata": {},
     "output_type": "display_data"
    },
    {
     "data": {
      "application/vnd.jupyter.widget-view+json": {
       "model_id": "a1897ecc534342509610774025a74a6d",
       "version_major": 2,
       "version_minor": 0
      },
      "text/plain": [
       "Calculating Metrics:   0%|          | 0/4 [00:00<?, ?it/s]"
      ]
     },
     "metadata": {},
     "output_type": "display_data"
    },
    {
     "data": {
      "application/vnd.jupyter.widget-view+json": {
       "model_id": "dc85aa520db54064bc7e712d79b5a897",
       "version_major": 2,
       "version_minor": 0
      },
      "text/plain": [
       "Calculating Metrics:   0%|          | 0/4 [00:00<?, ?it/s]"
      ]
     },
     "metadata": {},
     "output_type": "display_data"
    },
    {
     "data": {
      "application/vnd.jupyter.widget-view+json": {
       "model_id": "42862145fa1940e18e238f19d7791d48",
       "version_major": 2,
       "version_minor": 0
      },
      "text/plain": [
       "Calculating Metrics:   0%|          | 0/4 [00:00<?, ?it/s]"
      ]
     },
     "metadata": {},
     "output_type": "display_data"
    },
    {
     "data": {
      "application/vnd.jupyter.widget-view+json": {
       "model_id": "064260cc1a1749bba3541ac43003c0a4",
       "version_major": 2,
       "version_minor": 0
      },
      "text/plain": [
       "Calculating Metrics:   0%|          | 0/4 [00:00<?, ?it/s]"
      ]
     },
     "metadata": {},
     "output_type": "display_data"
    },
    {
     "data": {
      "application/vnd.jupyter.widget-view+json": {
       "model_id": "0b782280e290424396965bf47f2296de",
       "version_major": 2,
       "version_minor": 0
      },
      "text/plain": [
       "Calculating Metrics:   0%|          | 0/4 [00:00<?, ?it/s]"
      ]
     },
     "metadata": {},
     "output_type": "display_data"
    },
    {
     "data": {
      "application/vnd.jupyter.widget-view+json": {
       "model_id": "db682bfdc4404022ad2c8bf79fc82bb0",
       "version_major": 2,
       "version_minor": 0
      },
      "text/plain": [
       "Calculating Metrics:   0%|          | 0/6 [00:00<?, ?it/s]"
      ]
     },
     "metadata": {},
     "output_type": "display_data"
    },
    {
     "data": {
      "application/vnd.jupyter.widget-view+json": {
       "model_id": "cbf8041347f14d6aaa5158ecb7b2aac5",
       "version_major": 2,
       "version_minor": 0
      },
      "text/plain": [
       "Calculating Metrics:   0%|          | 0/6 [00:00<?, ?it/s]"
      ]
     },
     "metadata": {},
     "output_type": "display_data"
    },
    {
     "data": {
      "application/vnd.jupyter.widget-view+json": {
       "model_id": "bb7a2569c30a4b3891cd55edb924a328",
       "version_major": 2,
       "version_minor": 0
      },
      "text/plain": [
       "Calculating Metrics:   0%|          | 0/4 [00:00<?, ?it/s]"
      ]
     },
     "metadata": {},
     "output_type": "display_data"
    },
    {
     "data": {
      "application/vnd.jupyter.widget-view+json": {
       "model_id": "de5692a779354ad8b565120f85e3420f",
       "version_major": 2,
       "version_minor": 0
      },
      "text/plain": [
       "Calculating Metrics:   0%|          | 0/4 [00:00<?, ?it/s]"
      ]
     },
     "metadata": {},
     "output_type": "display_data"
    },
    {
     "data": {
      "application/vnd.jupyter.widget-view+json": {
       "model_id": "3b61949e50a848ec9503810b013a023d",
       "version_major": 2,
       "version_minor": 0
      },
      "text/plain": [
       "Calculating Metrics:   0%|          | 0/4 [00:00<?, ?it/s]"
      ]
     },
     "metadata": {},
     "output_type": "display_data"
    },
    {
     "data": {
      "application/vnd.jupyter.widget-view+json": {
       "model_id": "ca8ab326a1804f48b6b23a43491171d2",
       "version_major": 2,
       "version_minor": 0
      },
      "text/plain": [
       "Calculating Metrics:   0%|          | 0/4 [00:00<?, ?it/s]"
      ]
     },
     "metadata": {},
     "output_type": "display_data"
    },
    {
     "data": {
      "application/vnd.jupyter.widget-view+json": {
       "model_id": "6aaaefae29d54add97b0d25e03cd546c",
       "version_major": 2,
       "version_minor": 0
      },
      "text/plain": [
       "Calculating Metrics:   0%|          | 0/4 [00:00<?, ?it/s]"
      ]
     },
     "metadata": {},
     "output_type": "display_data"
    },
    {
     "data": {
      "application/vnd.jupyter.widget-view+json": {
       "model_id": "f9875e4e02814d80a8a761e2be659f92",
       "version_major": 2,
       "version_minor": 0
      },
      "text/plain": [
       "Calculating Metrics:   0%|          | 0/4 [00:00<?, ?it/s]"
      ]
     },
     "metadata": {},
     "output_type": "display_data"
    },
    {
     "data": {
      "application/vnd.jupyter.widget-view+json": {
       "model_id": "982e4a55f6a34eef8de58a44650ab4d5",
       "version_major": 2,
       "version_minor": 0
      },
      "text/plain": [
       "Calculating Metrics:   0%|          | 0/4 [00:00<?, ?it/s]"
      ]
     },
     "metadata": {},
     "output_type": "display_data"
    },
    {
     "data": {
      "application/vnd.jupyter.widget-view+json": {
       "model_id": "5ac2c7822c5e4d76b29550f75d40f4b5",
       "version_major": 2,
       "version_minor": 0
      },
      "text/plain": [
       "Calculating Metrics:   0%|          | 0/6 [00:00<?, ?it/s]"
      ]
     },
     "metadata": {},
     "output_type": "display_data"
    },
    {
     "data": {
      "application/vnd.jupyter.widget-view+json": {
       "model_id": "0f9432b8e4d945e0bc530f1b88343cdb",
       "version_major": 2,
       "version_minor": 0
      },
      "text/plain": [
       "Calculating Metrics:   0%|          | 0/6 [00:00<?, ?it/s]"
      ]
     },
     "metadata": {},
     "output_type": "display_data"
    },
    {
     "data": {
      "application/vnd.jupyter.widget-view+json": {
       "model_id": "11e6931632a943828be6abf792ecce05",
       "version_major": 2,
       "version_minor": 0
      },
      "text/plain": [
       "Calculating Metrics:   0%|          | 0/4 [00:00<?, ?it/s]"
      ]
     },
     "metadata": {},
     "output_type": "display_data"
    },
    {
     "data": {
      "application/vnd.jupyter.widget-view+json": {
       "model_id": "d4271d10e2d047d4b9501fca6ac10f66",
       "version_major": 2,
       "version_minor": 0
      },
      "text/plain": [
       "Calculating Metrics:   0%|          | 0/4 [00:00<?, ?it/s]"
      ]
     },
     "metadata": {},
     "output_type": "display_data"
    },
    {
     "data": {
      "application/vnd.jupyter.widget-view+json": {
       "model_id": "193ab4afb6fd4e0e8eb794b958fae542",
       "version_major": 2,
       "version_minor": 0
      },
      "text/plain": [
       "Calculating Metrics:   0%|          | 0/4 [00:00<?, ?it/s]"
      ]
     },
     "metadata": {},
     "output_type": "display_data"
    },
    {
     "data": {
      "application/vnd.jupyter.widget-view+json": {
       "model_id": "d02c3811f20544c98c8fefc97f14ab02",
       "version_major": 2,
       "version_minor": 0
      },
      "text/plain": [
       "Calculating Metrics:   0%|          | 0/4 [00:00<?, ?it/s]"
      ]
     },
     "metadata": {},
     "output_type": "display_data"
    },
    {
     "data": {
      "application/vnd.jupyter.widget-view+json": {
       "model_id": "10cb3a276a7b47b8b620028027db31b7",
       "version_major": 2,
       "version_minor": 0
      },
      "text/plain": [
       "Calculating Metrics:   0%|          | 0/4 [00:00<?, ?it/s]"
      ]
     },
     "metadata": {},
     "output_type": "display_data"
    },
    {
     "data": {
      "application/vnd.jupyter.widget-view+json": {
       "model_id": "25e157beb94e4c979bad717fbffabbb7",
       "version_major": 2,
       "version_minor": 0
      },
      "text/plain": [
       "Calculating Metrics:   0%|          | 0/4 [00:00<?, ?it/s]"
      ]
     },
     "metadata": {},
     "output_type": "display_data"
    },
    {
     "data": {
      "application/vnd.jupyter.widget-view+json": {
       "model_id": "6468c4dc7c38453b87f4f2b628e18a19",
       "version_major": 2,
       "version_minor": 0
      },
      "text/plain": [
       "Calculating Metrics:   0%|          | 0/4 [00:00<?, ?it/s]"
      ]
     },
     "metadata": {},
     "output_type": "display_data"
    },
    {
     "data": {
      "application/vnd.jupyter.widget-view+json": {
       "model_id": "fb378794dd094bbc8010b76df0525a76",
       "version_major": 2,
       "version_minor": 0
      },
      "text/plain": [
       "Calculating Metrics:   0%|          | 0/6 [00:00<?, ?it/s]"
      ]
     },
     "metadata": {},
     "output_type": "display_data"
    },
    {
     "data": {
      "application/vnd.jupyter.widget-view+json": {
       "model_id": "3e83f9f9217e4166bbeb59b5b62a5e63",
       "version_major": 2,
       "version_minor": 0
      },
      "text/plain": [
       "Calculating Metrics:   0%|          | 0/6 [00:00<?, ?it/s]"
      ]
     },
     "metadata": {},
     "output_type": "display_data"
    },
    {
     "data": {
      "application/vnd.jupyter.widget-view+json": {
       "model_id": "e931a7c5827b40ae85c7f47116a2a302",
       "version_major": 2,
       "version_minor": 0
      },
      "text/plain": [
       "Calculating Metrics:   0%|          | 0/4 [00:00<?, ?it/s]"
      ]
     },
     "metadata": {},
     "output_type": "display_data"
    },
    {
     "data": {
      "application/vnd.jupyter.widget-view+json": {
       "model_id": "d2834dfaa81c4e8687d9a88786f9570e",
       "version_major": 2,
       "version_minor": 0
      },
      "text/plain": [
       "Calculating Metrics:   0%|          | 0/4 [00:00<?, ?it/s]"
      ]
     },
     "metadata": {},
     "output_type": "display_data"
    },
    {
     "data": {
      "application/vnd.jupyter.widget-view+json": {
       "model_id": "e64f767810f845f0b2ea600a8bf415e3",
       "version_major": 2,
       "version_minor": 0
      },
      "text/plain": [
       "Calculating Metrics:   0%|          | 0/4 [00:00<?, ?it/s]"
      ]
     },
     "metadata": {},
     "output_type": "display_data"
    },
    {
     "data": {
      "application/vnd.jupyter.widget-view+json": {
       "model_id": "a976787d9f54458db2581799807bb092",
       "version_major": 2,
       "version_minor": 0
      },
      "text/plain": [
       "Calculating Metrics:   0%|          | 0/4 [00:00<?, ?it/s]"
      ]
     },
     "metadata": {},
     "output_type": "display_data"
    },
    {
     "data": {
      "application/vnd.jupyter.widget-view+json": {
       "model_id": "e4bde5bfb3de4d1c9ba96a341eecbf2a",
       "version_major": 2,
       "version_minor": 0
      },
      "text/plain": [
       "Calculating Metrics:   0%|          | 0/4 [00:00<?, ?it/s]"
      ]
     },
     "metadata": {},
     "output_type": "display_data"
    },
    {
     "data": {
      "application/vnd.jupyter.widget-view+json": {
       "model_id": "839dd92388464c8bb8d7ca38129955e2",
       "version_major": 2,
       "version_minor": 0
      },
      "text/plain": [
       "Calculating Metrics:   0%|          | 0/4 [00:00<?, ?it/s]"
      ]
     },
     "metadata": {},
     "output_type": "display_data"
    },
    {
     "data": {
      "application/vnd.jupyter.widget-view+json": {
       "model_id": "ff181c1d9da14a6bb8fdf74c8ce6348c",
       "version_major": 2,
       "version_minor": 0
      },
      "text/plain": [
       "Calculating Metrics:   0%|          | 0/4 [00:00<?, ?it/s]"
      ]
     },
     "metadata": {},
     "output_type": "display_data"
    },
    {
     "data": {
      "application/vnd.jupyter.widget-view+json": {
       "model_id": "fb1e241c828448358fca2eaba9ead97e",
       "version_major": 2,
       "version_minor": 0
      },
      "text/plain": [
       "Calculating Metrics:   0%|          | 0/6 [00:00<?, ?it/s]"
      ]
     },
     "metadata": {},
     "output_type": "display_data"
    },
    {
     "data": {
      "application/vnd.jupyter.widget-view+json": {
       "model_id": "b1a623af212d466aabeccd47249d8fe9",
       "version_major": 2,
       "version_minor": 0
      },
      "text/plain": [
       "Calculating Metrics:   0%|          | 0/6 [00:00<?, ?it/s]"
      ]
     },
     "metadata": {},
     "output_type": "display_data"
    },
    {
     "data": {
      "application/vnd.jupyter.widget-view+json": {
       "model_id": "0c36e2e0c3c742a98c10f82c9b70fa3b",
       "version_major": 2,
       "version_minor": 0
      },
      "text/plain": [
       "Calculating Metrics:   0%|          | 0/4 [00:00<?, ?it/s]"
      ]
     },
     "metadata": {},
     "output_type": "display_data"
    },
    {
     "data": {
      "application/vnd.jupyter.widget-view+json": {
       "model_id": "fcb3287687ae4171b2ba0191b623e53d",
       "version_major": 2,
       "version_minor": 0
      },
      "text/plain": [
       "Calculating Metrics:   0%|          | 0/4 [00:00<?, ?it/s]"
      ]
     },
     "metadata": {},
     "output_type": "display_data"
    },
    {
     "data": {
      "application/vnd.jupyter.widget-view+json": {
       "model_id": "dfef4927eb69477f817c6bf40716775d",
       "version_major": 2,
       "version_minor": 0
      },
      "text/plain": [
       "Calculating Metrics:   0%|          | 0/4 [00:00<?, ?it/s]"
      ]
     },
     "metadata": {},
     "output_type": "display_data"
    },
    {
     "data": {
      "application/vnd.jupyter.widget-view+json": {
       "model_id": "315fe39db9fb49a49ce97124463410f6",
       "version_major": 2,
       "version_minor": 0
      },
      "text/plain": [
       "Calculating Metrics:   0%|          | 0/4 [00:00<?, ?it/s]"
      ]
     },
     "metadata": {},
     "output_type": "display_data"
    },
    {
     "data": {
      "application/vnd.jupyter.widget-view+json": {
       "model_id": "b7a7dad0b9694d72b08e045b5999a399",
       "version_major": 2,
       "version_minor": 0
      },
      "text/plain": [
       "Calculating Metrics:   0%|          | 0/4 [00:00<?, ?it/s]"
      ]
     },
     "metadata": {},
     "output_type": "display_data"
    },
    {
     "data": {
      "application/vnd.jupyter.widget-view+json": {
       "model_id": "7b32bdb0963e4c3aa9faaaaa4babc505",
       "version_major": 2,
       "version_minor": 0
      },
      "text/plain": [
       "Calculating Metrics:   0%|          | 0/4 [00:00<?, ?it/s]"
      ]
     },
     "metadata": {},
     "output_type": "display_data"
    },
    {
     "data": {
      "application/vnd.jupyter.widget-view+json": {
       "model_id": "b7717e2f134b4528a7af1560cd89ef1e",
       "version_major": 2,
       "version_minor": 0
      },
      "text/plain": [
       "Calculating Metrics:   0%|          | 0/4 [00:00<?, ?it/s]"
      ]
     },
     "metadata": {},
     "output_type": "display_data"
    },
    {
     "data": {
      "application/vnd.jupyter.widget-view+json": {
       "model_id": "4159762bac4240488c0d0829f8a01f07",
       "version_major": 2,
       "version_minor": 0
      },
      "text/plain": [
       "Calculating Metrics:   0%|          | 0/6 [00:00<?, ?it/s]"
      ]
     },
     "metadata": {},
     "output_type": "display_data"
    },
    {
     "data": {
      "application/vnd.jupyter.widget-view+json": {
       "model_id": "9f5b6db6a83a43f68ee553a95325d689",
       "version_major": 2,
       "version_minor": 0
      },
      "text/plain": [
       "Calculating Metrics:   0%|          | 0/6 [00:00<?, ?it/s]"
      ]
     },
     "metadata": {},
     "output_type": "display_data"
    },
    {
     "data": {
      "application/vnd.jupyter.widget-view+json": {
       "model_id": "b533e2d007d64de397f8b1e7cc1061bb",
       "version_major": 2,
       "version_minor": 0
      },
      "text/plain": [
       "Calculating Metrics:   0%|          | 0/4 [00:00<?, ?it/s]"
      ]
     },
     "metadata": {},
     "output_type": "display_data"
    },
    {
     "data": {
      "application/vnd.jupyter.widget-view+json": {
       "model_id": "4dbf96bb7c32474499660591578a8277",
       "version_major": 2,
       "version_minor": 0
      },
      "text/plain": [
       "Calculating Metrics:   0%|          | 0/4 [00:00<?, ?it/s]"
      ]
     },
     "metadata": {},
     "output_type": "display_data"
    },
    {
     "data": {
      "application/vnd.jupyter.widget-view+json": {
       "model_id": "d57a9f88320d4a7bb9e5a8e0216a82ee",
       "version_major": 2,
       "version_minor": 0
      },
      "text/plain": [
       "Calculating Metrics:   0%|          | 0/4 [00:00<?, ?it/s]"
      ]
     },
     "metadata": {},
     "output_type": "display_data"
    },
    {
     "data": {
      "application/vnd.jupyter.widget-view+json": {
       "model_id": "499642470cf543c3aff65c1695179912",
       "version_major": 2,
       "version_minor": 0
      },
      "text/plain": [
       "Calculating Metrics:   0%|          | 0/4 [00:00<?, ?it/s]"
      ]
     },
     "metadata": {},
     "output_type": "display_data"
    },
    {
     "data": {
      "application/vnd.jupyter.widget-view+json": {
       "model_id": "56933242fd9040a5b2a1be9e38367504",
       "version_major": 2,
       "version_minor": 0
      },
      "text/plain": [
       "Calculating Metrics:   0%|          | 0/4 [00:00<?, ?it/s]"
      ]
     },
     "metadata": {},
     "output_type": "display_data"
    },
    {
     "data": {
      "application/vnd.jupyter.widget-view+json": {
       "model_id": "bdd6848fb7df47fd8d050f36f835c612",
       "version_major": 2,
       "version_minor": 0
      },
      "text/plain": [
       "Calculating Metrics:   0%|          | 0/4 [00:00<?, ?it/s]"
      ]
     },
     "metadata": {},
     "output_type": "display_data"
    },
    {
     "data": {
      "application/vnd.jupyter.widget-view+json": {
       "model_id": "f45f5bc0b80c4f5287335a940777309d",
       "version_major": 2,
       "version_minor": 0
      },
      "text/plain": [
       "Calculating Metrics:   0%|          | 0/4 [00:00<?, ?it/s]"
      ]
     },
     "metadata": {},
     "output_type": "display_data"
    },
    {
     "data": {
      "application/vnd.jupyter.widget-view+json": {
       "model_id": "813153a357244177be4de8ce7a355985",
       "version_major": 2,
       "version_minor": 0
      },
      "text/plain": [
       "Calculating Metrics:   0%|          | 0/6 [00:00<?, ?it/s]"
      ]
     },
     "metadata": {},
     "output_type": "display_data"
    },
    {
     "data": {
      "application/vnd.jupyter.widget-view+json": {
       "model_id": "4b08451e1a614977b10d58258e671e87",
       "version_major": 2,
       "version_minor": 0
      },
      "text/plain": [
       "Calculating Metrics:   0%|          | 0/6 [00:00<?, ?it/s]"
      ]
     },
     "metadata": {},
     "output_type": "display_data"
    },
    {
     "data": {
      "application/vnd.jupyter.widget-view+json": {
       "model_id": "31094a19992e441784f3cea75eb34758",
       "version_major": 2,
       "version_minor": 0
      },
      "text/plain": [
       "Calculating Metrics:   0%|          | 0/4 [00:00<?, ?it/s]"
      ]
     },
     "metadata": {},
     "output_type": "display_data"
    },
    {
     "data": {
      "application/vnd.jupyter.widget-view+json": {
       "model_id": "185d5af1b8344b9481a145ca0ced7286",
       "version_major": 2,
       "version_minor": 0
      },
      "text/plain": [
       "Calculating Metrics:   0%|          | 0/4 [00:00<?, ?it/s]"
      ]
     },
     "metadata": {},
     "output_type": "display_data"
    },
    {
     "data": {
      "application/vnd.jupyter.widget-view+json": {
       "model_id": "ad24a506ab77482183aaa0242b22b5ca",
       "version_major": 2,
       "version_minor": 0
      },
      "text/plain": [
       "Calculating Metrics:   0%|          | 0/4 [00:00<?, ?it/s]"
      ]
     },
     "metadata": {},
     "output_type": "display_data"
    },
    {
     "data": {
      "application/vnd.jupyter.widget-view+json": {
       "model_id": "e4061d7d7f6c41b8858798a3d0217bde",
       "version_major": 2,
       "version_minor": 0
      },
      "text/plain": [
       "Calculating Metrics:   0%|          | 0/4 [00:00<?, ?it/s]"
      ]
     },
     "metadata": {},
     "output_type": "display_data"
    },
    {
     "data": {
      "application/vnd.jupyter.widget-view+json": {
       "model_id": "4d7d080a6b1344a9aa48e937b88f9d0b",
       "version_major": 2,
       "version_minor": 0
      },
      "text/plain": [
       "Calculating Metrics:   0%|          | 0/4 [00:00<?, ?it/s]"
      ]
     },
     "metadata": {},
     "output_type": "display_data"
    },
    {
     "data": {
      "application/vnd.jupyter.widget-view+json": {
       "model_id": "784ff18efa3a427a93cbc6e9b8cf850a",
       "version_major": 2,
       "version_minor": 0
      },
      "text/plain": [
       "Calculating Metrics:   0%|          | 0/4 [00:00<?, ?it/s]"
      ]
     },
     "metadata": {},
     "output_type": "display_data"
    },
    {
     "data": {
      "application/vnd.jupyter.widget-view+json": {
       "model_id": "3fcb1fa2738a45f7997008ba9da79dcd",
       "version_major": 2,
       "version_minor": 0
      },
      "text/plain": [
       "Calculating Metrics:   0%|          | 0/4 [00:00<?, ?it/s]"
      ]
     },
     "metadata": {},
     "output_type": "display_data"
    },
    {
     "data": {
      "application/vnd.jupyter.widget-view+json": {
       "model_id": "20727d675ba44b799d2c8aa17693795c",
       "version_major": 2,
       "version_minor": 0
      },
      "text/plain": [
       "Calculating Metrics:   0%|          | 0/6 [00:00<?, ?it/s]"
      ]
     },
     "metadata": {},
     "output_type": "display_data"
    },
    {
     "data": {
      "application/vnd.jupyter.widget-view+json": {
       "model_id": "19c98f2f17044c43a975db5bc11ac8ad",
       "version_major": 2,
       "version_minor": 0
      },
      "text/plain": [
       "Calculating Metrics:   0%|          | 0/6 [00:00<?, ?it/s]"
      ]
     },
     "metadata": {},
     "output_type": "display_data"
    },
    {
     "data": {
      "application/vnd.jupyter.widget-view+json": {
       "model_id": "c8c5401c1b3943ebb1567a4d24f1c232",
       "version_major": 2,
       "version_minor": 0
      },
      "text/plain": [
       "Calculating Metrics:   0%|          | 0/4 [00:00<?, ?it/s]"
      ]
     },
     "metadata": {},
     "output_type": "display_data"
    },
    {
     "data": {
      "application/vnd.jupyter.widget-view+json": {
       "model_id": "9a20a78a898f4f928c1a0a2e79112ec8",
       "version_major": 2,
       "version_minor": 0
      },
      "text/plain": [
       "Calculating Metrics:   0%|          | 0/4 [00:00<?, ?it/s]"
      ]
     },
     "metadata": {},
     "output_type": "display_data"
    },
    {
     "data": {
      "application/vnd.jupyter.widget-view+json": {
       "model_id": "25307af188084e01abbe58623a7763b2",
       "version_major": 2,
       "version_minor": 0
      },
      "text/plain": [
       "Calculating Metrics:   0%|          | 0/4 [00:00<?, ?it/s]"
      ]
     },
     "metadata": {},
     "output_type": "display_data"
    },
    {
     "data": {
      "application/vnd.jupyter.widget-view+json": {
       "model_id": "c797ccb0ae6e4f63b6bb90b1f0915365",
       "version_major": 2,
       "version_minor": 0
      },
      "text/plain": [
       "Calculating Metrics:   0%|          | 0/4 [00:00<?, ?it/s]"
      ]
     },
     "metadata": {},
     "output_type": "display_data"
    },
    {
     "data": {
      "application/vnd.jupyter.widget-view+json": {
       "model_id": "7346a608e5604c1a829d0910622d0b5e",
       "version_major": 2,
       "version_minor": 0
      },
      "text/plain": [
       "Calculating Metrics:   0%|          | 0/4 [00:00<?, ?it/s]"
      ]
     },
     "metadata": {},
     "output_type": "display_data"
    },
    {
     "data": {
      "application/vnd.jupyter.widget-view+json": {
       "model_id": "d52825d31fed48058dc2f22c95418ac7",
       "version_major": 2,
       "version_minor": 0
      },
      "text/plain": [
       "Calculating Metrics:   0%|          | 0/4 [00:00<?, ?it/s]"
      ]
     },
     "metadata": {},
     "output_type": "display_data"
    },
    {
     "data": {
      "application/vnd.jupyter.widget-view+json": {
       "model_id": "d7fb282b9f78466f913bdea92d1fc034",
       "version_major": 2,
       "version_minor": 0
      },
      "text/plain": [
       "Calculating Metrics:   0%|          | 0/4 [00:00<?, ?it/s]"
      ]
     },
     "metadata": {},
     "output_type": "display_data"
    },
    {
     "data": {
      "application/vnd.jupyter.widget-view+json": {
       "model_id": "a2b31229dd5e46bbb75e1ae5f7ace71e",
       "version_major": 2,
       "version_minor": 0
      },
      "text/plain": [
       "Calculating Metrics:   0%|          | 0/6 [00:00<?, ?it/s]"
      ]
     },
     "metadata": {},
     "output_type": "display_data"
    },
    {
     "data": {
      "application/vnd.jupyter.widget-view+json": {
       "model_id": "f3d00011091c48299b1d4c5b725888a2",
       "version_major": 2,
       "version_minor": 0
      },
      "text/plain": [
       "Calculating Metrics:   0%|          | 0/6 [00:00<?, ?it/s]"
      ]
     },
     "metadata": {},
     "output_type": "display_data"
    },
    {
     "data": {
      "application/vnd.jupyter.widget-view+json": {
       "model_id": "b8cc7f92a467441ea712530164e394fd",
       "version_major": 2,
       "version_minor": 0
      },
      "text/plain": [
       "Calculating Metrics:   0%|          | 0/4 [00:00<?, ?it/s]"
      ]
     },
     "metadata": {},
     "output_type": "display_data"
    },
    {
     "data": {
      "application/vnd.jupyter.widget-view+json": {
       "model_id": "006e08d6fe2344768c1fc826c28fd1ba",
       "version_major": 2,
       "version_minor": 0
      },
      "text/plain": [
       "Calculating Metrics:   0%|          | 0/4 [00:00<?, ?it/s]"
      ]
     },
     "metadata": {},
     "output_type": "display_data"
    },
    {
     "data": {
      "application/vnd.jupyter.widget-view+json": {
       "model_id": "70fb95c3b6734a6ba66bc1a30b67d841",
       "version_major": 2,
       "version_minor": 0
      },
      "text/plain": [
       "Calculating Metrics:   0%|          | 0/4 [00:00<?, ?it/s]"
      ]
     },
     "metadata": {},
     "output_type": "display_data"
    },
    {
     "data": {
      "application/vnd.jupyter.widget-view+json": {
       "model_id": "62ff6e8bf39c423c9185298973b336d3",
       "version_major": 2,
       "version_minor": 0
      },
      "text/plain": [
       "Calculating Metrics:   0%|          | 0/4 [00:00<?, ?it/s]"
      ]
     },
     "metadata": {},
     "output_type": "display_data"
    },
    {
     "data": {
      "application/vnd.jupyter.widget-view+json": {
       "model_id": "e7752ed093554bdf9ada8d7ac15e16aa",
       "version_major": 2,
       "version_minor": 0
      },
      "text/plain": [
       "Calculating Metrics:   0%|          | 0/4 [00:00<?, ?it/s]"
      ]
     },
     "metadata": {},
     "output_type": "display_data"
    },
    {
     "data": {
      "application/vnd.jupyter.widget-view+json": {
       "model_id": "2084846a8c2447829bf6cfdce19a619c",
       "version_major": 2,
       "version_minor": 0
      },
      "text/plain": [
       "Calculating Metrics:   0%|          | 0/4 [00:00<?, ?it/s]"
      ]
     },
     "metadata": {},
     "output_type": "display_data"
    },
    {
     "data": {
      "application/vnd.jupyter.widget-view+json": {
       "model_id": "0ae8f601b0eb4fda827754f5a85926b3",
       "version_major": 2,
       "version_minor": 0
      },
      "text/plain": [
       "Calculating Metrics:   0%|          | 0/4 [00:00<?, ?it/s]"
      ]
     },
     "metadata": {},
     "output_type": "display_data"
    },
    {
     "data": {
      "application/vnd.jupyter.widget-view+json": {
       "model_id": "50d320ec90f14e89a354c199679367e4",
       "version_major": 2,
       "version_minor": 0
      },
      "text/plain": [
       "Calculating Metrics:   0%|          | 0/2 [00:00<?, ?it/s]"
      ]
     },
     "metadata": {},
     "output_type": "display_data"
    },
    {
     "data": {
      "application/vnd.jupyter.widget-view+json": {
       "model_id": "d8b4011d82924e4784c892c818058bca",
       "version_major": 2,
       "version_minor": 0
      },
      "text/plain": [
       "Calculating Metrics:   0%|          | 0/1 [00:00<?, ?it/s]"
      ]
     },
     "metadata": {},
     "output_type": "display_data"
    },
    {
     "data": {
      "application/vnd.jupyter.widget-view+json": {
       "model_id": "a3ab26d8a387490dbbf8194b03f08781",
       "version_major": 2,
       "version_minor": 0
      },
      "text/plain": [
       "Profiling Dataset:         0%|          | 0/0 [00:00<?, ?it/s]"
      ]
     },
     "metadata": {},
     "output_type": "display_data"
    },
    {
     "data": {
      "application/vnd.jupyter.widget-view+json": {
       "model_id": "2fb57987eb764f15a86c485b7486496a",
       "version_major": 2,
       "version_minor": 0
      },
      "text/plain": [
       "Calculating Metrics:   0%|          | 0/2 [00:00<?, ?it/s]"
      ]
     },
     "metadata": {},
     "output_type": "display_data"
    },
    {
     "data": {
      "application/vnd.jupyter.widget-view+json": {
       "model_id": "9958767036cf40378911b12e88ea8445",
       "version_major": 2,
       "version_minor": 0
      },
      "text/plain": [
       "Calculating Metrics:   0%|          | 0/1 [00:00<?, ?it/s]"
      ]
     },
     "metadata": {},
     "output_type": "display_data"
    },
    {
     "data": {
      "application/vnd.jupyter.widget-view+json": {
       "model_id": "d3cedfd716134f61bcbe771b31e589e3",
       "version_major": 2,
       "version_minor": 0
      },
      "text/plain": [
       "Profiling Dataset:         0%|          | 0/25 [00:00<?, ?it/s]"
      ]
     },
     "metadata": {},
     "output_type": "display_data"
    },
    {
     "data": {
      "application/vnd.jupyter.widget-view+json": {
       "model_id": "8faf6d26676d4e7fb581b6fb9568e87f",
       "version_major": 2,
       "version_minor": 0
      },
      "text/plain": [
       "Calculating Metrics:   0%|          | 0/4 [00:00<?, ?it/s]"
      ]
     },
     "metadata": {},
     "output_type": "display_data"
    },
    {
     "data": {
      "application/vnd.jupyter.widget-view+json": {
       "model_id": "e4d021439c08464094853d1c79dcf270",
       "version_major": 2,
       "version_minor": 0
      },
      "text/plain": [
       "Calculating Metrics:   0%|          | 0/4 [00:00<?, ?it/s]"
      ]
     },
     "metadata": {},
     "output_type": "display_data"
    },
    {
     "data": {
      "application/vnd.jupyter.widget-view+json": {
       "model_id": "66109292bea74831b5f78deb59217c64",
       "version_major": 2,
       "version_minor": 0
      },
      "text/plain": [
       "Calculating Metrics:   0%|          | 0/6 [00:00<?, ?it/s]"
      ]
     },
     "metadata": {},
     "output_type": "display_data"
    },
    {
     "data": {
      "application/vnd.jupyter.widget-view+json": {
       "model_id": "a4596b905de44afb83aad66260c77d0e",
       "version_major": 2,
       "version_minor": 0
      },
      "text/plain": [
       "Calculating Metrics:   0%|          | 0/23 [00:00<?, ?it/s]"
      ]
     },
     "metadata": {},
     "output_type": "display_data"
    },
    {
     "data": {
      "application/vnd.jupyter.widget-view+json": {
       "model_id": "4fa360d226cd45549384c0f3cc6ed314",
       "version_major": 2,
       "version_minor": 0
      },
      "text/plain": [
       "Calculating Metrics:   0%|          | 0/4 [00:00<?, ?it/s]"
      ]
     },
     "metadata": {},
     "output_type": "display_data"
    },
    {
     "data": {
      "application/vnd.jupyter.widget-view+json": {
       "model_id": "e414c4ba9b4d479b9205a67155020e60",
       "version_major": 2,
       "version_minor": 0
      },
      "text/plain": [
       "Calculating Metrics:   0%|          | 0/4 [00:00<?, ?it/s]"
      ]
     },
     "metadata": {},
     "output_type": "display_data"
    },
    {
     "data": {
      "application/vnd.jupyter.widget-view+json": {
       "model_id": "7ed031f7cd4c4142bf2c2c2b2e449512",
       "version_major": 2,
       "version_minor": 0
      },
      "text/plain": [
       "Calculating Metrics:   0%|          | 0/6 [00:00<?, ?it/s]"
      ]
     },
     "metadata": {},
     "output_type": "display_data"
    },
    {
     "data": {
      "application/vnd.jupyter.widget-view+json": {
       "model_id": "9beb517c379a455ba248e1200deccdd1",
       "version_major": 2,
       "version_minor": 0
      },
      "text/plain": [
       "Calculating Metrics:   0%|          | 0/23 [00:00<?, ?it/s]"
      ]
     },
     "metadata": {},
     "output_type": "display_data"
    },
    {
     "data": {
      "application/vnd.jupyter.widget-view+json": {
       "model_id": "25ee64d91ad644839d348326076998ae",
       "version_major": 2,
       "version_minor": 0
      },
      "text/plain": [
       "Calculating Metrics:   0%|          | 0/4 [00:00<?, ?it/s]"
      ]
     },
     "metadata": {},
     "output_type": "display_data"
    },
    {
     "data": {
      "application/vnd.jupyter.widget-view+json": {
       "model_id": "1401b92d2c464f3396fd208f1dd2bc2f",
       "version_major": 2,
       "version_minor": 0
      },
      "text/plain": [
       "Calculating Metrics:   0%|          | 0/4 [00:00<?, ?it/s]"
      ]
     },
     "metadata": {},
     "output_type": "display_data"
    },
    {
     "data": {
      "application/vnd.jupyter.widget-view+json": {
       "model_id": "8169812d35464f5395f6993ed8bd7d77",
       "version_major": 2,
       "version_minor": 0
      },
      "text/plain": [
       "Calculating Metrics:   0%|          | 0/6 [00:00<?, ?it/s]"
      ]
     },
     "metadata": {},
     "output_type": "display_data"
    },
    {
     "data": {
      "application/vnd.jupyter.widget-view+json": {
       "model_id": "d7babb0f5adb429e8b75279626f81db0",
       "version_major": 2,
       "version_minor": 0
      },
      "text/plain": [
       "Calculating Metrics:   0%|          | 0/23 [00:00<?, ?it/s]"
      ]
     },
     "metadata": {},
     "output_type": "display_data"
    },
    {
     "data": {
      "application/vnd.jupyter.widget-view+json": {
       "model_id": "fed702ed019b4fa49630b01d073415db",
       "version_major": 2,
       "version_minor": 0
      },
      "text/plain": [
       "Calculating Metrics:   0%|          | 0/4 [00:00<?, ?it/s]"
      ]
     },
     "metadata": {},
     "output_type": "display_data"
    },
    {
     "data": {
      "application/vnd.jupyter.widget-view+json": {
       "model_id": "0d1a4632ada34a1cb82031f97aad5ead",
       "version_major": 2,
       "version_minor": 0
      },
      "text/plain": [
       "Calculating Metrics:   0%|          | 0/4 [00:00<?, ?it/s]"
      ]
     },
     "metadata": {},
     "output_type": "display_data"
    },
    {
     "data": {
      "application/vnd.jupyter.widget-view+json": {
       "model_id": "8a51059cb77640e4bc60098fdc8ddd17",
       "version_major": 2,
       "version_minor": 0
      },
      "text/plain": [
       "Calculating Metrics:   0%|          | 0/6 [00:00<?, ?it/s]"
      ]
     },
     "metadata": {},
     "output_type": "display_data"
    },
    {
     "data": {
      "application/vnd.jupyter.widget-view+json": {
       "model_id": "190213f0a70b46419a84f6480d2b4a28",
       "version_major": 2,
       "version_minor": 0
      },
      "text/plain": [
       "Calculating Metrics:   0%|          | 0/23 [00:00<?, ?it/s]"
      ]
     },
     "metadata": {},
     "output_type": "display_data"
    },
    {
     "data": {
      "application/vnd.jupyter.widget-view+json": {
       "model_id": "410f49b26d7f4f17a2e36db4124c8bae",
       "version_major": 2,
       "version_minor": 0
      },
      "text/plain": [
       "Calculating Metrics:   0%|          | 0/4 [00:00<?, ?it/s]"
      ]
     },
     "metadata": {},
     "output_type": "display_data"
    },
    {
     "data": {
      "application/vnd.jupyter.widget-view+json": {
       "model_id": "8b284366f4564c159881e5fab4e10dfe",
       "version_major": 2,
       "version_minor": 0
      },
      "text/plain": [
       "Calculating Metrics:   0%|          | 0/4 [00:00<?, ?it/s]"
      ]
     },
     "metadata": {},
     "output_type": "display_data"
    },
    {
     "data": {
      "application/vnd.jupyter.widget-view+json": {
       "model_id": "51d111e851d34b098d41626ace34eb10",
       "version_major": 2,
       "version_minor": 0
      },
      "text/plain": [
       "Calculating Metrics:   0%|          | 0/6 [00:00<?, ?it/s]"
      ]
     },
     "metadata": {},
     "output_type": "display_data"
    },
    {
     "data": {
      "application/vnd.jupyter.widget-view+json": {
       "model_id": "f02dac8ba8dd45f99f16a74f9f2ecc8b",
       "version_major": 2,
       "version_minor": 0
      },
      "text/plain": [
       "Calculating Metrics:   0%|          | 0/23 [00:00<?, ?it/s]"
      ]
     },
     "metadata": {},
     "output_type": "display_data"
    },
    {
     "data": {
      "application/vnd.jupyter.widget-view+json": {
       "model_id": "d12c32dd96c149d0a2e1f0ea79d6a745",
       "version_major": 2,
       "version_minor": 0
      },
      "text/plain": [
       "Calculating Metrics:   0%|          | 0/4 [00:00<?, ?it/s]"
      ]
     },
     "metadata": {},
     "output_type": "display_data"
    },
    {
     "data": {
      "application/vnd.jupyter.widget-view+json": {
       "model_id": "307a45df393c427baad0d72dd6458c27",
       "version_major": 2,
       "version_minor": 0
      },
      "text/plain": [
       "Calculating Metrics:   0%|          | 0/4 [00:00<?, ?it/s]"
      ]
     },
     "metadata": {},
     "output_type": "display_data"
    },
    {
     "data": {
      "application/vnd.jupyter.widget-view+json": {
       "model_id": "31d4617e5fb74e788456f72495fca2b7",
       "version_major": 2,
       "version_minor": 0
      },
      "text/plain": [
       "Calculating Metrics:   0%|          | 0/6 [00:00<?, ?it/s]"
      ]
     },
     "metadata": {},
     "output_type": "display_data"
    },
    {
     "data": {
      "application/vnd.jupyter.widget-view+json": {
       "model_id": "86b56021912c4f6f932f92c68e29abd4",
       "version_major": 2,
       "version_minor": 0
      },
      "text/plain": [
       "Calculating Metrics:   0%|          | 0/23 [00:00<?, ?it/s]"
      ]
     },
     "metadata": {},
     "output_type": "display_data"
    },
    {
     "data": {
      "application/vnd.jupyter.widget-view+json": {
       "model_id": "a7c9ab5c7995431388984f1ed1ede92f",
       "version_major": 2,
       "version_minor": 0
      },
      "text/plain": [
       "Calculating Metrics:   0%|          | 0/4 [00:00<?, ?it/s]"
      ]
     },
     "metadata": {},
     "output_type": "display_data"
    },
    {
     "data": {
      "application/vnd.jupyter.widget-view+json": {
       "model_id": "8a63ed7a11974f2fad32cbe1ff109ad1",
       "version_major": 2,
       "version_minor": 0
      },
      "text/plain": [
       "Calculating Metrics:   0%|          | 0/4 [00:00<?, ?it/s]"
      ]
     },
     "metadata": {},
     "output_type": "display_data"
    },
    {
     "data": {
      "application/vnd.jupyter.widget-view+json": {
       "model_id": "8567785f5fe3447d87e582d601790bc1",
       "version_major": 2,
       "version_minor": 0
      },
      "text/plain": [
       "Calculating Metrics:   0%|          | 0/6 [00:00<?, ?it/s]"
      ]
     },
     "metadata": {},
     "output_type": "display_data"
    },
    {
     "data": {
      "application/vnd.jupyter.widget-view+json": {
       "model_id": "f78db484d42a4740ba710907ff59dcb0",
       "version_major": 2,
       "version_minor": 0
      },
      "text/plain": [
       "Calculating Metrics:   0%|          | 0/23 [00:00<?, ?it/s]"
      ]
     },
     "metadata": {},
     "output_type": "display_data"
    },
    {
     "data": {
      "application/vnd.jupyter.widget-view+json": {
       "model_id": "a4840c87c96f404fb91ee7e3ef618603",
       "version_major": 2,
       "version_minor": 0
      },
      "text/plain": [
       "Calculating Metrics:   0%|          | 0/4 [00:00<?, ?it/s]"
      ]
     },
     "metadata": {},
     "output_type": "display_data"
    },
    {
     "data": {
      "application/vnd.jupyter.widget-view+json": {
       "model_id": "c37a775b20054eaea3f75b7b66fd0c7a",
       "version_major": 2,
       "version_minor": 0
      },
      "text/plain": [
       "Calculating Metrics:   0%|          | 0/4 [00:00<?, ?it/s]"
      ]
     },
     "metadata": {},
     "output_type": "display_data"
    },
    {
     "data": {
      "application/vnd.jupyter.widget-view+json": {
       "model_id": "26972818aa6c45a086977f2213d24c7f",
       "version_major": 2,
       "version_minor": 0
      },
      "text/plain": [
       "Calculating Metrics:   0%|          | 0/6 [00:00<?, ?it/s]"
      ]
     },
     "metadata": {},
     "output_type": "display_data"
    },
    {
     "data": {
      "application/vnd.jupyter.widget-view+json": {
       "model_id": "9e897fbebf8b4311a60e5438d6f7ec70",
       "version_major": 2,
       "version_minor": 0
      },
      "text/plain": [
       "Calculating Metrics:   0%|          | 0/23 [00:00<?, ?it/s]"
      ]
     },
     "metadata": {},
     "output_type": "display_data"
    },
    {
     "data": {
      "application/vnd.jupyter.widget-view+json": {
       "model_id": "9843e3c7d8664e5cb6780d6f9865ecf6",
       "version_major": 2,
       "version_minor": 0
      },
      "text/plain": [
       "Calculating Metrics:   0%|          | 0/4 [00:00<?, ?it/s]"
      ]
     },
     "metadata": {},
     "output_type": "display_data"
    },
    {
     "data": {
      "application/vnd.jupyter.widget-view+json": {
       "model_id": "94a29d9d4b2b4dfd898198acdc7e951e",
       "version_major": 2,
       "version_minor": 0
      },
      "text/plain": [
       "Calculating Metrics:   0%|          | 0/4 [00:00<?, ?it/s]"
      ]
     },
     "metadata": {},
     "output_type": "display_data"
    },
    {
     "data": {
      "application/vnd.jupyter.widget-view+json": {
       "model_id": "a735860871024b719f2eb86178a4476d",
       "version_major": 2,
       "version_minor": 0
      },
      "text/plain": [
       "Calculating Metrics:   0%|          | 0/6 [00:00<?, ?it/s]"
      ]
     },
     "metadata": {},
     "output_type": "display_data"
    },
    {
     "data": {
      "application/vnd.jupyter.widget-view+json": {
       "model_id": "73823bcc6f7741f1aa0b8d246a48bba2",
       "version_major": 2,
       "version_minor": 0
      },
      "text/plain": [
       "Calculating Metrics:   0%|          | 0/23 [00:00<?, ?it/s]"
      ]
     },
     "metadata": {},
     "output_type": "display_data"
    },
    {
     "data": {
      "application/vnd.jupyter.widget-view+json": {
       "model_id": "24ce1647dca64037bafd3b57e44f4579",
       "version_major": 2,
       "version_minor": 0
      },
      "text/plain": [
       "Calculating Metrics:   0%|          | 0/4 [00:00<?, ?it/s]"
      ]
     },
     "metadata": {},
     "output_type": "display_data"
    },
    {
     "data": {
      "application/vnd.jupyter.widget-view+json": {
       "model_id": "cdb08769b816496e99c837cc62be8c97",
       "version_major": 2,
       "version_minor": 0
      },
      "text/plain": [
       "Calculating Metrics:   0%|          | 0/4 [00:00<?, ?it/s]"
      ]
     },
     "metadata": {},
     "output_type": "display_data"
    },
    {
     "data": {
      "application/vnd.jupyter.widget-view+json": {
       "model_id": "ba9da2b914004886a7d1112bf0bb55cf",
       "version_major": 2,
       "version_minor": 0
      },
      "text/plain": [
       "Calculating Metrics:   0%|          | 0/6 [00:00<?, ?it/s]"
      ]
     },
     "metadata": {},
     "output_type": "display_data"
    },
    {
     "data": {
      "application/vnd.jupyter.widget-view+json": {
       "model_id": "301a86aaf6f8466c8be69d2e58e9164c",
       "version_major": 2,
       "version_minor": 0
      },
      "text/plain": [
       "Calculating Metrics:   0%|          | 0/23 [00:00<?, ?it/s]"
      ]
     },
     "metadata": {},
     "output_type": "display_data"
    },
    {
     "data": {
      "application/vnd.jupyter.widget-view+json": {
       "model_id": "900edd5c4a2e43f5af1f94ea88e70f6b",
       "version_major": 2,
       "version_minor": 0
      },
      "text/plain": [
       "Calculating Metrics:   0%|          | 0/4 [00:00<?, ?it/s]"
      ]
     },
     "metadata": {},
     "output_type": "display_data"
    },
    {
     "data": {
      "application/vnd.jupyter.widget-view+json": {
       "model_id": "65f2c28eb6184873ac8de2e5c06d80a3",
       "version_major": 2,
       "version_minor": 0
      },
      "text/plain": [
       "Calculating Metrics:   0%|          | 0/4 [00:00<?, ?it/s]"
      ]
     },
     "metadata": {},
     "output_type": "display_data"
    },
    {
     "data": {
      "application/vnd.jupyter.widget-view+json": {
       "model_id": "56eca47250c54e33a01a0c07bc75c04d",
       "version_major": 2,
       "version_minor": 0
      },
      "text/plain": [
       "Calculating Metrics:   0%|          | 0/6 [00:00<?, ?it/s]"
      ]
     },
     "metadata": {},
     "output_type": "display_data"
    },
    {
     "data": {
      "application/vnd.jupyter.widget-view+json": {
       "model_id": "c3d22babf9174a3ca0318d4a835ec5c1",
       "version_major": 2,
       "version_minor": 0
      },
      "text/plain": [
       "Calculating Metrics:   0%|          | 0/23 [00:00<?, ?it/s]"
      ]
     },
     "metadata": {},
     "output_type": "display_data"
    },
    {
     "data": {
      "application/vnd.jupyter.widget-view+json": {
       "model_id": "a4382b4b74734ef1b42fdc9bb782c826",
       "version_major": 2,
       "version_minor": 0
      },
      "text/plain": [
       "Calculating Metrics:   0%|          | 0/4 [00:00<?, ?it/s]"
      ]
     },
     "metadata": {},
     "output_type": "display_data"
    },
    {
     "data": {
      "application/vnd.jupyter.widget-view+json": {
       "model_id": "5af88a1fdd044a79a8eb93b6a5738599",
       "version_major": 2,
       "version_minor": 0
      },
      "text/plain": [
       "Calculating Metrics:   0%|          | 0/4 [00:00<?, ?it/s]"
      ]
     },
     "metadata": {},
     "output_type": "display_data"
    },
    {
     "data": {
      "application/vnd.jupyter.widget-view+json": {
       "model_id": "b51aebf31ef9428ea366ce9baab2fa43",
       "version_major": 2,
       "version_minor": 0
      },
      "text/plain": [
       "Calculating Metrics:   0%|          | 0/6 [00:00<?, ?it/s]"
      ]
     },
     "metadata": {},
     "output_type": "display_data"
    },
    {
     "data": {
      "application/vnd.jupyter.widget-view+json": {
       "model_id": "15b37a09378d4b258c94016389d08ebf",
       "version_major": 2,
       "version_minor": 0
      },
      "text/plain": [
       "Calculating Metrics:   0%|          | 0/23 [00:00<?, ?it/s]"
      ]
     },
     "metadata": {},
     "output_type": "display_data"
    },
    {
     "data": {
      "application/vnd.jupyter.widget-view+json": {
       "model_id": "eac10ee8fb864cc980a46a3fac9bc124",
       "version_major": 2,
       "version_minor": 0
      },
      "text/plain": [
       "Calculating Metrics:   0%|          | 0/4 [00:00<?, ?it/s]"
      ]
     },
     "metadata": {},
     "output_type": "display_data"
    },
    {
     "data": {
      "application/vnd.jupyter.widget-view+json": {
       "model_id": "954940e3224c43c7b36592b179f2cde7",
       "version_major": 2,
       "version_minor": 0
      },
      "text/plain": [
       "Calculating Metrics:   0%|          | 0/4 [00:00<?, ?it/s]"
      ]
     },
     "metadata": {},
     "output_type": "display_data"
    },
    {
     "data": {
      "application/vnd.jupyter.widget-view+json": {
       "model_id": "5820acb6195348a3911ca502c4a607e9",
       "version_major": 2,
       "version_minor": 0
      },
      "text/plain": [
       "Calculating Metrics:   0%|          | 0/6 [00:00<?, ?it/s]"
      ]
     },
     "metadata": {},
     "output_type": "display_data"
    },
    {
     "data": {
      "application/vnd.jupyter.widget-view+json": {
       "model_id": "08e960cbb89e474a8bdf7df51c60e9da",
       "version_major": 2,
       "version_minor": 0
      },
      "text/plain": [
       "Calculating Metrics:   0%|          | 0/23 [00:00<?, ?it/s]"
      ]
     },
     "metadata": {},
     "output_type": "display_data"
    },
    {
     "data": {
      "application/vnd.jupyter.widget-view+json": {
       "model_id": "901af1f43f344077843ecb2d8dbe4400",
       "version_major": 2,
       "version_minor": 0
      },
      "text/plain": [
       "Calculating Metrics:   0%|          | 0/4 [00:00<?, ?it/s]"
      ]
     },
     "metadata": {},
     "output_type": "display_data"
    },
    {
     "data": {
      "application/vnd.jupyter.widget-view+json": {
       "model_id": "ef05598405bd4ab492069d8ae76f0be4",
       "version_major": 2,
       "version_minor": 0
      },
      "text/plain": [
       "Calculating Metrics:   0%|          | 0/4 [00:00<?, ?it/s]"
      ]
     },
     "metadata": {},
     "output_type": "display_data"
    },
    {
     "data": {
      "application/vnd.jupyter.widget-view+json": {
       "model_id": "9ca9086bc1114c9e96c9e1b1a9caf537",
       "version_major": 2,
       "version_minor": 0
      },
      "text/plain": [
       "Calculating Metrics:   0%|          | 0/6 [00:00<?, ?it/s]"
      ]
     },
     "metadata": {},
     "output_type": "display_data"
    },
    {
     "data": {
      "application/vnd.jupyter.widget-view+json": {
       "model_id": "b039a666423b48bd99bc6d51db28d494",
       "version_major": 2,
       "version_minor": 0
      },
      "text/plain": [
       "Calculating Metrics:   0%|          | 0/23 [00:00<?, ?it/s]"
      ]
     },
     "metadata": {},
     "output_type": "display_data"
    },
    {
     "data": {
      "application/vnd.jupyter.widget-view+json": {
       "model_id": "939f940ff41148f0a757b59d651e6914",
       "version_major": 2,
       "version_minor": 0
      },
      "text/plain": [
       "Calculating Metrics:   0%|          | 0/4 [00:00<?, ?it/s]"
      ]
     },
     "metadata": {},
     "output_type": "display_data"
    },
    {
     "data": {
      "application/vnd.jupyter.widget-view+json": {
       "model_id": "3623f9e3472f47e5a40c878905aa82ac",
       "version_major": 2,
       "version_minor": 0
      },
      "text/plain": [
       "Calculating Metrics:   0%|          | 0/4 [00:00<?, ?it/s]"
      ]
     },
     "metadata": {},
     "output_type": "display_data"
    },
    {
     "data": {
      "application/vnd.jupyter.widget-view+json": {
       "model_id": "7aab22234d114b419f1fe09e83aa2837",
       "version_major": 2,
       "version_minor": 0
      },
      "text/plain": [
       "Calculating Metrics:   0%|          | 0/6 [00:00<?, ?it/s]"
      ]
     },
     "metadata": {},
     "output_type": "display_data"
    },
    {
     "data": {
      "application/vnd.jupyter.widget-view+json": {
       "model_id": "a7d075eaba7f4ec8a786909f7d09a94b",
       "version_major": 2,
       "version_minor": 0
      },
      "text/plain": [
       "Calculating Metrics:   0%|          | 0/23 [00:00<?, ?it/s]"
      ]
     },
     "metadata": {},
     "output_type": "display_data"
    },
    {
     "data": {
      "application/vnd.jupyter.widget-view+json": {
       "model_id": "5ae596ae614f4ef8acbc00f6259ba8d5",
       "version_major": 2,
       "version_minor": 0
      },
      "text/plain": [
       "Calculating Metrics:   0%|          | 0/4 [00:00<?, ?it/s]"
      ]
     },
     "metadata": {},
     "output_type": "display_data"
    },
    {
     "data": {
      "application/vnd.jupyter.widget-view+json": {
       "model_id": "b69f58dea24643eab545483e5427e859",
       "version_major": 2,
       "version_minor": 0
      },
      "text/plain": [
       "Calculating Metrics:   0%|          | 0/4 [00:00<?, ?it/s]"
      ]
     },
     "metadata": {},
     "output_type": "display_data"
    },
    {
     "data": {
      "application/vnd.jupyter.widget-view+json": {
       "model_id": "00cd8f6a18394d9296cf615b033c1577",
       "version_major": 2,
       "version_minor": 0
      },
      "text/plain": [
       "Calculating Metrics:   0%|          | 0/6 [00:00<?, ?it/s]"
      ]
     },
     "metadata": {},
     "output_type": "display_data"
    },
    {
     "data": {
      "application/vnd.jupyter.widget-view+json": {
       "model_id": "9762f6038b65441bbc58ddf2ac3eee36",
       "version_major": 2,
       "version_minor": 0
      },
      "text/plain": [
       "Calculating Metrics:   0%|          | 0/23 [00:00<?, ?it/s]"
      ]
     },
     "metadata": {},
     "output_type": "display_data"
    },
    {
     "data": {
      "application/vnd.jupyter.widget-view+json": {
       "model_id": "44184d9b267a45e8ba40359ea6ca8092",
       "version_major": 2,
       "version_minor": 0
      },
      "text/plain": [
       "Calculating Metrics:   0%|          | 0/4 [00:00<?, ?it/s]"
      ]
     },
     "metadata": {},
     "output_type": "display_data"
    },
    {
     "data": {
      "application/vnd.jupyter.widget-view+json": {
       "model_id": "c588f6c9993644d9852e0b5e55e655fe",
       "version_major": 2,
       "version_minor": 0
      },
      "text/plain": [
       "Calculating Metrics:   0%|          | 0/4 [00:00<?, ?it/s]"
      ]
     },
     "metadata": {},
     "output_type": "display_data"
    },
    {
     "data": {
      "application/vnd.jupyter.widget-view+json": {
       "model_id": "595de14875084beaa1f4d2fbf7cd4fb3",
       "version_major": 2,
       "version_minor": 0
      },
      "text/plain": [
       "Calculating Metrics:   0%|          | 0/6 [00:00<?, ?it/s]"
      ]
     },
     "metadata": {},
     "output_type": "display_data"
    },
    {
     "data": {
      "application/vnd.jupyter.widget-view+json": {
       "model_id": "50639c85f89c4aabb54fe5535cff24c0",
       "version_major": 2,
       "version_minor": 0
      },
      "text/plain": [
       "Calculating Metrics:   0%|          | 0/23 [00:00<?, ?it/s]"
      ]
     },
     "metadata": {},
     "output_type": "display_data"
    },
    {
     "data": {
      "application/vnd.jupyter.widget-view+json": {
       "model_id": "23d70a1b4ef94ca48d5fc420e098a7b1",
       "version_major": 2,
       "version_minor": 0
      },
      "text/plain": [
       "Calculating Metrics:   0%|          | 0/4 [00:00<?, ?it/s]"
      ]
     },
     "metadata": {},
     "output_type": "display_data"
    },
    {
     "data": {
      "application/vnd.jupyter.widget-view+json": {
       "model_id": "ca116f0b58bf4b6bbf1819fe04acd503",
       "version_major": 2,
       "version_minor": 0
      },
      "text/plain": [
       "Calculating Metrics:   0%|          | 0/4 [00:00<?, ?it/s]"
      ]
     },
     "metadata": {},
     "output_type": "display_data"
    },
    {
     "data": {
      "application/vnd.jupyter.widget-view+json": {
       "model_id": "ea35b97b11a14d15b28ac88f2a309fb6",
       "version_major": 2,
       "version_minor": 0
      },
      "text/plain": [
       "Calculating Metrics:   0%|          | 0/6 [00:00<?, ?it/s]"
      ]
     },
     "metadata": {},
     "output_type": "display_data"
    },
    {
     "data": {
      "application/vnd.jupyter.widget-view+json": {
       "model_id": "56e2cd32325142238efd5f8893252bfa",
       "version_major": 2,
       "version_minor": 0
      },
      "text/plain": [
       "Calculating Metrics:   0%|          | 0/23 [00:00<?, ?it/s]"
      ]
     },
     "metadata": {},
     "output_type": "display_data"
    },
    {
     "data": {
      "application/vnd.jupyter.widget-view+json": {
       "model_id": "595893ce52ff4805b2fbcdf66d5aea68",
       "version_major": 2,
       "version_minor": 0
      },
      "text/plain": [
       "Calculating Metrics:   0%|          | 0/4 [00:00<?, ?it/s]"
      ]
     },
     "metadata": {},
     "output_type": "display_data"
    },
    {
     "data": {
      "application/vnd.jupyter.widget-view+json": {
       "model_id": "edc2ea40a27140a4a3cf05926b6bff35",
       "version_major": 2,
       "version_minor": 0
      },
      "text/plain": [
       "Calculating Metrics:   0%|          | 0/4 [00:00<?, ?it/s]"
      ]
     },
     "metadata": {},
     "output_type": "display_data"
    },
    {
     "data": {
      "application/vnd.jupyter.widget-view+json": {
       "model_id": "59921fc6eac140448ba244e7b53f6ba1",
       "version_major": 2,
       "version_minor": 0
      },
      "text/plain": [
       "Calculating Metrics:   0%|          | 0/6 [00:00<?, ?it/s]"
      ]
     },
     "metadata": {},
     "output_type": "display_data"
    },
    {
     "data": {
      "application/vnd.jupyter.widget-view+json": {
       "model_id": "8d54f6410f084e298b68dda27670b821",
       "version_major": 2,
       "version_minor": 0
      },
      "text/plain": [
       "Calculating Metrics:   0%|          | 0/23 [00:00<?, ?it/s]"
      ]
     },
     "metadata": {},
     "output_type": "display_data"
    },
    {
     "data": {
      "application/vnd.jupyter.widget-view+json": {
       "model_id": "f09e8c29e8034478b749a61563795edc",
       "version_major": 2,
       "version_minor": 0
      },
      "text/plain": [
       "Calculating Metrics:   0%|          | 0/4 [00:00<?, ?it/s]"
      ]
     },
     "metadata": {},
     "output_type": "display_data"
    },
    {
     "data": {
      "application/vnd.jupyter.widget-view+json": {
       "model_id": "09eb16bee75b459f8dbe0a9a0ecad7a0",
       "version_major": 2,
       "version_minor": 0
      },
      "text/plain": [
       "Calculating Metrics:   0%|          | 0/4 [00:00<?, ?it/s]"
      ]
     },
     "metadata": {},
     "output_type": "display_data"
    },
    {
     "data": {
      "application/vnd.jupyter.widget-view+json": {
       "model_id": "1c86b551613e4cf6803e431dc2abe7f6",
       "version_major": 2,
       "version_minor": 0
      },
      "text/plain": [
       "Calculating Metrics:   0%|          | 0/6 [00:00<?, ?it/s]"
      ]
     },
     "metadata": {},
     "output_type": "display_data"
    },
    {
     "data": {
      "application/vnd.jupyter.widget-view+json": {
       "model_id": "4c526e6e168c45f7928449de1daa25fa",
       "version_major": 2,
       "version_minor": 0
      },
      "text/plain": [
       "Calculating Metrics:   0%|          | 0/23 [00:00<?, ?it/s]"
      ]
     },
     "metadata": {},
     "output_type": "display_data"
    },
    {
     "data": {
      "application/vnd.jupyter.widget-view+json": {
       "model_id": "9a74eee06c0c47fb8b60bbabf35a7572",
       "version_major": 2,
       "version_minor": 0
      },
      "text/plain": [
       "Calculating Metrics:   0%|          | 0/4 [00:00<?, ?it/s]"
      ]
     },
     "metadata": {},
     "output_type": "display_data"
    },
    {
     "data": {
      "application/vnd.jupyter.widget-view+json": {
       "model_id": "a8e664da34ef45c49c8c6a0933e3c527",
       "version_major": 2,
       "version_minor": 0
      },
      "text/plain": [
       "Calculating Metrics:   0%|          | 0/4 [00:00<?, ?it/s]"
      ]
     },
     "metadata": {},
     "output_type": "display_data"
    },
    {
     "data": {
      "application/vnd.jupyter.widget-view+json": {
       "model_id": "b4e8723ef82940ef993b6d04562f845b",
       "version_major": 2,
       "version_minor": 0
      },
      "text/plain": [
       "Calculating Metrics:   0%|          | 0/6 [00:00<?, ?it/s]"
      ]
     },
     "metadata": {},
     "output_type": "display_data"
    },
    {
     "data": {
      "application/vnd.jupyter.widget-view+json": {
       "model_id": "419b3bc02ceb4f4889705cfd6be5c35a",
       "version_major": 2,
       "version_minor": 0
      },
      "text/plain": [
       "Calculating Metrics:   0%|          | 0/23 [00:00<?, ?it/s]"
      ]
     },
     "metadata": {},
     "output_type": "display_data"
    },
    {
     "data": {
      "application/vnd.jupyter.widget-view+json": {
       "model_id": "530db3f873954e1b8cd89f10b978c1e5",
       "version_major": 2,
       "version_minor": 0
      },
      "text/plain": [
       "Calculating Metrics:   0%|          | 0/4 [00:00<?, ?it/s]"
      ]
     },
     "metadata": {},
     "output_type": "display_data"
    },
    {
     "data": {
      "application/vnd.jupyter.widget-view+json": {
       "model_id": "e5bbe3f334ba41c38982f7da77fbdb25",
       "version_major": 2,
       "version_minor": 0
      },
      "text/plain": [
       "Calculating Metrics:   0%|          | 0/4 [00:00<?, ?it/s]"
      ]
     },
     "metadata": {},
     "output_type": "display_data"
    },
    {
     "data": {
      "application/vnd.jupyter.widget-view+json": {
       "model_id": "ddaa7162aae94f86bb41d6d55f1aeb1b",
       "version_major": 2,
       "version_minor": 0
      },
      "text/plain": [
       "Calculating Metrics:   0%|          | 0/6 [00:00<?, ?it/s]"
      ]
     },
     "metadata": {},
     "output_type": "display_data"
    },
    {
     "data": {
      "application/vnd.jupyter.widget-view+json": {
       "model_id": "2606b9a64020464e8eeac95ade21eeed",
       "version_major": 2,
       "version_minor": 0
      },
      "text/plain": [
       "Calculating Metrics:   0%|          | 0/23 [00:00<?, ?it/s]"
      ]
     },
     "metadata": {},
     "output_type": "display_data"
    },
    {
     "data": {
      "application/vnd.jupyter.widget-view+json": {
       "model_id": "6ba7cbbac3554e368c9a90905d18447c",
       "version_major": 2,
       "version_minor": 0
      },
      "text/plain": [
       "Calculating Metrics:   0%|          | 0/4 [00:00<?, ?it/s]"
      ]
     },
     "metadata": {},
     "output_type": "display_data"
    },
    {
     "data": {
      "application/vnd.jupyter.widget-view+json": {
       "model_id": "3e01e6d04aef41368ccda088bf2acaa8",
       "version_major": 2,
       "version_minor": 0
      },
      "text/plain": [
       "Calculating Metrics:   0%|          | 0/4 [00:00<?, ?it/s]"
      ]
     },
     "metadata": {},
     "output_type": "display_data"
    },
    {
     "data": {
      "application/vnd.jupyter.widget-view+json": {
       "model_id": "7c21d67963ce4c70b8e3b76e39ffc441",
       "version_major": 2,
       "version_minor": 0
      },
      "text/plain": [
       "Calculating Metrics:   0%|          | 0/6 [00:00<?, ?it/s]"
      ]
     },
     "metadata": {},
     "output_type": "display_data"
    },
    {
     "data": {
      "application/vnd.jupyter.widget-view+json": {
       "model_id": "c09a20d459d843a593769fbe797a4f82",
       "version_major": 2,
       "version_minor": 0
      },
      "text/plain": [
       "Calculating Metrics:   0%|          | 0/23 [00:00<?, ?it/s]"
      ]
     },
     "metadata": {},
     "output_type": "display_data"
    },
    {
     "data": {
      "application/vnd.jupyter.widget-view+json": {
       "model_id": "fa8ad5b190864ecf87607d9281e56691",
       "version_major": 2,
       "version_minor": 0
      },
      "text/plain": [
       "Calculating Metrics:   0%|          | 0/4 [00:00<?, ?it/s]"
      ]
     },
     "metadata": {},
     "output_type": "display_data"
    },
    {
     "data": {
      "application/vnd.jupyter.widget-view+json": {
       "model_id": "f4e40cc6a4a9426f9a74b3b17c60ebff",
       "version_major": 2,
       "version_minor": 0
      },
      "text/plain": [
       "Calculating Metrics:   0%|          | 0/4 [00:00<?, ?it/s]"
      ]
     },
     "metadata": {},
     "output_type": "display_data"
    },
    {
     "data": {
      "application/vnd.jupyter.widget-view+json": {
       "model_id": "9f0599679dee4b5dbcad14fbbf8326cf",
       "version_major": 2,
       "version_minor": 0
      },
      "text/plain": [
       "Calculating Metrics:   0%|          | 0/6 [00:00<?, ?it/s]"
      ]
     },
     "metadata": {},
     "output_type": "display_data"
    },
    {
     "data": {
      "application/vnd.jupyter.widget-view+json": {
       "model_id": "beb10efb905444e0b1c80516a71b827a",
       "version_major": 2,
       "version_minor": 0
      },
      "text/plain": [
       "Calculating Metrics:   0%|          | 0/23 [00:00<?, ?it/s]"
      ]
     },
     "metadata": {},
     "output_type": "display_data"
    },
    {
     "data": {
      "application/vnd.jupyter.widget-view+json": {
       "model_id": "f41acd39fbae4ba8bb676877ade0d4fd",
       "version_major": 2,
       "version_minor": 0
      },
      "text/plain": [
       "Calculating Metrics:   0%|          | 0/4 [00:00<?, ?it/s]"
      ]
     },
     "metadata": {},
     "output_type": "display_data"
    },
    {
     "data": {
      "application/vnd.jupyter.widget-view+json": {
       "model_id": "82e0bd0d5a3d40dfa9196e11d6f11197",
       "version_major": 2,
       "version_minor": 0
      },
      "text/plain": [
       "Calculating Metrics:   0%|          | 0/4 [00:00<?, ?it/s]"
      ]
     },
     "metadata": {},
     "output_type": "display_data"
    },
    {
     "data": {
      "application/vnd.jupyter.widget-view+json": {
       "model_id": "0dd49158731c437b9733317846bf12bd",
       "version_major": 2,
       "version_minor": 0
      },
      "text/plain": [
       "Calculating Metrics:   0%|          | 0/6 [00:00<?, ?it/s]"
      ]
     },
     "metadata": {},
     "output_type": "display_data"
    },
    {
     "data": {
      "application/vnd.jupyter.widget-view+json": {
       "model_id": "5c1a38f2a0db4c4c91ba88b24f00d377",
       "version_major": 2,
       "version_minor": 0
      },
      "text/plain": [
       "Calculating Metrics:   0%|          | 0/23 [00:00<?, ?it/s]"
      ]
     },
     "metadata": {},
     "output_type": "display_data"
    },
    {
     "data": {
      "application/vnd.jupyter.widget-view+json": {
       "model_id": "d668aab14c404905bc945d57022ec81d",
       "version_major": 2,
       "version_minor": 0
      },
      "text/plain": [
       "Calculating Metrics:   0%|          | 0/2 [00:00<?, ?it/s]"
      ]
     },
     "metadata": {},
     "output_type": "display_data"
    },
    {
     "data": {
      "application/vnd.jupyter.widget-view+json": {
       "model_id": "4882e998def247f0a9f14020a295168b",
       "version_major": 2,
       "version_minor": 0
      },
      "text/plain": [
       "Calculating Metrics:   0%|          | 0/1 [00:00<?, ?it/s]"
      ]
     },
     "metadata": {},
     "output_type": "display_data"
    },
    {
     "data": {
      "application/vnd.jupyter.widget-view+json": {
       "model_id": "33f7095eed374285bb07f51e2fae9c7d",
       "version_major": 2,
       "version_minor": 0
      },
      "text/plain": [
       "Calculating Metrics:   0%|          | 0/37 [00:00<?, ?it/s]"
      ]
     },
     "metadata": {},
     "output_type": "display_data"
    },
    {
     "data": {
      "application/vnd.jupyter.widget-view+json": {
       "model_id": "09bef99c98404eb1a697c7c232d74a2b",
       "version_major": 2,
       "version_minor": 0
      },
      "text/plain": [
       "Profiling Dataset:         0%|          | 0/23 [00:00<?, ?it/s]"
      ]
     },
     "metadata": {},
     "output_type": "display_data"
    },
    {
     "data": {
      "application/vnd.jupyter.widget-view+json": {
       "model_id": "061062f9e1ce4b8190e7febbb9c4812a",
       "version_major": 2,
       "version_minor": 0
      },
      "text/plain": [
       "Calculating Metrics:   0%|          | 0/4 [00:00<?, ?it/s]"
      ]
     },
     "metadata": {},
     "output_type": "display_data"
    },
    {
     "data": {
      "application/vnd.jupyter.widget-view+json": {
       "model_id": "964e79922b07458fb33b44dd9b4c2a26",
       "version_major": 2,
       "version_minor": 0
      },
      "text/plain": [
       "Calculating Metrics:   0%|          | 0/4 [00:00<?, ?it/s]"
      ]
     },
     "metadata": {},
     "output_type": "display_data"
    },
    {
     "data": {
      "application/vnd.jupyter.widget-view+json": {
       "model_id": "6ac7636d5d664ad8aa9432d5692598a6",
       "version_major": 2,
       "version_minor": 0
      },
      "text/plain": [
       "Calculating Metrics:   0%|          | 0/4 [00:00<?, ?it/s]"
      ]
     },
     "metadata": {},
     "output_type": "display_data"
    },
    {
     "data": {
      "application/vnd.jupyter.widget-view+json": {
       "model_id": "6bed8b7c30f041938f61eddac825c72d",
       "version_major": 2,
       "version_minor": 0
      },
      "text/plain": [
       "Calculating Metrics:   0%|          | 0/7 [00:00<?, ?it/s]"
      ]
     },
     "metadata": {},
     "output_type": "display_data"
    },
    {
     "data": {
      "application/vnd.jupyter.widget-view+json": {
       "model_id": "b94c163a3d6f493c9b5f1a29854f5e67",
       "version_major": 2,
       "version_minor": 0
      },
      "text/plain": [
       "Calculating Metrics:   0%|          | 0/4 [00:00<?, ?it/s]"
      ]
     },
     "metadata": {},
     "output_type": "display_data"
    },
    {
     "data": {
      "application/vnd.jupyter.widget-view+json": {
       "model_id": "b9dec3758de245a29bc92119e9859027",
       "version_major": 2,
       "version_minor": 0
      },
      "text/plain": [
       "Calculating Metrics:   0%|          | 0/4 [00:00<?, ?it/s]"
      ]
     },
     "metadata": {},
     "output_type": "display_data"
    },
    {
     "data": {
      "application/vnd.jupyter.widget-view+json": {
       "model_id": "cc1a63da44d14cb7a56905c8598c7780",
       "version_major": 2,
       "version_minor": 0
      },
      "text/plain": [
       "Calculating Metrics:   0%|          | 0/4 [00:00<?, ?it/s]"
      ]
     },
     "metadata": {},
     "output_type": "display_data"
    },
    {
     "data": {
      "application/vnd.jupyter.widget-view+json": {
       "model_id": "45c4c6c5ade047328c331bd8e2573faa",
       "version_major": 2,
       "version_minor": 0
      },
      "text/plain": [
       "Calculating Metrics:   0%|          | 0/7 [00:00<?, ?it/s]"
      ]
     },
     "metadata": {},
     "output_type": "display_data"
    },
    {
     "data": {
      "application/vnd.jupyter.widget-view+json": {
       "model_id": "e2ad7b3475b144b5ab15cc8db3d61fcf",
       "version_major": 2,
       "version_minor": 0
      },
      "text/plain": [
       "Calculating Metrics:   0%|          | 0/4 [00:00<?, ?it/s]"
      ]
     },
     "metadata": {},
     "output_type": "display_data"
    },
    {
     "data": {
      "application/vnd.jupyter.widget-view+json": {
       "model_id": "d248b664cf1a4845913363452d20a2f0",
       "version_major": 2,
       "version_minor": 0
      },
      "text/plain": [
       "Calculating Metrics:   0%|          | 0/4 [00:00<?, ?it/s]"
      ]
     },
     "metadata": {},
     "output_type": "display_data"
    },
    {
     "data": {
      "application/vnd.jupyter.widget-view+json": {
       "model_id": "6df63d1357994d2e8926ce8a1bc9ac04",
       "version_major": 2,
       "version_minor": 0
      },
      "text/plain": [
       "Calculating Metrics:   0%|          | 0/4 [00:00<?, ?it/s]"
      ]
     },
     "metadata": {},
     "output_type": "display_data"
    },
    {
     "data": {
      "application/vnd.jupyter.widget-view+json": {
       "model_id": "83d33e98272a4536a4999ab8e654da50",
       "version_major": 2,
       "version_minor": 0
      },
      "text/plain": [
       "Calculating Metrics:   0%|          | 0/7 [00:00<?, ?it/s]"
      ]
     },
     "metadata": {},
     "output_type": "display_data"
    },
    {
     "data": {
      "application/vnd.jupyter.widget-view+json": {
       "model_id": "2f7fdea38eb340c3be586d7ce2339f93",
       "version_major": 2,
       "version_minor": 0
      },
      "text/plain": [
       "Calculating Metrics:   0%|          | 0/4 [00:00<?, ?it/s]"
      ]
     },
     "metadata": {},
     "output_type": "display_data"
    },
    {
     "data": {
      "application/vnd.jupyter.widget-view+json": {
       "model_id": "11ae9f61a6684c6ebe5bda96c28de022",
       "version_major": 2,
       "version_minor": 0
      },
      "text/plain": [
       "Calculating Metrics:   0%|          | 0/4 [00:00<?, ?it/s]"
      ]
     },
     "metadata": {},
     "output_type": "display_data"
    },
    {
     "data": {
      "application/vnd.jupyter.widget-view+json": {
       "model_id": "f4c1e1746d114c2ebb81095c3a2e0823",
       "version_major": 2,
       "version_minor": 0
      },
      "text/plain": [
       "Calculating Metrics:   0%|          | 0/4 [00:00<?, ?it/s]"
      ]
     },
     "metadata": {},
     "output_type": "display_data"
    },
    {
     "data": {
      "application/vnd.jupyter.widget-view+json": {
       "model_id": "775e7ee8530c4bc2af7c488093ff4893",
       "version_major": 2,
       "version_minor": 0
      },
      "text/plain": [
       "Calculating Metrics:   0%|          | 0/7 [00:00<?, ?it/s]"
      ]
     },
     "metadata": {},
     "output_type": "display_data"
    },
    {
     "data": {
      "application/vnd.jupyter.widget-view+json": {
       "model_id": "2acc32faeaed4314ace9814c62b8f938",
       "version_major": 2,
       "version_minor": 0
      },
      "text/plain": [
       "Calculating Metrics:   0%|          | 0/4 [00:00<?, ?it/s]"
      ]
     },
     "metadata": {},
     "output_type": "display_data"
    },
    {
     "data": {
      "application/vnd.jupyter.widget-view+json": {
       "model_id": "f1020b60dc5741d39cf22205ba1d2119",
       "version_major": 2,
       "version_minor": 0
      },
      "text/plain": [
       "Calculating Metrics:   0%|          | 0/4 [00:00<?, ?it/s]"
      ]
     },
     "metadata": {},
     "output_type": "display_data"
    },
    {
     "data": {
      "application/vnd.jupyter.widget-view+json": {
       "model_id": "ccfa9814b89e485b895fd1bed7393c36",
       "version_major": 2,
       "version_minor": 0
      },
      "text/plain": [
       "Calculating Metrics:   0%|          | 0/4 [00:00<?, ?it/s]"
      ]
     },
     "metadata": {},
     "output_type": "display_data"
    },
    {
     "data": {
      "application/vnd.jupyter.widget-view+json": {
       "model_id": "9569639c6f88421ab6e090cab612a5f6",
       "version_major": 2,
       "version_minor": 0
      },
      "text/plain": [
       "Calculating Metrics:   0%|          | 0/7 [00:00<?, ?it/s]"
      ]
     },
     "metadata": {},
     "output_type": "display_data"
    },
    {
     "data": {
      "application/vnd.jupyter.widget-view+json": {
       "model_id": "e37486a315bf4301acaf5551dc202fc6",
       "version_major": 2,
       "version_minor": 0
      },
      "text/plain": [
       "Calculating Metrics:   0%|          | 0/4 [00:00<?, ?it/s]"
      ]
     },
     "metadata": {},
     "output_type": "display_data"
    },
    {
     "data": {
      "application/vnd.jupyter.widget-view+json": {
       "model_id": "ba5afd31e81949a6839126da06dfbf16",
       "version_major": 2,
       "version_minor": 0
      },
      "text/plain": [
       "Calculating Metrics:   0%|          | 0/4 [00:00<?, ?it/s]"
      ]
     },
     "metadata": {},
     "output_type": "display_data"
    },
    {
     "data": {
      "application/vnd.jupyter.widget-view+json": {
       "model_id": "4392c4ec29ca400bb8a57ff054052c49",
       "version_major": 2,
       "version_minor": 0
      },
      "text/plain": [
       "Calculating Metrics:   0%|          | 0/4 [00:00<?, ?it/s]"
      ]
     },
     "metadata": {},
     "output_type": "display_data"
    },
    {
     "data": {
      "application/vnd.jupyter.widget-view+json": {
       "model_id": "d2ff26eb887b4ae1a8b6c1e803d72412",
       "version_major": 2,
       "version_minor": 0
      },
      "text/plain": [
       "Calculating Metrics:   0%|          | 0/7 [00:00<?, ?it/s]"
      ]
     },
     "metadata": {},
     "output_type": "display_data"
    },
    {
     "data": {
      "application/vnd.jupyter.widget-view+json": {
       "model_id": "eb9fe14088d94c7ca4d425f1e021ad0f",
       "version_major": 2,
       "version_minor": 0
      },
      "text/plain": [
       "Calculating Metrics:   0%|          | 0/4 [00:00<?, ?it/s]"
      ]
     },
     "metadata": {},
     "output_type": "display_data"
    },
    {
     "data": {
      "application/vnd.jupyter.widget-view+json": {
       "model_id": "4b04b8780ee5493c89a69e30f1ed2730",
       "version_major": 2,
       "version_minor": 0
      },
      "text/plain": [
       "Calculating Metrics:   0%|          | 0/4 [00:00<?, ?it/s]"
      ]
     },
     "metadata": {},
     "output_type": "display_data"
    },
    {
     "data": {
      "application/vnd.jupyter.widget-view+json": {
       "model_id": "7345977c75204d438affa5ef7c6c9304",
       "version_major": 2,
       "version_minor": 0
      },
      "text/plain": [
       "Calculating Metrics:   0%|          | 0/4 [00:00<?, ?it/s]"
      ]
     },
     "metadata": {},
     "output_type": "display_data"
    },
    {
     "data": {
      "application/vnd.jupyter.widget-view+json": {
       "model_id": "c26356b2b09644f194e8edeffd67e3ab",
       "version_major": 2,
       "version_minor": 0
      },
      "text/plain": [
       "Calculating Metrics:   0%|          | 0/7 [00:00<?, ?it/s]"
      ]
     },
     "metadata": {},
     "output_type": "display_data"
    },
    {
     "data": {
      "application/vnd.jupyter.widget-view+json": {
       "model_id": "4170fd8f43a1460c934c0ac6bc2d2409",
       "version_major": 2,
       "version_minor": 0
      },
      "text/plain": [
       "Calculating Metrics:   0%|          | 0/4 [00:00<?, ?it/s]"
      ]
     },
     "metadata": {},
     "output_type": "display_data"
    },
    {
     "data": {
      "application/vnd.jupyter.widget-view+json": {
       "model_id": "abae04a9f9d647cda1a7f6d34bdf6a64",
       "version_major": 2,
       "version_minor": 0
      },
      "text/plain": [
       "Calculating Metrics:   0%|          | 0/4 [00:00<?, ?it/s]"
      ]
     },
     "metadata": {},
     "output_type": "display_data"
    },
    {
     "data": {
      "application/vnd.jupyter.widget-view+json": {
       "model_id": "3c79fbca46f24f498ec8122c1087b17f",
       "version_major": 2,
       "version_minor": 0
      },
      "text/plain": [
       "Calculating Metrics:   0%|          | 0/4 [00:00<?, ?it/s]"
      ]
     },
     "metadata": {},
     "output_type": "display_data"
    },
    {
     "data": {
      "application/vnd.jupyter.widget-view+json": {
       "model_id": "db240570fbd24ff5a83529ae0e87d20a",
       "version_major": 2,
       "version_minor": 0
      },
      "text/plain": [
       "Calculating Metrics:   0%|          | 0/7 [00:00<?, ?it/s]"
      ]
     },
     "metadata": {},
     "output_type": "display_data"
    },
    {
     "data": {
      "application/vnd.jupyter.widget-view+json": {
       "model_id": "78eb59dd39a94d88a8be8ae1dfdd0a8c",
       "version_major": 2,
       "version_minor": 0
      },
      "text/plain": [
       "Calculating Metrics:   0%|          | 0/4 [00:00<?, ?it/s]"
      ]
     },
     "metadata": {},
     "output_type": "display_data"
    },
    {
     "data": {
      "application/vnd.jupyter.widget-view+json": {
       "model_id": "50166842a5d74c98bd1a24b975740eeb",
       "version_major": 2,
       "version_minor": 0
      },
      "text/plain": [
       "Calculating Metrics:   0%|          | 0/4 [00:00<?, ?it/s]"
      ]
     },
     "metadata": {},
     "output_type": "display_data"
    },
    {
     "data": {
      "application/vnd.jupyter.widget-view+json": {
       "model_id": "77a68b908aeb4741a01d404b8483df3c",
       "version_major": 2,
       "version_minor": 0
      },
      "text/plain": [
       "Calculating Metrics:   0%|          | 0/4 [00:00<?, ?it/s]"
      ]
     },
     "metadata": {},
     "output_type": "display_data"
    },
    {
     "data": {
      "application/vnd.jupyter.widget-view+json": {
       "model_id": "a58090b7f6f3478e8f76dc7d0308043e",
       "version_major": 2,
       "version_minor": 0
      },
      "text/plain": [
       "Calculating Metrics:   0%|          | 0/7 [00:00<?, ?it/s]"
      ]
     },
     "metadata": {},
     "output_type": "display_data"
    },
    {
     "data": {
      "application/vnd.jupyter.widget-view+json": {
       "model_id": "323d3df8dfa447b985d66eb0ebbb57fc",
       "version_major": 2,
       "version_minor": 0
      },
      "text/plain": [
       "Calculating Metrics:   0%|          | 0/4 [00:00<?, ?it/s]"
      ]
     },
     "metadata": {},
     "output_type": "display_data"
    },
    {
     "data": {
      "application/vnd.jupyter.widget-view+json": {
       "model_id": "db545a445e8a458bafd07ab1065a6932",
       "version_major": 2,
       "version_minor": 0
      },
      "text/plain": [
       "Calculating Metrics:   0%|          | 0/4 [00:00<?, ?it/s]"
      ]
     },
     "metadata": {},
     "output_type": "display_data"
    },
    {
     "data": {
      "application/vnd.jupyter.widget-view+json": {
       "model_id": "3d0d3aefea65421f828856cc3030c519",
       "version_major": 2,
       "version_minor": 0
      },
      "text/plain": [
       "Calculating Metrics:   0%|          | 0/4 [00:00<?, ?it/s]"
      ]
     },
     "metadata": {},
     "output_type": "display_data"
    },
    {
     "data": {
      "application/vnd.jupyter.widget-view+json": {
       "model_id": "8ccb6c84fe3c4e23b81b690cad10601c",
       "version_major": 2,
       "version_minor": 0
      },
      "text/plain": [
       "Calculating Metrics:   0%|          | 0/7 [00:00<?, ?it/s]"
      ]
     },
     "metadata": {},
     "output_type": "display_data"
    },
    {
     "data": {
      "application/vnd.jupyter.widget-view+json": {
       "model_id": "280452a07cfa4f05b688d7b6515b0752",
       "version_major": 2,
       "version_minor": 0
      },
      "text/plain": [
       "Calculating Metrics:   0%|          | 0/4 [00:00<?, ?it/s]"
      ]
     },
     "metadata": {},
     "output_type": "display_data"
    },
    {
     "data": {
      "application/vnd.jupyter.widget-view+json": {
       "model_id": "055f8f9608c64891832c7d6b19e016b4",
       "version_major": 2,
       "version_minor": 0
      },
      "text/plain": [
       "Calculating Metrics:   0%|          | 0/4 [00:00<?, ?it/s]"
      ]
     },
     "metadata": {},
     "output_type": "display_data"
    },
    {
     "data": {
      "application/vnd.jupyter.widget-view+json": {
       "model_id": "3a06f90d902340a2bc50b9a577d8a877",
       "version_major": 2,
       "version_minor": 0
      },
      "text/plain": [
       "Calculating Metrics:   0%|          | 0/4 [00:00<?, ?it/s]"
      ]
     },
     "metadata": {},
     "output_type": "display_data"
    },
    {
     "data": {
      "application/vnd.jupyter.widget-view+json": {
       "model_id": "1d0e93e1227a4091a63046d8179fd54b",
       "version_major": 2,
       "version_minor": 0
      },
      "text/plain": [
       "Calculating Metrics:   0%|          | 0/7 [00:00<?, ?it/s]"
      ]
     },
     "metadata": {},
     "output_type": "display_data"
    },
    {
     "data": {
      "application/vnd.jupyter.widget-view+json": {
       "model_id": "6bcc0e8032674bd3a84655453d272285",
       "version_major": 2,
       "version_minor": 0
      },
      "text/plain": [
       "Calculating Metrics:   0%|          | 0/4 [00:00<?, ?it/s]"
      ]
     },
     "metadata": {},
     "output_type": "display_data"
    },
    {
     "data": {
      "application/vnd.jupyter.widget-view+json": {
       "model_id": "b3b32a0d950c47c2960059ae025fe5ec",
       "version_major": 2,
       "version_minor": 0
      },
      "text/plain": [
       "Calculating Metrics:   0%|          | 0/4 [00:00<?, ?it/s]"
      ]
     },
     "metadata": {},
     "output_type": "display_data"
    },
    {
     "data": {
      "application/vnd.jupyter.widget-view+json": {
       "model_id": "52d97ec4826d4a1d83fdd9cdf70fd327",
       "version_major": 2,
       "version_minor": 0
      },
      "text/plain": [
       "Calculating Metrics:   0%|          | 0/4 [00:00<?, ?it/s]"
      ]
     },
     "metadata": {},
     "output_type": "display_data"
    },
    {
     "data": {
      "application/vnd.jupyter.widget-view+json": {
       "model_id": "eaae78b24798470ba08bf027034b40e8",
       "version_major": 2,
       "version_minor": 0
      },
      "text/plain": [
       "Calculating Metrics:   0%|          | 0/7 [00:00<?, ?it/s]"
      ]
     },
     "metadata": {},
     "output_type": "display_data"
    },
    {
     "data": {
      "application/vnd.jupyter.widget-view+json": {
       "model_id": "8aaa4db19fda4adf8ec82b4005470400",
       "version_major": 2,
       "version_minor": 0
      },
      "text/plain": [
       "Calculating Metrics:   0%|          | 0/4 [00:00<?, ?it/s]"
      ]
     },
     "metadata": {},
     "output_type": "display_data"
    },
    {
     "data": {
      "application/vnd.jupyter.widget-view+json": {
       "model_id": "b198e4ab20cd4651a0d1710d67dc0813",
       "version_major": 2,
       "version_minor": 0
      },
      "text/plain": [
       "Calculating Metrics:   0%|          | 0/4 [00:00<?, ?it/s]"
      ]
     },
     "metadata": {},
     "output_type": "display_data"
    },
    {
     "data": {
      "application/vnd.jupyter.widget-view+json": {
       "model_id": "3045877bac0146e983beaecd708eda0d",
       "version_major": 2,
       "version_minor": 0
      },
      "text/plain": [
       "Calculating Metrics:   0%|          | 0/4 [00:00<?, ?it/s]"
      ]
     },
     "metadata": {},
     "output_type": "display_data"
    },
    {
     "data": {
      "application/vnd.jupyter.widget-view+json": {
       "model_id": "7bbc1a2882d749c5857f7e2ab94bffe1",
       "version_major": 2,
       "version_minor": 0
      },
      "text/plain": [
       "Calculating Metrics:   0%|          | 0/7 [00:00<?, ?it/s]"
      ]
     },
     "metadata": {},
     "output_type": "display_data"
    },
    {
     "data": {
      "application/vnd.jupyter.widget-view+json": {
       "model_id": "42eac16c958b44219d2fd0db9cb6fa57",
       "version_major": 2,
       "version_minor": 0
      },
      "text/plain": [
       "Calculating Metrics:   0%|          | 0/4 [00:00<?, ?it/s]"
      ]
     },
     "metadata": {},
     "output_type": "display_data"
    },
    {
     "data": {
      "application/vnd.jupyter.widget-view+json": {
       "model_id": "71405937b1c54daf95811d6e9c5c14a8",
       "version_major": 2,
       "version_minor": 0
      },
      "text/plain": [
       "Calculating Metrics:   0%|          | 0/4 [00:00<?, ?it/s]"
      ]
     },
     "metadata": {},
     "output_type": "display_data"
    },
    {
     "data": {
      "application/vnd.jupyter.widget-view+json": {
       "model_id": "b14788168c6c45269d0731d92ff45bdb",
       "version_major": 2,
       "version_minor": 0
      },
      "text/plain": [
       "Calculating Metrics:   0%|          | 0/4 [00:00<?, ?it/s]"
      ]
     },
     "metadata": {},
     "output_type": "display_data"
    },
    {
     "data": {
      "application/vnd.jupyter.widget-view+json": {
       "model_id": "7b74bf6600774a199896502df1a2bb20",
       "version_major": 2,
       "version_minor": 0
      },
      "text/plain": [
       "Calculating Metrics:   0%|          | 0/7 [00:00<?, ?it/s]"
      ]
     },
     "metadata": {},
     "output_type": "display_data"
    },
    {
     "data": {
      "application/vnd.jupyter.widget-view+json": {
       "model_id": "e766dafe674d4b3f898610f384c0576e",
       "version_major": 2,
       "version_minor": 0
      },
      "text/plain": [
       "Calculating Metrics:   0%|          | 0/4 [00:00<?, ?it/s]"
      ]
     },
     "metadata": {},
     "output_type": "display_data"
    },
    {
     "data": {
      "application/vnd.jupyter.widget-view+json": {
       "model_id": "193f89afa3fa436da4b1801dc36cdbc2",
       "version_major": 2,
       "version_minor": 0
      },
      "text/plain": [
       "Calculating Metrics:   0%|          | 0/4 [00:00<?, ?it/s]"
      ]
     },
     "metadata": {},
     "output_type": "display_data"
    },
    {
     "data": {
      "application/vnd.jupyter.widget-view+json": {
       "model_id": "75e987114f264a4bb4a337875caa4826",
       "version_major": 2,
       "version_minor": 0
      },
      "text/plain": [
       "Calculating Metrics:   0%|          | 0/4 [00:00<?, ?it/s]"
      ]
     },
     "metadata": {},
     "output_type": "display_data"
    },
    {
     "data": {
      "application/vnd.jupyter.widget-view+json": {
       "model_id": "7848ddad528349d1a5eb31cd9aa42345",
       "version_major": 2,
       "version_minor": 0
      },
      "text/plain": [
       "Calculating Metrics:   0%|          | 0/7 [00:00<?, ?it/s]"
      ]
     },
     "metadata": {},
     "output_type": "display_data"
    },
    {
     "data": {
      "application/vnd.jupyter.widget-view+json": {
       "model_id": "da5a7b0ecc48438d8ea774b7867d85e5",
       "version_major": 2,
       "version_minor": 0
      },
      "text/plain": [
       "Calculating Metrics:   0%|          | 0/4 [00:00<?, ?it/s]"
      ]
     },
     "metadata": {},
     "output_type": "display_data"
    },
    {
     "data": {
      "application/vnd.jupyter.widget-view+json": {
       "model_id": "115e4ff32b1a4831a13dcf75a27959e2",
       "version_major": 2,
       "version_minor": 0
      },
      "text/plain": [
       "Calculating Metrics:   0%|          | 0/4 [00:00<?, ?it/s]"
      ]
     },
     "metadata": {},
     "output_type": "display_data"
    },
    {
     "data": {
      "application/vnd.jupyter.widget-view+json": {
       "model_id": "7b5f24bc7bd2486f937f2259d459ddb5",
       "version_major": 2,
       "version_minor": 0
      },
      "text/plain": [
       "Calculating Metrics:   0%|          | 0/4 [00:00<?, ?it/s]"
      ]
     },
     "metadata": {},
     "output_type": "display_data"
    },
    {
     "data": {
      "application/vnd.jupyter.widget-view+json": {
       "model_id": "e2f8c4477fd74754b218a8b747c2c0de",
       "version_major": 2,
       "version_minor": 0
      },
      "text/plain": [
       "Calculating Metrics:   0%|          | 0/7 [00:00<?, ?it/s]"
      ]
     },
     "metadata": {},
     "output_type": "display_data"
    },
    {
     "data": {
      "application/vnd.jupyter.widget-view+json": {
       "model_id": "2bf5fe98051941699845ff01e29313f8",
       "version_major": 2,
       "version_minor": 0
      },
      "text/plain": [
       "Calculating Metrics:   0%|          | 0/4 [00:00<?, ?it/s]"
      ]
     },
     "metadata": {},
     "output_type": "display_data"
    },
    {
     "data": {
      "application/vnd.jupyter.widget-view+json": {
       "model_id": "3d791373069e46118fdc98b61d70c694",
       "version_major": 2,
       "version_minor": 0
      },
      "text/plain": [
       "Calculating Metrics:   0%|          | 0/4 [00:00<?, ?it/s]"
      ]
     },
     "metadata": {},
     "output_type": "display_data"
    },
    {
     "data": {
      "application/vnd.jupyter.widget-view+json": {
       "model_id": "10b31d274d7b4a448ccd056f587004dd",
       "version_major": 2,
       "version_minor": 0
      },
      "text/plain": [
       "Calculating Metrics:   0%|          | 0/4 [00:00<?, ?it/s]"
      ]
     },
     "metadata": {},
     "output_type": "display_data"
    },
    {
     "data": {
      "application/vnd.jupyter.widget-view+json": {
       "model_id": "b56b3ff760d34c34a6627ad0642f71f3",
       "version_major": 2,
       "version_minor": 0
      },
      "text/plain": [
       "Calculating Metrics:   0%|          | 0/7 [00:00<?, ?it/s]"
      ]
     },
     "metadata": {},
     "output_type": "display_data"
    },
    {
     "data": {
      "application/vnd.jupyter.widget-view+json": {
       "model_id": "ddf9abac6b1048869ebb19fe9c3316b7",
       "version_major": 2,
       "version_minor": 0
      },
      "text/plain": [
       "Calculating Metrics:   0%|          | 0/4 [00:00<?, ?it/s]"
      ]
     },
     "metadata": {},
     "output_type": "display_data"
    },
    {
     "data": {
      "application/vnd.jupyter.widget-view+json": {
       "model_id": "672a26bf4310464ca4790a670440e013",
       "version_major": 2,
       "version_minor": 0
      },
      "text/plain": [
       "Calculating Metrics:   0%|          | 0/4 [00:00<?, ?it/s]"
      ]
     },
     "metadata": {},
     "output_type": "display_data"
    },
    {
     "data": {
      "application/vnd.jupyter.widget-view+json": {
       "model_id": "692a771c91c44b9785c27566e7b9a7c7",
       "version_major": 2,
       "version_minor": 0
      },
      "text/plain": [
       "Calculating Metrics:   0%|          | 0/4 [00:00<?, ?it/s]"
      ]
     },
     "metadata": {},
     "output_type": "display_data"
    },
    {
     "data": {
      "application/vnd.jupyter.widget-view+json": {
       "model_id": "a7b0ff67b35e41c0b94764ba33e39e74",
       "version_major": 2,
       "version_minor": 0
      },
      "text/plain": [
       "Calculating Metrics:   0%|          | 0/7 [00:00<?, ?it/s]"
      ]
     },
     "metadata": {},
     "output_type": "display_data"
    },
    {
     "data": {
      "application/vnd.jupyter.widget-view+json": {
       "model_id": "b14ab018f2ce4403854499101f75a82a",
       "version_major": 2,
       "version_minor": 0
      },
      "text/plain": [
       "Calculating Metrics:   0%|          | 0/4 [00:00<?, ?it/s]"
      ]
     },
     "metadata": {},
     "output_type": "display_data"
    },
    {
     "data": {
      "application/vnd.jupyter.widget-view+json": {
       "model_id": "e15f01ecf14a44c6995de97488023cb2",
       "version_major": 2,
       "version_minor": 0
      },
      "text/plain": [
       "Calculating Metrics:   0%|          | 0/4 [00:00<?, ?it/s]"
      ]
     },
     "metadata": {},
     "output_type": "display_data"
    },
    {
     "data": {
      "application/vnd.jupyter.widget-view+json": {
       "model_id": "3304cd83b4e4468b9c5be8ed8deb0c1d",
       "version_major": 2,
       "version_minor": 0
      },
      "text/plain": [
       "Calculating Metrics:   0%|          | 0/4 [00:00<?, ?it/s]"
      ]
     },
     "metadata": {},
     "output_type": "display_data"
    },
    {
     "data": {
      "application/vnd.jupyter.widget-view+json": {
       "model_id": "2d284704eb404b9eba8c58e42e7a0fdf",
       "version_major": 2,
       "version_minor": 0
      },
      "text/plain": [
       "Calculating Metrics:   0%|          | 0/7 [00:00<?, ?it/s]"
      ]
     },
     "metadata": {},
     "output_type": "display_data"
    },
    {
     "data": {
      "application/vnd.jupyter.widget-view+json": {
       "model_id": "d4baf179b82a491093f3d155beaf8412",
       "version_major": 2,
       "version_minor": 0
      },
      "text/plain": [
       "Calculating Metrics:   0%|          | 0/4 [00:00<?, ?it/s]"
      ]
     },
     "metadata": {},
     "output_type": "display_data"
    },
    {
     "data": {
      "application/vnd.jupyter.widget-view+json": {
       "model_id": "1d0b186be5784211ae83799834c64846",
       "version_major": 2,
       "version_minor": 0
      },
      "text/plain": [
       "Calculating Metrics:   0%|          | 0/4 [00:00<?, ?it/s]"
      ]
     },
     "metadata": {},
     "output_type": "display_data"
    },
    {
     "data": {
      "application/vnd.jupyter.widget-view+json": {
       "model_id": "5d9a62e06d464df1bdd762f1e8aa4e8c",
       "version_major": 2,
       "version_minor": 0
      },
      "text/plain": [
       "Calculating Metrics:   0%|          | 0/4 [00:00<?, ?it/s]"
      ]
     },
     "metadata": {},
     "output_type": "display_data"
    },
    {
     "data": {
      "application/vnd.jupyter.widget-view+json": {
       "model_id": "fc1291587bd24a30a0a6fc2b55847088",
       "version_major": 2,
       "version_minor": 0
      },
      "text/plain": [
       "Calculating Metrics:   0%|          | 0/7 [00:00<?, ?it/s]"
      ]
     },
     "metadata": {},
     "output_type": "display_data"
    },
    {
     "data": {
      "application/vnd.jupyter.widget-view+json": {
       "model_id": "1965a3919a46434ca77a5a75d8c0ba2a",
       "version_major": 2,
       "version_minor": 0
      },
      "text/plain": [
       "Calculating Metrics:   0%|          | 0/4 [00:00<?, ?it/s]"
      ]
     },
     "metadata": {},
     "output_type": "display_data"
    },
    {
     "data": {
      "application/vnd.jupyter.widget-view+json": {
       "model_id": "e3c6b7cc3de24443839b52feb934040d",
       "version_major": 2,
       "version_minor": 0
      },
      "text/plain": [
       "Calculating Metrics:   0%|          | 0/4 [00:00<?, ?it/s]"
      ]
     },
     "metadata": {},
     "output_type": "display_data"
    },
    {
     "data": {
      "application/vnd.jupyter.widget-view+json": {
       "model_id": "036900e01b9f495da9cf4158ea76929b",
       "version_major": 2,
       "version_minor": 0
      },
      "text/plain": [
       "Calculating Metrics:   0%|          | 0/4 [00:00<?, ?it/s]"
      ]
     },
     "metadata": {},
     "output_type": "display_data"
    },
    {
     "data": {
      "application/vnd.jupyter.widget-view+json": {
       "model_id": "c243e4576859444c8b8b92fe176e9b1b",
       "version_major": 2,
       "version_minor": 0
      },
      "text/plain": [
       "Calculating Metrics:   0%|          | 0/7 [00:00<?, ?it/s]"
      ]
     },
     "metadata": {},
     "output_type": "display_data"
    },
    {
     "data": {
      "application/vnd.jupyter.widget-view+json": {
       "model_id": "da1cea66e9ee4800a72ea5eaf3425833",
       "version_major": 2,
       "version_minor": 0
      },
      "text/plain": [
       "Calculating Metrics:   0%|          | 0/4 [00:00<?, ?it/s]"
      ]
     },
     "metadata": {},
     "output_type": "display_data"
    },
    {
     "data": {
      "application/vnd.jupyter.widget-view+json": {
       "model_id": "c6ec571addf741b8b5b36ea818b2e15d",
       "version_major": 2,
       "version_minor": 0
      },
      "text/plain": [
       "Calculating Metrics:   0%|          | 0/4 [00:00<?, ?it/s]"
      ]
     },
     "metadata": {},
     "output_type": "display_data"
    },
    {
     "data": {
      "application/vnd.jupyter.widget-view+json": {
       "model_id": "44003063acc74834a28605ce71b63c49",
       "version_major": 2,
       "version_minor": 0
      },
      "text/plain": [
       "Calculating Metrics:   0%|          | 0/4 [00:00<?, ?it/s]"
      ]
     },
     "metadata": {},
     "output_type": "display_data"
    },
    {
     "data": {
      "application/vnd.jupyter.widget-view+json": {
       "model_id": "08a9acb4050440ee89a4627709e6a7df",
       "version_major": 2,
       "version_minor": 0
      },
      "text/plain": [
       "Calculating Metrics:   0%|          | 0/7 [00:00<?, ?it/s]"
      ]
     },
     "metadata": {},
     "output_type": "display_data"
    },
    {
     "data": {
      "application/vnd.jupyter.widget-view+json": {
       "model_id": "2556a33bdc174e4db19180418df6b28e",
       "version_major": 2,
       "version_minor": 0
      },
      "text/plain": [
       "Calculating Metrics:   0%|          | 0/4 [00:00<?, ?it/s]"
      ]
     },
     "metadata": {},
     "output_type": "display_data"
    },
    {
     "data": {
      "application/vnd.jupyter.widget-view+json": {
       "model_id": "aadeeb8a947e4558affb05a1018058eb",
       "version_major": 2,
       "version_minor": 0
      },
      "text/plain": [
       "Calculating Metrics:   0%|          | 0/4 [00:00<?, ?it/s]"
      ]
     },
     "metadata": {},
     "output_type": "display_data"
    },
    {
     "data": {
      "application/vnd.jupyter.widget-view+json": {
       "model_id": "9d293e56f55b4bfdb23fda1e52ca526a",
       "version_major": 2,
       "version_minor": 0
      },
      "text/plain": [
       "Calculating Metrics:   0%|          | 0/4 [00:00<?, ?it/s]"
      ]
     },
     "metadata": {},
     "output_type": "display_data"
    },
    {
     "data": {
      "application/vnd.jupyter.widget-view+json": {
       "model_id": "480066b812e94f8c9a77053d3c1ba6b2",
       "version_major": 2,
       "version_minor": 0
      },
      "text/plain": [
       "Calculating Metrics:   0%|          | 0/7 [00:00<?, ?it/s]"
      ]
     },
     "metadata": {},
     "output_type": "display_data"
    }
   ],
   "source": [
    "data_assistant_result = context.assistants.onboarding.run(\n",
    "    batch_request=batch_request,\n",
    "    #exclude_column_names=exclude_column_names,\n",
    ")"
   ]
  },
  {
   "cell_type": "code",
   "execution_count": 35,
   "metadata": {},
   "outputs": [],
   "source": [
    "expectation_suite = data_assistant_result.get_expectation_suite(\n",
    "    expectation_suite_name=expectation_suite_name\n",
    ")"
   ]
  },
  {
   "cell_type": "code",
   "execution_count": 39,
   "metadata": {},
   "outputs": [
    {
     "data": {
      "text/plain": [
       "{\n",
       "  \"expectation_suite_name\": \"jobs_validation\",\n",
       "  \"ge_cloud_id\": null,\n",
       "  \"expectations\": [\n",
       "    {\n",
       "      \"expectation_type\": \"expect_table_row_count_to_be_between\",\n",
       "      \"kwargs\": {\n",
       "        \"max_value\": 26156,\n",
       "        \"min_value\": 26156\n",
       "      },\n",
       "      \"meta\": {\n",
       "        \"profiler_details\": {\n",
       "          \"metric_configuration\": {\n",
       "            \"metric_name\": \"table.row_count\",\n",
       "            \"domain_kwargs\": {},\n",
       "            \"metric_value_kwargs\": null\n",
       "          },\n",
       "          \"num_batches\": 1\n",
       "        }\n",
       "      }\n",
       "    },\n",
       "    {\n",
       "      \"expectation_type\": \"expect_table_columns_to_match_set\",\n",
       "      \"kwargs\": {\n",
       "        \"column_set\": [\n",
       "          \"metrics_storage_output_tables_bytes_sum\",\n",
       "          \"token_id\",\n",
       "          \"tag\",\n",
       "          \"result_artifacts_downloaded\",\n",
       "          \"branchId\",\n",
       "          \"created_time\",\n",
       "          \"variable_values_data\",\n",
       "          \"metrics_backend_container_size\",\n",
       "          \"result_artifacts_uploaded\",\n",
       "          \"parent_run_id\",\n",
       "          \"config_row_ids\",\n",
       "          \"result_config_version\",\n",
       "          \"orchestration_job_id\",\n",
       "          \"token_description\",\n",
       "          \"component\",\n",
       "          \"type\",\n",
       "          \"legacy_run_id\",\n",
       "          \"isFinished\",\n",
       "          \"extraction_date\",\n",
       "          \"job_id\",\n",
       "          \"result_images\",\n",
       "          \"duration_seconds\",\n",
       "          \"parallelism\",\n",
       "          \"result_message\",\n",
       "          \"start_time\",\n",
       "          \"end_time\",\n",
       "          \"run_id\",\n",
       "          \"status\",\n",
       "          \"desired_status\",\n",
       "          \"metrics_storage_input_tables_bytes_sum\",\n",
       "          \"config_data\",\n",
       "          \"behavior_on_error\",\n",
       "          \"project_name\",\n",
       "          \"metrics_backend_context\",\n",
       "          \"variable_values_id\",\n",
       "          \"project_id\",\n",
       "          \"backend_context\",\n",
       "          \"config\",\n",
       "          \"metrics_backend_size\",\n",
       "          \"url\",\n",
       "          \"usage_data\",\n",
       "          \"mode\"\n",
       "        ],\n",
       "        \"exact_match\": null\n",
       "      },\n",
       "      \"meta\": {\n",
       "        \"profiler_details\": {\n",
       "          \"success_ratio\": 1.0\n",
       "        }\n",
       "      }\n",
       "    },\n",
       "    {\n",
       "      \"expectation_type\": \"expect_column_values_to_be_unique\",\n",
       "      \"kwargs\": {\n",
       "        \"column\": \"url\"\n",
       "      },\n",
       "      \"meta\": {\n",
       "        \"profiler_details\": {\n",
       "          \"metric_configuration\": {\n",
       "            \"metric_name\": \"column_values.unique.unexpected_count\",\n",
       "            \"domain_kwargs\": {\n",
       "              \"column\": \"url\"\n",
       "            },\n",
       "            \"metric_value_kwargs\": null\n",
       "          },\n",
       "          \"num_batches\": 1\n",
       "        }\n",
       "      }\n",
       "    },\n",
       "    {\n",
       "      \"expectation_type\": \"expect_column_values_to_be_unique\",\n",
       "      \"kwargs\": {\n",
       "        \"column\": \"branchId\"\n",
       "      },\n",
       "      \"meta\": {\n",
       "        \"profiler_details\": {\n",
       "          \"metric_configuration\": {\n",
       "            \"metric_name\": \"column_values.unique.unexpected_count\",\n",
       "            \"domain_kwargs\": {\n",
       "              \"column\": \"branchId\"\n",
       "            },\n",
       "            \"metric_value_kwargs\": null\n",
       "          },\n",
       "          \"num_batches\": 1\n",
       "        }\n",
       "      }\n",
       "    },\n",
       "    {\n",
       "      \"expectation_type\": \"expect_column_values_to_be_unique\",\n",
       "      \"kwargs\": {\n",
       "        \"column\": \"parallelism\"\n",
       "      },\n",
       "      \"meta\": {\n",
       "        \"profiler_details\": {\n",
       "          \"metric_configuration\": {\n",
       "            \"metric_name\": \"column_values.unique.unexpected_count\",\n",
       "            \"domain_kwargs\": {\n",
       "              \"column\": \"parallelism\"\n",
       "            },\n",
       "            \"metric_value_kwargs\": null\n",
       "          },\n",
       "          \"num_batches\": 1\n",
       "        }\n",
       "      }\n",
       "    },\n",
       "    {\n",
       "      \"expectation_type\": \"expect_column_values_to_be_null\",\n",
       "      \"kwargs\": {\n",
       "        \"column\": \"branchId\"\n",
       "      },\n",
       "      \"meta\": {\n",
       "        \"profiler_details\": {\n",
       "          \"metric_configuration\": {\n",
       "            \"metric_name\": \"column_values.null.unexpected_count\",\n",
       "            \"domain_kwargs\": {\n",
       "              \"column\": \"branchId\"\n",
       "            },\n",
       "            \"metric_value_kwargs\": null\n",
       "          },\n",
       "          \"num_batches\": 1\n",
       "        }\n",
       "      }\n",
       "    },\n",
       "    {\n",
       "      \"expectation_type\": \"expect_column_values_to_be_null\",\n",
       "      \"kwargs\": {\n",
       "        \"column\": \"parallelism\"\n",
       "      },\n",
       "      \"meta\": {\n",
       "        \"profiler_details\": {\n",
       "          \"metric_configuration\": {\n",
       "            \"metric_name\": \"column_values.null.unexpected_count\",\n",
       "            \"domain_kwargs\": {\n",
       "              \"column\": \"parallelism\"\n",
       "            },\n",
       "            \"metric_value_kwargs\": null\n",
       "          },\n",
       "          \"num_batches\": 1\n",
       "        }\n",
       "      }\n",
       "    },\n",
       "    {\n",
       "      \"expectation_type\": \"expect_column_values_to_not_be_null\",\n",
       "      \"kwargs\": {\n",
       "        \"column\": \"project_name\"\n",
       "      },\n",
       "      \"meta\": {\n",
       "        \"profiler_details\": {\n",
       "          \"metric_configuration\": {\n",
       "            \"metric_name\": \"column_values.nonnull.unexpected_count\",\n",
       "            \"domain_kwargs\": {\n",
       "              \"column\": \"project_name\"\n",
       "            },\n",
       "            \"metric_value_kwargs\": null\n",
       "          },\n",
       "          \"num_batches\": 1\n",
       "        }\n",
       "      }\n",
       "    },\n",
       "    {\n",
       "      \"expectation_type\": \"expect_column_values_to_not_be_null\",\n",
       "      \"kwargs\": {\n",
       "        \"column\": \"token_description\"\n",
       "      },\n",
       "      \"meta\": {\n",
       "        \"profiler_details\": {\n",
       "          \"metric_configuration\": {\n",
       "            \"metric_name\": \"column_values.nonnull.unexpected_count\",\n",
       "            \"domain_kwargs\": {\n",
       "              \"column\": \"token_description\"\n",
       "            },\n",
       "            \"metric_value_kwargs\": null\n",
       "          },\n",
       "          \"num_batches\": 1\n",
       "        }\n",
       "      }\n",
       "    },\n",
       "    {\n",
       "      \"expectation_type\": \"expect_column_values_to_not_be_null\",\n",
       "      \"kwargs\": {\n",
       "        \"column\": \"status\"\n",
       "      },\n",
       "      \"meta\": {\n",
       "        \"profiler_details\": {\n",
       "          \"metric_configuration\": {\n",
       "            \"metric_name\": \"column_values.nonnull.unexpected_count\",\n",
       "            \"domain_kwargs\": {\n",
       "              \"column\": \"status\"\n",
       "            },\n",
       "            \"metric_value_kwargs\": null\n",
       "          },\n",
       "          \"num_batches\": 1\n",
       "        }\n",
       "      }\n",
       "    },\n",
       "    {\n",
       "      \"expectation_type\": \"expect_column_values_to_not_be_null\",\n",
       "      \"kwargs\": {\n",
       "        \"column\": \"desired_status\"\n",
       "      },\n",
       "      \"meta\": {\n",
       "        \"profiler_details\": {\n",
       "          \"metric_configuration\": {\n",
       "            \"metric_name\": \"column_values.nonnull.unexpected_count\",\n",
       "            \"domain_kwargs\": {\n",
       "              \"column\": \"desired_status\"\n",
       "            },\n",
       "            \"metric_value_kwargs\": null\n",
       "          },\n",
       "          \"num_batches\": 1\n",
       "        }\n",
       "      }\n",
       "    },\n",
       "    {\n",
       "      \"expectation_type\": \"expect_column_values_to_not_be_null\",\n",
       "      \"kwargs\": {\n",
       "        \"column\": \"mode\"\n",
       "      },\n",
       "      \"meta\": {\n",
       "        \"profiler_details\": {\n",
       "          \"metric_configuration\": {\n",
       "            \"metric_name\": \"column_values.nonnull.unexpected_count\",\n",
       "            \"domain_kwargs\": {\n",
       "              \"column\": \"mode\"\n",
       "            },\n",
       "            \"metric_value_kwargs\": null\n",
       "          },\n",
       "          \"num_batches\": 1\n",
       "        }\n",
       "      }\n",
       "    },\n",
       "    {\n",
       "      \"expectation_type\": \"expect_column_values_to_not_be_null\",\n",
       "      \"kwargs\": {\n",
       "        \"column\": \"component\"\n",
       "      },\n",
       "      \"meta\": {\n",
       "        \"profiler_details\": {\n",
       "          \"metric_configuration\": {\n",
       "            \"metric_name\": \"column_values.nonnull.unexpected_count\",\n",
       "            \"domain_kwargs\": {\n",
       "              \"column\": \"component\"\n",
       "            },\n",
       "            \"metric_value_kwargs\": null\n",
       "          },\n",
       "          \"num_batches\": 1\n",
       "        }\n",
       "      }\n",
       "    },\n",
       "    {\n",
       "      \"expectation_type\": \"expect_column_values_to_not_be_null\",\n",
       "      \"kwargs\": {\n",
       "        \"column\": \"config_data\"\n",
       "      },\n",
       "      \"meta\": {\n",
       "        \"profiler_details\": {\n",
       "          \"metric_configuration\": {\n",
       "            \"metric_name\": \"column_values.nonnull.unexpected_count\",\n",
       "            \"domain_kwargs\": {\n",
       "              \"column\": \"config_data\"\n",
       "            },\n",
       "            \"metric_value_kwargs\": null\n",
       "          },\n",
       "          \"num_batches\": 1\n",
       "        }\n",
       "      }\n",
       "    },\n",
       "    {\n",
       "      \"expectation_type\": \"expect_column_values_to_not_be_null\",\n",
       "      \"kwargs\": {\n",
       "        \"column\": \"config_row_ids\"\n",
       "      },\n",
       "      \"meta\": {\n",
       "        \"profiler_details\": {\n",
       "          \"metric_configuration\": {\n",
       "            \"metric_name\": \"column_values.nonnull.unexpected_count\",\n",
       "            \"domain_kwargs\": {\n",
       "              \"column\": \"config_row_ids\"\n",
       "            },\n",
       "            \"metric_value_kwargs\": null\n",
       "          },\n",
       "          \"num_batches\": 1\n",
       "        }\n",
       "      }\n",
       "    },\n",
       "    {\n",
       "      \"expectation_type\": \"expect_column_values_to_not_be_null\",\n",
       "      \"kwargs\": {\n",
       "        \"column\": \"tag\"\n",
       "      },\n",
       "      \"meta\": {\n",
       "        \"profiler_details\": {\n",
       "          \"metric_configuration\": {\n",
       "            \"metric_name\": \"column_values.nonnull.unexpected_count\",\n",
       "            \"domain_kwargs\": {\n",
       "              \"column\": \"tag\"\n",
       "            },\n",
       "            \"metric_value_kwargs\": null\n",
       "          },\n",
       "          \"num_batches\": 1\n",
       "        }\n",
       "      }\n",
       "    },\n",
       "    {\n",
       "      \"expectation_type\": \"expect_column_values_to_not_be_null\",\n",
       "      \"kwargs\": {\n",
       "        \"column\": \"created_time\"\n",
       "      },\n",
       "      \"meta\": {\n",
       "        \"profiler_details\": {\n",
       "          \"metric_configuration\": {\n",
       "            \"metric_name\": \"column_values.nonnull.unexpected_count\",\n",
       "            \"domain_kwargs\": {\n",
       "              \"column\": \"created_time\"\n",
       "            },\n",
       "            \"metric_value_kwargs\": null\n",
       "          },\n",
       "          \"num_batches\": 1\n",
       "        }\n",
       "      }\n",
       "    },\n",
       "    {\n",
       "      \"expectation_type\": \"expect_column_values_to_not_be_null\",\n",
       "      \"kwargs\": {\n",
       "        \"column\": \"start_time\"\n",
       "      },\n",
       "      \"meta\": {\n",
       "        \"profiler_details\": {\n",
       "          \"metric_configuration\": {\n",
       "            \"metric_name\": \"column_values.nonnull.unexpected_count\",\n",
       "            \"domain_kwargs\": {\n",
       "              \"column\": \"start_time\"\n",
       "            },\n",
       "            \"metric_value_kwargs\": null\n",
       "          },\n",
       "          \"num_batches\": 1\n",
       "        }\n",
       "      }\n",
       "    },\n",
       "    {\n",
       "      \"expectation_type\": \"expect_column_values_to_not_be_null\",\n",
       "      \"kwargs\": {\n",
       "        \"column\": \"end_time\"\n",
       "      },\n",
       "      \"meta\": {\n",
       "        \"profiler_details\": {\n",
       "          \"metric_configuration\": {\n",
       "            \"metric_name\": \"column_values.nonnull.unexpected_count\",\n",
       "            \"domain_kwargs\": {\n",
       "              \"column\": \"end_time\"\n",
       "            },\n",
       "            \"metric_value_kwargs\": null\n",
       "          },\n",
       "          \"num_batches\": 1\n",
       "        }\n",
       "      }\n",
       "    },\n",
       "    {\n",
       "      \"expectation_type\": \"expect_column_values_to_not_be_null\",\n",
       "      \"kwargs\": {\n",
       "        \"column\": \"duration_seconds\"\n",
       "      },\n",
       "      \"meta\": {\n",
       "        \"profiler_details\": {\n",
       "          \"metric_configuration\": {\n",
       "            \"metric_name\": \"column_values.nonnull.unexpected_count\",\n",
       "            \"domain_kwargs\": {\n",
       "              \"column\": \"duration_seconds\"\n",
       "            },\n",
       "            \"metric_value_kwargs\": null\n",
       "          },\n",
       "          \"num_batches\": 1\n",
       "        }\n",
       "      }\n",
       "    },\n",
       "    {\n",
       "      \"expectation_type\": \"expect_column_values_to_not_be_null\",\n",
       "      \"kwargs\": {\n",
       "        \"column\": \"usage_data\"\n",
       "      },\n",
       "      \"meta\": {\n",
       "        \"profiler_details\": {\n",
       "          \"metric_configuration\": {\n",
       "            \"metric_name\": \"column_values.nonnull.unexpected_count\",\n",
       "            \"domain_kwargs\": {\n",
       "              \"column\": \"usage_data\"\n",
       "            },\n",
       "            \"metric_value_kwargs\": null\n",
       "          },\n",
       "          \"num_batches\": 1\n",
       "        }\n",
       "      }\n",
       "    },\n",
       "    {\n",
       "      \"expectation_type\": \"expect_column_values_to_not_be_null\",\n",
       "      \"kwargs\": {\n",
       "        \"column\": \"isFinished\"\n",
       "      },\n",
       "      \"meta\": {\n",
       "        \"profiler_details\": {\n",
       "          \"metric_configuration\": {\n",
       "            \"metric_name\": \"column_values.nonnull.unexpected_count\",\n",
       "            \"domain_kwargs\": {\n",
       "              \"column\": \"isFinished\"\n",
       "            },\n",
       "            \"metric_value_kwargs\": null\n",
       "          },\n",
       "          \"num_batches\": 1\n",
       "        }\n",
       "      }\n",
       "    },\n",
       "    {\n",
       "      \"expectation_type\": \"expect_column_values_to_not_be_null\",\n",
       "      \"kwargs\": {\n",
       "        \"column\": \"url\"\n",
       "      },\n",
       "      \"meta\": {\n",
       "        \"profiler_details\": {\n",
       "          \"metric_configuration\": {\n",
       "            \"metric_name\": \"column_values.nonnull.unexpected_count\",\n",
       "            \"domain_kwargs\": {\n",
       "              \"column\": \"url\"\n",
       "            },\n",
       "            \"metric_value_kwargs\": null\n",
       "          },\n",
       "          \"num_batches\": 1\n",
       "        }\n",
       "      }\n",
       "    },\n",
       "    {\n",
       "      \"expectation_type\": \"expect_column_values_to_not_be_null\",\n",
       "      \"kwargs\": {\n",
       "        \"column\": \"type\"\n",
       "      },\n",
       "      \"meta\": {\n",
       "        \"profiler_details\": {\n",
       "          \"metric_configuration\": {\n",
       "            \"metric_name\": \"column_values.nonnull.unexpected_count\",\n",
       "            \"domain_kwargs\": {\n",
       "              \"column\": \"type\"\n",
       "            },\n",
       "            \"metric_value_kwargs\": null\n",
       "          },\n",
       "          \"num_batches\": 1\n",
       "        }\n",
       "      }\n",
       "    },\n",
       "    {\n",
       "      \"expectation_type\": \"expect_column_values_to_not_be_null\",\n",
       "      \"kwargs\": {\n",
       "        \"column\": \"variable_values_data\"\n",
       "      },\n",
       "      \"meta\": {\n",
       "        \"profiler_details\": {\n",
       "          \"metric_configuration\": {\n",
       "            \"metric_name\": \"column_values.nonnull.unexpected_count\",\n",
       "            \"domain_kwargs\": {\n",
       "              \"column\": \"variable_values_data\"\n",
       "            },\n",
       "            \"metric_value_kwargs\": null\n",
       "          },\n",
       "          \"num_batches\": 1\n",
       "        }\n",
       "      }\n",
       "    },\n",
       "    {\n",
       "      \"expectation_type\": \"expect_column_values_to_not_be_null\",\n",
       "      \"kwargs\": {\n",
       "        \"column\": \"result_images\"\n",
       "      },\n",
       "      \"meta\": {\n",
       "        \"profiler_details\": {\n",
       "          \"metric_configuration\": {\n",
       "            \"metric_name\": \"column_values.nonnull.unexpected_count\",\n",
       "            \"domain_kwargs\": {\n",
       "              \"column\": \"result_images\"\n",
       "            },\n",
       "            \"metric_value_kwargs\": null\n",
       "          },\n",
       "          \"num_batches\": 1\n",
       "        }\n",
       "      }\n",
       "    },\n",
       "    {\n",
       "      \"expectation_type\": \"expect_column_values_to_not_be_null\",\n",
       "      \"kwargs\": {\n",
       "        \"column\": \"result_message\"\n",
       "      },\n",
       "      \"meta\": {\n",
       "        \"profiler_details\": {\n",
       "          \"metric_configuration\": {\n",
       "            \"metric_name\": \"column_values.nonnull.unexpected_count\",\n",
       "            \"domain_kwargs\": {\n",
       "              \"column\": \"result_message\"\n",
       "            },\n",
       "            \"metric_value_kwargs\": null\n",
       "          },\n",
       "          \"num_batches\": 1\n",
       "        }\n",
       "      }\n",
       "    },\n",
       "    {\n",
       "      \"expectation_type\": \"expect_column_values_to_not_be_null\",\n",
       "      \"kwargs\": {\n",
       "        \"column\": \"extraction_date\"\n",
       "      },\n",
       "      \"meta\": {\n",
       "        \"profiler_details\": {\n",
       "          \"metric_configuration\": {\n",
       "            \"metric_name\": \"column_values.nonnull.unexpected_count\",\n",
       "            \"domain_kwargs\": {\n",
       "              \"column\": \"extraction_date\"\n",
       "            },\n",
       "            \"metric_value_kwargs\": null\n",
       "          },\n",
       "          \"num_batches\": 1\n",
       "        }\n",
       "      }\n",
       "    },\n",
       "    {\n",
       "      \"expectation_type\": \"expect_column_min_to_be_between\",\n",
       "      \"kwargs\": {\n",
       "        \"column\": \"project_name\",\n",
       "        \"max_value\": 7167,\n",
       "        \"strict_max\": false,\n",
       "        \"min_value\": 7167,\n",
       "        \"strict_min\": false\n",
       "      },\n",
       "      \"meta\": {\n",
       "        \"profiler_details\": {\n",
       "          \"metric_configuration\": {\n",
       "            \"metric_name\": \"column.min\",\n",
       "            \"domain_kwargs\": {\n",
       "              \"column\": \"project_name\"\n",
       "            },\n",
       "            \"metric_value_kwargs\": null\n",
       "          },\n",
       "          \"num_batches\": 1\n",
       "        }\n",
       "      }\n",
       "    },\n",
       "    {\n",
       "      \"expectation_type\": \"expect_column_max_to_be_between\",\n",
       "      \"kwargs\": {\n",
       "        \"column\": \"project_name\",\n",
       "        \"max_value\": 7167,\n",
       "        \"strict_max\": false,\n",
       "        \"min_value\": 7167,\n",
       "        \"strict_min\": false\n",
       "      },\n",
       "      \"meta\": {\n",
       "        \"profiler_details\": {\n",
       "          \"metric_configuration\": {\n",
       "            \"metric_name\": \"column.max\",\n",
       "            \"domain_kwargs\": {\n",
       "              \"column\": \"project_name\"\n",
       "            },\n",
       "            \"metric_value_kwargs\": null\n",
       "          },\n",
       "          \"num_batches\": 1\n",
       "        }\n",
       "      }\n",
       "    },\n",
       "    {\n",
       "      \"expectation_type\": \"expect_column_values_to_be_between\",\n",
       "      \"kwargs\": {\n",
       "        \"column\": \"project_name\",\n",
       "        \"max_value\": 7167,\n",
       "        \"mostly\": 1.0,\n",
       "        \"strict_max\": false,\n",
       "        \"min_value\": 7167,\n",
       "        \"strict_min\": false\n",
       "      },\n",
       "      \"meta\": {\n",
       "        \"profiler_details\": {\n",
       "          \"column_min_values_range_estimator\": {\n",
       "            \"metric_configuration\": {\n",
       "              \"metric_name\": \"column.min\",\n",
       "              \"domain_kwargs\": {\n",
       "                \"column\": \"project_name\"\n",
       "              },\n",
       "              \"metric_value_kwargs\": null\n",
       "            },\n",
       "            \"num_batches\": 1\n",
       "          },\n",
       "          \"column_max_values_range_estimator\": {\n",
       "            \"metric_configuration\": {\n",
       "              \"metric_name\": \"column.max\",\n",
       "              \"domain_kwargs\": {\n",
       "                \"column\": \"project_name\"\n",
       "              },\n",
       "              \"metric_value_kwargs\": null\n",
       "            },\n",
       "            \"num_batches\": 1\n",
       "          }\n",
       "        }\n",
       "      }\n",
       "    },\n",
       "    {\n",
       "      \"expectation_type\": \"expect_column_quantile_values_to_be_between\",\n",
       "      \"kwargs\": {\n",
       "        \"column\": \"project_name\",\n",
       "        \"quantile_ranges\": {\n",
       "          \"quantiles\": [\n",
       "            0.25,\n",
       "            0.5,\n",
       "            0.75\n",
       "          ],\n",
       "          \"value_ranges\": [\n",
       "            [\n",
       "              7167,\n",
       "              7167\n",
       "            ],\n",
       "            [\n",
       "              7167,\n",
       "              7167\n",
       "            ],\n",
       "            [\n",
       "              7167,\n",
       "              7167\n",
       "            ]\n",
       "          ]\n",
       "        },\n",
       "        \"allow_relative_error\": false\n",
       "      },\n",
       "      \"meta\": {\n",
       "        \"profiler_details\": {\n",
       "          \"metric_configuration\": {\n",
       "            \"metric_name\": \"column.quantile_values\",\n",
       "            \"domain_kwargs\": {\n",
       "              \"column\": \"project_name\"\n",
       "            },\n",
       "            \"metric_value_kwargs\": {\n",
       "              \"quantiles\": [\n",
       "                0.25,\n",
       "                0.5,\n",
       "                0.75\n",
       "              ],\n",
       "              \"allow_relative_error\": false\n",
       "            }\n",
       "          },\n",
       "          \"num_batches\": 1\n",
       "        }\n",
       "      }\n",
       "    },\n",
       "    {\n",
       "      \"expectation_type\": \"expect_column_median_to_be_between\",\n",
       "      \"kwargs\": {\n",
       "        \"column\": \"project_name\",\n",
       "        \"max_value\": 7167.0,\n",
       "        \"strict_max\": false,\n",
       "        \"min_value\": 7167.0,\n",
       "        \"strict_min\": false\n",
       "      },\n",
       "      \"meta\": {\n",
       "        \"profiler_details\": {\n",
       "          \"metric_configuration\": {\n",
       "            \"metric_name\": \"column.median\",\n",
       "            \"domain_kwargs\": {\n",
       "              \"column\": \"project_name\"\n",
       "            },\n",
       "            \"metric_value_kwargs\": null\n",
       "          },\n",
       "          \"num_batches\": 1\n",
       "        }\n",
       "      }\n",
       "    },\n",
       "    {\n",
       "      \"expectation_type\": \"expect_column_mean_to_be_between\",\n",
       "      \"kwargs\": {\n",
       "        \"column\": \"project_name\",\n",
       "        \"max_value\": 7167.0,\n",
       "        \"strict_max\": false,\n",
       "        \"min_value\": 7167.0,\n",
       "        \"strict_min\": false\n",
       "      },\n",
       "      \"meta\": {\n",
       "        \"profiler_details\": {\n",
       "          \"metric_configuration\": {\n",
       "            \"metric_name\": \"column.mean\",\n",
       "            \"domain_kwargs\": {\n",
       "              \"column\": \"project_name\"\n",
       "            },\n",
       "            \"metric_value_kwargs\": null\n",
       "          },\n",
       "          \"num_batches\": 1\n",
       "        }\n",
       "      }\n",
       "    },\n",
       "    {\n",
       "      \"expectation_type\": \"expect_column_stdev_to_be_between\",\n",
       "      \"kwargs\": {\n",
       "        \"column\": \"project_name\",\n",
       "        \"max_value\": 0.0,\n",
       "        \"strict_max\": false,\n",
       "        \"min_value\": 0.0,\n",
       "        \"strict_min\": false\n",
       "      },\n",
       "      \"meta\": {\n",
       "        \"profiler_details\": {\n",
       "          \"metric_configuration\": {\n",
       "            \"metric_name\": \"column.standard_deviation\",\n",
       "            \"domain_kwargs\": {\n",
       "              \"column\": \"project_name\"\n",
       "            },\n",
       "            \"metric_value_kwargs\": null\n",
       "          },\n",
       "          \"num_batches\": 1\n",
       "        }\n",
       "      }\n",
       "    },\n",
       "    {\n",
       "      \"expectation_type\": \"expect_column_min_to_be_between\",\n",
       "      \"kwargs\": {\n",
       "        \"column\": \"config\",\n",
       "        \"max_value\": 18951306.0,\n",
       "        \"strict_max\": false,\n",
       "        \"min_value\": 18951306.0,\n",
       "        \"strict_min\": false\n",
       "      },\n",
       "      \"meta\": {\n",
       "        \"profiler_details\": {\n",
       "          \"metric_configuration\": {\n",
       "            \"metric_name\": \"column.min\",\n",
       "            \"domain_kwargs\": {\n",
       "              \"column\": \"config\"\n",
       "            },\n",
       "            \"metric_value_kwargs\": null\n",
       "          },\n",
       "          \"num_batches\": 1\n",
       "        }\n",
       "      }\n",
       "    },\n",
       "    {\n",
       "      \"expectation_type\": \"expect_column_max_to_be_between\",\n",
       "      \"kwargs\": {\n",
       "        \"column\": \"config\",\n",
       "        \"max_value\": 53177667.0,\n",
       "        \"strict_max\": false,\n",
       "        \"min_value\": 53177667.0,\n",
       "        \"strict_min\": false\n",
       "      },\n",
       "      \"meta\": {\n",
       "        \"profiler_details\": {\n",
       "          \"metric_configuration\": {\n",
       "            \"metric_name\": \"column.max\",\n",
       "            \"domain_kwargs\": {\n",
       "              \"column\": \"config\"\n",
       "            },\n",
       "            \"metric_value_kwargs\": null\n",
       "          },\n",
       "          \"num_batches\": 1\n",
       "        }\n",
       "      }\n",
       "    },\n",
       "    {\n",
       "      \"expectation_type\": \"expect_column_values_to_be_between\",\n",
       "      \"kwargs\": {\n",
       "        \"column\": \"config\",\n",
       "        \"max_value\": 53177667.0,\n",
       "        \"mostly\": 1.0,\n",
       "        \"strict_max\": false,\n",
       "        \"min_value\": 18951306.0,\n",
       "        \"strict_min\": false\n",
       "      },\n",
       "      \"meta\": {\n",
       "        \"profiler_details\": {\n",
       "          \"column_min_values_range_estimator\": {\n",
       "            \"metric_configuration\": {\n",
       "              \"metric_name\": \"column.min\",\n",
       "              \"domain_kwargs\": {\n",
       "                \"column\": \"config\"\n",
       "              },\n",
       "              \"metric_value_kwargs\": null\n",
       "            },\n",
       "            \"num_batches\": 1\n",
       "          },\n",
       "          \"column_max_values_range_estimator\": {\n",
       "            \"metric_configuration\": {\n",
       "              \"metric_name\": \"column.max\",\n",
       "              \"domain_kwargs\": {\n",
       "                \"column\": \"config\"\n",
       "              },\n",
       "              \"metric_value_kwargs\": null\n",
       "            },\n",
       "            \"num_batches\": 1\n",
       "          }\n",
       "        }\n",
       "      }\n",
       "    },\n",
       "    {\n",
       "      \"expectation_type\": \"expect_column_quantile_values_to_be_between\",\n",
       "      \"kwargs\": {\n",
       "        \"column\": \"config\",\n",
       "        \"quantile_ranges\": {\n",
       "          \"quantiles\": [\n",
       "            0.25,\n",
       "            0.5,\n",
       "            0.75\n",
       "          ],\n",
       "          \"value_ranges\": [\n",
       "            [\n",
       "              20987332.0,\n",
       "              20987332.0\n",
       "            ],\n",
       "            [\n",
       "              21591835.0,\n",
       "              21591835.0\n",
       "            ],\n",
       "            [\n",
       "              21591836.0,\n",
       "              21591836.0\n",
       "            ]\n",
       "          ]\n",
       "        },\n",
       "        \"allow_relative_error\": false\n",
       "      },\n",
       "      \"meta\": {\n",
       "        \"profiler_details\": {\n",
       "          \"metric_configuration\": {\n",
       "            \"metric_name\": \"column.quantile_values\",\n",
       "            \"domain_kwargs\": {\n",
       "              \"column\": \"config\"\n",
       "            },\n",
       "            \"metric_value_kwargs\": {\n",
       "              \"quantiles\": [\n",
       "                0.25,\n",
       "                0.5,\n",
       "                0.75\n",
       "              ],\n",
       "              \"allow_relative_error\": false\n",
       "            }\n",
       "          },\n",
       "          \"num_batches\": 1\n",
       "        }\n",
       "      }\n",
       "    },\n",
       "    {\n",
       "      \"expectation_type\": \"expect_column_median_to_be_between\",\n",
       "      \"kwargs\": {\n",
       "        \"column\": \"config\",\n",
       "        \"max_value\": 21591835.0,\n",
       "        \"strict_max\": false,\n",
       "        \"min_value\": 21591835.0,\n",
       "        \"strict_min\": false\n",
       "      },\n",
       "      \"meta\": {\n",
       "        \"profiler_details\": {\n",
       "          \"metric_configuration\": {\n",
       "            \"metric_name\": \"column.median\",\n",
       "            \"domain_kwargs\": {\n",
       "              \"column\": \"config\"\n",
       "            },\n",
       "            \"metric_value_kwargs\": null\n",
       "          },\n",
       "          \"num_batches\": 1\n",
       "        }\n",
       "      }\n",
       "    },\n",
       "    {\n",
       "      \"expectation_type\": \"expect_column_mean_to_be_between\",\n",
       "      \"kwargs\": {\n",
       "        \"column\": \"config\",\n",
       "        \"max_value\": 22749290.734064925,\n",
       "        \"strict_max\": false,\n",
       "        \"min_value\": 22749290.734064925,\n",
       "        \"strict_min\": false\n",
       "      },\n",
       "      \"meta\": {\n",
       "        \"profiler_details\": {\n",
       "          \"metric_configuration\": {\n",
       "            \"metric_name\": \"column.mean\",\n",
       "            \"domain_kwargs\": {\n",
       "              \"column\": \"config\"\n",
       "            },\n",
       "            \"metric_value_kwargs\": null\n",
       "          },\n",
       "          \"num_batches\": 1\n",
       "        }\n",
       "      }\n",
       "    },\n",
       "    {\n",
       "      \"expectation_type\": \"expect_column_stdev_to_be_between\",\n",
       "      \"kwargs\": {\n",
       "        \"column\": \"config\",\n",
       "        \"max_value\": 5269989.988253698,\n",
       "        \"strict_max\": false,\n",
       "        \"min_value\": 5269989.988253698,\n",
       "        \"strict_min\": false\n",
       "      },\n",
       "      \"meta\": {\n",
       "        \"profiler_details\": {\n",
       "          \"metric_configuration\": {\n",
       "            \"metric_name\": \"column.standard_deviation\",\n",
       "            \"domain_kwargs\": {\n",
       "              \"column\": \"config\"\n",
       "            },\n",
       "            \"metric_value_kwargs\": null\n",
       "          },\n",
       "          \"num_batches\": 1\n",
       "        }\n",
       "      }\n",
       "    },\n",
       "    {\n",
       "      \"expectation_type\": \"expect_column_min_to_be_between\",\n",
       "      \"kwargs\": {\n",
       "        \"column\": \"duration_seconds\",\n",
       "        \"max_value\": 1,\n",
       "        \"strict_max\": false,\n",
       "        \"min_value\": 1,\n",
       "        \"strict_min\": false\n",
       "      },\n",
       "      \"meta\": {\n",
       "        \"profiler_details\": {\n",
       "          \"metric_configuration\": {\n",
       "            \"metric_name\": \"column.min\",\n",
       "            \"domain_kwargs\": {\n",
       "              \"column\": \"duration_seconds\"\n",
       "            },\n",
       "            \"metric_value_kwargs\": null\n",
       "          },\n",
       "          \"num_batches\": 1\n",
       "        }\n",
       "      }\n",
       "    },\n",
       "    {\n",
       "      \"expectation_type\": \"expect_column_max_to_be_between\",\n",
       "      \"kwargs\": {\n",
       "        \"column\": \"duration_seconds\",\n",
       "        \"max_value\": 4530,\n",
       "        \"strict_max\": false,\n",
       "        \"min_value\": 4530,\n",
       "        \"strict_min\": false\n",
       "      },\n",
       "      \"meta\": {\n",
       "        \"profiler_details\": {\n",
       "          \"metric_configuration\": {\n",
       "            \"metric_name\": \"column.max\",\n",
       "            \"domain_kwargs\": {\n",
       "              \"column\": \"duration_seconds\"\n",
       "            },\n",
       "            \"metric_value_kwargs\": null\n",
       "          },\n",
       "          \"num_batches\": 1\n",
       "        }\n",
       "      }\n",
       "    },\n",
       "    {\n",
       "      \"expectation_type\": \"expect_column_values_to_be_between\",\n",
       "      \"kwargs\": {\n",
       "        \"column\": \"duration_seconds\",\n",
       "        \"max_value\": 4530,\n",
       "        \"mostly\": 1.0,\n",
       "        \"strict_max\": false,\n",
       "        \"min_value\": 1,\n",
       "        \"strict_min\": false\n",
       "      },\n",
       "      \"meta\": {\n",
       "        \"profiler_details\": {\n",
       "          \"column_min_values_range_estimator\": {\n",
       "            \"metric_configuration\": {\n",
       "              \"metric_name\": \"column.min\",\n",
       "              \"domain_kwargs\": {\n",
       "                \"column\": \"duration_seconds\"\n",
       "              },\n",
       "              \"metric_value_kwargs\": null\n",
       "            },\n",
       "            \"num_batches\": 1\n",
       "          },\n",
       "          \"column_max_values_range_estimator\": {\n",
       "            \"metric_configuration\": {\n",
       "              \"metric_name\": \"column.max\",\n",
       "              \"domain_kwargs\": {\n",
       "                \"column\": \"duration_seconds\"\n",
       "              },\n",
       "              \"metric_value_kwargs\": null\n",
       "            },\n",
       "            \"num_batches\": 1\n",
       "          }\n",
       "        }\n",
       "      }\n",
       "    },\n",
       "    {\n",
       "      \"expectation_type\": \"expect_column_quantile_values_to_be_between\",\n",
       "      \"kwargs\": {\n",
       "        \"column\": \"duration_seconds\",\n",
       "        \"quantile_ranges\": {\n",
       "          \"quantiles\": [\n",
       "            0.25,\n",
       "            0.5,\n",
       "            0.75\n",
       "          ],\n",
       "          \"value_ranges\": [\n",
       "            [\n",
       "              22,\n",
       "              22\n",
       "            ],\n",
       "            [\n",
       "              58,\n",
       "              58\n",
       "            ],\n",
       "            [\n",
       "              107,\n",
       "              107\n",
       "            ]\n",
       "          ]\n",
       "        },\n",
       "        \"allow_relative_error\": false\n",
       "      },\n",
       "      \"meta\": {\n",
       "        \"profiler_details\": {\n",
       "          \"metric_configuration\": {\n",
       "            \"metric_name\": \"column.quantile_values\",\n",
       "            \"domain_kwargs\": {\n",
       "              \"column\": \"duration_seconds\"\n",
       "            },\n",
       "            \"metric_value_kwargs\": {\n",
       "              \"quantiles\": [\n",
       "                0.25,\n",
       "                0.5,\n",
       "                0.75\n",
       "              ],\n",
       "              \"allow_relative_error\": false\n",
       "            }\n",
       "          },\n",
       "          \"num_batches\": 1\n",
       "        }\n",
       "      }\n",
       "    },\n",
       "    {\n",
       "      \"expectation_type\": \"expect_column_median_to_be_between\",\n",
       "      \"kwargs\": {\n",
       "        \"column\": \"duration_seconds\",\n",
       "        \"max_value\": 58.0,\n",
       "        \"strict_max\": false,\n",
       "        \"min_value\": 58.0,\n",
       "        \"strict_min\": false\n",
       "      },\n",
       "      \"meta\": {\n",
       "        \"profiler_details\": {\n",
       "          \"metric_configuration\": {\n",
       "            \"metric_name\": \"column.median\",\n",
       "            \"domain_kwargs\": {\n",
       "              \"column\": \"duration_seconds\"\n",
       "            },\n",
       "            \"metric_value_kwargs\": null\n",
       "          },\n",
       "          \"num_batches\": 1\n",
       "        }\n",
       "      }\n",
       "    },\n",
       "    {\n",
       "      \"expectation_type\": \"expect_column_mean_to_be_between\",\n",
       "      \"kwargs\": {\n",
       "        \"column\": \"duration_seconds\",\n",
       "        \"max_value\": 80.5341413060101,\n",
       "        \"strict_max\": false,\n",
       "        \"min_value\": 80.5341413060101,\n",
       "        \"strict_min\": false\n",
       "      },\n",
       "      \"meta\": {\n",
       "        \"profiler_details\": {\n",
       "          \"metric_configuration\": {\n",
       "            \"metric_name\": \"column.mean\",\n",
       "            \"domain_kwargs\": {\n",
       "              \"column\": \"duration_seconds\"\n",
       "            },\n",
       "            \"metric_value_kwargs\": null\n",
       "          },\n",
       "          \"num_batches\": 1\n",
       "        }\n",
       "      }\n",
       "    },\n",
       "    {\n",
       "      \"expectation_type\": \"expect_column_stdev_to_be_between\",\n",
       "      \"kwargs\": {\n",
       "        \"column\": \"duration_seconds\",\n",
       "        \"max_value\": 111.34192893536786,\n",
       "        \"strict_max\": false,\n",
       "        \"min_value\": 111.34192893536786,\n",
       "        \"strict_min\": false\n",
       "      },\n",
       "      \"meta\": {\n",
       "        \"profiler_details\": {\n",
       "          \"metric_configuration\": {\n",
       "            \"metric_name\": \"column.standard_deviation\",\n",
       "            \"domain_kwargs\": {\n",
       "              \"column\": \"duration_seconds\"\n",
       "            },\n",
       "            \"metric_value_kwargs\": null\n",
       "          },\n",
       "          \"num_batches\": 1\n",
       "        }\n",
       "      }\n",
       "    },\n",
       "    {\n",
       "      \"expectation_type\": \"expect_column_min_to_be_between\",\n",
       "      \"kwargs\": {\n",
       "        \"column\": \"isFinished\",\n",
       "        \"max_value\": 1,\n",
       "        \"strict_max\": false,\n",
       "        \"min_value\": 1,\n",
       "        \"strict_min\": false\n",
       "      },\n",
       "      \"meta\": {\n",
       "        \"profiler_details\": {\n",
       "          \"metric_configuration\": {\n",
       "            \"metric_name\": \"column.min\",\n",
       "            \"domain_kwargs\": {\n",
       "              \"column\": \"isFinished\"\n",
       "            },\n",
       "            \"metric_value_kwargs\": null\n",
       "          },\n",
       "          \"num_batches\": 1\n",
       "        }\n",
       "      }\n",
       "    },\n",
       "    {\n",
       "      \"expectation_type\": \"expect_column_max_to_be_between\",\n",
       "      \"kwargs\": {\n",
       "        \"column\": \"isFinished\",\n",
       "        \"max_value\": 1,\n",
       "        \"strict_max\": false,\n",
       "        \"min_value\": 1,\n",
       "        \"strict_min\": false\n",
       "      },\n",
       "      \"meta\": {\n",
       "        \"profiler_details\": {\n",
       "          \"metric_configuration\": {\n",
       "            \"metric_name\": \"column.max\",\n",
       "            \"domain_kwargs\": {\n",
       "              \"column\": \"isFinished\"\n",
       "            },\n",
       "            \"metric_value_kwargs\": null\n",
       "          },\n",
       "          \"num_batches\": 1\n",
       "        }\n",
       "      }\n",
       "    },\n",
       "    {\n",
       "      \"expectation_type\": \"expect_column_values_to_be_between\",\n",
       "      \"kwargs\": {\n",
       "        \"column\": \"isFinished\",\n",
       "        \"max_value\": 1,\n",
       "        \"mostly\": 1.0,\n",
       "        \"strict_max\": false,\n",
       "        \"min_value\": 1,\n",
       "        \"strict_min\": false\n",
       "      },\n",
       "      \"meta\": {\n",
       "        \"profiler_details\": {\n",
       "          \"column_min_values_range_estimator\": {\n",
       "            \"metric_configuration\": {\n",
       "              \"metric_name\": \"column.min\",\n",
       "              \"domain_kwargs\": {\n",
       "                \"column\": \"isFinished\"\n",
       "              },\n",
       "              \"metric_value_kwargs\": null\n",
       "            },\n",
       "            \"num_batches\": 1\n",
       "          },\n",
       "          \"column_max_values_range_estimator\": {\n",
       "            \"metric_configuration\": {\n",
       "              \"metric_name\": \"column.max\",\n",
       "              \"domain_kwargs\": {\n",
       "                \"column\": \"isFinished\"\n",
       "              },\n",
       "              \"metric_value_kwargs\": null\n",
       "            },\n",
       "            \"num_batches\": 1\n",
       "          }\n",
       "        }\n",
       "      }\n",
       "    },\n",
       "    {\n",
       "      \"expectation_type\": \"expect_column_quantile_values_to_be_between\",\n",
       "      \"kwargs\": {\n",
       "        \"column\": \"isFinished\",\n",
       "        \"quantile_ranges\": {\n",
       "          \"quantiles\": [\n",
       "            0.25,\n",
       "            0.5,\n",
       "            0.75\n",
       "          ],\n",
       "          \"value_ranges\": [\n",
       "            [\n",
       "              1,\n",
       "              1\n",
       "            ],\n",
       "            [\n",
       "              1,\n",
       "              1\n",
       "            ],\n",
       "            [\n",
       "              1,\n",
       "              1\n",
       "            ]\n",
       "          ]\n",
       "        },\n",
       "        \"allow_relative_error\": false\n",
       "      },\n",
       "      \"meta\": {\n",
       "        \"profiler_details\": {\n",
       "          \"metric_configuration\": {\n",
       "            \"metric_name\": \"column.quantile_values\",\n",
       "            \"domain_kwargs\": {\n",
       "              \"column\": \"isFinished\"\n",
       "            },\n",
       "            \"metric_value_kwargs\": {\n",
       "              \"quantiles\": [\n",
       "                0.25,\n",
       "                0.5,\n",
       "                0.75\n",
       "              ],\n",
       "              \"allow_relative_error\": false\n",
       "            }\n",
       "          },\n",
       "          \"num_batches\": 1\n",
       "        }\n",
       "      }\n",
       "    },\n",
       "    {\n",
       "      \"expectation_type\": \"expect_column_median_to_be_between\",\n",
       "      \"kwargs\": {\n",
       "        \"column\": \"isFinished\",\n",
       "        \"max_value\": 1.0,\n",
       "        \"strict_max\": false,\n",
       "        \"min_value\": 1.0,\n",
       "        \"strict_min\": false\n",
       "      },\n",
       "      \"meta\": {\n",
       "        \"profiler_details\": {\n",
       "          \"metric_configuration\": {\n",
       "            \"metric_name\": \"column.median\",\n",
       "            \"domain_kwargs\": {\n",
       "              \"column\": \"isFinished\"\n",
       "            },\n",
       "            \"metric_value_kwargs\": null\n",
       "          },\n",
       "          \"num_batches\": 1\n",
       "        }\n",
       "      }\n",
       "    },\n",
       "    {\n",
       "      \"expectation_type\": \"expect_column_mean_to_be_between\",\n",
       "      \"kwargs\": {\n",
       "        \"column\": \"isFinished\",\n",
       "        \"max_value\": 1.0,\n",
       "        \"strict_max\": false,\n",
       "        \"min_value\": 1.0,\n",
       "        \"strict_min\": false\n",
       "      },\n",
       "      \"meta\": {\n",
       "        \"profiler_details\": {\n",
       "          \"metric_configuration\": {\n",
       "            \"metric_name\": \"column.mean\",\n",
       "            \"domain_kwargs\": {\n",
       "              \"column\": \"isFinished\"\n",
       "            },\n",
       "            \"metric_value_kwargs\": null\n",
       "          },\n",
       "          \"num_batches\": 1\n",
       "        }\n",
       "      }\n",
       "    },\n",
       "    {\n",
       "      \"expectation_type\": \"expect_column_stdev_to_be_between\",\n",
       "      \"kwargs\": {\n",
       "        \"column\": \"isFinished\",\n",
       "        \"max_value\": 0.0,\n",
       "        \"strict_max\": false,\n",
       "        \"min_value\": 0.0,\n",
       "        \"strict_min\": false\n",
       "      },\n",
       "      \"meta\": {\n",
       "        \"profiler_details\": {\n",
       "          \"metric_configuration\": {\n",
       "            \"metric_name\": \"column.standard_deviation\",\n",
       "            \"domain_kwargs\": {\n",
       "              \"column\": \"isFinished\"\n",
       "            },\n",
       "            \"metric_value_kwargs\": null\n",
       "          },\n",
       "          \"num_batches\": 1\n",
       "        }\n",
       "      }\n",
       "    },\n",
       "    {\n",
       "      \"expectation_type\": \"expect_column_min_to_be_between\",\n",
       "      \"kwargs\": {\n",
       "        \"column\": \"branchId\",\n",
       "        \"max_value\": 0.0,\n",
       "        \"strict_max\": false,\n",
       "        \"min_value\": 0.0,\n",
       "        \"strict_min\": false\n",
       "      },\n",
       "      \"meta\": {\n",
       "        \"profiler_details\": {\n",
       "          \"metric_configuration\": {\n",
       "            \"metric_name\": \"column.min\",\n",
       "            \"domain_kwargs\": {\n",
       "              \"column\": \"branchId\"\n",
       "            },\n",
       "            \"metric_value_kwargs\": null\n",
       "          },\n",
       "          \"num_batches\": 1\n",
       "        }\n",
       "      }\n",
       "    },\n",
       "    {\n",
       "      \"expectation_type\": \"expect_column_max_to_be_between\",\n",
       "      \"kwargs\": {\n",
       "        \"column\": \"branchId\",\n",
       "        \"max_value\": 0.0,\n",
       "        \"strict_max\": false,\n",
       "        \"min_value\": 0.0,\n",
       "        \"strict_min\": false\n",
       "      },\n",
       "      \"meta\": {\n",
       "        \"profiler_details\": {\n",
       "          \"metric_configuration\": {\n",
       "            \"metric_name\": \"column.max\",\n",
       "            \"domain_kwargs\": {\n",
       "              \"column\": \"branchId\"\n",
       "            },\n",
       "            \"metric_value_kwargs\": null\n",
       "          },\n",
       "          \"num_batches\": 1\n",
       "        }\n",
       "      }\n",
       "    },\n",
       "    {\n",
       "      \"expectation_type\": \"expect_column_values_to_be_between\",\n",
       "      \"kwargs\": {\n",
       "        \"column\": \"branchId\",\n",
       "        \"max_value\": 0.0,\n",
       "        \"mostly\": 1.0,\n",
       "        \"strict_max\": false,\n",
       "        \"min_value\": 0.0,\n",
       "        \"strict_min\": false\n",
       "      },\n",
       "      \"meta\": {\n",
       "        \"profiler_details\": {\n",
       "          \"column_min_values_range_estimator\": {\n",
       "            \"metric_configuration\": {\n",
       "              \"metric_name\": \"column.min\",\n",
       "              \"domain_kwargs\": {\n",
       "                \"column\": \"branchId\"\n",
       "              },\n",
       "              \"metric_value_kwargs\": null\n",
       "            },\n",
       "            \"num_batches\": 1\n",
       "          },\n",
       "          \"column_max_values_range_estimator\": {\n",
       "            \"metric_configuration\": {\n",
       "              \"metric_name\": \"column.max\",\n",
       "              \"domain_kwargs\": {\n",
       "                \"column\": \"branchId\"\n",
       "              },\n",
       "              \"metric_value_kwargs\": null\n",
       "            },\n",
       "            \"num_batches\": 1\n",
       "          }\n",
       "        }\n",
       "      }\n",
       "    },\n",
       "    {\n",
       "      \"expectation_type\": \"expect_column_quantile_values_to_be_between\",\n",
       "      \"kwargs\": {\n",
       "        \"column\": \"branchId\",\n",
       "        \"quantile_ranges\": {\n",
       "          \"quantiles\": [\n",
       "            0.25,\n",
       "            0.5,\n",
       "            0.75\n",
       "          ],\n",
       "          \"value_ranges\": [\n",
       "            [\n",
       "              0.0,\n",
       "              0.0\n",
       "            ],\n",
       "            [\n",
       "              0.0,\n",
       "              0.0\n",
       "            ],\n",
       "            [\n",
       "              0.0,\n",
       "              0.0\n",
       "            ]\n",
       "          ]\n",
       "        },\n",
       "        \"allow_relative_error\": false\n",
       "      },\n",
       "      \"meta\": {\n",
       "        \"profiler_details\": {\n",
       "          \"metric_configuration\": {\n",
       "            \"metric_name\": \"column.quantile_values\",\n",
       "            \"domain_kwargs\": {\n",
       "              \"column\": \"branchId\"\n",
       "            },\n",
       "            \"metric_value_kwargs\": {\n",
       "              \"quantiles\": [\n",
       "                0.25,\n",
       "                0.5,\n",
       "                0.75\n",
       "              ],\n",
       "              \"allow_relative_error\": false\n",
       "            }\n",
       "          },\n",
       "          \"num_batches\": 1\n",
       "        }\n",
       "      }\n",
       "    },\n",
       "    {\n",
       "      \"expectation_type\": \"expect_column_median_to_be_between\",\n",
       "      \"kwargs\": {\n",
       "        \"column\": \"branchId\",\n",
       "        \"max_value\": 0.0,\n",
       "        \"strict_max\": false,\n",
       "        \"min_value\": 0.0,\n",
       "        \"strict_min\": false\n",
       "      },\n",
       "      \"meta\": {\n",
       "        \"profiler_details\": {\n",
       "          \"metric_configuration\": {\n",
       "            \"metric_name\": \"column.median\",\n",
       "            \"domain_kwargs\": {\n",
       "              \"column\": \"branchId\"\n",
       "            },\n",
       "            \"metric_value_kwargs\": null\n",
       "          },\n",
       "          \"num_batches\": 1\n",
       "        }\n",
       "      }\n",
       "    },\n",
       "    {\n",
       "      \"expectation_type\": \"expect_column_mean_to_be_between\",\n",
       "      \"kwargs\": {\n",
       "        \"column\": \"branchId\",\n",
       "        \"max_value\": 0.0,\n",
       "        \"strict_max\": false,\n",
       "        \"min_value\": 0.0,\n",
       "        \"strict_min\": false\n",
       "      },\n",
       "      \"meta\": {\n",
       "        \"profiler_details\": {\n",
       "          \"metric_configuration\": {\n",
       "            \"metric_name\": \"column.mean\",\n",
       "            \"domain_kwargs\": {\n",
       "              \"column\": \"branchId\"\n",
       "            },\n",
       "            \"metric_value_kwargs\": null\n",
       "          },\n",
       "          \"num_batches\": 1\n",
       "        }\n",
       "      }\n",
       "    },\n",
       "    {\n",
       "      \"expectation_type\": \"expect_column_stdev_to_be_between\",\n",
       "      \"kwargs\": {\n",
       "        \"column\": \"branchId\",\n",
       "        \"max_value\": 0.0,\n",
       "        \"strict_max\": false,\n",
       "        \"min_value\": 0.0,\n",
       "        \"strict_min\": false\n",
       "      },\n",
       "      \"meta\": {\n",
       "        \"profiler_details\": {\n",
       "          \"metric_configuration\": {\n",
       "            \"metric_name\": \"column.standard_deviation\",\n",
       "            \"domain_kwargs\": {\n",
       "              \"column\": \"branchId\"\n",
       "            },\n",
       "            \"metric_value_kwargs\": null\n",
       "          },\n",
       "          \"num_batches\": 1\n",
       "        }\n",
       "      }\n",
       "    },\n",
       "    {\n",
       "      \"expectation_type\": \"expect_column_min_to_be_between\",\n",
       "      \"kwargs\": {\n",
       "        \"column\": \"parallelism\",\n",
       "        \"max_value\": 0.0,\n",
       "        \"strict_max\": false,\n",
       "        \"min_value\": 0.0,\n",
       "        \"strict_min\": false\n",
       "      },\n",
       "      \"meta\": {\n",
       "        \"profiler_details\": {\n",
       "          \"metric_configuration\": {\n",
       "            \"metric_name\": \"column.min\",\n",
       "            \"domain_kwargs\": {\n",
       "              \"column\": \"parallelism\"\n",
       "            },\n",
       "            \"metric_value_kwargs\": null\n",
       "          },\n",
       "          \"num_batches\": 1\n",
       "        }\n",
       "      }\n",
       "    },\n",
       "    {\n",
       "      \"expectation_type\": \"expect_column_max_to_be_between\",\n",
       "      \"kwargs\": {\n",
       "        \"column\": \"parallelism\",\n",
       "        \"max_value\": 0.0,\n",
       "        \"strict_max\": false,\n",
       "        \"min_value\": 0.0,\n",
       "        \"strict_min\": false\n",
       "      },\n",
       "      \"meta\": {\n",
       "        \"profiler_details\": {\n",
       "          \"metric_configuration\": {\n",
       "            \"metric_name\": \"column.max\",\n",
       "            \"domain_kwargs\": {\n",
       "              \"column\": \"parallelism\"\n",
       "            },\n",
       "            \"metric_value_kwargs\": null\n",
       "          },\n",
       "          \"num_batches\": 1\n",
       "        }\n",
       "      }\n",
       "    },\n",
       "    {\n",
       "      \"expectation_type\": \"expect_column_values_to_be_between\",\n",
       "      \"kwargs\": {\n",
       "        \"column\": \"parallelism\",\n",
       "        \"max_value\": 0.0,\n",
       "        \"mostly\": 1.0,\n",
       "        \"strict_max\": false,\n",
       "        \"min_value\": 0.0,\n",
       "        \"strict_min\": false\n",
       "      },\n",
       "      \"meta\": {\n",
       "        \"profiler_details\": {\n",
       "          \"column_min_values_range_estimator\": {\n",
       "            \"metric_configuration\": {\n",
       "              \"metric_name\": \"column.min\",\n",
       "              \"domain_kwargs\": {\n",
       "                \"column\": \"parallelism\"\n",
       "              },\n",
       "              \"metric_value_kwargs\": null\n",
       "            },\n",
       "            \"num_batches\": 1\n",
       "          },\n",
       "          \"column_max_values_range_estimator\": {\n",
       "            \"metric_configuration\": {\n",
       "              \"metric_name\": \"column.max\",\n",
       "              \"domain_kwargs\": {\n",
       "                \"column\": \"parallelism\"\n",
       "              },\n",
       "              \"metric_value_kwargs\": null\n",
       "            },\n",
       "            \"num_batches\": 1\n",
       "          }\n",
       "        }\n",
       "      }\n",
       "    },\n",
       "    {\n",
       "      \"expectation_type\": \"expect_column_quantile_values_to_be_between\",\n",
       "      \"kwargs\": {\n",
       "        \"column\": \"parallelism\",\n",
       "        \"quantile_ranges\": {\n",
       "          \"quantiles\": [\n",
       "            0.25,\n",
       "            0.5,\n",
       "            0.75\n",
       "          ],\n",
       "          \"value_ranges\": [\n",
       "            [\n",
       "              0.0,\n",
       "              0.0\n",
       "            ],\n",
       "            [\n",
       "              0.0,\n",
       "              0.0\n",
       "            ],\n",
       "            [\n",
       "              0.0,\n",
       "              0.0\n",
       "            ]\n",
       "          ]\n",
       "        },\n",
       "        \"allow_relative_error\": false\n",
       "      },\n",
       "      \"meta\": {\n",
       "        \"profiler_details\": {\n",
       "          \"metric_configuration\": {\n",
       "            \"metric_name\": \"column.quantile_values\",\n",
       "            \"domain_kwargs\": {\n",
       "              \"column\": \"parallelism\"\n",
       "            },\n",
       "            \"metric_value_kwargs\": {\n",
       "              \"quantiles\": [\n",
       "                0.25,\n",
       "                0.5,\n",
       "                0.75\n",
       "              ],\n",
       "              \"allow_relative_error\": false\n",
       "            }\n",
       "          },\n",
       "          \"num_batches\": 1\n",
       "        }\n",
       "      }\n",
       "    },\n",
       "    {\n",
       "      \"expectation_type\": \"expect_column_median_to_be_between\",\n",
       "      \"kwargs\": {\n",
       "        \"column\": \"parallelism\",\n",
       "        \"max_value\": 0.0,\n",
       "        \"strict_max\": false,\n",
       "        \"min_value\": 0.0,\n",
       "        \"strict_min\": false\n",
       "      },\n",
       "      \"meta\": {\n",
       "        \"profiler_details\": {\n",
       "          \"metric_configuration\": {\n",
       "            \"metric_name\": \"column.median\",\n",
       "            \"domain_kwargs\": {\n",
       "              \"column\": \"parallelism\"\n",
       "            },\n",
       "            \"metric_value_kwargs\": null\n",
       "          },\n",
       "          \"num_batches\": 1\n",
       "        }\n",
       "      }\n",
       "    },\n",
       "    {\n",
       "      \"expectation_type\": \"expect_column_mean_to_be_between\",\n",
       "      \"kwargs\": {\n",
       "        \"column\": \"parallelism\",\n",
       "        \"max_value\": 0.0,\n",
       "        \"strict_max\": false,\n",
       "        \"min_value\": 0.0,\n",
       "        \"strict_min\": false\n",
       "      },\n",
       "      \"meta\": {\n",
       "        \"profiler_details\": {\n",
       "          \"metric_configuration\": {\n",
       "            \"metric_name\": \"column.mean\",\n",
       "            \"domain_kwargs\": {\n",
       "              \"column\": \"parallelism\"\n",
       "            },\n",
       "            \"metric_value_kwargs\": null\n",
       "          },\n",
       "          \"num_batches\": 1\n",
       "        }\n",
       "      }\n",
       "    },\n",
       "    {\n",
       "      \"expectation_type\": \"expect_column_stdev_to_be_between\",\n",
       "      \"kwargs\": {\n",
       "        \"column\": \"parallelism\",\n",
       "        \"max_value\": 0.0,\n",
       "        \"strict_max\": false,\n",
       "        \"min_value\": 0.0,\n",
       "        \"strict_min\": false\n",
       "      },\n",
       "      \"meta\": {\n",
       "        \"profiler_details\": {\n",
       "          \"metric_configuration\": {\n",
       "            \"metric_name\": \"column.standard_deviation\",\n",
       "            \"domain_kwargs\": {\n",
       "              \"column\": \"parallelism\"\n",
       "            },\n",
       "            \"metric_value_kwargs\": null\n",
       "          },\n",
       "          \"num_batches\": 1\n",
       "        }\n",
       "      }\n",
       "    },\n",
       "    {\n",
       "      \"expectation_type\": \"expect_column_min_to_be_between\",\n",
       "      \"kwargs\": {\n",
       "        \"column\": \"metrics_storage_input_tables_bytes_sum\",\n",
       "        \"max_value\": 0.0,\n",
       "        \"strict_max\": false,\n",
       "        \"min_value\": 0.0,\n",
       "        \"strict_min\": false\n",
       "      },\n",
       "      \"meta\": {\n",
       "        \"profiler_details\": {\n",
       "          \"metric_configuration\": {\n",
       "            \"metric_name\": \"column.min\",\n",
       "            \"domain_kwargs\": {\n",
       "              \"column\": \"metrics_storage_input_tables_bytes_sum\"\n",
       "            },\n",
       "            \"metric_value_kwargs\": null\n",
       "          },\n",
       "          \"num_batches\": 1\n",
       "        }\n",
       "      }\n",
       "    },\n",
       "    {\n",
       "      \"expectation_type\": \"expect_column_max_to_be_between\",\n",
       "      \"kwargs\": {\n",
       "        \"column\": \"metrics_storage_input_tables_bytes_sum\",\n",
       "        \"max_value\": 10997248.0,\n",
       "        \"strict_max\": false,\n",
       "        \"min_value\": 10997248.0,\n",
       "        \"strict_min\": false\n",
       "      },\n",
       "      \"meta\": {\n",
       "        \"profiler_details\": {\n",
       "          \"metric_configuration\": {\n",
       "            \"metric_name\": \"column.max\",\n",
       "            \"domain_kwargs\": {\n",
       "              \"column\": \"metrics_storage_input_tables_bytes_sum\"\n",
       "            },\n",
       "            \"metric_value_kwargs\": null\n",
       "          },\n",
       "          \"num_batches\": 1\n",
       "        }\n",
       "      }\n",
       "    },\n",
       "    {\n",
       "      \"expectation_type\": \"expect_column_values_to_be_between\",\n",
       "      \"kwargs\": {\n",
       "        \"column\": \"metrics_storage_input_tables_bytes_sum\",\n",
       "        \"max_value\": 10997248.0,\n",
       "        \"mostly\": 1.0,\n",
       "        \"strict_max\": false,\n",
       "        \"min_value\": 0.0,\n",
       "        \"strict_min\": false\n",
       "      },\n",
       "      \"meta\": {\n",
       "        \"profiler_details\": {\n",
       "          \"column_min_values_range_estimator\": {\n",
       "            \"metric_configuration\": {\n",
       "              \"metric_name\": \"column.min\",\n",
       "              \"domain_kwargs\": {\n",
       "                \"column\": \"metrics_storage_input_tables_bytes_sum\"\n",
       "              },\n",
       "              \"metric_value_kwargs\": null\n",
       "            },\n",
       "            \"num_batches\": 1\n",
       "          },\n",
       "          \"column_max_values_range_estimator\": {\n",
       "            \"metric_configuration\": {\n",
       "              \"metric_name\": \"column.max\",\n",
       "              \"domain_kwargs\": {\n",
       "                \"column\": \"metrics_storage_input_tables_bytes_sum\"\n",
       "              },\n",
       "              \"metric_value_kwargs\": null\n",
       "            },\n",
       "            \"num_batches\": 1\n",
       "          }\n",
       "        }\n",
       "      }\n",
       "    },\n",
       "    {\n",
       "      \"expectation_type\": \"expect_column_quantile_values_to_be_between\",\n",
       "      \"kwargs\": {\n",
       "        \"column\": \"metrics_storage_input_tables_bytes_sum\",\n",
       "        \"quantile_ranges\": {\n",
       "          \"quantiles\": [\n",
       "            0.25,\n",
       "            0.5,\n",
       "            0.75\n",
       "          ],\n",
       "          \"value_ranges\": [\n",
       "            [\n",
       "              0.0,\n",
       "              0.0\n",
       "            ],\n",
       "            [\n",
       "              0.0,\n",
       "              0.0\n",
       "            ],\n",
       "            [\n",
       "              1391616.0,\n",
       "              1391616.0\n",
       "            ]\n",
       "          ]\n",
       "        },\n",
       "        \"allow_relative_error\": false\n",
       "      },\n",
       "      \"meta\": {\n",
       "        \"profiler_details\": {\n",
       "          \"metric_configuration\": {\n",
       "            \"metric_name\": \"column.quantile_values\",\n",
       "            \"domain_kwargs\": {\n",
       "              \"column\": \"metrics_storage_input_tables_bytes_sum\"\n",
       "            },\n",
       "            \"metric_value_kwargs\": {\n",
       "              \"quantiles\": [\n",
       "                0.25,\n",
       "                0.5,\n",
       "                0.75\n",
       "              ],\n",
       "              \"allow_relative_error\": false\n",
       "            }\n",
       "          },\n",
       "          \"num_batches\": 1\n",
       "        }\n",
       "      }\n",
       "    },\n",
       "    {\n",
       "      \"expectation_type\": \"expect_column_median_to_be_between\",\n",
       "      \"kwargs\": {\n",
       "        \"column\": \"metrics_storage_input_tables_bytes_sum\",\n",
       "        \"max_value\": 0.0,\n",
       "        \"strict_max\": false,\n",
       "        \"min_value\": 0.0,\n",
       "        \"strict_min\": false\n",
       "      },\n",
       "      \"meta\": {\n",
       "        \"profiler_details\": {\n",
       "          \"metric_configuration\": {\n",
       "            \"metric_name\": \"column.median\",\n",
       "            \"domain_kwargs\": {\n",
       "              \"column\": \"metrics_storage_input_tables_bytes_sum\"\n",
       "            },\n",
       "            \"metric_value_kwargs\": null\n",
       "          },\n",
       "          \"num_batches\": 1\n",
       "        }\n",
       "      }\n",
       "    },\n",
       "    {\n",
       "      \"expectation_type\": \"expect_column_mean_to_be_between\",\n",
       "      \"kwargs\": {\n",
       "        \"column\": \"metrics_storage_input_tables_bytes_sum\",\n",
       "        \"max_value\": 1143079.3574607212,\n",
       "        \"strict_max\": false,\n",
       "        \"min_value\": 1143079.3574607212,\n",
       "        \"strict_min\": false\n",
       "      },\n",
       "      \"meta\": {\n",
       "        \"profiler_details\": {\n",
       "          \"metric_configuration\": {\n",
       "            \"metric_name\": \"column.mean\",\n",
       "            \"domain_kwargs\": {\n",
       "              \"column\": \"metrics_storage_input_tables_bytes_sum\"\n",
       "            },\n",
       "            \"metric_value_kwargs\": null\n",
       "          },\n",
       "          \"num_batches\": 1\n",
       "        }\n",
       "      }\n",
       "    },\n",
       "    {\n",
       "      \"expectation_type\": \"expect_column_stdev_to_be_between\",\n",
       "      \"kwargs\": {\n",
       "        \"column\": \"metrics_storage_input_tables_bytes_sum\",\n",
       "        \"max_value\": 2624777.1810112298,\n",
       "        \"strict_max\": false,\n",
       "        \"min_value\": 2624777.1810112298,\n",
       "        \"strict_min\": false\n",
       "      },\n",
       "      \"meta\": {\n",
       "        \"profiler_details\": {\n",
       "          \"metric_configuration\": {\n",
       "            \"metric_name\": \"column.standard_deviation\",\n",
       "            \"domain_kwargs\": {\n",
       "              \"column\": \"metrics_storage_input_tables_bytes_sum\"\n",
       "            },\n",
       "            \"metric_value_kwargs\": null\n",
       "          },\n",
       "          \"num_batches\": 1\n",
       "        }\n",
       "      }\n",
       "    },\n",
       "    {\n",
       "      \"expectation_type\": \"expect_column_min_to_be_between\",\n",
       "      \"kwargs\": {\n",
       "        \"column\": \"metrics_storage_output_tables_bytes_sum\",\n",
       "        \"max_value\": 0.0,\n",
       "        \"strict_max\": false,\n",
       "        \"min_value\": 0.0,\n",
       "        \"strict_min\": false\n",
       "      },\n",
       "      \"meta\": {\n",
       "        \"profiler_details\": {\n",
       "          \"metric_configuration\": {\n",
       "            \"metric_name\": \"column.min\",\n",
       "            \"domain_kwargs\": {\n",
       "              \"column\": \"metrics_storage_output_tables_bytes_sum\"\n",
       "            },\n",
       "            \"metric_value_kwargs\": null\n",
       "          },\n",
       "          \"num_batches\": 1\n",
       "        }\n",
       "      }\n",
       "    },\n",
       "    {\n",
       "      \"expectation_type\": \"expect_column_max_to_be_between\",\n",
       "      \"kwargs\": {\n",
       "        \"column\": \"metrics_storage_output_tables_bytes_sum\",\n",
       "        \"max_value\": 10778112.0,\n",
       "        \"strict_max\": false,\n",
       "        \"min_value\": 10778112.0,\n",
       "        \"strict_min\": false\n",
       "      },\n",
       "      \"meta\": {\n",
       "        \"profiler_details\": {\n",
       "          \"metric_configuration\": {\n",
       "            \"metric_name\": \"column.max\",\n",
       "            \"domain_kwargs\": {\n",
       "              \"column\": \"metrics_storage_output_tables_bytes_sum\"\n",
       "            },\n",
       "            \"metric_value_kwargs\": null\n",
       "          },\n",
       "          \"num_batches\": 1\n",
       "        }\n",
       "      }\n",
       "    },\n",
       "    {\n",
       "      \"expectation_type\": \"expect_column_values_to_be_between\",\n",
       "      \"kwargs\": {\n",
       "        \"column\": \"metrics_storage_output_tables_bytes_sum\",\n",
       "        \"max_value\": 10778112.0,\n",
       "        \"mostly\": 1.0,\n",
       "        \"strict_max\": false,\n",
       "        \"min_value\": 0.0,\n",
       "        \"strict_min\": false\n",
       "      },\n",
       "      \"meta\": {\n",
       "        \"profiler_details\": {\n",
       "          \"column_min_values_range_estimator\": {\n",
       "            \"metric_configuration\": {\n",
       "              \"metric_name\": \"column.min\",\n",
       "              \"domain_kwargs\": {\n",
       "                \"column\": \"metrics_storage_output_tables_bytes_sum\"\n",
       "              },\n",
       "              \"metric_value_kwargs\": null\n",
       "            },\n",
       "            \"num_batches\": 1\n",
       "          },\n",
       "          \"column_max_values_range_estimator\": {\n",
       "            \"metric_configuration\": {\n",
       "              \"metric_name\": \"column.max\",\n",
       "              \"domain_kwargs\": {\n",
       "                \"column\": \"metrics_storage_output_tables_bytes_sum\"\n",
       "              },\n",
       "              \"metric_value_kwargs\": null\n",
       "            },\n",
       "            \"num_batches\": 1\n",
       "          }\n",
       "        }\n",
       "      }\n",
       "    },\n",
       "    {\n",
       "      \"expectation_type\": \"expect_column_quantile_values_to_be_between\",\n",
       "      \"kwargs\": {\n",
       "        \"column\": \"metrics_storage_output_tables_bytes_sum\",\n",
       "        \"quantile_ranges\": {\n",
       "          \"quantiles\": [\n",
       "            0.25,\n",
       "            0.5,\n",
       "            0.75\n",
       "          ],\n",
       "          \"value_ranges\": [\n",
       "            [\n",
       "              0.0,\n",
       "              0.0\n",
       "            ],\n",
       "            [\n",
       "              674.0,\n",
       "              674.0\n",
       "            ],\n",
       "            [\n",
       "              13824.0,\n",
       "              13824.0\n",
       "            ]\n",
       "          ]\n",
       "        },\n",
       "        \"allow_relative_error\": false\n",
       "      },\n",
       "      \"meta\": {\n",
       "        \"profiler_details\": {\n",
       "          \"metric_configuration\": {\n",
       "            \"metric_name\": \"column.quantile_values\",\n",
       "            \"domain_kwargs\": {\n",
       "              \"column\": \"metrics_storage_output_tables_bytes_sum\"\n",
       "            },\n",
       "            \"metric_value_kwargs\": {\n",
       "              \"quantiles\": [\n",
       "                0.25,\n",
       "                0.5,\n",
       "                0.75\n",
       "              ],\n",
       "              \"allow_relative_error\": false\n",
       "            }\n",
       "          },\n",
       "          \"num_batches\": 1\n",
       "        }\n",
       "      }\n",
       "    },\n",
       "    {\n",
       "      \"expectation_type\": \"expect_column_median_to_be_between\",\n",
       "      \"kwargs\": {\n",
       "        \"column\": \"metrics_storage_output_tables_bytes_sum\",\n",
       "        \"max_value\": 674.0,\n",
       "        \"strict_max\": false,\n",
       "        \"min_value\": 674.0,\n",
       "        \"strict_min\": false\n",
       "      },\n",
       "      \"meta\": {\n",
       "        \"profiler_details\": {\n",
       "          \"metric_configuration\": {\n",
       "            \"metric_name\": \"column.median\",\n",
       "            \"domain_kwargs\": {\n",
       "              \"column\": \"metrics_storage_output_tables_bytes_sum\"\n",
       "            },\n",
       "            \"metric_value_kwargs\": null\n",
       "          },\n",
       "          \"num_batches\": 1\n",
       "        }\n",
       "      }\n",
       "    },\n",
       "    {\n",
       "      \"expectation_type\": \"expect_column_mean_to_be_between\",\n",
       "      \"kwargs\": {\n",
       "        \"column\": \"metrics_storage_output_tables_bytes_sum\",\n",
       "        \"max_value\": 289376.6041231496,\n",
       "        \"strict_max\": false,\n",
       "        \"min_value\": 289376.6041231496,\n",
       "        \"strict_min\": false\n",
       "      },\n",
       "      \"meta\": {\n",
       "        \"profiler_details\": {\n",
       "          \"metric_configuration\": {\n",
       "            \"metric_name\": \"column.mean\",\n",
       "            \"domain_kwargs\": {\n",
       "              \"column\": \"metrics_storage_output_tables_bytes_sum\"\n",
       "            },\n",
       "            \"metric_value_kwargs\": null\n",
       "          },\n",
       "          \"num_batches\": 1\n",
       "        }\n",
       "      }\n",
       "    },\n",
       "    {\n",
       "      \"expectation_type\": \"expect_column_stdev_to_be_between\",\n",
       "      \"kwargs\": {\n",
       "        \"column\": \"metrics_storage_output_tables_bytes_sum\",\n",
       "        \"max_value\": 1384703.0857111993,\n",
       "        \"strict_max\": false,\n",
       "        \"min_value\": 1384703.0857111993,\n",
       "        \"strict_min\": false\n",
       "      },\n",
       "      \"meta\": {\n",
       "        \"profiler_details\": {\n",
       "          \"metric_configuration\": {\n",
       "            \"metric_name\": \"column.standard_deviation\",\n",
       "            \"domain_kwargs\": {\n",
       "              \"column\": \"metrics_storage_output_tables_bytes_sum\"\n",
       "            },\n",
       "            \"metric_value_kwargs\": null\n",
       "          },\n",
       "          \"num_batches\": 1\n",
       "        }\n",
       "      }\n",
       "    },\n",
       "    {\n",
       "      \"expectation_type\": \"expect_column_min_to_be_between\",\n",
       "      \"kwargs\": {\n",
       "        \"column\": \"result_config_version\",\n",
       "        \"max_value\": 1.0,\n",
       "        \"strict_max\": false,\n",
       "        \"min_value\": 1.0,\n",
       "        \"strict_min\": false\n",
       "      },\n",
       "      \"meta\": {\n",
       "        \"profiler_details\": {\n",
       "          \"metric_configuration\": {\n",
       "            \"metric_name\": \"column.min\",\n",
       "            \"domain_kwargs\": {\n",
       "              \"column\": \"result_config_version\"\n",
       "            },\n",
       "            \"metric_value_kwargs\": null\n",
       "          },\n",
       "          \"num_batches\": 1\n",
       "        }\n",
       "      }\n",
       "    },\n",
       "    {\n",
       "      \"expectation_type\": \"expect_column_max_to_be_between\",\n",
       "      \"kwargs\": {\n",
       "        \"column\": \"result_config_version\",\n",
       "        \"max_value\": 100.0,\n",
       "        \"strict_max\": false,\n",
       "        \"min_value\": 100.0,\n",
       "        \"strict_min\": false\n",
       "      },\n",
       "      \"meta\": {\n",
       "        \"profiler_details\": {\n",
       "          \"metric_configuration\": {\n",
       "            \"metric_name\": \"column.max\",\n",
       "            \"domain_kwargs\": {\n",
       "              \"column\": \"result_config_version\"\n",
       "            },\n",
       "            \"metric_value_kwargs\": null\n",
       "          },\n",
       "          \"num_batches\": 1\n",
       "        }\n",
       "      }\n",
       "    },\n",
       "    {\n",
       "      \"expectation_type\": \"expect_column_values_to_be_between\",\n",
       "      \"kwargs\": {\n",
       "        \"column\": \"result_config_version\",\n",
       "        \"max_value\": 100.0,\n",
       "        \"mostly\": 1.0,\n",
       "        \"strict_max\": false,\n",
       "        \"min_value\": 1.0,\n",
       "        \"strict_min\": false\n",
       "      },\n",
       "      \"meta\": {\n",
       "        \"profiler_details\": {\n",
       "          \"column_min_values_range_estimator\": {\n",
       "            \"metric_configuration\": {\n",
       "              \"metric_name\": \"column.min\",\n",
       "              \"domain_kwargs\": {\n",
       "                \"column\": \"result_config_version\"\n",
       "              },\n",
       "              \"metric_value_kwargs\": null\n",
       "            },\n",
       "            \"num_batches\": 1\n",
       "          },\n",
       "          \"column_max_values_range_estimator\": {\n",
       "            \"metric_configuration\": {\n",
       "              \"metric_name\": \"column.max\",\n",
       "              \"domain_kwargs\": {\n",
       "                \"column\": \"result_config_version\"\n",
       "              },\n",
       "              \"metric_value_kwargs\": null\n",
       "            },\n",
       "            \"num_batches\": 1\n",
       "          }\n",
       "        }\n",
       "      }\n",
       "    },\n",
       "    {\n",
       "      \"expectation_type\": \"expect_column_quantile_values_to_be_between\",\n",
       "      \"kwargs\": {\n",
       "        \"column\": \"result_config_version\",\n",
       "        \"quantile_ranges\": {\n",
       "          \"quantiles\": [\n",
       "            0.25,\n",
       "            0.5,\n",
       "            0.75\n",
       "          ],\n",
       "          \"value_ranges\": [\n",
       "            [\n",
       "              4.0,\n",
       "              4.0\n",
       "            ],\n",
       "            [\n",
       "              8.0,\n",
       "              8.0\n",
       "            ],\n",
       "            [\n",
       "              15.0,\n",
       "              15.0\n",
       "            ]\n",
       "          ]\n",
       "        },\n",
       "        \"allow_relative_error\": false\n",
       "      },\n",
       "      \"meta\": {\n",
       "        \"profiler_details\": {\n",
       "          \"metric_configuration\": {\n",
       "            \"metric_name\": \"column.quantile_values\",\n",
       "            \"domain_kwargs\": {\n",
       "              \"column\": \"result_config_version\"\n",
       "            },\n",
       "            \"metric_value_kwargs\": {\n",
       "              \"quantiles\": [\n",
       "                0.25,\n",
       "                0.5,\n",
       "                0.75\n",
       "              ],\n",
       "              \"allow_relative_error\": false\n",
       "            }\n",
       "          },\n",
       "          \"num_batches\": 1\n",
       "        }\n",
       "      }\n",
       "    },\n",
       "    {\n",
       "      \"expectation_type\": \"expect_column_median_to_be_between\",\n",
       "      \"kwargs\": {\n",
       "        \"column\": \"result_config_version\",\n",
       "        \"max_value\": 8.0,\n",
       "        \"strict_max\": false,\n",
       "        \"min_value\": 8.0,\n",
       "        \"strict_min\": false\n",
       "      },\n",
       "      \"meta\": {\n",
       "        \"profiler_details\": {\n",
       "          \"metric_configuration\": {\n",
       "            \"metric_name\": \"column.median\",\n",
       "            \"domain_kwargs\": {\n",
       "              \"column\": \"result_config_version\"\n",
       "            },\n",
       "            \"metric_value_kwargs\": null\n",
       "          },\n",
       "          \"num_batches\": 1\n",
       "        }\n",
       "      }\n",
       "    },\n",
       "    {\n",
       "      \"expectation_type\": \"expect_column_mean_to_be_between\",\n",
       "      \"kwargs\": {\n",
       "        \"column\": \"result_config_version\",\n",
       "        \"max_value\": 11.375204955365277,\n",
       "        \"strict_max\": false,\n",
       "        \"min_value\": 11.375204955365277,\n",
       "        \"strict_min\": false\n",
       "      },\n",
       "      \"meta\": {\n",
       "        \"profiler_details\": {\n",
       "          \"metric_configuration\": {\n",
       "            \"metric_name\": \"column.mean\",\n",
       "            \"domain_kwargs\": {\n",
       "              \"column\": \"result_config_version\"\n",
       "            },\n",
       "            \"metric_value_kwargs\": null\n",
       "          },\n",
       "          \"num_batches\": 1\n",
       "        }\n",
       "      }\n",
       "    },\n",
       "    {\n",
       "      \"expectation_type\": \"expect_column_stdev_to_be_between\",\n",
       "      \"kwargs\": {\n",
       "        \"column\": \"result_config_version\",\n",
       "        \"max_value\": 10.32662151194855,\n",
       "        \"strict_max\": false,\n",
       "        \"min_value\": 10.32662151194855,\n",
       "        \"strict_min\": false\n",
       "      },\n",
       "      \"meta\": {\n",
       "        \"profiler_details\": {\n",
       "          \"metric_configuration\": {\n",
       "            \"metric_name\": \"column.standard_deviation\",\n",
       "            \"domain_kwargs\": {\n",
       "              \"column\": \"result_config_version\"\n",
       "            },\n",
       "            \"metric_value_kwargs\": null\n",
       "          },\n",
       "          \"num_batches\": 1\n",
       "        }\n",
       "      }\n",
       "    },\n",
       "    {\n",
       "      \"expectation_type\": \"expect_column_value_lengths_to_be_between\",\n",
       "      \"kwargs\": {\n",
       "        \"column\": \"token_description\",\n",
       "        \"max_value\": 44,\n",
       "        \"mostly\": 1.0,\n",
       "        \"strict_max\": false,\n",
       "        \"min_value\": 16,\n",
       "        \"strict_min\": false\n",
       "      },\n",
       "      \"meta\": {\n",
       "        \"profiler_details\": {\n",
       "          \"column_min_length_range_estimator\": {\n",
       "            \"metric_configuration\": {\n",
       "              \"metric_name\": \"column_values.length.min\",\n",
       "              \"domain_kwargs\": {\n",
       "                \"column\": \"token_description\"\n",
       "              },\n",
       "              \"metric_value_kwargs\": null\n",
       "            },\n",
       "            \"num_batches\": 1\n",
       "          },\n",
       "          \"column_max_length_range_estimator\": {\n",
       "            \"metric_configuration\": {\n",
       "              \"metric_name\": \"column_values.length.max\",\n",
       "              \"domain_kwargs\": {\n",
       "                \"column\": \"token_description\"\n",
       "              },\n",
       "              \"metric_value_kwargs\": null\n",
       "            },\n",
       "            \"num_batches\": 1\n",
       "          }\n",
       "        }\n",
       "      }\n",
       "    },\n",
       "    {\n",
       "      \"expectation_type\": \"expect_column_values_to_match_regex\",\n",
       "      \"kwargs\": {\n",
       "        \"column\": \"token_description\",\n",
       "        \"mostly\": 1.0,\n",
       "        \"regex\": \"[A-Za-z0-9\\\\.,;:!?()\\\\\\\"'%\\\\-]+\"\n",
       "      },\n",
       "      \"meta\": {\n",
       "        \"profiler_details\": {\n",
       "          \"success_ratio\": 1.0,\n",
       "          \"evaluated_regexes\": {\n",
       "            \"[A-Za-z0-9\\\\.,;:!?()\\\\\\\"'%\\\\-]+\": 1.0,\n",
       "            \"-?\\\\d+\": 0.9944563388897385,\n",
       "            \"(?:25[0-5]|2[0-4]\\\\d|[01]\\\\d{2}|\\\\d{1,2})(?:.(?:25[0-5]|2[0-4]\\\\d|[01]\\\\d{2}|\\\\d{1,2})){3}\": 0.9944563388897385,\n",
       "            \"\\\\d+\": 0.9944563388897385,\n",
       "            \"-?\\\\d+(?:\\\\.\\\\d*)?\": 0.9944563388897385,\n",
       "            \"<\\\\/?(?:p|a|b|img)(?: \\\\/)?>\": 0.0,\n",
       "            \"\\\\b[0-9a-fA-F]{8}\\\\b-[0-9a-fA-F]{4}-[0-5][0-9a-fA-F]{3}-[089ab][0-9a-fA-F]{3}-\\\\b[0-9a-fA-F]{12}\\\\b \": 0.0,\n",
       "            \"https?:\\\\/\\\\/(?:www\\\\.)?[-a-zA-Z0-9@:%._\\\\+~#=]{2,255}\\\\.[a-z]{2,6}\\\\b(?:[-a-zA-Z0-9@:%_\\\\+.~#()?&//=]*)\": 0.0,\n",
       "            \"^\\\\s+\": 0.0,\n",
       "            \"\\\\s+$\": 0.0\n",
       "          }\n",
       "        }\n",
       "      }\n",
       "    },\n",
       "    {\n",
       "      \"expectation_type\": \"expect_column_value_lengths_to_be_between\",\n",
       "      \"kwargs\": {\n",
       "        \"column\": \"status\",\n",
       "        \"max_value\": 10,\n",
       "        \"mostly\": 1.0,\n",
       "        \"strict_max\": false,\n",
       "        \"min_value\": 5,\n",
       "        \"strict_min\": false\n",
       "      },\n",
       "      \"meta\": {\n",
       "        \"profiler_details\": {\n",
       "          \"column_min_length_range_estimator\": {\n",
       "            \"metric_configuration\": {\n",
       "              \"metric_name\": \"column_values.length.min\",\n",
       "              \"domain_kwargs\": {\n",
       "                \"column\": \"status\"\n",
       "              },\n",
       "              \"metric_value_kwargs\": null\n",
       "            },\n",
       "            \"num_batches\": 1\n",
       "          },\n",
       "          \"column_max_length_range_estimator\": {\n",
       "            \"metric_configuration\": {\n",
       "              \"metric_name\": \"column_values.length.max\",\n",
       "              \"domain_kwargs\": {\n",
       "                \"column\": \"status\"\n",
       "              },\n",
       "              \"metric_value_kwargs\": null\n",
       "            },\n",
       "            \"num_batches\": 1\n",
       "          }\n",
       "        }\n",
       "      }\n",
       "    },\n",
       "    {\n",
       "      \"expectation_type\": \"expect_column_values_to_match_regex\",\n",
       "      \"kwargs\": {\n",
       "        \"column\": \"status\",\n",
       "        \"mostly\": 1.0,\n",
       "        \"regex\": \"[A-Za-z0-9\\\\.,;:!?()\\\\\\\"'%\\\\-]+\"\n",
       "      },\n",
       "      \"meta\": {\n",
       "        \"profiler_details\": {\n",
       "          \"success_ratio\": 1.0,\n",
       "          \"evaluated_regexes\": {\n",
       "            \"[A-Za-z0-9\\\\.,;:!?()\\\\\\\"'%\\\\-]+\": 1.0,\n",
       "            \"<\\\\/?(?:p|a|b|img)(?: \\\\/)?>\": 0.0,\n",
       "            \"\\\\b[0-9a-fA-F]{8}\\\\b-[0-9a-fA-F]{4}-[0-5][0-9a-fA-F]{3}-[089ab][0-9a-fA-F]{3}-\\\\b[0-9a-fA-F]{12}\\\\b \": 0.0,\n",
       "            \"https?:\\\\/\\\\/(?:www\\\\.)?[-a-zA-Z0-9@:%._\\\\+~#=]{2,255}\\\\.[a-z]{2,6}\\\\b(?:[-a-zA-Z0-9@:%_\\\\+.~#()?&//=]*)\": 0.0,\n",
       "            \"^\\\\s+\": 0.0,\n",
       "            \"-?\\\\d+\": 0.0,\n",
       "            \"(?:25[0-5]|2[0-4]\\\\d|[01]\\\\d{2}|\\\\d{1,2})(?:.(?:25[0-5]|2[0-4]\\\\d|[01]\\\\d{2}|\\\\d{1,2})){3}\": 0.0,\n",
       "            \"\\\\d+\": 0.0,\n",
       "            \"\\\\s+$\": 0.0,\n",
       "            \"-?\\\\d+(?:\\\\.\\\\d*)?\": 0.0\n",
       "          }\n",
       "        }\n",
       "      }\n",
       "    },\n",
       "    {\n",
       "      \"expectation_type\": \"expect_column_value_lengths_to_be_between\",\n",
       "      \"kwargs\": {\n",
       "        \"column\": \"desired_status\",\n",
       "        \"max_value\": 11,\n",
       "        \"mostly\": 1.0,\n",
       "        \"strict_max\": false,\n",
       "        \"min_value\": 10,\n",
       "        \"strict_min\": false\n",
       "      },\n",
       "      \"meta\": {\n",
       "        \"profiler_details\": {\n",
       "          \"column_min_length_range_estimator\": {\n",
       "            \"metric_configuration\": {\n",
       "              \"metric_name\": \"column_values.length.min\",\n",
       "              \"domain_kwargs\": {\n",
       "                \"column\": \"desired_status\"\n",
       "              },\n",
       "              \"metric_value_kwargs\": null\n",
       "            },\n",
       "            \"num_batches\": 1\n",
       "          },\n",
       "          \"column_max_length_range_estimator\": {\n",
       "            \"metric_configuration\": {\n",
       "              \"metric_name\": \"column_values.length.max\",\n",
       "              \"domain_kwargs\": {\n",
       "                \"column\": \"desired_status\"\n",
       "              },\n",
       "              \"metric_value_kwargs\": null\n",
       "            },\n",
       "            \"num_batches\": 1\n",
       "          }\n",
       "        }\n",
       "      }\n",
       "    },\n",
       "    {\n",
       "      \"expectation_type\": \"expect_column_values_to_match_regex\",\n",
       "      \"kwargs\": {\n",
       "        \"column\": \"desired_status\",\n",
       "        \"mostly\": 1.0,\n",
       "        \"regex\": \"[A-Za-z0-9\\\\.,;:!?()\\\\\\\"'%\\\\-]+\"\n",
       "      },\n",
       "      \"meta\": {\n",
       "        \"profiler_details\": {\n",
       "          \"success_ratio\": 1.0,\n",
       "          \"evaluated_regexes\": {\n",
       "            \"[A-Za-z0-9\\\\.,;:!?()\\\\\\\"'%\\\\-]+\": 1.0,\n",
       "            \"<\\\\/?(?:p|a|b|img)(?: \\\\/)?>\": 0.0,\n",
       "            \"\\\\b[0-9a-fA-F]{8}\\\\b-[0-9a-fA-F]{4}-[0-5][0-9a-fA-F]{3}-[089ab][0-9a-fA-F]{3}-\\\\b[0-9a-fA-F]{12}\\\\b \": 0.0,\n",
       "            \"https?:\\\\/\\\\/(?:www\\\\.)?[-a-zA-Z0-9@:%._\\\\+~#=]{2,255}\\\\.[a-z]{2,6}\\\\b(?:[-a-zA-Z0-9@:%_\\\\+.~#()?&//=]*)\": 0.0,\n",
       "            \"^\\\\s+\": 0.0,\n",
       "            \"-?\\\\d+\": 0.0,\n",
       "            \"(?:25[0-5]|2[0-4]\\\\d|[01]\\\\d{2}|\\\\d{1,2})(?:.(?:25[0-5]|2[0-4]\\\\d|[01]\\\\d{2}|\\\\d{1,2})){3}\": 0.0,\n",
       "            \"\\\\d+\": 0.0,\n",
       "            \"\\\\s+$\": 0.0,\n",
       "            \"-?\\\\d+(?:\\\\.\\\\d*)?\": 0.0\n",
       "          }\n",
       "        }\n",
       "      }\n",
       "    },\n",
       "    {\n",
       "      \"expectation_type\": \"expect_column_value_lengths_to_be_between\",\n",
       "      \"kwargs\": {\n",
       "        \"column\": \"mode\",\n",
       "        \"max_value\": 3,\n",
       "        \"mostly\": 1.0,\n",
       "        \"strict_max\": false,\n",
       "        \"min_value\": 3,\n",
       "        \"strict_min\": false\n",
       "      },\n",
       "      \"meta\": {\n",
       "        \"profiler_details\": {\n",
       "          \"column_min_length_range_estimator\": {\n",
       "            \"metric_configuration\": {\n",
       "              \"metric_name\": \"column_values.length.min\",\n",
       "              \"domain_kwargs\": {\n",
       "                \"column\": \"mode\"\n",
       "              },\n",
       "              \"metric_value_kwargs\": null\n",
       "            },\n",
       "            \"num_batches\": 1\n",
       "          },\n",
       "          \"column_max_length_range_estimator\": {\n",
       "            \"metric_configuration\": {\n",
       "              \"metric_name\": \"column_values.length.max\",\n",
       "              \"domain_kwargs\": {\n",
       "                \"column\": \"mode\"\n",
       "              },\n",
       "              \"metric_value_kwargs\": null\n",
       "            },\n",
       "            \"num_batches\": 1\n",
       "          }\n",
       "        }\n",
       "      }\n",
       "    },\n",
       "    {\n",
       "      \"expectation_type\": \"expect_column_values_to_match_regex\",\n",
       "      \"kwargs\": {\n",
       "        \"column\": \"mode\",\n",
       "        \"mostly\": 1.0,\n",
       "        \"regex\": \"[A-Za-z0-9\\\\.,;:!?()\\\\\\\"'%\\\\-]+\"\n",
       "      },\n",
       "      \"meta\": {\n",
       "        \"profiler_details\": {\n",
       "          \"success_ratio\": 1.0,\n",
       "          \"evaluated_regexes\": {\n",
       "            \"[A-Za-z0-9\\\\.,;:!?()\\\\\\\"'%\\\\-]+\": 1.0,\n",
       "            \"<\\\\/?(?:p|a|b|img)(?: \\\\/)?>\": 0.0,\n",
       "            \"\\\\b[0-9a-fA-F]{8}\\\\b-[0-9a-fA-F]{4}-[0-5][0-9a-fA-F]{3}-[089ab][0-9a-fA-F]{3}-\\\\b[0-9a-fA-F]{12}\\\\b \": 0.0,\n",
       "            \"https?:\\\\/\\\\/(?:www\\\\.)?[-a-zA-Z0-9@:%._\\\\+~#=]{2,255}\\\\.[a-z]{2,6}\\\\b(?:[-a-zA-Z0-9@:%_\\\\+.~#()?&//=]*)\": 0.0,\n",
       "            \"^\\\\s+\": 0.0,\n",
       "            \"-?\\\\d+\": 0.0,\n",
       "            \"(?:25[0-5]|2[0-4]\\\\d|[01]\\\\d{2}|\\\\d{1,2})(?:.(?:25[0-5]|2[0-4]\\\\d|[01]\\\\d{2}|\\\\d{1,2})){3}\": 0.0,\n",
       "            \"\\\\d+\": 0.0,\n",
       "            \"\\\\s+$\": 0.0,\n",
       "            \"-?\\\\d+(?:\\\\.\\\\d*)?\": 0.0\n",
       "          }\n",
       "        }\n",
       "      }\n",
       "    },\n",
       "    {\n",
       "      \"expectation_type\": \"expect_column_value_lengths_to_be_between\",\n",
       "      \"kwargs\": {\n",
       "        \"column\": \"component\",\n",
       "        \"max_value\": 35,\n",
       "        \"mostly\": 1.0,\n",
       "        \"strict_max\": false,\n",
       "        \"min_value\": 13,\n",
       "        \"strict_min\": false\n",
       "      },\n",
       "      \"meta\": {\n",
       "        \"profiler_details\": {\n",
       "          \"column_min_length_range_estimator\": {\n",
       "            \"metric_configuration\": {\n",
       "              \"metric_name\": \"column_values.length.min\",\n",
       "              \"domain_kwargs\": {\n",
       "                \"column\": \"component\"\n",
       "              },\n",
       "              \"metric_value_kwargs\": null\n",
       "            },\n",
       "            \"num_batches\": 1\n",
       "          },\n",
       "          \"column_max_length_range_estimator\": {\n",
       "            \"metric_configuration\": {\n",
       "              \"metric_name\": \"column_values.length.max\",\n",
       "              \"domain_kwargs\": {\n",
       "                \"column\": \"component\"\n",
       "              },\n",
       "              \"metric_value_kwargs\": null\n",
       "            },\n",
       "            \"num_batches\": 1\n",
       "          }\n",
       "        }\n",
       "      }\n",
       "    },\n",
       "    {\n",
       "      \"expectation_type\": \"expect_column_values_to_match_regex\",\n",
       "      \"kwargs\": {\n",
       "        \"column\": \"component\",\n",
       "        \"mostly\": 1.0,\n",
       "        \"regex\": \"[A-Za-z0-9\\\\.,;:!?()\\\\\\\"'%\\\\-]+\"\n",
       "      },\n",
       "      \"meta\": {\n",
       "        \"profiler_details\": {\n",
       "          \"success_ratio\": 1.0,\n",
       "          \"evaluated_regexes\": {\n",
       "            \"[A-Za-z0-9\\\\.,;:!?()\\\\\\\"'%\\\\-]+\": 1.0,\n",
       "            \"-?\\\\d+\": 0.030394555742468268,\n",
       "            \"\\\\d+\": 0.030394555742468268,\n",
       "            \"-?\\\\d+(?:\\\\.\\\\d*)?\": 0.030394555742468268,\n",
       "            \"<\\\\/?(?:p|a|b|img)(?: \\\\/)?>\": 0.0,\n",
       "            \"\\\\b[0-9a-fA-F]{8}\\\\b-[0-9a-fA-F]{4}-[0-5][0-9a-fA-F]{3}-[089ab][0-9a-fA-F]{3}-\\\\b[0-9a-fA-F]{12}\\\\b \": 0.0,\n",
       "            \"https?:\\\\/\\\\/(?:www\\\\.)?[-a-zA-Z0-9@:%._\\\\+~#=]{2,255}\\\\.[a-z]{2,6}\\\\b(?:[-a-zA-Z0-9@:%_\\\\+.~#()?&//=]*)\": 0.0,\n",
       "            \"^\\\\s+\": 0.0,\n",
       "            \"(?:25[0-5]|2[0-4]\\\\d|[01]\\\\d{2}|\\\\d{1,2})(?:.(?:25[0-5]|2[0-4]\\\\d|[01]\\\\d{2}|\\\\d{1,2})){3}\": 0.0,\n",
       "            \"\\\\s+$\": 0.0\n",
       "          }\n",
       "        }\n",
       "      }\n",
       "    },\n",
       "    {\n",
       "      \"expectation_type\": \"expect_column_value_lengths_to_be_between\",\n",
       "      \"kwargs\": {\n",
       "        \"column\": \"config_data\",\n",
       "        \"max_value\": 1054,\n",
       "        \"mostly\": 1.0,\n",
       "        \"strict_max\": false,\n",
       "        \"min_value\": 2,\n",
       "        \"strict_min\": false\n",
       "      },\n",
       "      \"meta\": {\n",
       "        \"profiler_details\": {\n",
       "          \"column_min_length_range_estimator\": {\n",
       "            \"metric_configuration\": {\n",
       "              \"metric_name\": \"column_values.length.min\",\n",
       "              \"domain_kwargs\": {\n",
       "                \"column\": \"config_data\"\n",
       "              },\n",
       "              \"metric_value_kwargs\": null\n",
       "            },\n",
       "            \"num_batches\": 1\n",
       "          },\n",
       "          \"column_max_length_range_estimator\": {\n",
       "            \"metric_configuration\": {\n",
       "              \"metric_name\": \"column_values.length.max\",\n",
       "              \"domain_kwargs\": {\n",
       "                \"column\": \"config_data\"\n",
       "              },\n",
       "              \"metric_value_kwargs\": null\n",
       "            },\n",
       "            \"num_batches\": 1\n",
       "          }\n",
       "        }\n",
       "      }\n",
       "    },\n",
       "    {\n",
       "      \"expectation_type\": \"expect_column_value_lengths_to_be_between\",\n",
       "      \"kwargs\": {\n",
       "        \"column\": \"config_row_ids\",\n",
       "        \"max_value\": 12,\n",
       "        \"mostly\": 1.0,\n",
       "        \"strict_max\": false,\n",
       "        \"min_value\": 2,\n",
       "        \"strict_min\": false\n",
       "      },\n",
       "      \"meta\": {\n",
       "        \"profiler_details\": {\n",
       "          \"column_min_length_range_estimator\": {\n",
       "            \"metric_configuration\": {\n",
       "              \"metric_name\": \"column_values.length.min\",\n",
       "              \"domain_kwargs\": {\n",
       "                \"column\": \"config_row_ids\"\n",
       "              },\n",
       "              \"metric_value_kwargs\": null\n",
       "            },\n",
       "            \"num_batches\": 1\n",
       "          },\n",
       "          \"column_max_length_range_estimator\": {\n",
       "            \"metric_configuration\": {\n",
       "              \"metric_name\": \"column_values.length.max\",\n",
       "              \"domain_kwargs\": {\n",
       "                \"column\": \"config_row_ids\"\n",
       "              },\n",
       "              \"metric_value_kwargs\": null\n",
       "            },\n",
       "            \"num_batches\": 1\n",
       "          }\n",
       "        }\n",
       "      }\n",
       "    },\n",
       "    {\n",
       "      \"expectation_type\": \"expect_column_value_lengths_to_be_between\",\n",
       "      \"kwargs\": {\n",
       "        \"column\": \"tag\",\n",
       "        \"max_value\": 25,\n",
       "        \"mostly\": 1.0,\n",
       "        \"strict_max\": false,\n",
       "        \"min_value\": 5,\n",
       "        \"strict_min\": false\n",
       "      },\n",
       "      \"meta\": {\n",
       "        \"profiler_details\": {\n",
       "          \"column_min_length_range_estimator\": {\n",
       "            \"metric_configuration\": {\n",
       "              \"metric_name\": \"column_values.length.min\",\n",
       "              \"domain_kwargs\": {\n",
       "                \"column\": \"tag\"\n",
       "              },\n",
       "              \"metric_value_kwargs\": null\n",
       "            },\n",
       "            \"num_batches\": 1\n",
       "          },\n",
       "          \"column_max_length_range_estimator\": {\n",
       "            \"metric_configuration\": {\n",
       "              \"metric_name\": \"column_values.length.max\",\n",
       "              \"domain_kwargs\": {\n",
       "                \"column\": \"tag\"\n",
       "              },\n",
       "              \"metric_value_kwargs\": null\n",
       "            },\n",
       "            \"num_batches\": 1\n",
       "          }\n",
       "        }\n",
       "      }\n",
       "    },\n",
       "    {\n",
       "      \"expectation_type\": \"expect_column_values_to_match_regex\",\n",
       "      \"kwargs\": {\n",
       "        \"column\": \"tag\",\n",
       "        \"mostly\": 1.0,\n",
       "        \"regex\": \"[A-Za-z0-9\\\\.,;:!?()\\\\\\\"'%\\\\-]+\"\n",
       "      },\n",
       "      \"meta\": {\n",
       "        \"profiler_details\": {\n",
       "          \"success_ratio\": 1.0,\n",
       "          \"evaluated_regexes\": {\n",
       "            \"[A-Za-z0-9\\\\.,;:!?()\\\\\\\"'%\\\\-]+\": 1.0,\n",
       "            \"-?\\\\d+\": 0.42101238721517054,\n",
       "            \"\\\\d+\": 0.42101238721517054,\n",
       "            \"-?\\\\d+(?:\\\\.\\\\d*)?\": 0.42101238721517054,\n",
       "            \"(?:25[0-5]|2[0-4]\\\\d|[01]\\\\d{2}|\\\\d{1,2})(?:.(?:25[0-5]|2[0-4]\\\\d|[01]\\\\d{2}|\\\\d{1,2})){3}\": 0.03375898455421318,\n",
       "            \"<\\\\/?(?:p|a|b|img)(?: \\\\/)?>\": 0.0,\n",
       "            \"\\\\b[0-9a-fA-F]{8}\\\\b-[0-9a-fA-F]{4}-[0-5][0-9a-fA-F]{3}-[089ab][0-9a-fA-F]{3}-\\\\b[0-9a-fA-F]{12}\\\\b \": 0.0,\n",
       "            \"https?:\\\\/\\\\/(?:www\\\\.)?[-a-zA-Z0-9@:%._\\\\+~#=]{2,255}\\\\.[a-z]{2,6}\\\\b(?:[-a-zA-Z0-9@:%_\\\\+.~#()?&//=]*)\": 0.0,\n",
       "            \"^\\\\s+\": 0.0,\n",
       "            \"\\\\s+$\": 0.0\n",
       "          }\n",
       "        }\n",
       "      }\n",
       "    },\n",
       "    {\n",
       "      \"expectation_type\": \"expect_column_value_lengths_to_be_between\",\n",
       "      \"kwargs\": {\n",
       "        \"column\": \"created_time\",\n",
       "        \"max_value\": 25,\n",
       "        \"mostly\": 1.0,\n",
       "        \"strict_max\": false,\n",
       "        \"min_value\": 25,\n",
       "        \"strict_min\": false\n",
       "      },\n",
       "      \"meta\": {\n",
       "        \"profiler_details\": {\n",
       "          \"column_min_length_range_estimator\": {\n",
       "            \"metric_configuration\": {\n",
       "              \"metric_name\": \"column_values.length.min\",\n",
       "              \"domain_kwargs\": {\n",
       "                \"column\": \"created_time\"\n",
       "              },\n",
       "              \"metric_value_kwargs\": null\n",
       "            },\n",
       "            \"num_batches\": 1\n",
       "          },\n",
       "          \"column_max_length_range_estimator\": {\n",
       "            \"metric_configuration\": {\n",
       "              \"metric_name\": \"column_values.length.max\",\n",
       "              \"domain_kwargs\": {\n",
       "                \"column\": \"created_time\"\n",
       "              },\n",
       "              \"metric_value_kwargs\": null\n",
       "            },\n",
       "            \"num_batches\": 1\n",
       "          }\n",
       "        }\n",
       "      }\n",
       "    },\n",
       "    {\n",
       "      \"expectation_type\": \"expect_column_values_to_match_regex\",\n",
       "      \"kwargs\": {\n",
       "        \"column\": \"created_time\",\n",
       "        \"mostly\": 1.0,\n",
       "        \"regex\": \"-?\\\\d+\"\n",
       "      },\n",
       "      \"meta\": {\n",
       "        \"profiler_details\": {\n",
       "          \"success_ratio\": 1.0,\n",
       "          \"evaluated_regexes\": {\n",
       "            \"-?\\\\d+\": 1.0,\n",
       "            \"[A-Za-z0-9\\\\.,;:!?()\\\\\\\"'%\\\\-]+\": 1.0,\n",
       "            \"(?:25[0-5]|2[0-4]\\\\d|[01]\\\\d{2}|\\\\d{1,2})(?:.(?:25[0-5]|2[0-4]\\\\d|[01]\\\\d{2}|\\\\d{1,2})){3}\": 1.0,\n",
       "            \"\\\\d+\": 1.0,\n",
       "            \"-?\\\\d+(?:\\\\.\\\\d*)?\": 1.0,\n",
       "            \"<\\\\/?(?:p|a|b|img)(?: \\\\/)?>\": 0.0,\n",
       "            \"\\\\b[0-9a-fA-F]{8}\\\\b-[0-9a-fA-F]{4}-[0-5][0-9a-fA-F]{3}-[089ab][0-9a-fA-F]{3}-\\\\b[0-9a-fA-F]{12}\\\\b \": 0.0,\n",
       "            \"https?:\\\\/\\\\/(?:www\\\\.)?[-a-zA-Z0-9@:%._\\\\+~#=]{2,255}\\\\.[a-z]{2,6}\\\\b(?:[-a-zA-Z0-9@:%_\\\\+.~#()?&//=]*)\": 0.0,\n",
       "            \"^\\\\s+\": 0.0,\n",
       "            \"\\\\s+$\": 0.0\n",
       "          }\n",
       "        }\n",
       "      }\n",
       "    },\n",
       "    {\n",
       "      \"expectation_type\": \"expect_column_value_lengths_to_be_between\",\n",
       "      \"kwargs\": {\n",
       "        \"column\": \"start_time\",\n",
       "        \"max_value\": 25,\n",
       "        \"mostly\": 1.0,\n",
       "        \"strict_max\": false,\n",
       "        \"min_value\": 25,\n",
       "        \"strict_min\": false\n",
       "      },\n",
       "      \"meta\": {\n",
       "        \"profiler_details\": {\n",
       "          \"column_min_length_range_estimator\": {\n",
       "            \"metric_configuration\": {\n",
       "              \"metric_name\": \"column_values.length.min\",\n",
       "              \"domain_kwargs\": {\n",
       "                \"column\": \"start_time\"\n",
       "              },\n",
       "              \"metric_value_kwargs\": null\n",
       "            },\n",
       "            \"num_batches\": 1\n",
       "          },\n",
       "          \"column_max_length_range_estimator\": {\n",
       "            \"metric_configuration\": {\n",
       "              \"metric_name\": \"column_values.length.max\",\n",
       "              \"domain_kwargs\": {\n",
       "                \"column\": \"start_time\"\n",
       "              },\n",
       "              \"metric_value_kwargs\": null\n",
       "            },\n",
       "            \"num_batches\": 1\n",
       "          }\n",
       "        }\n",
       "      }\n",
       "    },\n",
       "    {\n",
       "      \"expectation_type\": \"expect_column_values_to_match_regex\",\n",
       "      \"kwargs\": {\n",
       "        \"column\": \"start_time\",\n",
       "        \"mostly\": 1.0,\n",
       "        \"regex\": \"-?\\\\d+\"\n",
       "      },\n",
       "      \"meta\": {\n",
       "        \"profiler_details\": {\n",
       "          \"success_ratio\": 1.0,\n",
       "          \"evaluated_regexes\": {\n",
       "            \"-?\\\\d+\": 1.0,\n",
       "            \"[A-Za-z0-9\\\\.,;:!?()\\\\\\\"'%\\\\-]+\": 1.0,\n",
       "            \"(?:25[0-5]|2[0-4]\\\\d|[01]\\\\d{2}|\\\\d{1,2})(?:.(?:25[0-5]|2[0-4]\\\\d|[01]\\\\d{2}|\\\\d{1,2})){3}\": 1.0,\n",
       "            \"\\\\d+\": 1.0,\n",
       "            \"-?\\\\d+(?:\\\\.\\\\d*)?\": 1.0,\n",
       "            \"<\\\\/?(?:p|a|b|img)(?: \\\\/)?>\": 0.0,\n",
       "            \"\\\\b[0-9a-fA-F]{8}\\\\b-[0-9a-fA-F]{4}-[0-5][0-9a-fA-F]{3}-[089ab][0-9a-fA-F]{3}-\\\\b[0-9a-fA-F]{12}\\\\b \": 0.0,\n",
       "            \"https?:\\\\/\\\\/(?:www\\\\.)?[-a-zA-Z0-9@:%._\\\\+~#=]{2,255}\\\\.[a-z]{2,6}\\\\b(?:[-a-zA-Z0-9@:%_\\\\+.~#()?&//=]*)\": 0.0,\n",
       "            \"^\\\\s+\": 0.0,\n",
       "            \"\\\\s+$\": 0.0\n",
       "          }\n",
       "        }\n",
       "      }\n",
       "    },\n",
       "    {\n",
       "      \"expectation_type\": \"expect_column_value_lengths_to_be_between\",\n",
       "      \"kwargs\": {\n",
       "        \"column\": \"end_time\",\n",
       "        \"max_value\": 25,\n",
       "        \"mostly\": 1.0,\n",
       "        \"strict_max\": false,\n",
       "        \"min_value\": 25,\n",
       "        \"strict_min\": false\n",
       "      },\n",
       "      \"meta\": {\n",
       "        \"profiler_details\": {\n",
       "          \"column_min_length_range_estimator\": {\n",
       "            \"metric_configuration\": {\n",
       "              \"metric_name\": \"column_values.length.min\",\n",
       "              \"domain_kwargs\": {\n",
       "                \"column\": \"end_time\"\n",
       "              },\n",
       "              \"metric_value_kwargs\": null\n",
       "            },\n",
       "            \"num_batches\": 1\n",
       "          },\n",
       "          \"column_max_length_range_estimator\": {\n",
       "            \"metric_configuration\": {\n",
       "              \"metric_name\": \"column_values.length.max\",\n",
       "              \"domain_kwargs\": {\n",
       "                \"column\": \"end_time\"\n",
       "              },\n",
       "              \"metric_value_kwargs\": null\n",
       "            },\n",
       "            \"num_batches\": 1\n",
       "          }\n",
       "        }\n",
       "      }\n",
       "    },\n",
       "    {\n",
       "      \"expectation_type\": \"expect_column_values_to_match_regex\",\n",
       "      \"kwargs\": {\n",
       "        \"column\": \"end_time\",\n",
       "        \"mostly\": 1.0,\n",
       "        \"regex\": \"-?\\\\d+\"\n",
       "      },\n",
       "      \"meta\": {\n",
       "        \"profiler_details\": {\n",
       "          \"success_ratio\": 1.0,\n",
       "          \"evaluated_regexes\": {\n",
       "            \"-?\\\\d+\": 1.0,\n",
       "            \"[A-Za-z0-9\\\\.,;:!?()\\\\\\\"'%\\\\-]+\": 1.0,\n",
       "            \"(?:25[0-5]|2[0-4]\\\\d|[01]\\\\d{2}|\\\\d{1,2})(?:.(?:25[0-5]|2[0-4]\\\\d|[01]\\\\d{2}|\\\\d{1,2})){3}\": 1.0,\n",
       "            \"\\\\d+\": 1.0,\n",
       "            \"-?\\\\d+(?:\\\\.\\\\d*)?\": 1.0,\n",
       "            \"<\\\\/?(?:p|a|b|img)(?: \\\\/)?>\": 0.0,\n",
       "            \"\\\\b[0-9a-fA-F]{8}\\\\b-[0-9a-fA-F]{4}-[0-5][0-9a-fA-F]{3}-[089ab][0-9a-fA-F]{3}-\\\\b[0-9a-fA-F]{12}\\\\b \": 0.0,\n",
       "            \"https?:\\\\/\\\\/(?:www\\\\.)?[-a-zA-Z0-9@:%._\\\\+~#=]{2,255}\\\\.[a-z]{2,6}\\\\b(?:[-a-zA-Z0-9@:%_\\\\+.~#()?&//=]*)\": 0.0,\n",
       "            \"^\\\\s+\": 0.0,\n",
       "            \"\\\\s+$\": 0.0\n",
       "          }\n",
       "        }\n",
       "      }\n",
       "    },\n",
       "    {\n",
       "      \"expectation_type\": \"expect_column_value_lengths_to_be_between\",\n",
       "      \"kwargs\": {\n",
       "        \"column\": \"usage_data\",\n",
       "        \"max_value\": 2,\n",
       "        \"mostly\": 1.0,\n",
       "        \"strict_max\": false,\n",
       "        \"min_value\": 2,\n",
       "        \"strict_min\": false\n",
       "      },\n",
       "      \"meta\": {\n",
       "        \"profiler_details\": {\n",
       "          \"column_min_length_range_estimator\": {\n",
       "            \"metric_configuration\": {\n",
       "              \"metric_name\": \"column_values.length.min\",\n",
       "              \"domain_kwargs\": {\n",
       "                \"column\": \"usage_data\"\n",
       "              },\n",
       "              \"metric_value_kwargs\": null\n",
       "            },\n",
       "            \"num_batches\": 1\n",
       "          },\n",
       "          \"column_max_length_range_estimator\": {\n",
       "            \"metric_configuration\": {\n",
       "              \"metric_name\": \"column_values.length.max\",\n",
       "              \"domain_kwargs\": {\n",
       "                \"column\": \"usage_data\"\n",
       "              },\n",
       "              \"metric_value_kwargs\": null\n",
       "            },\n",
       "            \"num_batches\": 1\n",
       "          }\n",
       "        }\n",
       "      }\n",
       "    },\n",
       "    {\n",
       "      \"expectation_type\": \"expect_column_value_lengths_to_be_between\",\n",
       "      \"kwargs\": {\n",
       "        \"column\": \"url\",\n",
       "        \"max_value\": 58,\n",
       "        \"mostly\": 1.0,\n",
       "        \"strict_max\": false,\n",
       "        \"min_value\": 58,\n",
       "        \"strict_min\": false\n",
       "      },\n",
       "      \"meta\": {\n",
       "        \"profiler_details\": {\n",
       "          \"column_min_length_range_estimator\": {\n",
       "            \"metric_configuration\": {\n",
       "              \"metric_name\": \"column_values.length.min\",\n",
       "              \"domain_kwargs\": {\n",
       "                \"column\": \"url\"\n",
       "              },\n",
       "              \"metric_value_kwargs\": null\n",
       "            },\n",
       "            \"num_batches\": 1\n",
       "          },\n",
       "          \"column_max_length_range_estimator\": {\n",
       "            \"metric_configuration\": {\n",
       "              \"metric_name\": \"column_values.length.max\",\n",
       "              \"domain_kwargs\": {\n",
       "                \"column\": \"url\"\n",
       "              },\n",
       "              \"metric_value_kwargs\": null\n",
       "            },\n",
       "            \"num_batches\": 1\n",
       "          }\n",
       "        }\n",
       "      }\n",
       "    },\n",
       "    {\n",
       "      \"expectation_type\": \"expect_column_values_to_match_regex\",\n",
       "      \"kwargs\": {\n",
       "        \"column\": \"url\",\n",
       "        \"mostly\": 1.0,\n",
       "        \"regex\": \"https?:\\\\/\\\\/(?:www\\\\.)?[-a-zA-Z0-9@:%._\\\\+~#=]{2,255}\\\\.[a-z]{2,6}\\\\b(?:[-a-zA-Z0-9@:%_\\\\+.~#()?&//=]*)\"\n",
       "      },\n",
       "      \"meta\": {\n",
       "        \"profiler_details\": {\n",
       "          \"success_ratio\": 1.0,\n",
       "          \"evaluated_regexes\": {\n",
       "            \"https?:\\\\/\\\\/(?:www\\\\.)?[-a-zA-Z0-9@:%._\\\\+~#=]{2,255}\\\\.[a-z]{2,6}\\\\b(?:[-a-zA-Z0-9@:%_\\\\+.~#()?&//=]*)\": 1.0,\n",
       "            \"-?\\\\d+\": 1.0,\n",
       "            \"[A-Za-z0-9\\\\.,;:!?()\\\\\\\"'%\\\\-]+\": 1.0,\n",
       "            \"(?:25[0-5]|2[0-4]\\\\d|[01]\\\\d{2}|\\\\d{1,2})(?:.(?:25[0-5]|2[0-4]\\\\d|[01]\\\\d{2}|\\\\d{1,2})){3}\": 1.0,\n",
       "            \"\\\\d+\": 1.0,\n",
       "            \"-?\\\\d+(?:\\\\.\\\\d*)?\": 1.0,\n",
       "            \"<\\\\/?(?:p|a|b|img)(?: \\\\/)?>\": 0.0,\n",
       "            \"\\\\b[0-9a-fA-F]{8}\\\\b-[0-9a-fA-F]{4}-[0-5][0-9a-fA-F]{3}-[089ab][0-9a-fA-F]{3}-\\\\b[0-9a-fA-F]{12}\\\\b \": 0.0,\n",
       "            \"^\\\\s+\": 0.0,\n",
       "            \"\\\\s+$\": 0.0\n",
       "          }\n",
       "        }\n",
       "      }\n",
       "    },\n",
       "    {\n",
       "      \"expectation_type\": \"expect_column_value_lengths_to_be_between\",\n",
       "      \"kwargs\": {\n",
       "        \"column\": \"type\",\n",
       "        \"max_value\": 22,\n",
       "        \"mostly\": 1.0,\n",
       "        \"strict_max\": false,\n",
       "        \"min_value\": 8,\n",
       "        \"strict_min\": false\n",
       "      },\n",
       "      \"meta\": {\n",
       "        \"profiler_details\": {\n",
       "          \"column_min_length_range_estimator\": {\n",
       "            \"metric_configuration\": {\n",
       "              \"metric_name\": \"column_values.length.min\",\n",
       "              \"domain_kwargs\": {\n",
       "                \"column\": \"type\"\n",
       "              },\n",
       "              \"metric_value_kwargs\": null\n",
       "            },\n",
       "            \"num_batches\": 1\n",
       "          },\n",
       "          \"column_max_length_range_estimator\": {\n",
       "            \"metric_configuration\": {\n",
       "              \"metric_name\": \"column_values.length.max\",\n",
       "              \"domain_kwargs\": {\n",
       "                \"column\": \"type\"\n",
       "              },\n",
       "              \"metric_value_kwargs\": null\n",
       "            },\n",
       "            \"num_batches\": 1\n",
       "          }\n",
       "        }\n",
       "      }\n",
       "    },\n",
       "    {\n",
       "      \"expectation_type\": \"expect_column_values_to_match_regex\",\n",
       "      \"kwargs\": {\n",
       "        \"column\": \"type\",\n",
       "        \"mostly\": 1.0,\n",
       "        \"regex\": \"[A-Za-z0-9\\\\.,;:!?()\\\\\\\"'%\\\\-]+\"\n",
       "      },\n",
       "      \"meta\": {\n",
       "        \"profiler_details\": {\n",
       "          \"success_ratio\": 1.0,\n",
       "          \"evaluated_regexes\": {\n",
       "            \"[A-Za-z0-9\\\\.,;:!?()\\\\\\\"'%\\\\-]+\": 1.0,\n",
       "            \"<\\\\/?(?:p|a|b|img)(?: \\\\/)?>\": 0.0,\n",
       "            \"\\\\b[0-9a-fA-F]{8}\\\\b-[0-9a-fA-F]{4}-[0-5][0-9a-fA-F]{3}-[089ab][0-9a-fA-F]{3}-\\\\b[0-9a-fA-F]{12}\\\\b \": 0.0,\n",
       "            \"https?:\\\\/\\\\/(?:www\\\\.)?[-a-zA-Z0-9@:%._\\\\+~#=]{2,255}\\\\.[a-z]{2,6}\\\\b(?:[-a-zA-Z0-9@:%_\\\\+.~#()?&//=]*)\": 0.0,\n",
       "            \"^\\\\s+\": 0.0,\n",
       "            \"-?\\\\d+\": 0.0,\n",
       "            \"(?:25[0-5]|2[0-4]\\\\d|[01]\\\\d{2}|\\\\d{1,2})(?:.(?:25[0-5]|2[0-4]\\\\d|[01]\\\\d{2}|\\\\d{1,2})){3}\": 0.0,\n",
       "            \"\\\\d+\": 0.0,\n",
       "            \"\\\\s+$\": 0.0,\n",
       "            \"-?\\\\d+(?:\\\\.\\\\d*)?\": 0.0\n",
       "          }\n",
       "        }\n",
       "      }\n",
       "    },\n",
       "    {\n",
       "      \"expectation_type\": \"expect_column_value_lengths_to_be_between\",\n",
       "      \"kwargs\": {\n",
       "        \"column\": \"variable_values_data\",\n",
       "        \"max_value\": 2,\n",
       "        \"mostly\": 1.0,\n",
       "        \"strict_max\": false,\n",
       "        \"min_value\": 2,\n",
       "        \"strict_min\": false\n",
       "      },\n",
       "      \"meta\": {\n",
       "        \"profiler_details\": {\n",
       "          \"column_min_length_range_estimator\": {\n",
       "            \"metric_configuration\": {\n",
       "              \"metric_name\": \"column_values.length.min\",\n",
       "              \"domain_kwargs\": {\n",
       "                \"column\": \"variable_values_data\"\n",
       "              },\n",
       "              \"metric_value_kwargs\": null\n",
       "            },\n",
       "            \"num_batches\": 1\n",
       "          },\n",
       "          \"column_max_length_range_estimator\": {\n",
       "            \"metric_configuration\": {\n",
       "              \"metric_name\": \"column_values.length.max\",\n",
       "              \"domain_kwargs\": {\n",
       "                \"column\": \"variable_values_data\"\n",
       "              },\n",
       "              \"metric_value_kwargs\": null\n",
       "            },\n",
       "            \"num_batches\": 1\n",
       "          }\n",
       "        }\n",
       "      }\n",
       "    },\n",
       "    {\n",
       "      \"expectation_type\": \"expect_column_value_lengths_to_be_between\",\n",
       "      \"kwargs\": {\n",
       "        \"column\": \"backend_context\",\n",
       "        \"max_value\": 19,\n",
       "        \"mostly\": 1.0,\n",
       "        \"strict_max\": false,\n",
       "        \"min_value\": 10,\n",
       "        \"strict_min\": false\n",
       "      },\n",
       "      \"meta\": {\n",
       "        \"profiler_details\": {\n",
       "          \"column_min_length_range_estimator\": {\n",
       "            \"metric_configuration\": {\n",
       "              \"metric_name\": \"column_values.length.min\",\n",
       "              \"domain_kwargs\": {\n",
       "                \"column\": \"backend_context\"\n",
       "              },\n",
       "              \"metric_value_kwargs\": null\n",
       "            },\n",
       "            \"num_batches\": 1\n",
       "          },\n",
       "          \"column_max_length_range_estimator\": {\n",
       "            \"metric_configuration\": {\n",
       "              \"metric_name\": \"column_values.length.max\",\n",
       "              \"domain_kwargs\": {\n",
       "                \"column\": \"backend_context\"\n",
       "              },\n",
       "              \"metric_value_kwargs\": null\n",
       "            },\n",
       "            \"num_batches\": 1\n",
       "          }\n",
       "        }\n",
       "      }\n",
       "    },\n",
       "    {\n",
       "      \"expectation_type\": \"expect_column_values_to_match_regex\",\n",
       "      \"kwargs\": {\n",
       "        \"column\": \"backend_context\",\n",
       "        \"mostly\": 1.0,\n",
       "        \"regex\": \"-?\\\\d+\"\n",
       "      },\n",
       "      \"meta\": {\n",
       "        \"profiler_details\": {\n",
       "          \"success_ratio\": 1.0,\n",
       "          \"evaluated_regexes\": {\n",
       "            \"-?\\\\d+\": 1.0,\n",
       "            \"[A-Za-z0-9\\\\.,;:!?()\\\\\\\"'%\\\\-]+\": 1.0,\n",
       "            \"\\\\d+\": 1.0,\n",
       "            \"-?\\\\d+(?:\\\\.\\\\d*)?\": 1.0,\n",
       "            \"<\\\\/?(?:p|a|b|img)(?: \\\\/)?>\": 0.0,\n",
       "            \"\\\\b[0-9a-fA-F]{8}\\\\b-[0-9a-fA-F]{4}-[0-5][0-9a-fA-F]{3}-[089ab][0-9a-fA-F]{3}-\\\\b[0-9a-fA-F]{12}\\\\b \": 0.0,\n",
       "            \"https?:\\\\/\\\\/(?:www\\\\.)?[-a-zA-Z0-9@:%._\\\\+~#=]{2,255}\\\\.[a-z]{2,6}\\\\b(?:[-a-zA-Z0-9@:%_\\\\+.~#()?&//=]*)\": 0.0,\n",
       "            \"^\\\\s+\": 0.0,\n",
       "            \"(?:25[0-5]|2[0-4]\\\\d|[01]\\\\d{2}|\\\\d{1,2})(?:.(?:25[0-5]|2[0-4]\\\\d|[01]\\\\d{2}|\\\\d{1,2})){3}\": 0.0,\n",
       "            \"\\\\s+$\": 0.0\n",
       "          }\n",
       "        }\n",
       "      }\n",
       "    },\n",
       "    {\n",
       "      \"expectation_type\": \"expect_column_value_lengths_to_be_between\",\n",
       "      \"kwargs\": {\n",
       "        \"column\": \"behavior_on_error\",\n",
       "        \"max_value\": 4,\n",
       "        \"mostly\": 1.0,\n",
       "        \"strict_max\": false,\n",
       "        \"min_value\": 4,\n",
       "        \"strict_min\": false\n",
       "      },\n",
       "      \"meta\": {\n",
       "        \"profiler_details\": {\n",
       "          \"column_min_length_range_estimator\": {\n",
       "            \"metric_configuration\": {\n",
       "              \"metric_name\": \"column_values.length.min\",\n",
       "              \"domain_kwargs\": {\n",
       "                \"column\": \"behavior_on_error\"\n",
       "              },\n",
       "              \"metric_value_kwargs\": null\n",
       "            },\n",
       "            \"num_batches\": 1\n",
       "          },\n",
       "          \"column_max_length_range_estimator\": {\n",
       "            \"metric_configuration\": {\n",
       "              \"metric_name\": \"column_values.length.max\",\n",
       "              \"domain_kwargs\": {\n",
       "                \"column\": \"behavior_on_error\"\n",
       "              },\n",
       "              \"metric_value_kwargs\": null\n",
       "            },\n",
       "            \"num_batches\": 1\n",
       "          }\n",
       "        }\n",
       "      }\n",
       "    },\n",
       "    {\n",
       "      \"expectation_type\": \"expect_column_values_to_match_regex\",\n",
       "      \"kwargs\": {\n",
       "        \"column\": \"behavior_on_error\",\n",
       "        \"mostly\": 1.0,\n",
       "        \"regex\": \"[A-Za-z0-9\\\\.,;:!?()\\\\\\\"'%\\\\-]+\"\n",
       "      },\n",
       "      \"meta\": {\n",
       "        \"profiler_details\": {\n",
       "          \"success_ratio\": 1.0,\n",
       "          \"evaluated_regexes\": {\n",
       "            \"[A-Za-z0-9\\\\.,;:!?()\\\\\\\"'%\\\\-]+\": 1.0,\n",
       "            \"<\\\\/?(?:p|a|b|img)(?: \\\\/)?>\": 0.0,\n",
       "            \"\\\\b[0-9a-fA-F]{8}\\\\b-[0-9a-fA-F]{4}-[0-5][0-9a-fA-F]{3}-[089ab][0-9a-fA-F]{3}-\\\\b[0-9a-fA-F]{12}\\\\b \": 0.0,\n",
       "            \"https?:\\\\/\\\\/(?:www\\\\.)?[-a-zA-Z0-9@:%._\\\\+~#=]{2,255}\\\\.[a-z]{2,6}\\\\b(?:[-a-zA-Z0-9@:%_\\\\+.~#()?&//=]*)\": 0.0,\n",
       "            \"^\\\\s+\": 0.0,\n",
       "            \"-?\\\\d+\": 0.0,\n",
       "            \"(?:25[0-5]|2[0-4]\\\\d|[01]\\\\d{2}|\\\\d{1,2})(?:.(?:25[0-5]|2[0-4]\\\\d|[01]\\\\d{2}|\\\\d{1,2})){3}\": 0.0,\n",
       "            \"\\\\d+\": 0.0,\n",
       "            \"\\\\s+$\": 0.0,\n",
       "            \"-?\\\\d+(?:\\\\.\\\\d*)?\": 0.0\n",
       "          }\n",
       "        }\n",
       "      }\n",
       "    },\n",
       "    {\n",
       "      \"expectation_type\": \"expect_column_value_lengths_to_be_between\",\n",
       "      \"kwargs\": {\n",
       "        \"column\": \"metrics_backend_size\",\n",
       "        \"max_value\": 6,\n",
       "        \"mostly\": 1.0,\n",
       "        \"strict_max\": false,\n",
       "        \"min_value\": 5,\n",
       "        \"strict_min\": false\n",
       "      },\n",
       "      \"meta\": {\n",
       "        \"profiler_details\": {\n",
       "          \"column_min_length_range_estimator\": {\n",
       "            \"metric_configuration\": {\n",
       "              \"metric_name\": \"column_values.length.min\",\n",
       "              \"domain_kwargs\": {\n",
       "                \"column\": \"metrics_backend_size\"\n",
       "              },\n",
       "              \"metric_value_kwargs\": null\n",
       "            },\n",
       "            \"num_batches\": 1\n",
       "          },\n",
       "          \"column_max_length_range_estimator\": {\n",
       "            \"metric_configuration\": {\n",
       "              \"metric_name\": \"column_values.length.max\",\n",
       "              \"domain_kwargs\": {\n",
       "                \"column\": \"metrics_backend_size\"\n",
       "              },\n",
       "              \"metric_value_kwargs\": null\n",
       "            },\n",
       "            \"num_batches\": 1\n",
       "          }\n",
       "        }\n",
       "      }\n",
       "    },\n",
       "    {\n",
       "      \"expectation_type\": \"expect_column_values_to_match_regex\",\n",
       "      \"kwargs\": {\n",
       "        \"column\": \"metrics_backend_size\",\n",
       "        \"mostly\": 1.0,\n",
       "        \"regex\": \"[A-Za-z0-9\\\\.,;:!?()\\\\\\\"'%\\\\-]+\"\n",
       "      },\n",
       "      \"meta\": {\n",
       "        \"profiler_details\": {\n",
       "          \"success_ratio\": 1.0,\n",
       "          \"evaluated_regexes\": {\n",
       "            \"[A-Za-z0-9\\\\.,;:!?()\\\\\\\"'%\\\\-]+\": 1.0,\n",
       "            \"<\\\\/?(?:p|a|b|img)(?: \\\\/)?>\": 0.0,\n",
       "            \"\\\\b[0-9a-fA-F]{8}\\\\b-[0-9a-fA-F]{4}-[0-5][0-9a-fA-F]{3}-[089ab][0-9a-fA-F]{3}-\\\\b[0-9a-fA-F]{12}\\\\b \": 0.0,\n",
       "            \"https?:\\\\/\\\\/(?:www\\\\.)?[-a-zA-Z0-9@:%._\\\\+~#=]{2,255}\\\\.[a-z]{2,6}\\\\b(?:[-a-zA-Z0-9@:%_\\\\+.~#()?&//=]*)\": 0.0,\n",
       "            \"^\\\\s+\": 0.0,\n",
       "            \"-?\\\\d+\": 0.0,\n",
       "            \"(?:25[0-5]|2[0-4]\\\\d|[01]\\\\d{2}|\\\\d{1,2})(?:.(?:25[0-5]|2[0-4]\\\\d|[01]\\\\d{2}|\\\\d{1,2})){3}\": 0.0,\n",
       "            \"\\\\d+\": 0.0,\n",
       "            \"\\\\s+$\": 0.0,\n",
       "            \"-?\\\\d+(?:\\\\.\\\\d*)?\": 0.0\n",
       "          }\n",
       "        }\n",
       "      }\n",
       "    },\n",
       "    {\n",
       "      \"expectation_type\": \"expect_column_value_lengths_to_be_between\",\n",
       "      \"kwargs\": {\n",
       "        \"column\": \"metrics_backend_context\",\n",
       "        \"max_value\": 19,\n",
       "        \"mostly\": 1.0,\n",
       "        \"strict_max\": false,\n",
       "        \"min_value\": 10,\n",
       "        \"strict_min\": false\n",
       "      },\n",
       "      \"meta\": {\n",
       "        \"profiler_details\": {\n",
       "          \"column_min_length_range_estimator\": {\n",
       "            \"metric_configuration\": {\n",
       "              \"metric_name\": \"column_values.length.min\",\n",
       "              \"domain_kwargs\": {\n",
       "                \"column\": \"metrics_backend_context\"\n",
       "              },\n",
       "              \"metric_value_kwargs\": null\n",
       "            },\n",
       "            \"num_batches\": 1\n",
       "          },\n",
       "          \"column_max_length_range_estimator\": {\n",
       "            \"metric_configuration\": {\n",
       "              \"metric_name\": \"column_values.length.max\",\n",
       "              \"domain_kwargs\": {\n",
       "                \"column\": \"metrics_backend_context\"\n",
       "              },\n",
       "              \"metric_value_kwargs\": null\n",
       "            },\n",
       "            \"num_batches\": 1\n",
       "          }\n",
       "        }\n",
       "      }\n",
       "    },\n",
       "    {\n",
       "      \"expectation_type\": \"expect_column_values_to_match_regex\",\n",
       "      \"kwargs\": {\n",
       "        \"column\": \"metrics_backend_context\",\n",
       "        \"mostly\": 1.0,\n",
       "        \"regex\": \"-?\\\\d+\"\n",
       "      },\n",
       "      \"meta\": {\n",
       "        \"profiler_details\": {\n",
       "          \"success_ratio\": 1.0,\n",
       "          \"evaluated_regexes\": {\n",
       "            \"-?\\\\d+\": 1.0,\n",
       "            \"[A-Za-z0-9\\\\.,;:!?()\\\\\\\"'%\\\\-]+\": 1.0,\n",
       "            \"\\\\d+\": 1.0,\n",
       "            \"-?\\\\d+(?:\\\\.\\\\d*)?\": 1.0,\n",
       "            \"<\\\\/?(?:p|a|b|img)(?: \\\\/)?>\": 0.0,\n",
       "            \"\\\\b[0-9a-fA-F]{8}\\\\b-[0-9a-fA-F]{4}-[0-5][0-9a-fA-F]{3}-[089ab][0-9a-fA-F]{3}-\\\\b[0-9a-fA-F]{12}\\\\b \": 0.0,\n",
       "            \"https?:\\\\/\\\\/(?:www\\\\.)?[-a-zA-Z0-9@:%._\\\\+~#=]{2,255}\\\\.[a-z]{2,6}\\\\b(?:[-a-zA-Z0-9@:%_\\\\+.~#()?&//=]*)\": 0.0,\n",
       "            \"^\\\\s+\": 0.0,\n",
       "            \"(?:25[0-5]|2[0-4]\\\\d|[01]\\\\d{2}|\\\\d{1,2})(?:.(?:25[0-5]|2[0-4]\\\\d|[01]\\\\d{2}|\\\\d{1,2})){3}\": 0.0,\n",
       "            \"\\\\s+$\": 0.0\n",
       "          }\n",
       "        }\n",
       "      }\n",
       "    },\n",
       "    {\n",
       "      \"expectation_type\": \"expect_column_value_lengths_to_be_between\",\n",
       "      \"kwargs\": {\n",
       "        \"column\": \"metrics_backend_container_size\",\n",
       "        \"max_value\": 6,\n",
       "        \"mostly\": 1.0,\n",
       "        \"strict_max\": false,\n",
       "        \"min_value\": 5,\n",
       "        \"strict_min\": false\n",
       "      },\n",
       "      \"meta\": {\n",
       "        \"profiler_details\": {\n",
       "          \"column_min_length_range_estimator\": {\n",
       "            \"metric_configuration\": {\n",
       "              \"metric_name\": \"column_values.length.min\",\n",
       "              \"domain_kwargs\": {\n",
       "                \"column\": \"metrics_backend_container_size\"\n",
       "              },\n",
       "              \"metric_value_kwargs\": null\n",
       "            },\n",
       "            \"num_batches\": 1\n",
       "          },\n",
       "          \"column_max_length_range_estimator\": {\n",
       "            \"metric_configuration\": {\n",
       "              \"metric_name\": \"column_values.length.max\",\n",
       "              \"domain_kwargs\": {\n",
       "                \"column\": \"metrics_backend_container_size\"\n",
       "              },\n",
       "              \"metric_value_kwargs\": null\n",
       "            },\n",
       "            \"num_batches\": 1\n",
       "          }\n",
       "        }\n",
       "      }\n",
       "    },\n",
       "    {\n",
       "      \"expectation_type\": \"expect_column_values_to_match_regex\",\n",
       "      \"kwargs\": {\n",
       "        \"column\": \"metrics_backend_container_size\",\n",
       "        \"mostly\": 1.0,\n",
       "        \"regex\": \"[A-Za-z0-9\\\\.,;:!?()\\\\\\\"'%\\\\-]+\"\n",
       "      },\n",
       "      \"meta\": {\n",
       "        \"profiler_details\": {\n",
       "          \"success_ratio\": 1.0,\n",
       "          \"evaluated_regexes\": {\n",
       "            \"[A-Za-z0-9\\\\.,;:!?()\\\\\\\"'%\\\\-]+\": 1.0,\n",
       "            \"<\\\\/?(?:p|a|b|img)(?: \\\\/)?>\": 0.0,\n",
       "            \"\\\\b[0-9a-fA-F]{8}\\\\b-[0-9a-fA-F]{4}-[0-5][0-9a-fA-F]{3}-[089ab][0-9a-fA-F]{3}-\\\\b[0-9a-fA-F]{12}\\\\b \": 0.0,\n",
       "            \"https?:\\\\/\\\\/(?:www\\\\.)?[-a-zA-Z0-9@:%._\\\\+~#=]{2,255}\\\\.[a-z]{2,6}\\\\b(?:[-a-zA-Z0-9@:%_\\\\+.~#()?&//=]*)\": 0.0,\n",
       "            \"^\\\\s+\": 0.0,\n",
       "            \"-?\\\\d+\": 0.0,\n",
       "            \"(?:25[0-5]|2[0-4]\\\\d|[01]\\\\d{2}|\\\\d{1,2})(?:.(?:25[0-5]|2[0-4]\\\\d|[01]\\\\d{2}|\\\\d{1,2})){3}\": 0.0,\n",
       "            \"\\\\d+\": 0.0,\n",
       "            \"\\\\s+$\": 0.0,\n",
       "            \"-?\\\\d+(?:\\\\.\\\\d*)?\": 0.0\n",
       "          }\n",
       "        }\n",
       "      }\n",
       "    },\n",
       "    {\n",
       "      \"expectation_type\": \"expect_column_value_lengths_to_be_between\",\n",
       "      \"kwargs\": {\n",
       "        \"column\": \"result_images\",\n",
       "        \"max_value\": 1399,\n",
       "        \"mostly\": 1.0,\n",
       "        \"strict_max\": false,\n",
       "        \"min_value\": 2,\n",
       "        \"strict_min\": false\n",
       "      },\n",
       "      \"meta\": {\n",
       "        \"profiler_details\": {\n",
       "          \"column_min_length_range_estimator\": {\n",
       "            \"metric_configuration\": {\n",
       "              \"metric_name\": \"column_values.length.min\",\n",
       "              \"domain_kwargs\": {\n",
       "                \"column\": \"result_images\"\n",
       "              },\n",
       "              \"metric_value_kwargs\": null\n",
       "            },\n",
       "            \"num_batches\": 1\n",
       "          },\n",
       "          \"column_max_length_range_estimator\": {\n",
       "            \"metric_configuration\": {\n",
       "              \"metric_name\": \"column_values.length.max\",\n",
       "              \"domain_kwargs\": {\n",
       "                \"column\": \"result_images\"\n",
       "              },\n",
       "              \"metric_value_kwargs\": null\n",
       "            },\n",
       "            \"num_batches\": 1\n",
       "          }\n",
       "        }\n",
       "      }\n",
       "    },\n",
       "    {\n",
       "      \"expectation_type\": \"expect_column_value_lengths_to_be_between\",\n",
       "      \"kwargs\": {\n",
       "        \"column\": \"result_message\",\n",
       "        \"max_value\": 4005,\n",
       "        \"mostly\": 1.0,\n",
       "        \"strict_max\": false,\n",
       "        \"min_value\": 14,\n",
       "        \"strict_min\": false\n",
       "      },\n",
       "      \"meta\": {\n",
       "        \"profiler_details\": {\n",
       "          \"column_min_length_range_estimator\": {\n",
       "            \"metric_configuration\": {\n",
       "              \"metric_name\": \"column_values.length.min\",\n",
       "              \"domain_kwargs\": {\n",
       "                \"column\": \"result_message\"\n",
       "              },\n",
       "              \"metric_value_kwargs\": null\n",
       "            },\n",
       "            \"num_batches\": 1\n",
       "          },\n",
       "          \"column_max_length_range_estimator\": {\n",
       "            \"metric_configuration\": {\n",
       "              \"metric_name\": \"column_values.length.max\",\n",
       "              \"domain_kwargs\": {\n",
       "                \"column\": \"result_message\"\n",
       "              },\n",
       "              \"metric_value_kwargs\": null\n",
       "            },\n",
       "            \"num_batches\": 1\n",
       "          }\n",
       "        }\n",
       "      }\n",
       "    },\n",
       "    {\n",
       "      \"expectation_type\": \"expect_column_values_to_match_regex\",\n",
       "      \"kwargs\": {\n",
       "        \"column\": \"result_message\",\n",
       "        \"mostly\": 1.0,\n",
       "        \"regex\": \"[A-Za-z0-9\\\\.,;:!?()\\\\\\\"'%\\\\-]+\"\n",
       "      },\n",
       "      \"meta\": {\n",
       "        \"profiler_details\": {\n",
       "          \"success_ratio\": 1.0,\n",
       "          \"evaluated_regexes\": {\n",
       "            \"[A-Za-z0-9\\\\.,;:!?()\\\\\\\"'%\\\\-]+\": 1.0,\n",
       "            \"-?\\\\d+\": 0.02955344853953204,\n",
       "            \"\\\\d+\": 0.02955344853953204,\n",
       "            \"-?\\\\d+(?:\\\\.\\\\d*)?\": 0.02955344853953204,\n",
       "            \"(?:25[0-5]|2[0-4]\\\\d|[01]\\\\d{2}|\\\\d{1,2})(?:.(?:25[0-5]|2[0-4]\\\\d|[01]\\\\d{2}|\\\\d{1,2})){3}\": 0.02695366263954733,\n",
       "            \"https?:\\\\/\\\\/(?:www\\\\.)?[-a-zA-Z0-9@:%._\\\\+~#=]{2,255}\\\\.[a-z]{2,6}\\\\b(?:[-a-zA-Z0-9@:%_\\\\+.~#()?&//=]*)\": 0.023436305245450376,\n",
       "            \"<\\\\/?(?:p|a|b|img)(?: \\\\/)?>\": 0.0,\n",
       "            \"\\\\b[0-9a-fA-F]{8}\\\\b-[0-9a-fA-F]{4}-[0-5][0-9a-fA-F]{3}-[089ab][0-9a-fA-F]{3}-\\\\b[0-9a-fA-F]{12}\\\\b \": 0.0,\n",
       "            \"^\\\\s+\": 0.0,\n",
       "            \"\\\\s+$\": 0.0\n",
       "          }\n",
       "        }\n",
       "      }\n",
       "    },\n",
       "    {\n",
       "      \"expectation_type\": \"expect_column_value_lengths_to_be_between\",\n",
       "      \"kwargs\": {\n",
       "        \"column\": \"result_artifacts_uploaded\",\n",
       "        \"max_value\": 30,\n",
       "        \"mostly\": 1.0,\n",
       "        \"strict_max\": false,\n",
       "        \"min_value\": 2,\n",
       "        \"strict_min\": false\n",
       "      },\n",
       "      \"meta\": {\n",
       "        \"profiler_details\": {\n",
       "          \"column_min_length_range_estimator\": {\n",
       "            \"metric_configuration\": {\n",
       "              \"metric_name\": \"column_values.length.min\",\n",
       "              \"domain_kwargs\": {\n",
       "                \"column\": \"result_artifacts_uploaded\"\n",
       "              },\n",
       "              \"metric_value_kwargs\": null\n",
       "            },\n",
       "            \"num_batches\": 1\n",
       "          },\n",
       "          \"column_max_length_range_estimator\": {\n",
       "            \"metric_configuration\": {\n",
       "              \"metric_name\": \"column_values.length.max\",\n",
       "              \"domain_kwargs\": {\n",
       "                \"column\": \"result_artifacts_uploaded\"\n",
       "              },\n",
       "              \"metric_value_kwargs\": null\n",
       "            },\n",
       "            \"num_batches\": 1\n",
       "          }\n",
       "        }\n",
       "      }\n",
       "    },\n",
       "    {\n",
       "      \"expectation_type\": \"expect_column_value_lengths_to_be_between\",\n",
       "      \"kwargs\": {\n",
       "        \"column\": \"result_artifacts_downloaded\",\n",
       "        \"max_value\": 2,\n",
       "        \"mostly\": 1.0,\n",
       "        \"strict_max\": false,\n",
       "        \"min_value\": 2,\n",
       "        \"strict_min\": false\n",
       "      },\n",
       "      \"meta\": {\n",
       "        \"profiler_details\": {\n",
       "          \"column_min_length_range_estimator\": {\n",
       "            \"metric_configuration\": {\n",
       "              \"metric_name\": \"column_values.length.min\",\n",
       "              \"domain_kwargs\": {\n",
       "                \"column\": \"result_artifacts_downloaded\"\n",
       "              },\n",
       "              \"metric_value_kwargs\": null\n",
       "            },\n",
       "            \"num_batches\": 1\n",
       "          },\n",
       "          \"column_max_length_range_estimator\": {\n",
       "            \"metric_configuration\": {\n",
       "              \"metric_name\": \"column_values.length.max\",\n",
       "              \"domain_kwargs\": {\n",
       "                \"column\": \"result_artifacts_downloaded\"\n",
       "              },\n",
       "              \"metric_value_kwargs\": null\n",
       "            },\n",
       "            \"num_batches\": 1\n",
       "          }\n",
       "        }\n",
       "      }\n",
       "    },\n",
       "    {\n",
       "      \"expectation_type\": \"expect_column_value_lengths_to_be_between\",\n",
       "      \"kwargs\": {\n",
       "        \"column\": \"extraction_date\",\n",
       "        \"max_value\": 25,\n",
       "        \"mostly\": 1.0,\n",
       "        \"strict_max\": false,\n",
       "        \"min_value\": 25,\n",
       "        \"strict_min\": false\n",
       "      },\n",
       "      \"meta\": {\n",
       "        \"profiler_details\": {\n",
       "          \"column_min_length_range_estimator\": {\n",
       "            \"metric_configuration\": {\n",
       "              \"metric_name\": \"column_values.length.min\",\n",
       "              \"domain_kwargs\": {\n",
       "                \"column\": \"extraction_date\"\n",
       "              },\n",
       "              \"metric_value_kwargs\": null\n",
       "            },\n",
       "            \"num_batches\": 1\n",
       "          },\n",
       "          \"column_max_length_range_estimator\": {\n",
       "            \"metric_configuration\": {\n",
       "              \"metric_name\": \"column_values.length.max\",\n",
       "              \"domain_kwargs\": {\n",
       "                \"column\": \"extraction_date\"\n",
       "              },\n",
       "              \"metric_value_kwargs\": null\n",
       "            },\n",
       "            \"num_batches\": 1\n",
       "          }\n",
       "        }\n",
       "      }\n",
       "    },\n",
       "    {\n",
       "      \"expectation_type\": \"expect_column_values_to_match_regex\",\n",
       "      \"kwargs\": {\n",
       "        \"column\": \"extraction_date\",\n",
       "        \"mostly\": 1.0,\n",
       "        \"regex\": \"-?\\\\d+\"\n",
       "      },\n",
       "      \"meta\": {\n",
       "        \"profiler_details\": {\n",
       "          \"success_ratio\": 1.0,\n",
       "          \"evaluated_regexes\": {\n",
       "            \"-?\\\\d+\": 1.0,\n",
       "            \"[A-Za-z0-9\\\\.,;:!?()\\\\\\\"'%\\\\-]+\": 1.0,\n",
       "            \"(?:25[0-5]|2[0-4]\\\\d|[01]\\\\d{2}|\\\\d{1,2})(?:.(?:25[0-5]|2[0-4]\\\\d|[01]\\\\d{2}|\\\\d{1,2})){3}\": 1.0,\n",
       "            \"\\\\d+\": 1.0,\n",
       "            \"-?\\\\d+(?:\\\\.\\\\d*)?\": 1.0,\n",
       "            \"<\\\\/?(?:p|a|b|img)(?: \\\\/)?>\": 0.0,\n",
       "            \"\\\\b[0-9a-fA-F]{8}\\\\b-[0-9a-fA-F]{4}-[0-5][0-9a-fA-F]{3}-[089ab][0-9a-fA-F]{3}-\\\\b[0-9a-fA-F]{12}\\\\b \": 0.0,\n",
       "            \"https?:\\\\/\\\\/(?:www\\\\.)?[-a-zA-Z0-9@:%._\\\\+~#=]{2,255}\\\\.[a-z]{2,6}\\\\b(?:[-a-zA-Z0-9@:%_\\\\+.~#()?&//=]*)\": 0.0,\n",
       "            \"^\\\\s+\": 0.0,\n",
       "            \"\\\\s+$\": 0.0\n",
       "          }\n",
       "        }\n",
       "      }\n",
       "    },\n",
       "    {\n",
       "      \"expectation_type\": \"expect_column_values_to_be_in_set\",\n",
       "      \"kwargs\": {\n",
       "        \"column\": \"project_name\",\n",
       "        \"mostly\": 1.0,\n",
       "        \"value_set\": [\n",
       "          7167\n",
       "        ]\n",
       "      },\n",
       "      \"meta\": {\n",
       "        \"profiler_details\": {\n",
       "          \"metric_configuration\": {\n",
       "            \"metric_name\": \"column.distinct_values\",\n",
       "            \"domain_kwargs\": {\n",
       "              \"column\": \"project_name\"\n",
       "            },\n",
       "            \"metric_value_kwargs\": null\n",
       "          },\n",
       "          \"num_batches\": 1,\n",
       "          \"parse_strings_as_datetimes\": false\n",
       "        }\n",
       "      }\n",
       "    },\n",
       "    {\n",
       "      \"expectation_type\": \"expect_column_unique_value_count_to_be_between\",\n",
       "      \"kwargs\": {\n",
       "        \"column\": \"project_name\",\n",
       "        \"max_value\": 1,\n",
       "        \"strict_max\": false,\n",
       "        \"min_value\": 1,\n",
       "        \"strict_min\": false\n",
       "      },\n",
       "      \"meta\": {\n",
       "        \"profiler_details\": {\n",
       "          \"metric_configuration\": {\n",
       "            \"metric_name\": \"column.distinct_values.count\",\n",
       "            \"domain_kwargs\": {\n",
       "              \"column\": \"project_name\"\n",
       "            },\n",
       "            \"metric_value_kwargs\": null\n",
       "          },\n",
       "          \"num_batches\": 1\n",
       "        }\n",
       "      }\n",
       "    },\n",
       "    {\n",
       "      \"expectation_type\": \"expect_column_proportion_of_unique_values_to_be_between\",\n",
       "      \"kwargs\": {\n",
       "        \"column\": \"project_name\",\n",
       "        \"max_value\": 3.82321455880104e-05,\n",
       "        \"strict_max\": false,\n",
       "        \"min_value\": 3.82321455880104e-05,\n",
       "        \"strict_min\": false\n",
       "      },\n",
       "      \"meta\": {\n",
       "        \"profiler_details\": {\n",
       "          \"metric_configuration\": {\n",
       "            \"metric_name\": \"column.unique_proportion\",\n",
       "            \"domain_kwargs\": {\n",
       "              \"column\": \"project_name\"\n",
       "            },\n",
       "            \"metric_value_kwargs\": null\n",
       "          },\n",
       "          \"num_batches\": 1\n",
       "        }\n",
       "      }\n",
       "    },\n",
       "    {\n",
       "      \"expectation_type\": \"expect_column_values_to_be_in_set\",\n",
       "      \"kwargs\": {\n",
       "        \"column\": \"token_description\",\n",
       "        \"mostly\": 1.0,\n",
       "        \"value_set\": [\n",
       "          \"[_internal] Scheduler for 21591835 Scheduler\",\n",
       "          \"[_internal] Scheduler for 19351333 Scheduler\",\n",
       "          \"[_internal] Scheduler for 22435816 Scheduler\",\n",
       "          \"fisa@keboola.com\",\n",
       "          \"[_internal] Scheduler for 40924565 Scheduler\",\n",
       "          \"[_internal] Scheduler for 20987553 Scheduler\",\n",
       "          \"kritiga.ravishankar@keboola.com\",\n",
       "          \"[_internal] Scheduler for 23269303 Scheduler\",\n",
       "          \"Cli utils - data-apps migration\"\n",
       "        ]\n",
       "      },\n",
       "      \"meta\": {\n",
       "        \"profiler_details\": {\n",
       "          \"metric_configuration\": {\n",
       "            \"metric_name\": \"column.distinct_values\",\n",
       "            \"domain_kwargs\": {\n",
       "              \"column\": \"token_description\"\n",
       "            },\n",
       "            \"metric_value_kwargs\": null\n",
       "          },\n",
       "          \"num_batches\": 1,\n",
       "          \"parse_strings_as_datetimes\": false\n",
       "        }\n",
       "      }\n",
       "    },\n",
       "    {\n",
       "      \"expectation_type\": \"expect_column_unique_value_count_to_be_between\",\n",
       "      \"kwargs\": {\n",
       "        \"column\": \"token_description\",\n",
       "        \"max_value\": 9,\n",
       "        \"strict_max\": false,\n",
       "        \"min_value\": 9,\n",
       "        \"strict_min\": false\n",
       "      },\n",
       "      \"meta\": {\n",
       "        \"profiler_details\": {\n",
       "          \"metric_configuration\": {\n",
       "            \"metric_name\": \"column.distinct_values.count\",\n",
       "            \"domain_kwargs\": {\n",
       "              \"column\": \"token_description\"\n",
       "            },\n",
       "            \"metric_value_kwargs\": null\n",
       "          },\n",
       "          \"num_batches\": 1\n",
       "        }\n",
       "      }\n",
       "    },\n",
       "    {\n",
       "      \"expectation_type\": \"expect_column_proportion_of_unique_values_to_be_between\",\n",
       "      \"kwargs\": {\n",
       "        \"column\": \"token_description\",\n",
       "        \"max_value\": 0.00034408931029209357,\n",
       "        \"strict_max\": false,\n",
       "        \"min_value\": 0.00034408931029209357,\n",
       "        \"strict_min\": false\n",
       "      },\n",
       "      \"meta\": {\n",
       "        \"profiler_details\": {\n",
       "          \"metric_configuration\": {\n",
       "            \"metric_name\": \"column.unique_proportion\",\n",
       "            \"domain_kwargs\": {\n",
       "              \"column\": \"token_description\"\n",
       "            },\n",
       "            \"metric_value_kwargs\": null\n",
       "          },\n",
       "          \"num_batches\": 1\n",
       "        }\n",
       "      }\n",
       "    },\n",
       "    {\n",
       "      \"expectation_type\": \"expect_column_values_to_be_in_set\",\n",
       "      \"kwargs\": {\n",
       "        \"column\": \"status\",\n",
       "        \"mostly\": 1.0,\n",
       "        \"value_set\": [\n",
       "          \"terminated\",\n",
       "          \"error\",\n",
       "          \"success\"\n",
       "        ]\n",
       "      },\n",
       "      \"meta\": {\n",
       "        \"profiler_details\": {\n",
       "          \"metric_configuration\": {\n",
       "            \"metric_name\": \"column.distinct_values\",\n",
       "            \"domain_kwargs\": {\n",
       "              \"column\": \"status\"\n",
       "            },\n",
       "            \"metric_value_kwargs\": null\n",
       "          },\n",
       "          \"num_batches\": 1,\n",
       "          \"parse_strings_as_datetimes\": false\n",
       "        }\n",
       "      }\n",
       "    },\n",
       "    {\n",
       "      \"expectation_type\": \"expect_column_unique_value_count_to_be_between\",\n",
       "      \"kwargs\": {\n",
       "        \"column\": \"status\",\n",
       "        \"max_value\": 3,\n",
       "        \"strict_max\": false,\n",
       "        \"min_value\": 3,\n",
       "        \"strict_min\": false\n",
       "      },\n",
       "      \"meta\": {\n",
       "        \"profiler_details\": {\n",
       "          \"metric_configuration\": {\n",
       "            \"metric_name\": \"column.distinct_values.count\",\n",
       "            \"domain_kwargs\": {\n",
       "              \"column\": \"status\"\n",
       "            },\n",
       "            \"metric_value_kwargs\": null\n",
       "          },\n",
       "          \"num_batches\": 1\n",
       "        }\n",
       "      }\n",
       "    },\n",
       "    {\n",
       "      \"expectation_type\": \"expect_column_proportion_of_unique_values_to_be_between\",\n",
       "      \"kwargs\": {\n",
       "        \"column\": \"status\",\n",
       "        \"max_value\": 0.00011469643676403119,\n",
       "        \"strict_max\": false,\n",
       "        \"min_value\": 0.00011469643676403119,\n",
       "        \"strict_min\": false\n",
       "      },\n",
       "      \"meta\": {\n",
       "        \"profiler_details\": {\n",
       "          \"metric_configuration\": {\n",
       "            \"metric_name\": \"column.unique_proportion\",\n",
       "            \"domain_kwargs\": {\n",
       "              \"column\": \"status\"\n",
       "            },\n",
       "            \"metric_value_kwargs\": null\n",
       "          },\n",
       "          \"num_batches\": 1\n",
       "        }\n",
       "      }\n",
       "    },\n",
       "    {\n",
       "      \"expectation_type\": \"expect_column_values_to_be_in_set\",\n",
       "      \"kwargs\": {\n",
       "        \"column\": \"desired_status\",\n",
       "        \"mostly\": 1.0,\n",
       "        \"value_set\": [\n",
       "          \"processing\",\n",
       "          \"terminating\"\n",
       "        ]\n",
       "      },\n",
       "      \"meta\": {\n",
       "        \"profiler_details\": {\n",
       "          \"metric_configuration\": {\n",
       "            \"metric_name\": \"column.distinct_values\",\n",
       "            \"domain_kwargs\": {\n",
       "              \"column\": \"desired_status\"\n",
       "            },\n",
       "            \"metric_value_kwargs\": null\n",
       "          },\n",
       "          \"num_batches\": 1,\n",
       "          \"parse_strings_as_datetimes\": false\n",
       "        }\n",
       "      }\n",
       "    },\n",
       "    {\n",
       "      \"expectation_type\": \"expect_column_unique_value_count_to_be_between\",\n",
       "      \"kwargs\": {\n",
       "        \"column\": \"desired_status\",\n",
       "        \"max_value\": 2,\n",
       "        \"strict_max\": false,\n",
       "        \"min_value\": 2,\n",
       "        \"strict_min\": false\n",
       "      },\n",
       "      \"meta\": {\n",
       "        \"profiler_details\": {\n",
       "          \"metric_configuration\": {\n",
       "            \"metric_name\": \"column.distinct_values.count\",\n",
       "            \"domain_kwargs\": {\n",
       "              \"column\": \"desired_status\"\n",
       "            },\n",
       "            \"metric_value_kwargs\": null\n",
       "          },\n",
       "          \"num_batches\": 1\n",
       "        }\n",
       "      }\n",
       "    },\n",
       "    {\n",
       "      \"expectation_type\": \"expect_column_proportion_of_unique_values_to_be_between\",\n",
       "      \"kwargs\": {\n",
       "        \"column\": \"desired_status\",\n",
       "        \"max_value\": 7.64642911760208e-05,\n",
       "        \"strict_max\": false,\n",
       "        \"min_value\": 7.64642911760208e-05,\n",
       "        \"strict_min\": false\n",
       "      },\n",
       "      \"meta\": {\n",
       "        \"profiler_details\": {\n",
       "          \"metric_configuration\": {\n",
       "            \"metric_name\": \"column.unique_proportion\",\n",
       "            \"domain_kwargs\": {\n",
       "              \"column\": \"desired_status\"\n",
       "            },\n",
       "            \"metric_value_kwargs\": null\n",
       "          },\n",
       "          \"num_batches\": 1\n",
       "        }\n",
       "      }\n",
       "    },\n",
       "    {\n",
       "      \"expectation_type\": \"expect_column_values_to_be_in_set\",\n",
       "      \"kwargs\": {\n",
       "        \"column\": \"mode\",\n",
       "        \"mostly\": 1.0,\n",
       "        \"value_set\": [\n",
       "          \"run\"\n",
       "        ]\n",
       "      },\n",
       "      \"meta\": {\n",
       "        \"profiler_details\": {\n",
       "          \"metric_configuration\": {\n",
       "            \"metric_name\": \"column.distinct_values\",\n",
       "            \"domain_kwargs\": {\n",
       "              \"column\": \"mode\"\n",
       "            },\n",
       "            \"metric_value_kwargs\": null\n",
       "          },\n",
       "          \"num_batches\": 1,\n",
       "          \"parse_strings_as_datetimes\": false\n",
       "        }\n",
       "      }\n",
       "    },\n",
       "    {\n",
       "      \"expectation_type\": \"expect_column_unique_value_count_to_be_between\",\n",
       "      \"kwargs\": {\n",
       "        \"column\": \"mode\",\n",
       "        \"max_value\": 1,\n",
       "        \"strict_max\": false,\n",
       "        \"min_value\": 1,\n",
       "        \"strict_min\": false\n",
       "      },\n",
       "      \"meta\": {\n",
       "        \"profiler_details\": {\n",
       "          \"metric_configuration\": {\n",
       "            \"metric_name\": \"column.distinct_values.count\",\n",
       "            \"domain_kwargs\": {\n",
       "              \"column\": \"mode\"\n",
       "            },\n",
       "            \"metric_value_kwargs\": null\n",
       "          },\n",
       "          \"num_batches\": 1\n",
       "        }\n",
       "      }\n",
       "    },\n",
       "    {\n",
       "      \"expectation_type\": \"expect_column_proportion_of_unique_values_to_be_between\",\n",
       "      \"kwargs\": {\n",
       "        \"column\": \"mode\",\n",
       "        \"max_value\": 3.82321455880104e-05,\n",
       "        \"strict_max\": false,\n",
       "        \"min_value\": 3.82321455880104e-05,\n",
       "        \"strict_min\": false\n",
       "      },\n",
       "      \"meta\": {\n",
       "        \"profiler_details\": {\n",
       "          \"metric_configuration\": {\n",
       "            \"metric_name\": \"column.unique_proportion\",\n",
       "            \"domain_kwargs\": {\n",
       "              \"column\": \"mode\"\n",
       "            },\n",
       "            \"metric_value_kwargs\": null\n",
       "          },\n",
       "          \"num_batches\": 1\n",
       "        }\n",
       "      }\n",
       "    },\n",
       "    {\n",
       "      \"expectation_type\": \"expect_column_values_to_be_in_set\",\n",
       "      \"kwargs\": {\n",
       "        \"column\": \"component\",\n",
       "        \"mostly\": 1.0,\n",
       "        \"value_set\": [\n",
       "          \"keboola.wr-google-sheets\",\n",
       "          \"keboola.ex-github\",\n",
       "          \"keboola.ex-http\",\n",
       "          \"keboola.python-transformation-v2\",\n",
       "          \"keboola.sandboxes\",\n",
       "          \"keboola.ex-db-mysql\",\n",
       "          \"keboola.wr-db-pgsql\",\n",
       "          \"keboola.ex-db-snowflake\",\n",
       "          \"kds-team.ex-google-translation\",\n",
       "          \"keboola.sliced-files-downloader\",\n",
       "          \"keboola.wr-openlineage\",\n",
       "          \"kds-team.ex-jira\",\n",
       "          \"keboola.snowflake-transformation\",\n",
       "          \"keboola.ex-google-drive\",\n",
       "          \"ex-generic-v2\",\n",
       "          \"kds-team.ex-kbc-project-metadata-v2\",\n",
       "          \"keboola.no-code-dbt-transformation\",\n",
       "          \"keboola.orchestrator\",\n",
       "          \"keboola.dbt-transformation\",\n",
       "          \"keboola.sapi-merged-export\"\n",
       "        ]\n",
       "      },\n",
       "      \"meta\": {\n",
       "        \"profiler_details\": {\n",
       "          \"metric_configuration\": {\n",
       "            \"metric_name\": \"column.distinct_values\",\n",
       "            \"domain_kwargs\": {\n",
       "              \"column\": \"component\"\n",
       "            },\n",
       "            \"metric_value_kwargs\": null\n",
       "          },\n",
       "          \"num_batches\": 1,\n",
       "          \"parse_strings_as_datetimes\": false\n",
       "        }\n",
       "      }\n",
       "    },\n",
       "    {\n",
       "      \"expectation_type\": \"expect_column_unique_value_count_to_be_between\",\n",
       "      \"kwargs\": {\n",
       "        \"column\": \"component\",\n",
       "        \"max_value\": 20,\n",
       "        \"strict_max\": false,\n",
       "        \"min_value\": 20,\n",
       "        \"strict_min\": false\n",
       "      },\n",
       "      \"meta\": {\n",
       "        \"profiler_details\": {\n",
       "          \"metric_configuration\": {\n",
       "            \"metric_name\": \"column.distinct_values.count\",\n",
       "            \"domain_kwargs\": {\n",
       "              \"column\": \"component\"\n",
       "            },\n",
       "            \"metric_value_kwargs\": null\n",
       "          },\n",
       "          \"num_batches\": 1\n",
       "        }\n",
       "      }\n",
       "    },\n",
       "    {\n",
       "      \"expectation_type\": \"expect_column_proportion_of_unique_values_to_be_between\",\n",
       "      \"kwargs\": {\n",
       "        \"column\": \"component\",\n",
       "        \"max_value\": 0.000764642911760208,\n",
       "        \"strict_max\": false,\n",
       "        \"min_value\": 0.000764642911760208,\n",
       "        \"strict_min\": false\n",
       "      },\n",
       "      \"meta\": {\n",
       "        \"profiler_details\": {\n",
       "          \"metric_configuration\": {\n",
       "            \"metric_name\": \"column.unique_proportion\",\n",
       "            \"domain_kwargs\": {\n",
       "              \"column\": \"component\"\n",
       "            },\n",
       "            \"metric_value_kwargs\": null\n",
       "          },\n",
       "          \"num_batches\": 1\n",
       "        }\n",
       "      }\n",
       "    },\n",
       "    {\n",
       "      \"expectation_type\": \"expect_column_values_to_be_in_set\",\n",
       "      \"kwargs\": {\n",
       "        \"column\": \"config\",\n",
       "        \"mostly\": 1.0,\n",
       "        \"value_set\": [\n",
       "          21591041.0,\n",
       "          35333377.0,\n",
       "          34305539.0,\n",
       "          33600261.0,\n",
       "          19901574.0,\n",
       "          35911558.0,\n",
       "          52919046.0,\n",
       "          52936073.0,\n",
       "          18951306.0,\n",
       "          23050126.0,\n",
       "          23132176.0,\n",
       "          24157715.0,\n",
       "          21587860.0,\n",
       "          40924565.0,\n",
       "          44258072.0,\n",
       "          35005722.0,\n",
       "          21591835.0,\n",
       "          21591836.0,\n",
       "          43159326.0,\n",
       "          20987553.0,\n",
       "          19351333.0,\n",
       "          24264229.0,\n",
       "          36840997.0,\n",
       "          36915241.0,\n",
       "          38356655.0,\n",
       "          21666352.0,\n",
       "          23269303.0,\n",
       "          45068091.0,\n",
       "          35911615.0,\n",
       "          33860161.0,\n",
       "          19911362.0,\n",
       "          33860162.0,\n",
       "          20987332.0,\n",
       "          33860163.0,\n",
       "          53177667.0,\n",
       "          38770375.0,\n",
       "          24423883.0,\n",
       "          33600334.0,\n",
       "          35314384.0,\n",
       "          21588824.0,\n",
       "          35005913.0,\n",
       "          35279194.0,\n",
       "          44562395.0,\n",
       "          44257884.0,\n",
       "          23268573.0,\n",
       "          40923877.0,\n",
       "          25220583.0,\n",
       "          22435816.0,\n",
       "          21590509.0,\n",
       "          30613102.0,\n",
       "          22381551.0,\n",
       "          43159668.0,\n",
       "          46893562.0,\n",
       "          37680251.0,\n",
       "          46894716.0,\n",
       "          37673597.0\n",
       "        ]\n",
       "      },\n",
       "      \"meta\": {\n",
       "        \"profiler_details\": {\n",
       "          \"metric_configuration\": {\n",
       "            \"metric_name\": \"column.distinct_values\",\n",
       "            \"domain_kwargs\": {\n",
       "              \"column\": \"config\"\n",
       "            },\n",
       "            \"metric_value_kwargs\": null\n",
       "          },\n",
       "          \"num_batches\": 1,\n",
       "          \"parse_strings_as_datetimes\": false\n",
       "        }\n",
       "      }\n",
       "    },\n",
       "    {\n",
       "      \"expectation_type\": \"expect_column_unique_value_count_to_be_between\",\n",
       "      \"kwargs\": {\n",
       "        \"column\": \"config\",\n",
       "        \"max_value\": 56,\n",
       "        \"strict_max\": false,\n",
       "        \"min_value\": 56,\n",
       "        \"strict_min\": false\n",
       "      },\n",
       "      \"meta\": {\n",
       "        \"profiler_details\": {\n",
       "          \"metric_configuration\": {\n",
       "            \"metric_name\": \"column.distinct_values.count\",\n",
       "            \"domain_kwargs\": {\n",
       "              \"column\": \"config\"\n",
       "            },\n",
       "            \"metric_value_kwargs\": null\n",
       "          },\n",
       "          \"num_batches\": 1\n",
       "        }\n",
       "      }\n",
       "    },\n",
       "    {\n",
       "      \"expectation_type\": \"expect_column_proportion_of_unique_values_to_be_between\",\n",
       "      \"kwargs\": {\n",
       "        \"column\": \"config\",\n",
       "        \"max_value\": 0.002141245746185906,\n",
       "        \"strict_max\": false,\n",
       "        \"min_value\": 0.002141245746185906,\n",
       "        \"strict_min\": false\n",
       "      },\n",
       "      \"meta\": {\n",
       "        \"profiler_details\": {\n",
       "          \"metric_configuration\": {\n",
       "            \"metric_name\": \"column.unique_proportion\",\n",
       "            \"domain_kwargs\": {\n",
       "              \"column\": \"config\"\n",
       "            },\n",
       "            \"metric_value_kwargs\": null\n",
       "          },\n",
       "          \"num_batches\": 1\n",
       "        }\n",
       "      }\n",
       "    },\n",
       "    {\n",
       "      \"expectation_type\": \"expect_column_values_to_be_in_set\",\n",
       "      \"kwargs\": {\n",
       "        \"column\": \"config_row_ids\",\n",
       "        \"mostly\": 1.0,\n",
       "        \"value_set\": [\n",
       "          \"[\\\"17224\\\"]\",\n",
       "          \"[\\\"36915248\\\"]\",\n",
       "          \"[\\\"51240\\\"]\",\n",
       "          \"[]\"\n",
       "        ]\n",
       "      },\n",
       "      \"meta\": {\n",
       "        \"profiler_details\": {\n",
       "          \"metric_configuration\": {\n",
       "            \"metric_name\": \"column.distinct_values\",\n",
       "            \"domain_kwargs\": {\n",
       "              \"column\": \"config_row_ids\"\n",
       "            },\n",
       "            \"metric_value_kwargs\": null\n",
       "          },\n",
       "          \"num_batches\": 1,\n",
       "          \"parse_strings_as_datetimes\": false\n",
       "        }\n",
       "      }\n",
       "    },\n",
       "    {\n",
       "      \"expectation_type\": \"expect_column_unique_value_count_to_be_between\",\n",
       "      \"kwargs\": {\n",
       "        \"column\": \"config_row_ids\",\n",
       "        \"max_value\": 4,\n",
       "        \"strict_max\": false,\n",
       "        \"min_value\": 4,\n",
       "        \"strict_min\": false\n",
       "      },\n",
       "      \"meta\": {\n",
       "        \"profiler_details\": {\n",
       "          \"metric_configuration\": {\n",
       "            \"metric_name\": \"column.distinct_values.count\",\n",
       "            \"domain_kwargs\": {\n",
       "              \"column\": \"config_row_ids\"\n",
       "            },\n",
       "            \"metric_value_kwargs\": null\n",
       "          },\n",
       "          \"num_batches\": 1\n",
       "        }\n",
       "      }\n",
       "    },\n",
       "    {\n",
       "      \"expectation_type\": \"expect_column_proportion_of_unique_values_to_be_between\",\n",
       "      \"kwargs\": {\n",
       "        \"column\": \"config_row_ids\",\n",
       "        \"max_value\": 0.0001529285823520416,\n",
       "        \"strict_max\": false,\n",
       "        \"min_value\": 0.0001529285823520416,\n",
       "        \"strict_min\": false\n",
       "      },\n",
       "      \"meta\": {\n",
       "        \"profiler_details\": {\n",
       "          \"metric_configuration\": {\n",
       "            \"metric_name\": \"column.unique_proportion\",\n",
       "            \"domain_kwargs\": {\n",
       "              \"column\": \"config_row_ids\"\n",
       "            },\n",
       "            \"metric_value_kwargs\": null\n",
       "          },\n",
       "          \"num_batches\": 1\n",
       "        }\n",
       "      }\n",
       "    },\n",
       "    {\n",
       "      \"expectation_type\": \"expect_column_values_to_be_in_set\",\n",
       "      \"kwargs\": {\n",
       "        \"column\": \"tag\",\n",
       "        \"mostly\": 1.0,\n",
       "        \"value_set\": [\n",
       "          \"3.32.0\",\n",
       "          \"1.2.4\",\n",
       "          \"3.28.3\",\n",
       "          \"0.9.0\",\n",
       "          \"0.9.2\",\n",
       "          \"7.1.0\",\n",
       "          \"dev-data-apps-migration-7\",\n",
       "          \"3.40.1\",\n",
       "          \"1.17.1\",\n",
       "          \"2.0.4-1.5.0\",\n",
       "          \"2.3.3\",\n",
       "          \"1.5.0\",\n",
       "          \"1.14.0\",\n",
       "          \"0.4.0\",\n",
       "          \"3.40.0\",\n",
       "          \"7.0.0\",\n",
       "          \"3.49.0\",\n",
       "          \"3.47.0\",\n",
       "          \"1.12.3\",\n",
       "          \"4.2.14\",\n",
       "          \"latest\",\n",
       "          \"1.18.0\",\n",
       "          \"0.3.5\",\n",
       "          \"1.13.0\",\n",
       "          \"2.0.3-1.5.0\",\n",
       "          \"0.10.2\",\n",
       "          \"v2.5.5\",\n",
       "          \"3.29.0\",\n",
       "          \"4.2.13\",\n",
       "          \"1.1.0\",\n",
       "          \"1.16.2\",\n",
       "          \"1.2.1\",\n",
       "          \"3.27.2\",\n",
       "          \"4.3.0\",\n",
       "          \"6.2.0\",\n",
       "          \"1.16.1\",\n",
       "          \"2.0.2-1.5.0\",\n",
       "          \"1.17.0\",\n",
       "          \"1.15.0\",\n",
       "          \"1.9.5\",\n",
       "          \"2.0.1-1.5.0\",\n",
       "          \"3.35.2\",\n",
       "          \"2.7.3\",\n",
       "          \"2.0.0-1.5.0\",\n",
       "          \"1.2.5\",\n",
       "          \"2.7.1\",\n",
       "          \"3.7.7\",\n",
       "          \"1.2.6\",\n",
       "          \"1.3.4\",\n",
       "          \"1.16.0\",\n",
       "          \"3.30.0\",\n",
       "          \"0.9.1\",\n",
       "          \"1.3.0\",\n",
       "          \"1.2.3\",\n",
       "          \"3.28.4\",\n",
       "          \"1.6.0\",\n",
       "          \"2.7.2\",\n",
       "          \"1.2.0\"\n",
       "        ]\n",
       "      },\n",
       "      \"meta\": {\n",
       "        \"profiler_details\": {\n",
       "          \"metric_configuration\": {\n",
       "            \"metric_name\": \"column.distinct_values\",\n",
       "            \"domain_kwargs\": {\n",
       "              \"column\": \"tag\"\n",
       "            },\n",
       "            \"metric_value_kwargs\": null\n",
       "          },\n",
       "          \"num_batches\": 1,\n",
       "          \"parse_strings_as_datetimes\": false\n",
       "        }\n",
       "      }\n",
       "    },\n",
       "    {\n",
       "      \"expectation_type\": \"expect_column_unique_value_count_to_be_between\",\n",
       "      \"kwargs\": {\n",
       "        \"column\": \"tag\",\n",
       "        \"max_value\": 58,\n",
       "        \"strict_max\": false,\n",
       "        \"min_value\": 58,\n",
       "        \"strict_min\": false\n",
       "      },\n",
       "      \"meta\": {\n",
       "        \"profiler_details\": {\n",
       "          \"metric_configuration\": {\n",
       "            \"metric_name\": \"column.distinct_values.count\",\n",
       "            \"domain_kwargs\": {\n",
       "              \"column\": \"tag\"\n",
       "            },\n",
       "            \"metric_value_kwargs\": null\n",
       "          },\n",
       "          \"num_batches\": 1\n",
       "        }\n",
       "      }\n",
       "    },\n",
       "    {\n",
       "      \"expectation_type\": \"expect_column_proportion_of_unique_values_to_be_between\",\n",
       "      \"kwargs\": {\n",
       "        \"column\": \"tag\",\n",
       "        \"max_value\": 0.002217464444104603,\n",
       "        \"strict_max\": false,\n",
       "        \"min_value\": 0.002217464444104603,\n",
       "        \"strict_min\": false\n",
       "      },\n",
       "      \"meta\": {\n",
       "        \"profiler_details\": {\n",
       "          \"metric_configuration\": {\n",
       "            \"metric_name\": \"column.unique_proportion\",\n",
       "            \"domain_kwargs\": {\n",
       "              \"column\": \"tag\"\n",
       "            },\n",
       "            \"metric_value_kwargs\": null\n",
       "          },\n",
       "          \"num_batches\": 1\n",
       "        }\n",
       "      }\n",
       "    },\n",
       "    {\n",
       "      \"expectation_type\": \"expect_column_values_to_be_in_set\",\n",
       "      \"kwargs\": {\n",
       "        \"column\": \"usage_data\",\n",
       "        \"mostly\": 1.0,\n",
       "        \"value_set\": [\n",
       "          \"[]\"\n",
       "        ]\n",
       "      },\n",
       "      \"meta\": {\n",
       "        \"profiler_details\": {\n",
       "          \"metric_configuration\": {\n",
       "            \"metric_name\": \"column.distinct_values\",\n",
       "            \"domain_kwargs\": {\n",
       "              \"column\": \"usage_data\"\n",
       "            },\n",
       "            \"metric_value_kwargs\": null\n",
       "          },\n",
       "          \"num_batches\": 1,\n",
       "          \"parse_strings_as_datetimes\": false\n",
       "        }\n",
       "      }\n",
       "    },\n",
       "    {\n",
       "      \"expectation_type\": \"expect_column_unique_value_count_to_be_between\",\n",
       "      \"kwargs\": {\n",
       "        \"column\": \"usage_data\",\n",
       "        \"max_value\": 1,\n",
       "        \"strict_max\": false,\n",
       "        \"min_value\": 1,\n",
       "        \"strict_min\": false\n",
       "      },\n",
       "      \"meta\": {\n",
       "        \"profiler_details\": {\n",
       "          \"metric_configuration\": {\n",
       "            \"metric_name\": \"column.distinct_values.count\",\n",
       "            \"domain_kwargs\": {\n",
       "              \"column\": \"usage_data\"\n",
       "            },\n",
       "            \"metric_value_kwargs\": null\n",
       "          },\n",
       "          \"num_batches\": 1\n",
       "        }\n",
       "      }\n",
       "    },\n",
       "    {\n",
       "      \"expectation_type\": \"expect_column_proportion_of_unique_values_to_be_between\",\n",
       "      \"kwargs\": {\n",
       "        \"column\": \"usage_data\",\n",
       "        \"max_value\": 3.82321455880104e-05,\n",
       "        \"strict_max\": false,\n",
       "        \"min_value\": 3.82321455880104e-05,\n",
       "        \"strict_min\": false\n",
       "      },\n",
       "      \"meta\": {\n",
       "        \"profiler_details\": {\n",
       "          \"metric_configuration\": {\n",
       "            \"metric_name\": \"column.unique_proportion\",\n",
       "            \"domain_kwargs\": {\n",
       "              \"column\": \"usage_data\"\n",
       "            },\n",
       "            \"metric_value_kwargs\": null\n",
       "          },\n",
       "          \"num_batches\": 1\n",
       "        }\n",
       "      }\n",
       "    },\n",
       "    {\n",
       "      \"expectation_type\": \"expect_column_values_to_be_in_set\",\n",
       "      \"kwargs\": {\n",
       "        \"column\": \"isFinished\",\n",
       "        \"mostly\": 1.0,\n",
       "        \"value_set\": [\n",
       "          1\n",
       "        ]\n",
       "      },\n",
       "      \"meta\": {\n",
       "        \"profiler_details\": {\n",
       "          \"metric_configuration\": {\n",
       "            \"metric_name\": \"column.distinct_values\",\n",
       "            \"domain_kwargs\": {\n",
       "              \"column\": \"isFinished\"\n",
       "            },\n",
       "            \"metric_value_kwargs\": null\n",
       "          },\n",
       "          \"num_batches\": 1,\n",
       "          \"parse_strings_as_datetimes\": false\n",
       "        }\n",
       "      }\n",
       "    },\n",
       "    {\n",
       "      \"expectation_type\": \"expect_column_unique_value_count_to_be_between\",\n",
       "      \"kwargs\": {\n",
       "        \"column\": \"isFinished\",\n",
       "        \"max_value\": 1,\n",
       "        \"strict_max\": false,\n",
       "        \"min_value\": 1,\n",
       "        \"strict_min\": false\n",
       "      },\n",
       "      \"meta\": {\n",
       "        \"profiler_details\": {\n",
       "          \"metric_configuration\": {\n",
       "            \"metric_name\": \"column.distinct_values.count\",\n",
       "            \"domain_kwargs\": {\n",
       "              \"column\": \"isFinished\"\n",
       "            },\n",
       "            \"metric_value_kwargs\": null\n",
       "          },\n",
       "          \"num_batches\": 1\n",
       "        }\n",
       "      }\n",
       "    },\n",
       "    {\n",
       "      \"expectation_type\": \"expect_column_proportion_of_unique_values_to_be_between\",\n",
       "      \"kwargs\": {\n",
       "        \"column\": \"isFinished\",\n",
       "        \"max_value\": 3.82321455880104e-05,\n",
       "        \"strict_max\": false,\n",
       "        \"min_value\": 3.82321455880104e-05,\n",
       "        \"strict_min\": false\n",
       "      },\n",
       "      \"meta\": {\n",
       "        \"profiler_details\": {\n",
       "          \"metric_configuration\": {\n",
       "            \"metric_name\": \"column.unique_proportion\",\n",
       "            \"domain_kwargs\": {\n",
       "              \"column\": \"isFinished\"\n",
       "            },\n",
       "            \"metric_value_kwargs\": null\n",
       "          },\n",
       "          \"num_batches\": 1\n",
       "        }\n",
       "      }\n",
       "    },\n",
       "    {\n",
       "      \"expectation_type\": \"expect_column_values_to_be_in_set\",\n",
       "      \"kwargs\": {\n",
       "        \"column\": \"branchId\",\n",
       "        \"mostly\": 1.0,\n",
       "        \"value_set\": []\n",
       "      },\n",
       "      \"meta\": {\n",
       "        \"profiler_details\": {\n",
       "          \"metric_configuration\": {\n",
       "            \"metric_name\": \"column.distinct_values\",\n",
       "            \"domain_kwargs\": {\n",
       "              \"column\": \"branchId\"\n",
       "            },\n",
       "            \"metric_value_kwargs\": null\n",
       "          },\n",
       "          \"num_batches\": 1,\n",
       "          \"parse_strings_as_datetimes\": false\n",
       "        }\n",
       "      }\n",
       "    },\n",
       "    {\n",
       "      \"expectation_type\": \"expect_column_unique_value_count_to_be_between\",\n",
       "      \"kwargs\": {\n",
       "        \"column\": \"branchId\",\n",
       "        \"max_value\": 0,\n",
       "        \"strict_max\": false,\n",
       "        \"min_value\": 0,\n",
       "        \"strict_min\": false\n",
       "      },\n",
       "      \"meta\": {\n",
       "        \"profiler_details\": {\n",
       "          \"metric_configuration\": {\n",
       "            \"metric_name\": \"column.distinct_values.count\",\n",
       "            \"domain_kwargs\": {\n",
       "              \"column\": \"branchId\"\n",
       "            },\n",
       "            \"metric_value_kwargs\": null\n",
       "          },\n",
       "          \"num_batches\": 1\n",
       "        }\n",
       "      }\n",
       "    },\n",
       "    {\n",
       "      \"expectation_type\": \"expect_column_proportion_of_unique_values_to_be_between\",\n",
       "      \"kwargs\": {\n",
       "        \"column\": \"branchId\",\n",
       "        \"max_value\": 0,\n",
       "        \"strict_max\": false,\n",
       "        \"min_value\": 0,\n",
       "        \"strict_min\": false\n",
       "      },\n",
       "      \"meta\": {\n",
       "        \"profiler_details\": {\n",
       "          \"metric_configuration\": {\n",
       "            \"metric_name\": \"column.unique_proportion\",\n",
       "            \"domain_kwargs\": {\n",
       "              \"column\": \"branchId\"\n",
       "            },\n",
       "            \"metric_value_kwargs\": null\n",
       "          },\n",
       "          \"num_batches\": 1\n",
       "        }\n",
       "      }\n",
       "    },\n",
       "    {\n",
       "      \"expectation_type\": \"expect_column_values_to_be_in_set\",\n",
       "      \"kwargs\": {\n",
       "        \"column\": \"parallelism\",\n",
       "        \"mostly\": 1.0,\n",
       "        \"value_set\": []\n",
       "      },\n",
       "      \"meta\": {\n",
       "        \"profiler_details\": {\n",
       "          \"metric_configuration\": {\n",
       "            \"metric_name\": \"column.distinct_values\",\n",
       "            \"domain_kwargs\": {\n",
       "              \"column\": \"parallelism\"\n",
       "            },\n",
       "            \"metric_value_kwargs\": null\n",
       "          },\n",
       "          \"num_batches\": 1,\n",
       "          \"parse_strings_as_datetimes\": false\n",
       "        }\n",
       "      }\n",
       "    },\n",
       "    {\n",
       "      \"expectation_type\": \"expect_column_unique_value_count_to_be_between\",\n",
       "      \"kwargs\": {\n",
       "        \"column\": \"parallelism\",\n",
       "        \"max_value\": 0,\n",
       "        \"strict_max\": false,\n",
       "        \"min_value\": 0,\n",
       "        \"strict_min\": false\n",
       "      },\n",
       "      \"meta\": {\n",
       "        \"profiler_details\": {\n",
       "          \"metric_configuration\": {\n",
       "            \"metric_name\": \"column.distinct_values.count\",\n",
       "            \"domain_kwargs\": {\n",
       "              \"column\": \"parallelism\"\n",
       "            },\n",
       "            \"metric_value_kwargs\": null\n",
       "          },\n",
       "          \"num_batches\": 1\n",
       "        }\n",
       "      }\n",
       "    },\n",
       "    {\n",
       "      \"expectation_type\": \"expect_column_proportion_of_unique_values_to_be_between\",\n",
       "      \"kwargs\": {\n",
       "        \"column\": \"parallelism\",\n",
       "        \"max_value\": 0,\n",
       "        \"strict_max\": false,\n",
       "        \"min_value\": 0,\n",
       "        \"strict_min\": false\n",
       "      },\n",
       "      \"meta\": {\n",
       "        \"profiler_details\": {\n",
       "          \"metric_configuration\": {\n",
       "            \"metric_name\": \"column.unique_proportion\",\n",
       "            \"domain_kwargs\": {\n",
       "              \"column\": \"parallelism\"\n",
       "            },\n",
       "            \"metric_value_kwargs\": null\n",
       "          },\n",
       "          \"num_batches\": 1\n",
       "        }\n",
       "      }\n",
       "    },\n",
       "    {\n",
       "      \"expectation_type\": \"expect_column_values_to_be_in_set\",\n",
       "      \"kwargs\": {\n",
       "        \"column\": \"type\",\n",
       "        \"mostly\": 1.0,\n",
       "        \"value_set\": [\n",
       "          \"phaseContainer\",\n",
       "          \"orchestrationContainer\",\n",
       "          \"standard\"\n",
       "        ]\n",
       "      },\n",
       "      \"meta\": {\n",
       "        \"profiler_details\": {\n",
       "          \"metric_configuration\": {\n",
       "            \"metric_name\": \"column.distinct_values\",\n",
       "            \"domain_kwargs\": {\n",
       "              \"column\": \"type\"\n",
       "            },\n",
       "            \"metric_value_kwargs\": null\n",
       "          },\n",
       "          \"num_batches\": 1,\n",
       "          \"parse_strings_as_datetimes\": false\n",
       "        }\n",
       "      }\n",
       "    },\n",
       "    {\n",
       "      \"expectation_type\": \"expect_column_unique_value_count_to_be_between\",\n",
       "      \"kwargs\": {\n",
       "        \"column\": \"type\",\n",
       "        \"max_value\": 3,\n",
       "        \"strict_max\": false,\n",
       "        \"min_value\": 3,\n",
       "        \"strict_min\": false\n",
       "      },\n",
       "      \"meta\": {\n",
       "        \"profiler_details\": {\n",
       "          \"metric_configuration\": {\n",
       "            \"metric_name\": \"column.distinct_values.count\",\n",
       "            \"domain_kwargs\": {\n",
       "              \"column\": \"type\"\n",
       "            },\n",
       "            \"metric_value_kwargs\": null\n",
       "          },\n",
       "          \"num_batches\": 1\n",
       "        }\n",
       "      }\n",
       "    },\n",
       "    {\n",
       "      \"expectation_type\": \"expect_column_proportion_of_unique_values_to_be_between\",\n",
       "      \"kwargs\": {\n",
       "        \"column\": \"type\",\n",
       "        \"max_value\": 0.00011469643676403119,\n",
       "        \"strict_max\": false,\n",
       "        \"min_value\": 0.00011469643676403119,\n",
       "        \"strict_min\": false\n",
       "      },\n",
       "      \"meta\": {\n",
       "        \"profiler_details\": {\n",
       "          \"metric_configuration\": {\n",
       "            \"metric_name\": \"column.unique_proportion\",\n",
       "            \"domain_kwargs\": {\n",
       "              \"column\": \"type\"\n",
       "            },\n",
       "            \"metric_value_kwargs\": null\n",
       "          },\n",
       "          \"num_batches\": 1\n",
       "        }\n",
       "      }\n",
       "    },\n",
       "    {\n",
       "      \"expectation_type\": \"expect_column_values_to_be_in_set\",\n",
       "      \"kwargs\": {\n",
       "        \"column\": \"variable_values_data\",\n",
       "        \"mostly\": 1.0,\n",
       "        \"value_set\": [\n",
       "          \"[]\"\n",
       "        ]\n",
       "      },\n",
       "      \"meta\": {\n",
       "        \"profiler_details\": {\n",
       "          \"metric_configuration\": {\n",
       "            \"metric_name\": \"column.distinct_values\",\n",
       "            \"domain_kwargs\": {\n",
       "              \"column\": \"variable_values_data\"\n",
       "            },\n",
       "            \"metric_value_kwargs\": null\n",
       "          },\n",
       "          \"num_batches\": 1,\n",
       "          \"parse_strings_as_datetimes\": false\n",
       "        }\n",
       "      }\n",
       "    },\n",
       "    {\n",
       "      \"expectation_type\": \"expect_column_unique_value_count_to_be_between\",\n",
       "      \"kwargs\": {\n",
       "        \"column\": \"variable_values_data\",\n",
       "        \"max_value\": 1,\n",
       "        \"strict_max\": false,\n",
       "        \"min_value\": 1,\n",
       "        \"strict_min\": false\n",
       "      },\n",
       "      \"meta\": {\n",
       "        \"profiler_details\": {\n",
       "          \"metric_configuration\": {\n",
       "            \"metric_name\": \"column.distinct_values.count\",\n",
       "            \"domain_kwargs\": {\n",
       "              \"column\": \"variable_values_data\"\n",
       "            },\n",
       "            \"metric_value_kwargs\": null\n",
       "          },\n",
       "          \"num_batches\": 1\n",
       "        }\n",
       "      }\n",
       "    },\n",
       "    {\n",
       "      \"expectation_type\": \"expect_column_proportion_of_unique_values_to_be_between\",\n",
       "      \"kwargs\": {\n",
       "        \"column\": \"variable_values_data\",\n",
       "        \"max_value\": 3.82321455880104e-05,\n",
       "        \"strict_max\": false,\n",
       "        \"min_value\": 3.82321455880104e-05,\n",
       "        \"strict_min\": false\n",
       "      },\n",
       "      \"meta\": {\n",
       "        \"profiler_details\": {\n",
       "          \"metric_configuration\": {\n",
       "            \"metric_name\": \"column.unique_proportion\",\n",
       "            \"domain_kwargs\": {\n",
       "              \"column\": \"variable_values_data\"\n",
       "            },\n",
       "            \"metric_value_kwargs\": null\n",
       "          },\n",
       "          \"num_batches\": 1\n",
       "        }\n",
       "      }\n",
       "    },\n",
       "    {\n",
       "      \"expectation_type\": \"expect_column_values_to_be_in_set\",\n",
       "      \"kwargs\": {\n",
       "        \"column\": \"backend_context\",\n",
       "        \"mostly\": 1.0,\n",
       "        \"value_set\": [\n",
       "          \"7167-transformation\",\n",
       "          \"7167-writer\",\n",
       "          \"7167-other\",\n",
       "          \"7167-application\",\n",
       "          \"7167-extractor\"\n",
       "        ]\n",
       "      },\n",
       "      \"meta\": {\n",
       "        \"profiler_details\": {\n",
       "          \"metric_configuration\": {\n",
       "            \"metric_name\": \"column.distinct_values\",\n",
       "            \"domain_kwargs\": {\n",
       "              \"column\": \"backend_context\"\n",
       "            },\n",
       "            \"metric_value_kwargs\": null\n",
       "          },\n",
       "          \"num_batches\": 1,\n",
       "          \"parse_strings_as_datetimes\": false\n",
       "        }\n",
       "      }\n",
       "    },\n",
       "    {\n",
       "      \"expectation_type\": \"expect_column_unique_value_count_to_be_between\",\n",
       "      \"kwargs\": {\n",
       "        \"column\": \"backend_context\",\n",
       "        \"max_value\": 5,\n",
       "        \"strict_max\": false,\n",
       "        \"min_value\": 5,\n",
       "        \"strict_min\": false\n",
       "      },\n",
       "      \"meta\": {\n",
       "        \"profiler_details\": {\n",
       "          \"metric_configuration\": {\n",
       "            \"metric_name\": \"column.distinct_values.count\",\n",
       "            \"domain_kwargs\": {\n",
       "              \"column\": \"backend_context\"\n",
       "            },\n",
       "            \"metric_value_kwargs\": null\n",
       "          },\n",
       "          \"num_batches\": 1\n",
       "        }\n",
       "      }\n",
       "    },\n",
       "    {\n",
       "      \"expectation_type\": \"expect_column_proportion_of_unique_values_to_be_between\",\n",
       "      \"kwargs\": {\n",
       "        \"column\": \"backend_context\",\n",
       "        \"max_value\": 0.0004540501271340356,\n",
       "        \"strict_max\": false,\n",
       "        \"min_value\": 0.0004540501271340356,\n",
       "        \"strict_min\": false\n",
       "      },\n",
       "      \"meta\": {\n",
       "        \"profiler_details\": {\n",
       "          \"metric_configuration\": {\n",
       "            \"metric_name\": \"column.unique_proportion\",\n",
       "            \"domain_kwargs\": {\n",
       "              \"column\": \"backend_context\"\n",
       "            },\n",
       "            \"metric_value_kwargs\": null\n",
       "          },\n",
       "          \"num_batches\": 1\n",
       "        }\n",
       "      }\n",
       "    },\n",
       "    {\n",
       "      \"expectation_type\": \"expect_column_values_to_be_in_set\",\n",
       "      \"kwargs\": {\n",
       "        \"column\": \"behavior_on_error\",\n",
       "        \"mostly\": 1.0,\n",
       "        \"value_set\": [\n",
       "          \"stop\"\n",
       "        ]\n",
       "      },\n",
       "      \"meta\": {\n",
       "        \"profiler_details\": {\n",
       "          \"metric_configuration\": {\n",
       "            \"metric_name\": \"column.distinct_values\",\n",
       "            \"domain_kwargs\": {\n",
       "              \"column\": \"behavior_on_error\"\n",
       "            },\n",
       "            \"metric_value_kwargs\": null\n",
       "          },\n",
       "          \"num_batches\": 1,\n",
       "          \"parse_strings_as_datetimes\": false\n",
       "        }\n",
       "      }\n",
       "    },\n",
       "    {\n",
       "      \"expectation_type\": \"expect_column_unique_value_count_to_be_between\",\n",
       "      \"kwargs\": {\n",
       "        \"column\": \"behavior_on_error\",\n",
       "        \"max_value\": 1,\n",
       "        \"strict_max\": false,\n",
       "        \"min_value\": 1,\n",
       "        \"strict_min\": false\n",
       "      },\n",
       "      \"meta\": {\n",
       "        \"profiler_details\": {\n",
       "          \"metric_configuration\": {\n",
       "            \"metric_name\": \"column.distinct_values.count\",\n",
       "            \"domain_kwargs\": {\n",
       "              \"column\": \"behavior_on_error\"\n",
       "            },\n",
       "            \"metric_value_kwargs\": null\n",
       "          },\n",
       "          \"num_batches\": 1\n",
       "        }\n",
       "      }\n",
       "    },\n",
       "    {\n",
       "      \"expectation_type\": \"expect_column_proportion_of_unique_values_to_be_between\",\n",
       "      \"kwargs\": {\n",
       "        \"column\": \"behavior_on_error\",\n",
       "        \"max_value\": 9.358914365933551e-05,\n",
       "        \"strict_max\": false,\n",
       "        \"min_value\": 9.358914365933551e-05,\n",
       "        \"strict_min\": false\n",
       "      },\n",
       "      \"meta\": {\n",
       "        \"profiler_details\": {\n",
       "          \"metric_configuration\": {\n",
       "            \"metric_name\": \"column.unique_proportion\",\n",
       "            \"domain_kwargs\": {\n",
       "              \"column\": \"behavior_on_error\"\n",
       "            },\n",
       "            \"metric_value_kwargs\": null\n",
       "          },\n",
       "          \"num_batches\": 1\n",
       "        }\n",
       "      }\n",
       "    },\n",
       "    {\n",
       "      \"expectation_type\": \"expect_column_values_to_be_in_set\",\n",
       "      \"kwargs\": {\n",
       "        \"column\": \"metrics_backend_size\",\n",
       "        \"mostly\": 1.0,\n",
       "        \"value_set\": [\n",
       "          \"small\",\n",
       "          \"medium\"\n",
       "        ]\n",
       "      },\n",
       "      \"meta\": {\n",
       "        \"profiler_details\": {\n",
       "          \"metric_configuration\": {\n",
       "            \"metric_name\": \"column.distinct_values\",\n",
       "            \"domain_kwargs\": {\n",
       "              \"column\": \"metrics_backend_size\"\n",
       "            },\n",
       "            \"metric_value_kwargs\": null\n",
       "          },\n",
       "          \"num_batches\": 1,\n",
       "          \"parse_strings_as_datetimes\": false\n",
       "        }\n",
       "      }\n",
       "    },\n",
       "    {\n",
       "      \"expectation_type\": \"expect_column_unique_value_count_to_be_between\",\n",
       "      \"kwargs\": {\n",
       "        \"column\": \"metrics_backend_size\",\n",
       "        \"max_value\": 2,\n",
       "        \"strict_max\": false,\n",
       "        \"min_value\": 2,\n",
       "        \"strict_min\": false\n",
       "      },\n",
       "      \"meta\": {\n",
       "        \"profiler_details\": {\n",
       "          \"metric_configuration\": {\n",
       "            \"metric_name\": \"column.distinct_values.count\",\n",
       "            \"domain_kwargs\": {\n",
       "              \"column\": \"metrics_backend_size\"\n",
       "            },\n",
       "            \"metric_value_kwargs\": null\n",
       "          },\n",
       "          \"num_batches\": 1\n",
       "        }\n",
       "      }\n",
       "    },\n",
       "    {\n",
       "      \"expectation_type\": \"expect_column_proportion_of_unique_values_to_be_between\",\n",
       "      \"kwargs\": {\n",
       "        \"column\": \"metrics_backend_size\",\n",
       "        \"max_value\": 0.00042399830400678397,\n",
       "        \"strict_max\": false,\n",
       "        \"min_value\": 0.00042399830400678397,\n",
       "        \"strict_min\": false\n",
       "      },\n",
       "      \"meta\": {\n",
       "        \"profiler_details\": {\n",
       "          \"metric_configuration\": {\n",
       "            \"metric_name\": \"column.unique_proportion\",\n",
       "            \"domain_kwargs\": {\n",
       "              \"column\": \"metrics_backend_size\"\n",
       "            },\n",
       "            \"metric_value_kwargs\": null\n",
       "          },\n",
       "          \"num_batches\": 1\n",
       "        }\n",
       "      }\n",
       "    },\n",
       "    {\n",
       "      \"expectation_type\": \"expect_column_values_to_be_in_set\",\n",
       "      \"kwargs\": {\n",
       "        \"column\": \"metrics_backend_context\",\n",
       "        \"mostly\": 1.0,\n",
       "        \"value_set\": [\n",
       "          \"7167-transformation\",\n",
       "          \"7167-writer\",\n",
       "          \"7167-other\",\n",
       "          \"7167-application\",\n",
       "          \"7167-extractor\"\n",
       "        ]\n",
       "      },\n",
       "      \"meta\": {\n",
       "        \"profiler_details\": {\n",
       "          \"metric_configuration\": {\n",
       "            \"metric_name\": \"column.distinct_values\",\n",
       "            \"domain_kwargs\": {\n",
       "              \"column\": \"metrics_backend_context\"\n",
       "            },\n",
       "            \"metric_value_kwargs\": null\n",
       "          },\n",
       "          \"num_batches\": 1,\n",
       "          \"parse_strings_as_datetimes\": false\n",
       "        }\n",
       "      }\n",
       "    },\n",
       "    {\n",
       "      \"expectation_type\": \"expect_column_unique_value_count_to_be_between\",\n",
       "      \"kwargs\": {\n",
       "        \"column\": \"metrics_backend_context\",\n",
       "        \"max_value\": 5,\n",
       "        \"strict_max\": false,\n",
       "        \"min_value\": 5,\n",
       "        \"strict_min\": false\n",
       "      },\n",
       "      \"meta\": {\n",
       "        \"profiler_details\": {\n",
       "          \"metric_configuration\": {\n",
       "            \"metric_name\": \"column.distinct_values.count\",\n",
       "            \"domain_kwargs\": {\n",
       "              \"column\": \"metrics_backend_context\"\n",
       "            },\n",
       "            \"metric_value_kwargs\": null\n",
       "          },\n",
       "          \"num_batches\": 1\n",
       "        }\n",
       "      }\n",
       "    },\n",
       "    {\n",
       "      \"expectation_type\": \"expect_column_proportion_of_unique_values_to_be_between\",\n",
       "      \"kwargs\": {\n",
       "        \"column\": \"metrics_backend_context\",\n",
       "        \"max_value\": 0.0004540913631822723,\n",
       "        \"strict_max\": false,\n",
       "        \"min_value\": 0.0004540913631822723,\n",
       "        \"strict_min\": false\n",
       "      },\n",
       "      \"meta\": {\n",
       "        \"profiler_details\": {\n",
       "          \"metric_configuration\": {\n",
       "            \"metric_name\": \"column.unique_proportion\",\n",
       "            \"domain_kwargs\": {\n",
       "              \"column\": \"metrics_backend_context\"\n",
       "            },\n",
       "            \"metric_value_kwargs\": null\n",
       "          },\n",
       "          \"num_batches\": 1\n",
       "        }\n",
       "      }\n",
       "    },\n",
       "    {\n",
       "      \"expectation_type\": \"expect_column_values_to_be_in_set\",\n",
       "      \"kwargs\": {\n",
       "        \"column\": \"metrics_backend_container_size\",\n",
       "        \"mostly\": 1.0,\n",
       "        \"value_set\": [\n",
       "          \"small\",\n",
       "          \"medium\"\n",
       "        ]\n",
       "      },\n",
       "      \"meta\": {\n",
       "        \"profiler_details\": {\n",
       "          \"metric_configuration\": {\n",
       "            \"metric_name\": \"column.distinct_values\",\n",
       "            \"domain_kwargs\": {\n",
       "              \"column\": \"metrics_backend_container_size\"\n",
       "            },\n",
       "            \"metric_value_kwargs\": null\n",
       "          },\n",
       "          \"num_batches\": 1,\n",
       "          \"parse_strings_as_datetimes\": false\n",
       "        }\n",
       "      }\n",
       "    },\n",
       "    {\n",
       "      \"expectation_type\": \"expect_column_unique_value_count_to_be_between\",\n",
       "      \"kwargs\": {\n",
       "        \"column\": \"metrics_backend_container_size\",\n",
       "        \"max_value\": 2,\n",
       "        \"strict_max\": false,\n",
       "        \"min_value\": 2,\n",
       "        \"strict_min\": false\n",
       "      },\n",
       "      \"meta\": {\n",
       "        \"profiler_details\": {\n",
       "          \"metric_configuration\": {\n",
       "            \"metric_name\": \"column.distinct_values.count\",\n",
       "            \"domain_kwargs\": {\n",
       "              \"column\": \"metrics_backend_container_size\"\n",
       "            },\n",
       "            \"metric_value_kwargs\": null\n",
       "          },\n",
       "          \"num_batches\": 1\n",
       "        }\n",
       "      }\n",
       "    },\n",
       "    {\n",
       "      \"expectation_type\": \"expect_column_proportion_of_unique_values_to_be_between\",\n",
       "      \"kwargs\": {\n",
       "        \"column\": \"metrics_backend_container_size\",\n",
       "        \"max_value\": 0.0001816365452729089,\n",
       "        \"strict_max\": false,\n",
       "        \"min_value\": 0.0001816365452729089,\n",
       "        \"strict_min\": false\n",
       "      },\n",
       "      \"meta\": {\n",
       "        \"profiler_details\": {\n",
       "          \"metric_configuration\": {\n",
       "            \"metric_name\": \"column.unique_proportion\",\n",
       "            \"domain_kwargs\": {\n",
       "              \"column\": \"metrics_backend_container_size\"\n",
       "            },\n",
       "            \"metric_value_kwargs\": null\n",
       "          },\n",
       "          \"num_batches\": 1\n",
       "        }\n",
       "      }\n",
       "    },\n",
       "    {\n",
       "      \"expectation_type\": \"expect_column_values_to_be_in_set\",\n",
       "      \"kwargs\": {\n",
       "        \"column\": \"result_images\",\n",
       "        \"mostly\": 1.0,\n",
       "        \"value_set\": [\n",
       "          \"[[{\\\"id\\\":\\\"developer-portal-v2\\\\/keboola.ex-http:v2.5.5\\\",\\\"digests\\\":[\\\"developer-portal-v2\\\\/keboola.ex-http@sha256:55b3d56f0d05215c117e61db378b6b8559ae61630d550cc9335abeed05803050\\\"]},{\\\"id\\\":\\\"developer-portal-v2\\\\/keboola.processor-decompress:v4.3.0\\\",\\\"digests\\\":[\\\"developer-portal-v2\\\\/keboola.processor-decompress@sha256:12000010ac552e7286a37b33cdd27f0c6620779265c09fc29d96cf4507f2ae3f\\\"]},{\\\"id\\\":\\\"developer-portal-v2\\\\/keboola.processor-move-files:v3.1.0\\\",\\\"digests\\\":[\\\"developer-portal-v2\\\\/keboola.processor-move-files@sha256:e9f9e67911cef9af68cebace7d14a7217af483a568669d9d2fd9015da97de637\\\"]},{\\\"id\\\":\\\"developer-portal-v2\\\\/keboola.processor-flatten-folders:v1.2.0\\\",\\\"digests\\\":[\\\"developer-portal-v2\\\\/keboola.processor-flatten-folders@sha256:069d609f7f9ea49a3119ab50c4664a017dfa231adbd9497dfe1f931e3e1a1d71\\\"]},{\\\"id\\\":\\\"developer-portal-v2\\\\/keboola.processor-iconv:4.0.3\\\",\\\"digests\\\":[\\\"developer-portal-v2\\\\/keboola.processor-iconv@sha256:3bd3ac3b2366120cd41f3c0c8b390a79ba1f0fa704be1bc102173c7720efcab6\\\"]},{\\\"id\\\":\\\"developer-portal-v2\\\\/keboola.processor-create-manifest:v0.4.2\\\",\\\"digests\\\":[\\\"developer-portal-v2\\\\/keboola.processor-create-manifest@sha256:13acf59f48df4244a8d9ea571c961bb2ecfb99667f6f46148cdd95d572359b67\\\"]},{\\\"id\\\":\\\"developer-portal-v2\\\\/keboola.processor-skip-lines:2.2.0\\\",\\\"digests\\\":[\\\"developer-portal-v2\\\\/keboola.processor-skip-lines@sha256:b30d0291a5d098a3bc86cfe1094c9f580566c97f184979620141f01532c1d21e\\\"]}]]\",\n",
       "          \"[[{\\\"id\\\":\\\"developer-portal-v2\\\\/keboola.dbt-transformation:1.17.1\\\",\\\"digests\\\":[\\\"developer-portal-v2\\\\/keboola.dbt-transformation@sha256:71a8d441fc226254298b602e78362d94490a91be4b1c6861ac4d09131179d682\\\"]}]]\",\n",
       "          \"[[{\\\"id\\\":\\\"developer-portal-v2\\\\/ex-generic-v2:4.2.14\\\",\\\"digests\\\":[\\\"developer-portal-v2\\\\/ex-generic-v2@sha256:a7ff9308c9a892f16b9187a9664ace8af8151c54e6b6351e64cdec784006c571\\\"]}]]\",\n",
       "          \"[[{\\\"id\\\":\\\"developer-portal-v2\\\\/keboola.dbt-transformation:1.14.0\\\",\\\"digests\\\":[\\\"developer-portal-v2\\\\/keboola.dbt-transformation@sha256:2d2ffb40ea3e417ddd38296c9824a260c2f3b5624c4686c7850296a4c2c465b0\\\"]}]]\",\n",
       "          \"[[{\\\"id\\\":\\\"developer-portal-v2\\\\/keboola.ex-db-mysql:7.1.0\\\",\\\"digests\\\":[\\\"developer-portal-v2\\\\/keboola.ex-db-mysql@sha256:dd55198010b3fec23b1f8122be3bbbe8a40c2831ad72e26f3e65767cd0ab648c\\\"]}]]\",\n",
       "          \"[[{\\\"id\\\":\\\"developer-portal-v2\\\\/keboola.dbt-transformation:2.0.4-1.5.0\\\",\\\"digests\\\":[\\\"developer-portal-v2\\\\/keboola.dbt-transformation@sha256:6ee180b534fd6b72fbc699156a34c4de1cc0d16df045f9cb9c7b45a992777e1f\\\"]}]]\",\n",
       "          \"[[{\\\"id\\\":\\\"developer-portal-v2\\\\/keboola.sandboxes:3.32.0\\\",\\\"digests\\\":[\\\"developer-portal-v2\\\\/keboola.sandboxes@sha256:5905a7ffa6a0ab3e65a56e13d88c4b781dd3772a7fa57a9661fcba95090a937b\\\"]}]]\",\n",
       "          \"[[{\\\"id\\\":\\\"developer-portal-v2\\\\/keboola.sandboxes:3.35.2\\\",\\\"digests\\\":[\\\"developer-portal-v2\\\\/keboola.sandboxes@sha256:8f2f1de6eb442e6b4a04eb92d6147dc26173e37b11c739df38bdc241bb9bd299\\\"]}]]\",\n",
       "          \"[[{\\\"id\\\":\\\"developer-portal-v2\\\\/keboola.dbt-transformation:1.16.1\\\",\\\"digests\\\":[\\\"developer-portal-v2\\\\/keboola.dbt-transformation@sha256:f743de3a333161e4102c513523c2793ce8ed749508a7f8b90cae91ee8c0b94fe\\\"]}]]\",\n",
       "          \"[[{\\\"id\\\":\\\"developer-portal-v2\\\\/keboola.no-code-dbt-transformation:1.2.0\\\",\\\"digests\\\":[\\\"developer-portal-v2\\\\/keboola.no-code-dbt-transformation@sha256:4222394982d8482ac92f236de8c5f723743920a8cfc6862ed886ab34bb0430b6\\\"]}]]\",\n",
       "          \"[[{\\\"id\\\":\\\"developer-portal-v2\\\\/keboola.sandboxes:3.29.0\\\",\\\"digests\\\":[\\\"developer-portal-v2\\\\/keboola.sandboxes@sha256:4446269e4d31cb99a2e37bb65c07375347b3901bfe59f82fadefffa9cd88c303\\\"]}]]\",\n",
       "          \"[[{\\\"id\\\":\\\"developer-portal-v2\\\\/keboola.sandboxes:3.40.1\\\",\\\"digests\\\":[\\\"developer-portal-v2\\\\/keboola.sandboxes@sha256:e980dad9fb62b445d6bfb3ca0fb10336b46c2a75e750c8134fb0a16febb023f9\\\"]}]]\",\n",
       "          \"[[{\\\"id\\\":\\\"developer-portal-v2\\\\/keboola.ex-google-drive:2.7.1\\\",\\\"digests\\\":[\\\"developer-portal-v2\\\\/keboola.ex-google-drive@sha256:5e0773f7aa9cfb0342667584d69c837c9307b897f236381b68eaeadeadfb24cf\\\"]}]]\",\n",
       "          \"[[{\\\"id\\\":\\\"developer-portal-v2\\\\/keboola.sliced-files-downloader:1.3.0\\\",\\\"digests\\\":[\\\"developer-portal-v2\\\\/keboola.sliced-files-downloader@sha256:85423d653cf44efe4f186bef8e079b3068d22513b16e1e60093b0b9dfe93b577\\\"]}]]\",\n",
       "          \"[[{\\\"id\\\":\\\"developer-portal-v2\\\\/keboola.sandboxes:3.49.0\\\",\\\"digests\\\":[\\\"developer-portal-v2\\\\/keboola.data-apps@sha256:7d2c007788d2d8a3c6f1c24129a5828ba92118e72889a8361e6b7e53d4fea917\\\",\\\"developer-portal-v2\\\\/keboola.sandboxes@sha256:7d2c007788d2d8a3c6f1c24129a5828ba92118e72889a8361e6b7e53d4fea917\\\"]}]]\",\n",
       "          \"[[{\\\"id\\\":\\\"developer-portal-v2\\\\/keboola.ex-google-drive:2.7.2\\\",\\\"digests\\\":[\\\"developer-portal-v2\\\\/keboola.ex-google-drive@sha256:7fefc44b350020f35769a15fadba09f7c75b4f6d93afdbf8191e1e4a2d3154e5\\\"]}]]\",\n",
       "          \"[[{\\\"id\\\":\\\"developer-portal-v2\\\\/kds-team.ex-jira:1.2.3\\\",\\\"digests\\\":[\\\"developer-portal-v2\\\\/kds-team.ex-jira@sha256:e7cbf98b0d1e3d55393564a5a5b59e1140d20d55074d41ccfad6ed7d87c12eed\\\"]}]]\",\n",
       "          \"[[{\\\"id\\\":\\\"developer-portal-v2\\\\/keboola.ex-db-mysql:7.0.0\\\",\\\"digests\\\":[\\\"developer-portal-v2\\\\/keboola.ex-db-mysql@sha256:52a70bbf3280b324e40a04d024f333e3bbebd9dd0be85d2ce661c898b6317b09\\\"]}]]\",\n",
       "          \"[[{\\\"id\\\":\\\"developer-portal-v2\\\\/kds-team.ex-jira:1.2.6\\\",\\\"digests\\\":[\\\"developer-portal-v2\\\\/kds-team.ex-jira@sha256:5d5e6c2c6c4abffee25a40c03fedd8a1233ac6f811a211565fb790d1f8683f2f\\\"]}]]\",\n",
       "          \"[[{\\\"id\\\":\\\"developer-portal-v2\\\\/keboola.dbt-transformation:1.16.2\\\",\\\"digests\\\":[\\\"developer-portal-v2\\\\/keboola.dbt-transformation@sha256:12ce906db842d74dc7e50de72859a938a6b64017688456621289df0eadb631d2\\\"]}]]\",\n",
       "          \"[[{\\\"id\\\":\\\"developer-portal-v2\\\\/ex-generic-v2:4.2.13\\\",\\\"digests\\\":[\\\"developer-portal-v2\\\\/ex-generic-v2@sha256:134c1527fdd661a6dde9eea998bc774f32d93d4a3b72c680a23c7186a09f5678\\\"]}]]\",\n",
       "          \"[[{\\\"id\\\":\\\"developer-portal-v2\\\\/keboola.dbt-transformation:2.0.0-1.5.0\\\",\\\"digests\\\":[\\\"developer-portal-v2\\\\/keboola.dbt-transformation@sha256:3544d19821f78bb74f79c57aba5c4155705314fe2575990e09933e6efe93ce5b\\\"]}]]\",\n",
       "          \"[[{\\\"id\\\":\\\"developer-portal-v2\\\\/keboola.ex-http:v2.5.5\\\",\\\"digests\\\":[\\\"developer-portal-v2\\\\/keboola.ex-http@sha256:55b3d56f0d05215c117e61db378b6b8559ae61630d550cc9335abeed05803050\\\"]},{\\\"id\\\":\\\"developer-portal-v2\\\\/keboola.processor-decompress:v4.3.0\\\",\\\"digests\\\":[\\\"developer-portal-v2\\\\/keboola.processor-decompress@sha256:12000010ac552e7286a37b33cdd27f0c6620779265c09fc29d96cf4507f2ae3f\\\"]},{\\\"id\\\":\\\"developer-portal-v2\\\\/keboola.processor-move-files:v3.1.0\\\",\\\"digests\\\":[\\\"developer-portal-v2\\\\/keboola.processor-move-files@sha256:e9f9e67911cef9af68cebace7d14a7217af483a568669d9d2fd9015da97de637\\\"]},{\\\"id\\\":\\\"developer-portal-v2\\\\/keboola.processor-flatten-folders:v1.2.0\\\",\\\"digests\\\":[\\\"developer-portal-v2\\\\/keboola.processor-flatten-folders@sha256:069d609f7f9ea49a3119ab50c4664a017dfa231adbd9497dfe1f931e3e1a1d71\\\"]},{\\\"id\\\":\\\"developer-portal-v2\\\\/keboola.processor-create-manifest:v0.4.2\\\",\\\"digests\\\":[\\\"developer-portal-v2\\\\/keboola.processor-create-manifest@sha256:13acf59f48df4244a8d9ea571c961bb2ecfb99667f6f46148cdd95d572359b67\\\"]},{\\\"id\\\":\\\"developer-portal-v2\\\\/keboola.processor-skip-lines:2.2.0\\\",\\\"digests\\\":[\\\"developer-portal-v2\\\\/keboola.processor-skip-lines@sha256:b30d0291a5d098a3bc86cfe1094c9f580566c97f184979620141f01532c1d21e\\\"]}]]\",\n",
       "          \"[[{\\\"id\\\":\\\"developer-portal-v2\\\\/keboola.sandboxes:3.40.0\\\",\\\"digests\\\":[\\\"developer-portal-v2\\\\/keboola.sandboxes@sha256:5b53af30596b9afdd87284244c1a7af19b8ccd42620452b70241a7dc40ae996b\\\"]}]]\",\n",
       "          \"[[{\\\"id\\\":\\\"developer-portal-v2\\\\/keboola.snowflake-transformation:0.10.2\\\",\\\"digests\\\":[\\\"developer-portal-v2\\\\/keboola.snowflake-transformation@sha256:abaa563e78c21bef3b6be5daea33ad83da700cab9a84cc1324d64bc167af67e1\\\"]}]]\",\n",
       "          \"[[{\\\"id\\\":\\\"developer-portal-v2\\\\/keboola.dbt-transformation:1.13.0\\\",\\\"digests\\\":[\\\"developer-portal-v2\\\\/keboola.dbt-transformation@sha256:f712ffc1a10c6171a9075e5c39acb2738d328f28302755baa49dce10b7192453\\\"]}]]\",\n",
       "          \"[[{\\\"id\\\":\\\"developer-portal-v2\\\\/keboola.dbt-transformation:1.12.3\\\",\\\"digests\\\":[\\\"developer-portal-v2\\\\/keboola.dbt-transformation@sha256:bbb49fc4b0088f14c090400b8300c893a8120a705ff13fea5874ad288b92938d\\\"]}]]\",\n",
       "          \"[[{\\\"id\\\":\\\"developer-portal-v2\\\\/keboola.no-code-dbt-transformation:1.2.1\\\",\\\"digests\\\":[\\\"developer-portal-v2\\\\/keboola.no-code-dbt-transformation@sha256:a859003e50eff0aa1eb9523830eeddeaee3f60909308468ada4268a91ef5ae9e\\\"]}]]\",\n",
       "          \"[[{\\\"id\\\":\\\"developer-portal-v2\\\\/kds-team.ex-kbc-project-metadata-v2:2.3.3\\\",\\\"digests\\\":[\\\"developer-portal-v2\\\\/kds-team.ex-kbc-project-metadata-v2@sha256:83c4daec12aca92dbee92488e2068f08af5cec60006c264f3243fa905dde34a0\\\"]}]]\",\n",
       "          \"[[{\\\"id\\\":\\\"developer-portal-v2\\\\/keboola.wr-openlineage:1.1.0\\\",\\\"digests\\\":[\\\"developer-portal-v2\\\\/keboola.wr-openlineage@sha256:06ada18ef1553f302ef68f19d4c7de1ea021c639fab30c75a5f7d35728d6dd3f\\\"]}]]\",\n",
       "          \"[]\",\n",
       "          \"[[{\\\"id\\\":\\\"developer-portal-v2\\\\/keboola.python-transformation-v2:1.3.4\\\",\\\"digests\\\":[\\\"developer-portal-v2\\\\/keboola.python-transformation-v2@sha256:75cee6c754fc10960c010a888ef7fec4fc8493d9d9c2b2b98514a3b8b480eb10\\\"]}]]\",\n",
       "          \"[[{\\\"id\\\":\\\"developer-portal-v2\\\\/kds-team.ex-jira:1.2.5\\\",\\\"digests\\\":[\\\"developer-portal-v2\\\\/kds-team.ex-jira@sha256:7a91b25768e6cc075098449008901991e0e1948fb6727e752077d86d491c67b9\\\"]}]]\",\n",
       "          \"[[{\\\"id\\\":\\\"developer-portal-v2\\\\/keboola.dbt-transformation:2.0.1-1.5.0\\\",\\\"digests\\\":[\\\"developer-portal-v2\\\\/keboola.dbt-transformation@sha256:531c37b11711796ca7dfb7ee26e9de42e9df11c9c302950ca3eb9baf6f66f527\\\"]}]]\",\n",
       "          \"[[{\\\"id\\\":\\\"developer-portal-v2\\\\/keboola.ex-http:v2.5.5\\\",\\\"digests\\\":[\\\"developer-portal-v2\\\\/keboola.ex-http@sha256:55b3d56f0d05215c117e61db378b6b8559ae61630d550cc9335abeed05803050\\\"]}]]\",\n",
       "          \"[[{\\\"id\\\":\\\"developer-portal-v2\\\\/keboola.sapi-merged-export:0.4.0\\\",\\\"digests\\\":[\\\"developer-portal-v2\\\\/keboola.sapi-merged-export@sha256:97ee568ff43e13672936f8832e15980618e91fdd2498f69c9f03afc603b17ec6\\\"]}]]\",\n",
       "          \"[[{\\\"id\\\":\\\"developer-portal-v2\\\\/keboola.sandboxes:dev-data-apps-migration-7\\\",\\\"digests\\\":[\\\"developer-portal-v2\\\\/keboola.sandboxes@sha256:c6b3caf78cd80a220785bfd803a280f334c5420d59e67af6ad12ec0f589346d4\\\"]}]]\",\n",
       "          \"[[{\\\"id\\\":\\\"developer-portal-v2\\\\/kds-team.ex-google-translation:0.3.5\\\",\\\"digests\\\":[\\\"developer-portal-v2\\\\/kds-team.ex-google-translation@sha256:4b97220b86a980a1627a87fc5a42b1dfed15fa684bd5eafa8c90044fab5d2b89\\\"]}]]\",\n",
       "          \"[[{\\\"id\\\":\\\"developer-portal-v2\\\\/ex-generic-v2:4.3.0\\\",\\\"digests\\\":[\\\"developer-portal-v2\\\\/ex-generic-v2@sha256:9bfdcc6c9a994c20b9550f017bc2322cb5860f372202131458062ea44a2d189d\\\"]}]]\",\n",
       "          \"[[{\\\"id\\\":\\\"developer-portal-v2\\\\/keboola.sandboxes:3.28.3\\\",\\\"digests\\\":[\\\"developer-portal-v2\\\\/keboola.sandboxes@sha256:724f3be448c987d1caf7e9e2fbb1e93e3fd5c003c9140e720d137e6cc6b35b03\\\"]}]]\",\n",
       "          \"[[{\\\"id\\\":\\\"developer-portal-v2\\\\/ex-generic-v2:3.7.7\\\",\\\"digests\\\":[\\\"developer-portal-v2\\\\/ex-generic-v2@sha256:94cfffd999f111f40c6c92773001aedef142fdaa7601a5bb511949c6ae66e37d\\\"]}]]\",\n",
       "          \"[[{\\\"id\\\":\\\"developer-portal-v2\\\\/keboola.ex-google-drive:2.7.3\\\",\\\"digests\\\":[\\\"developer-portal-v2\\\\/keboola.ex-google-drive@sha256:6cbbe414ad84c372f8d78ded8c596251e34d7453beb2366bbe077137a07d8dbd\\\"]}]]\",\n",
       "          \"[[{\\\"id\\\":\\\"developer-portal-v2\\\\/keboola.dbt-transformation:2.0.2-1.5.0\\\",\\\"digests\\\":[\\\"developer-portal-v2\\\\/keboola.dbt-transformation@sha256:d8798f8fbbfe7b66254af877f6010e6c3a066efec9148c8a0ea6c33f26ca6d62\\\"]}]]\",\n",
       "          \"[[{\\\"id\\\":\\\"developer-portal-v2\\\\/keboola.ex-db-snowflake:6.2.0\\\",\\\"digests\\\":[\\\"developer-portal-v2\\\\/keboola.ex-db-snowflake@sha256:d4a40119827f746fb6eb792057a5b1958207684dc1e4cf6a4c5012541aff99ef\\\"]}]]\",\n",
       "          \"[[{\\\"id\\\":\\\"developer-portal-v2\\\\/keboola.sandboxes:3.28.4\\\",\\\"digests\\\":[\\\"developer-portal-v2\\\\/keboola.sandboxes@sha256:a247b37861339618668d1354413cd0a88438b06763a64ede2c6904ce56bbcb4c\\\"]}]]\",\n",
       "          \"[[{\\\"id\\\":\\\"developer-portal-v2\\\\/keboola.dbt-transformation:1.18.0\\\",\\\"digests\\\":[\\\"developer-portal-v2\\\\/keboola.dbt-transformation@sha256:8841d15c79db3f62d3a04efb57f3122265d606cbe1d993ad20ce57d5c8db7bec\\\"]}]]\",\n",
       "          \"[[{\\\"id\\\":\\\"developer-portal-v2\\\\/keboola.snowflake-transformation:0.9.2\\\",\\\"digests\\\":[\\\"developer-portal-v2\\\\/keboola.snowflake-transformation@sha256:f6c358475df68b7061461ea86a8f46bd73ee31cd1c5a94feb761e227a8bc13eb\\\"]}]]\",\n",
       "          \"[[{\\\"id\\\":\\\"developer-portal-v2\\\\/keboola.dbt-transformation:2.0.3-1.5.0\\\",\\\"digests\\\":[\\\"developer-portal-v2\\\\/keboola.dbt-transformation@sha256:a2419a6a0451cd61207378cdc7be5ab9396aadcb3dacc810c541d1934fced998\\\"]}]]\",\n",
       "          \"[[{\\\"id\\\":\\\"developer-portal-v2\\\\/keboola.sandboxes:3.27.2\\\",\\\"digests\\\":[\\\"developer-portal-v2\\\\/keboola.sandboxes@sha256:29717c424c175c3e27285c0ee7b98f2cb49251647046ae44992308fa13b69c93\\\"]}]]\",\n",
       "          \"[[{\\\"id\\\":\\\"developer-portal-v2\\\\/kds-team.ex-jira:1.2.4\\\",\\\"digests\\\":[\\\"developer-portal-v2\\\\/kds-team.ex-jira@sha256:93e23e801f3caad89e7a4744212ca6a960db6ed5366657b875942a3501c8613b\\\"]}]]\",\n",
       "          \"[[{\\\"id\\\":\\\"developer-portal-v2\\\\/kds-team.ex-jira:1.3.0\\\",\\\"digests\\\":[\\\"developer-portal-v2\\\\/kds-team.ex-jira@sha256:fcbc76e0efdafe423219327403a938f6b962eed2d2717cefbc21b749caf7e21e\\\"]}]]\",\n",
       "          \"[[{\\\"id\\\":\\\"developer-portal-v2\\\\/keboola.dbt-transformation:1.16.0\\\",\\\"digests\\\":[\\\"developer-portal-v2\\\\/keboola.dbt-transformation@sha256:58221407131cc20c78fc5274249cd34b4f1961d32a61afaa56120b2407cf93af\\\"]}]]\",\n",
       "          \"[[{\\\"id\\\":\\\"developer-portal-v2\\\\/keboola.sandboxes:3.30.0\\\",\\\"digests\\\":[\\\"developer-portal-v2\\\\/keboola.sandboxes@sha256:7fa6679e851dd34eed9efcc72ca2e00ef0d64e056eb08f13191a001cd53ba29c\\\"]}]]\",\n",
       "          \"[[{\\\"id\\\":\\\"developer-portal-v2\\\\/keboola.sandboxes:3.47.0\\\",\\\"digests\\\":[\\\"developer-portal-v2\\\\/keboola.data-apps@sha256:69a5138347327952bb7a88658cd75f42763804bed01feb97fdb9ab0f2c582668\\\",\\\"developer-portal-v2\\\\/keboola.sandboxes@sha256:69a5138347327952bb7a88658cd75f42763804bed01feb97fdb9ab0f2c582668\\\"]}]]\",\n",
       "          \"[[{\\\"id\\\":\\\"developer-portal-v2\\\\/keboola.snowflake-transformation:0.9.0\\\",\\\"digests\\\":[\\\"developer-portal-v2\\\\/keboola.snowflake-transformation@sha256:31d10ccb54aebdfdba241828a1cbdd498ab36c6087e21a7cdda5ec8b872b289c\\\"]}]]\",\n",
       "          \"[[{\\\"id\\\":\\\"developer-portal-v2\\\\/keboola.snowflake-transformation:0.9.1\\\",\\\"digests\\\":[\\\"developer-portal-v2\\\\/keboola.snowflake-transformation@sha256:ee17bfb73c4a120271d45bb7438321528726c14aa25a251eee99bbeb38fd6afd\\\"]}]]\",\n",
       "          \"[[{\\\"id\\\":\\\"developer-portal-v2\\\\/keboola.wr-db-pgsql:1.9.5\\\",\\\"digests\\\":[\\\"developer-portal-v2\\\\/keboola.wr-db-pgsql@sha256:8203a59d35ab40aa873aeba0a94c0c0a63fb4652a8b9f7b75c4629472efe66b6\\\"]}]]\",\n",
       "          \"[[{\\\"id\\\":\\\"developer-portal-v2\\\\/keboola.wr-google-sheets:1.6.0\\\",\\\"digests\\\":[\\\"developer-portal-v2\\\\/keboola.wr-google-sheets@sha256:4309167a615274802a1b1d2bb221120dfad07586dd893a507481bc32dc9b9fa0\\\"]}]]\",\n",
       "          \"[[{\\\"id\\\":\\\"developer-portal-v2\\\\/keboola.dbt-transformation:1.17.0\\\",\\\"digests\\\":[\\\"developer-portal-v2\\\\/keboola.dbt-transformation@sha256:981ea4d753549c25dc7ae6676748d7b41d27650c6c5d1d147034c0a761282026\\\"]}]]\",\n",
       "          \"[[{\\\"id\\\":\\\"developer-portal-v2\\\\/keboola.wr-google-sheets:1.5.0\\\",\\\"digests\\\":[\\\"developer-portal-v2\\\\/keboola.wr-google-sheets@sha256:5a7f43bec35408696fb310019f6cecafd1c8fa154439f298d5339532a4f64e12\\\"]}]]\",\n",
       "          \"[[{\\\"id\\\":\\\"developer-portal-v2\\\\/keboola.dbt-transformation:1.15.0\\\",\\\"digests\\\":[\\\"developer-portal-v2\\\\/keboola.dbt-transformation@sha256:2ace2e6a90f45f43762137a10c3198471b898090fe12d69ce4970bd3f84b5119\\\"]}]]\"\n",
       "        ]\n",
       "      },\n",
       "      \"meta\": {\n",
       "        \"profiler_details\": {\n",
       "          \"metric_configuration\": {\n",
       "            \"metric_name\": \"column.distinct_values\",\n",
       "            \"domain_kwargs\": {\n",
       "              \"column\": \"result_images\"\n",
       "            },\n",
       "            \"metric_value_kwargs\": null\n",
       "          },\n",
       "          \"num_batches\": 1,\n",
       "          \"parse_strings_as_datetimes\": false\n",
       "        }\n",
       "      }\n",
       "    },\n",
       "    {\n",
       "      \"expectation_type\": \"expect_column_unique_value_count_to_be_between\",\n",
       "      \"kwargs\": {\n",
       "        \"column\": \"result_images\",\n",
       "        \"max_value\": 61,\n",
       "        \"strict_max\": false,\n",
       "        \"min_value\": 61,\n",
       "        \"strict_min\": false\n",
       "      },\n",
       "      \"meta\": {\n",
       "        \"profiler_details\": {\n",
       "          \"metric_configuration\": {\n",
       "            \"metric_name\": \"column.distinct_values.count\",\n",
       "            \"domain_kwargs\": {\n",
       "              \"column\": \"result_images\"\n",
       "            },\n",
       "            \"metric_value_kwargs\": null\n",
       "          },\n",
       "          \"num_batches\": 1\n",
       "        }\n",
       "      }\n",
       "    },\n",
       "    {\n",
       "      \"expectation_type\": \"expect_column_proportion_of_unique_values_to_be_between\",\n",
       "      \"kwargs\": {\n",
       "        \"column\": \"result_images\",\n",
       "        \"max_value\": 0.0023321608808686343,\n",
       "        \"strict_max\": false,\n",
       "        \"min_value\": 0.0023321608808686343,\n",
       "        \"strict_min\": false\n",
       "      },\n",
       "      \"meta\": {\n",
       "        \"profiler_details\": {\n",
       "          \"metric_configuration\": {\n",
       "            \"metric_name\": \"column.unique_proportion\",\n",
       "            \"domain_kwargs\": {\n",
       "              \"column\": \"result_images\"\n",
       "            },\n",
       "            \"metric_value_kwargs\": null\n",
       "          },\n",
       "          \"num_batches\": 1\n",
       "        }\n",
       "      }\n",
       "    },\n",
       "    {\n",
       "      \"expectation_type\": \"expect_column_values_to_be_in_set\",\n",
       "      \"kwargs\": {\n",
       "        \"column\": \"result_artifacts_downloaded\",\n",
       "        \"mostly\": 1.0,\n",
       "        \"value_set\": [\n",
       "          \"[]\"\n",
       "        ]\n",
       "      },\n",
       "      \"meta\": {\n",
       "        \"profiler_details\": {\n",
       "          \"metric_configuration\": {\n",
       "            \"metric_name\": \"column.distinct_values\",\n",
       "            \"domain_kwargs\": {\n",
       "              \"column\": \"result_artifacts_downloaded\"\n",
       "            },\n",
       "            \"metric_value_kwargs\": null\n",
       "          },\n",
       "          \"num_batches\": 1,\n",
       "          \"parse_strings_as_datetimes\": false\n",
       "        }\n",
       "      }\n",
       "    },\n",
       "    {\n",
       "      \"expectation_type\": \"expect_column_unique_value_count_to_be_between\",\n",
       "      \"kwargs\": {\n",
       "        \"column\": \"result_artifacts_downloaded\",\n",
       "        \"max_value\": 1,\n",
       "        \"strict_max\": false,\n",
       "        \"min_value\": 1,\n",
       "        \"strict_min\": false\n",
       "      },\n",
       "      \"meta\": {\n",
       "        \"profiler_details\": {\n",
       "          \"metric_configuration\": {\n",
       "            \"metric_name\": \"column.distinct_values.count\",\n",
       "            \"domain_kwargs\": {\n",
       "              \"column\": \"result_artifacts_downloaded\"\n",
       "            },\n",
       "            \"metric_value_kwargs\": null\n",
       "          },\n",
       "          \"num_batches\": 1\n",
       "        }\n",
       "      }\n",
       "    },\n",
       "    {\n",
       "      \"expectation_type\": \"expect_column_proportion_of_unique_values_to_be_between\",\n",
       "      \"kwargs\": {\n",
       "        \"column\": \"result_artifacts_downloaded\",\n",
       "        \"max_value\": 9.330969487729775e-05,\n",
       "        \"strict_max\": false,\n",
       "        \"min_value\": 9.330969487729775e-05,\n",
       "        \"strict_min\": false\n",
       "      },\n",
       "      \"meta\": {\n",
       "        \"profiler_details\": {\n",
       "          \"metric_configuration\": {\n",
       "            \"metric_name\": \"column.unique_proportion\",\n",
       "            \"domain_kwargs\": {\n",
       "              \"column\": \"result_artifacts_downloaded\"\n",
       "            },\n",
       "            \"metric_value_kwargs\": null\n",
       "          },\n",
       "          \"num_batches\": 1\n",
       "        }\n",
       "      }\n",
       "    },\n",
       "    {\n",
       "      \"expectation_type\": \"expect_column_values_to_be_in_set\",\n",
       "      \"kwargs\": {\n",
       "        \"column\": \"result_config_version\",\n",
       "        \"mostly\": 1.0,\n",
       "        \"value_set\": [\n",
       "          1.0,\n",
       "          3.0,\n",
       "          4.0,\n",
       "          5.0,\n",
       "          6.0,\n",
       "          7.0,\n",
       "          8.0,\n",
       "          9.0,\n",
       "          10.0,\n",
       "          11.0,\n",
       "          12.0,\n",
       "          13.0,\n",
       "          14.0,\n",
       "          15.0,\n",
       "          16.0,\n",
       "          17.0,\n",
       "          18.0,\n",
       "          19.0,\n",
       "          20.0,\n",
       "          21.0,\n",
       "          22.0,\n",
       "          23.0,\n",
       "          27.0,\n",
       "          31.0,\n",
       "          32.0,\n",
       "          34.0,\n",
       "          36.0,\n",
       "          37.0,\n",
       "          38.0,\n",
       "          39.0,\n",
       "          40.0,\n",
       "          44.0,\n",
       "          46.0,\n",
       "          66.0,\n",
       "          73.0,\n",
       "          74.0,\n",
       "          76.0,\n",
       "          78.0,\n",
       "          80.0,\n",
       "          88.0,\n",
       "          94.0,\n",
       "          95.0,\n",
       "          99.0,\n",
       "          100.0\n",
       "        ]\n",
       "      },\n",
       "      \"meta\": {\n",
       "        \"profiler_details\": {\n",
       "          \"metric_configuration\": {\n",
       "            \"metric_name\": \"column.distinct_values\",\n",
       "            \"domain_kwargs\": {\n",
       "              \"column\": \"result_config_version\"\n",
       "            },\n",
       "            \"metric_value_kwargs\": null\n",
       "          },\n",
       "          \"num_batches\": 1,\n",
       "          \"parse_strings_as_datetimes\": false\n",
       "        }\n",
       "      }\n",
       "    },\n",
       "    {\n",
       "      \"expectation_type\": \"expect_column_unique_value_count_to_be_between\",\n",
       "      \"kwargs\": {\n",
       "        \"column\": \"result_config_version\",\n",
       "        \"max_value\": 44,\n",
       "        \"strict_max\": false,\n",
       "        \"min_value\": 44,\n",
       "        \"strict_min\": false\n",
       "      },\n",
       "      \"meta\": {\n",
       "        \"profiler_details\": {\n",
       "          \"metric_configuration\": {\n",
       "            \"metric_name\": \"column.distinct_values.count\",\n",
       "            \"domain_kwargs\": {\n",
       "              \"column\": \"result_config_version\"\n",
       "            },\n",
       "            \"metric_value_kwargs\": null\n",
       "          },\n",
       "          \"num_batches\": 1\n",
       "        }\n",
       "      }\n",
       "    },\n",
       "    {\n",
       "      \"expectation_type\": \"expect_column_proportion_of_unique_values_to_be_between\",\n",
       "      \"kwargs\": {\n",
       "        \"column\": \"result_config_version\",\n",
       "        \"max_value\": 0.004008016032064128,\n",
       "        \"strict_max\": false,\n",
       "        \"min_value\": 0.004008016032064128,\n",
       "        \"strict_min\": false\n",
       "      },\n",
       "      \"meta\": {\n",
       "        \"profiler_details\": {\n",
       "          \"metric_configuration\": {\n",
       "            \"metric_name\": \"column.unique_proportion\",\n",
       "            \"domain_kwargs\": {\n",
       "              \"column\": \"result_config_version\"\n",
       "            },\n",
       "            \"metric_value_kwargs\": null\n",
       "          },\n",
       "          \"num_batches\": 1\n",
       "        }\n",
       "      }\n",
       "    }\n",
       "  ],\n",
       "  \"data_asset_type\": null,\n",
       "  \"meta\": {\n",
       "    \"great_expectations_version\": \"0.17.21\",\n",
       "    \"citations\": [\n",
       "      {\n",
       "        \"citation_date\": \"2023-10-06T21:57:48.472660Z\",\n",
       "        \"comment\": \"Created by effective Rule-Based Profiler of OnboardingDataAssistant with the configuration included.\\n\"\n",
       "      }\n",
       "    ]\n",
       "  }\n",
       "}"
      ]
     },
     "execution_count": 39,
     "metadata": {},
     "output_type": "execute_result"
    }
   ],
   "source": [
    "context.add_or_update_expectation_suite(expectation_suite=expectation_suite)"
   ]
  },
  {
   "cell_type": "code",
   "execution_count": 40,
   "metadata": {},
   "outputs": [
    {
     "name": "stdout",
     "output_type": "stream",
     "text": [
      "374 Metrics calculated, 79 Metric plots implemented\n",
      "Use DataAssistantResult.metrics_by_domain to show all calculated Metrics\n"
     ]
    },
    {
     "data": {
      "text/html": [
       "\n",
       "                <style>\n",
       "                @import url('https://fonts.googleapis.com/css2?family=Montserrat:wght@500;600&display=swap');\n",
       "                </style>\n",
       "                "
      ],
      "text/plain": [
       "<IPython.core.display.HTML object>"
      ]
     },
     "metadata": {},
     "output_type": "display_data"
    },
    {
     "data": {
      "text/html": [
       "\n",
       "                <style>\n",
       "                span.vega-bind-name {\n",
       "                    color: PrimaryColors.COAL_GRAY;\n",
       "                    font-family: Montserrat;\n",
       "                    font-size: 14px;\n",
       "                    font-weight: 500;\n",
       "                }\n",
       "                form.vega-bindings {\n",
       "                    color: PrimaryColors.COAL_GRAY;\n",
       "                    font-family: Montserrat;\n",
       "                    font-size: 14px;\n",
       "                    font-weight: 500;\n",
       "                    position: absolute;\n",
       "                    left: 75px;\n",
       "                    top: 28px;\n",
       "                }\n",
       "                </style>\n",
       "            "
      ],
      "text/plain": [
       "<IPython.core.display.HTML object>"
      ]
     },
     "metadata": {},
     "output_type": "display_data"
    },
    {
     "data": {
      "text/html": [
       "\n",
       "                <style>\n",
       "                .widget-inline-hbox .widget-label {\n",
       "                    color: PrimaryColors.COAL_GRAY;\n",
       "                    font-family: Montserrat;\n",
       "                    font-size: 14px;\n",
       "                    font-weight: 500;\n",
       "                }\n",
       "                .widget-dropdown > select {\n",
       "                    padding-right: 21px;\n",
       "                    padding-left: 3px;\n",
       "                    color: PrimaryColors.COAL_GRAY;\n",
       "                    font-family: Montserrat;\n",
       "                    font-size: 14px;\n",
       "                    font-weight: 500;\n",
       "                    height: 20px;\n",
       "                    line-height: 14px;\n",
       "                    background-size: 20px;\n",
       "                    border-radius: 2px;\n",
       "                }\n",
       "                </style>\n",
       "            "
      ],
      "text/plain": [
       "<IPython.core.display.HTML object>"
      ]
     },
     "metadata": {},
     "output_type": "display_data"
    },
    {
     "data": {
      "application/vnd.jupyter.widget-view+json": {
       "model_id": "934ac34b761646b3ab45da6a5d8a59b6",
       "version_major": 2,
       "version_minor": 0
      },
      "text/plain": [
       "interactive(children=(Dropdown(description='Select Plot Type: ', layout=Layout(margin='0px', width='max-conten…"
      ]
     },
     "metadata": {},
     "output_type": "display_data"
    },
    {
     "data": {
      "text/plain": []
     },
     "execution_count": 40,
     "metadata": {},
     "output_type": "execute_result"
    }
   ],
   "source": [
    "data_assistant_result.plot_metrics()"
   ]
  },
  {
   "cell_type": "code",
   "execution_count": 42,
   "metadata": {},
   "outputs": [
    {
     "data": {
      "text/plain": [
       "{{\n",
       "   \"domain_type\": \"table\",\n",
       "   \"rule_name\": \"table_rule\"\n",
       " }: {'$parameter.table_row_count': {'value': [26156],\n",
       "   'attributed_value': {'keboola_jobs-keboola_jobs': [26156]},\n",
       "   'details': {'metric_configuration': {'metric_name': 'table.row_count',\n",
       "     'domain_kwargs': {},\n",
       "     'metric_value_kwargs': None},\n",
       "    'num_batches': 1}},\n",
       "  '$parameter.table_columns': {'value': [['job_id',\n",
       "     'run_id',\n",
       "     'parent_run_id',\n",
       "     'project_id',\n",
       "     'project_name',\n",
       "     'token_id',\n",
       "     'token_description',\n",
       "     'status',\n",
       "     'desired_status',\n",
       "     'mode',\n",
       "     'component',\n",
       "     'config',\n",
       "     'config_data',\n",
       "     'config_row_ids',\n",
       "     'tag',\n",
       "     'created_time',\n",
       "     'start_time',\n",
       "     'end_time',\n",
       "     'duration_seconds',\n",
       "     'usage_data',\n",
       "     'isFinished',\n",
       "     'url',\n",
       "     'branchId',\n",
       "     'parallelism',\n",
       "     'type',\n",
       "     'orchestration_job_id',\n",
       "     'legacy_run_id',\n",
       "     'variable_values_id',\n",
       "     'variable_values_data',\n",
       "     'backend_context',\n",
       "     'behavior_on_error',\n",
       "     'metrics_backend_size',\n",
       "     'metrics_backend_context',\n",
       "     'metrics_backend_container_size',\n",
       "     'metrics_storage_input_tables_bytes_sum',\n",
       "     'metrics_storage_output_tables_bytes_sum',\n",
       "     'result_images',\n",
       "     'result_message',\n",
       "     'result_artifacts_uploaded',\n",
       "     'result_artifacts_downloaded',\n",
       "     'result_config_version',\n",
       "     'extraction_date']],\n",
       "   'attributed_value': {'keboola_jobs-keboola_jobs': ['job_id',\n",
       "     'run_id',\n",
       "     'parent_run_id',\n",
       "     'project_id',\n",
       "     'project_name',\n",
       "     'token_id',\n",
       "     'token_description',\n",
       "     'status',\n",
       "     'desired_status',\n",
       "     'mode',\n",
       "     'component',\n",
       "     'config',\n",
       "     'config_data',\n",
       "     'config_row_ids',\n",
       "     'tag',\n",
       "     'created_time',\n",
       "     'start_time',\n",
       "     'end_time',\n",
       "     'duration_seconds',\n",
       "     'usage_data',\n",
       "     'isFinished',\n",
       "     'url',\n",
       "     'branchId',\n",
       "     'parallelism',\n",
       "     'type',\n",
       "     'orchestration_job_id',\n",
       "     'legacy_run_id',\n",
       "     'variable_values_id',\n",
       "     'variable_values_data',\n",
       "     'backend_context',\n",
       "     'behavior_on_error',\n",
       "     'metrics_backend_size',\n",
       "     'metrics_backend_context',\n",
       "     'metrics_backend_container_size',\n",
       "     'metrics_storage_input_tables_bytes_sum',\n",
       "     'metrics_storage_output_tables_bytes_sum',\n",
       "     'result_images',\n",
       "     'result_message',\n",
       "     'result_artifacts_uploaded',\n",
       "     'result_artifacts_downloaded',\n",
       "     'result_config_version',\n",
       "     'extraction_date']},\n",
       "   'details': {'metric_configuration': {'metric_name': 'table.columns',\n",
       "     'domain_kwargs': {},\n",
       "     'metric_value_kwargs': {'include_nested': True}},\n",
       "    'num_batches': 1}},\n",
       "  '$parameter.raw.table_row_count': {'value': array([26156]),\n",
       "   'attributed_value': {'keboola_jobs-keboola_jobs': array([26156])},\n",
       "   'details': {'metric_configuration': {'metric_name': 'table.row_count',\n",
       "     'domain_kwargs': {},\n",
       "     'metric_value_kwargs': None},\n",
       "    'num_batches': 1}},\n",
       "  '$parameter.raw.table_columns': {'value': array([['job_id', 'run_id', 'parent_run_id', 'project_id',\n",
       "           'project_name', 'token_id', 'token_description', 'status',\n",
       "           'desired_status', 'mode', 'component', 'config', 'config_data',\n",
       "           'config_row_ids', 'tag', 'created_time', 'start_time',\n",
       "           'end_time', 'duration_seconds', 'usage_data', 'isFinished',\n",
       "           'url', 'branchId', 'parallelism', 'type', 'orchestration_job_id',\n",
       "           'legacy_run_id', 'variable_values_id', 'variable_values_data',\n",
       "           'backend_context', 'behavior_on_error', 'metrics_backend_size',\n",
       "           'metrics_backend_context', 'metrics_backend_container_size',\n",
       "           'metrics_storage_input_tables_bytes_sum',\n",
       "           'metrics_storage_output_tables_bytes_sum', 'result_images',\n",
       "           'result_message', 'result_artifacts_uploaded',\n",
       "           'result_artifacts_downloaded', 'result_config_version',\n",
       "           'extraction_date']], dtype='<U39'),\n",
       "   'attributed_value': {'keboola_jobs-keboola_jobs': array(['job_id', 'run_id', 'parent_run_id', 'project_id', 'project_name',\n",
       "           'token_id', 'token_description', 'status', 'desired_status',\n",
       "           'mode', 'component', 'config', 'config_data', 'config_row_ids',\n",
       "           'tag', 'created_time', 'start_time', 'end_time',\n",
       "           'duration_seconds', 'usage_data', 'isFinished', 'url', 'branchId',\n",
       "           'parallelism', 'type', 'orchestration_job_id', 'legacy_run_id',\n",
       "           'variable_values_id', 'variable_values_data', 'backend_context',\n",
       "           'behavior_on_error', 'metrics_backend_size',\n",
       "           'metrics_backend_context', 'metrics_backend_container_size',\n",
       "           'metrics_storage_input_tables_bytes_sum',\n",
       "           'metrics_storage_output_tables_bytes_sum', 'result_images',\n",
       "           'result_message', 'result_artifacts_uploaded',\n",
       "           'result_artifacts_downloaded', 'result_config_version',\n",
       "           'extraction_date'], dtype='<U39')},\n",
       "   'details': {'metric_configuration': {'metric_name': 'table.columns',\n",
       "     'domain_kwargs': {},\n",
       "     'metric_value_kwargs': {'include_nested': True}},\n",
       "    'num_batches': 1}}},\n",
       " {\n",
       "   \"domain_type\": \"column\",\n",
       "   \"domain_kwargs\": {\n",
       "     \"column\": \"url\"\n",
       "   },\n",
       "   \"details\": {\n",
       "     \"inferred_semantic_domain_type\": {\n",
       "       \"url\": \"text\"\n",
       "     }\n",
       "   },\n",
       "   \"rule_name\": \"column_value_uniqueness_rule\"\n",
       " }: {'$parameter.raw.column_values_unique_unexpected_count': {'value': array([0]),\n",
       "   'attributed_value': {'keboola_jobs-keboola_jobs': array([0])},\n",
       "   'details': {'metric_configuration': {'metric_name': 'column_values.unique.unexpected_count',\n",
       "     'domain_kwargs': {'column': 'url'},\n",
       "     'metric_value_kwargs': None},\n",
       "    'num_batches': 1}},\n",
       "  '$parameter.column_values_unique_unexpected_count': {'value': [0],\n",
       "   'attributed_value': {'keboola_jobs-keboola_jobs': [0]},\n",
       "   'details': {'metric_configuration': {'metric_name': 'column_values.unique.unexpected_count',\n",
       "     'domain_kwargs': {'column': 'url'},\n",
       "     'metric_value_kwargs': None},\n",
       "    'num_batches': 1}}},\n",
       " {\n",
       "   \"domain_type\": \"column\",\n",
       "   \"domain_kwargs\": {\n",
       "     \"column\": \"branchId\"\n",
       "   },\n",
       "   \"details\": {\n",
       "     \"inferred_semantic_domain_type\": {\n",
       "       \"branchId\": \"numeric\"\n",
       "     }\n",
       "   },\n",
       "   \"rule_name\": \"column_value_uniqueness_rule\"\n",
       " }: {'$parameter.raw.column_values_unique_unexpected_count': {'value': array([0]),\n",
       "   'attributed_value': {'keboola_jobs-keboola_jobs': array([0])},\n",
       "   'details': {'metric_configuration': {'metric_name': 'column_values.unique.unexpected_count',\n",
       "     'domain_kwargs': {'column': 'branchId'},\n",
       "     'metric_value_kwargs': None},\n",
       "    'num_batches': 1}},\n",
       "  '$parameter.column_values_unique_unexpected_count': {'value': [0],\n",
       "   'attributed_value': {'keboola_jobs-keboola_jobs': [0]},\n",
       "   'details': {'metric_configuration': {'metric_name': 'column_values.unique.unexpected_count',\n",
       "     'domain_kwargs': {'column': 'branchId'},\n",
       "     'metric_value_kwargs': None},\n",
       "    'num_batches': 1}}},\n",
       " {\n",
       "   \"domain_type\": \"column\",\n",
       "   \"domain_kwargs\": {\n",
       "     \"column\": \"parallelism\"\n",
       "   },\n",
       "   \"details\": {\n",
       "     \"inferred_semantic_domain_type\": {\n",
       "       \"parallelism\": \"numeric\"\n",
       "     }\n",
       "   },\n",
       "   \"rule_name\": \"column_value_uniqueness_rule\"\n",
       " }: {'$parameter.raw.column_values_unique_unexpected_count': {'value': array([0]),\n",
       "   'attributed_value': {'keboola_jobs-keboola_jobs': array([0])},\n",
       "   'details': {'metric_configuration': {'metric_name': 'column_values.unique.unexpected_count',\n",
       "     'domain_kwargs': {'column': 'parallelism'},\n",
       "     'metric_value_kwargs': None},\n",
       "    'num_batches': 1}},\n",
       "  '$parameter.column_values_unique_unexpected_count': {'value': [0],\n",
       "   'attributed_value': {'keboola_jobs-keboola_jobs': [0]},\n",
       "   'details': {'metric_configuration': {'metric_name': 'column_values.unique.unexpected_count',\n",
       "     'domain_kwargs': {'column': 'parallelism'},\n",
       "     'metric_value_kwargs': None},\n",
       "    'num_batches': 1}}},\n",
       " {\n",
       "   \"domain_type\": \"column\",\n",
       "   \"domain_kwargs\": {\n",
       "     \"column\": \"branchId\"\n",
       "   },\n",
       "   \"details\": {\n",
       "     \"inferred_semantic_domain_type\": {\n",
       "       \"branchId\": \"numeric\"\n",
       "     }\n",
       "   },\n",
       "   \"rule_name\": \"column_value_nullity_rule\"\n",
       " }: {'$parameter.raw.column_values_nonnull_unexpected_count': {'value': array([26156]),\n",
       "   'attributed_value': {'keboola_jobs-keboola_jobs': array([26156])},\n",
       "   'details': {'metric_configuration': {'metric_name': 'column_values.nonnull.unexpected_count',\n",
       "     'domain_kwargs': {'column': 'branchId'},\n",
       "     'metric_value_kwargs': None},\n",
       "    'num_batches': 1}},\n",
       "  '$parameter.column_values_nonnull_unexpected_count': {'value': [26156],\n",
       "   'attributed_value': {'keboola_jobs-keboola_jobs': [26156]},\n",
       "   'details': {'metric_configuration': {'metric_name': 'column_values.nonnull.unexpected_count',\n",
       "     'domain_kwargs': {'column': 'branchId'},\n",
       "     'metric_value_kwargs': None},\n",
       "    'num_batches': 1}}},\n",
       " {\n",
       "   \"domain_type\": \"column\",\n",
       "   \"domain_kwargs\": {\n",
       "     \"column\": \"parallelism\"\n",
       "   },\n",
       "   \"details\": {\n",
       "     \"inferred_semantic_domain_type\": {\n",
       "       \"parallelism\": \"numeric\"\n",
       "     }\n",
       "   },\n",
       "   \"rule_name\": \"column_value_nullity_rule\"\n",
       " }: {'$parameter.raw.column_values_nonnull_unexpected_count': {'value': array([26156]),\n",
       "   'attributed_value': {'keboola_jobs-keboola_jobs': array([26156])},\n",
       "   'details': {'metric_configuration': {'metric_name': 'column_values.nonnull.unexpected_count',\n",
       "     'domain_kwargs': {'column': 'parallelism'},\n",
       "     'metric_value_kwargs': None},\n",
       "    'num_batches': 1}},\n",
       "  '$parameter.column_values_nonnull_unexpected_count': {'value': [26156],\n",
       "   'attributed_value': {'keboola_jobs-keboola_jobs': [26156]},\n",
       "   'details': {'metric_configuration': {'metric_name': 'column_values.nonnull.unexpected_count',\n",
       "     'domain_kwargs': {'column': 'parallelism'},\n",
       "     'metric_value_kwargs': None},\n",
       "    'num_batches': 1}}},\n",
       " {\n",
       "   \"domain_type\": \"column\",\n",
       "   \"domain_kwargs\": {\n",
       "     \"column\": \"project_name\"\n",
       "   },\n",
       "   \"details\": {\n",
       "     \"inferred_semantic_domain_type\": {\n",
       "       \"project_name\": \"numeric\"\n",
       "     }\n",
       "   },\n",
       "   \"rule_name\": \"column_value_nonnullity_rule\"\n",
       " }: {'$parameter.raw.column_values_null_unexpected_count': {'value': array([26156]),\n",
       "   'attributed_value': {'keboola_jobs-keboola_jobs': array([26156])},\n",
       "   'details': {'metric_configuration': {'metric_name': 'column_values.null.unexpected_count',\n",
       "     'domain_kwargs': {'column': 'project_name'},\n",
       "     'metric_value_kwargs': None},\n",
       "    'num_batches': 1}},\n",
       "  '$parameter.column_values_null_unexpected_count': {'value': [26156],\n",
       "   'attributed_value': {'keboola_jobs-keboola_jobs': [26156]},\n",
       "   'details': {'metric_configuration': {'metric_name': 'column_values.null.unexpected_count',\n",
       "     'domain_kwargs': {'column': 'project_name'},\n",
       "     'metric_value_kwargs': None},\n",
       "    'num_batches': 1}}},\n",
       " {\n",
       "   \"domain_type\": \"column\",\n",
       "   \"domain_kwargs\": {\n",
       "     \"column\": \"token_description\"\n",
       "   },\n",
       "   \"details\": {\n",
       "     \"inferred_semantic_domain_type\": {\n",
       "       \"token_description\": \"text\"\n",
       "     }\n",
       "   },\n",
       "   \"rule_name\": \"column_value_nonnullity_rule\"\n",
       " }: {'$parameter.raw.column_values_null_unexpected_count': {'value': array([26156]),\n",
       "   'attributed_value': {'keboola_jobs-keboola_jobs': array([26156])},\n",
       "   'details': {'metric_configuration': {'metric_name': 'column_values.null.unexpected_count',\n",
       "     'domain_kwargs': {'column': 'token_description'},\n",
       "     'metric_value_kwargs': None},\n",
       "    'num_batches': 1}},\n",
       "  '$parameter.column_values_null_unexpected_count': {'value': [26156],\n",
       "   'attributed_value': {'keboola_jobs-keboola_jobs': [26156]},\n",
       "   'details': {'metric_configuration': {'metric_name': 'column_values.null.unexpected_count',\n",
       "     'domain_kwargs': {'column': 'token_description'},\n",
       "     'metric_value_kwargs': None},\n",
       "    'num_batches': 1}}},\n",
       " {\n",
       "   \"domain_type\": \"column\",\n",
       "   \"domain_kwargs\": {\n",
       "     \"column\": \"status\"\n",
       "   },\n",
       "   \"details\": {\n",
       "     \"inferred_semantic_domain_type\": {\n",
       "       \"status\": \"text\"\n",
       "     }\n",
       "   },\n",
       "   \"rule_name\": \"column_value_nonnullity_rule\"\n",
       " }: {'$parameter.raw.column_values_null_unexpected_count': {'value': array([26156]),\n",
       "   'attributed_value': {'keboola_jobs-keboola_jobs': array([26156])},\n",
       "   'details': {'metric_configuration': {'metric_name': 'column_values.null.unexpected_count',\n",
       "     'domain_kwargs': {'column': 'status'},\n",
       "     'metric_value_kwargs': None},\n",
       "    'num_batches': 1}},\n",
       "  '$parameter.column_values_null_unexpected_count': {'value': [26156],\n",
       "   'attributed_value': {'keboola_jobs-keboola_jobs': [26156]},\n",
       "   'details': {'metric_configuration': {'metric_name': 'column_values.null.unexpected_count',\n",
       "     'domain_kwargs': {'column': 'status'},\n",
       "     'metric_value_kwargs': None},\n",
       "    'num_batches': 1}}},\n",
       " {\n",
       "   \"domain_type\": \"column\",\n",
       "   \"domain_kwargs\": {\n",
       "     \"column\": \"desired_status\"\n",
       "   },\n",
       "   \"details\": {\n",
       "     \"inferred_semantic_domain_type\": {\n",
       "       \"desired_status\": \"text\"\n",
       "     }\n",
       "   },\n",
       "   \"rule_name\": \"column_value_nonnullity_rule\"\n",
       " }: {'$parameter.raw.column_values_null_unexpected_count': {'value': array([26156]),\n",
       "   'attributed_value': {'keboola_jobs-keboola_jobs': array([26156])},\n",
       "   'details': {'metric_configuration': {'metric_name': 'column_values.null.unexpected_count',\n",
       "     'domain_kwargs': {'column': 'desired_status'},\n",
       "     'metric_value_kwargs': None},\n",
       "    'num_batches': 1}},\n",
       "  '$parameter.column_values_null_unexpected_count': {'value': [26156],\n",
       "   'attributed_value': {'keboola_jobs-keboola_jobs': [26156]},\n",
       "   'details': {'metric_configuration': {'metric_name': 'column_values.null.unexpected_count',\n",
       "     'domain_kwargs': {'column': 'desired_status'},\n",
       "     'metric_value_kwargs': None},\n",
       "    'num_batches': 1}}},\n",
       " {\n",
       "   \"domain_type\": \"column\",\n",
       "   \"domain_kwargs\": {\n",
       "     \"column\": \"mode\"\n",
       "   },\n",
       "   \"details\": {\n",
       "     \"inferred_semantic_domain_type\": {\n",
       "       \"mode\": \"text\"\n",
       "     }\n",
       "   },\n",
       "   \"rule_name\": \"column_value_nonnullity_rule\"\n",
       " }: {'$parameter.raw.column_values_null_unexpected_count': {'value': array([26156]),\n",
       "   'attributed_value': {'keboola_jobs-keboola_jobs': array([26156])},\n",
       "   'details': {'metric_configuration': {'metric_name': 'column_values.null.unexpected_count',\n",
       "     'domain_kwargs': {'column': 'mode'},\n",
       "     'metric_value_kwargs': None},\n",
       "    'num_batches': 1}},\n",
       "  '$parameter.column_values_null_unexpected_count': {'value': [26156],\n",
       "   'attributed_value': {'keboola_jobs-keboola_jobs': [26156]},\n",
       "   'details': {'metric_configuration': {'metric_name': 'column_values.null.unexpected_count',\n",
       "     'domain_kwargs': {'column': 'mode'},\n",
       "     'metric_value_kwargs': None},\n",
       "    'num_batches': 1}}},\n",
       " {\n",
       "   \"domain_type\": \"column\",\n",
       "   \"domain_kwargs\": {\n",
       "     \"column\": \"component\"\n",
       "   },\n",
       "   \"details\": {\n",
       "     \"inferred_semantic_domain_type\": {\n",
       "       \"component\": \"text\"\n",
       "     }\n",
       "   },\n",
       "   \"rule_name\": \"column_value_nonnullity_rule\"\n",
       " }: {'$parameter.raw.column_values_null_unexpected_count': {'value': array([26156]),\n",
       "   'attributed_value': {'keboola_jobs-keboola_jobs': array([26156])},\n",
       "   'details': {'metric_configuration': {'metric_name': 'column_values.null.unexpected_count',\n",
       "     'domain_kwargs': {'column': 'component'},\n",
       "     'metric_value_kwargs': None},\n",
       "    'num_batches': 1}},\n",
       "  '$parameter.column_values_null_unexpected_count': {'value': [26156],\n",
       "   'attributed_value': {'keboola_jobs-keboola_jobs': [26156]},\n",
       "   'details': {'metric_configuration': {'metric_name': 'column_values.null.unexpected_count',\n",
       "     'domain_kwargs': {'column': 'component'},\n",
       "     'metric_value_kwargs': None},\n",
       "    'num_batches': 1}}},\n",
       " {\n",
       "   \"domain_type\": \"column\",\n",
       "   \"domain_kwargs\": {\n",
       "     \"column\": \"config_data\"\n",
       "   },\n",
       "   \"details\": {\n",
       "     \"inferred_semantic_domain_type\": {\n",
       "       \"config_data\": \"text\"\n",
       "     }\n",
       "   },\n",
       "   \"rule_name\": \"column_value_nonnullity_rule\"\n",
       " }: {'$parameter.raw.column_values_null_unexpected_count': {'value': array([26156]),\n",
       "   'attributed_value': {'keboola_jobs-keboola_jobs': array([26156])},\n",
       "   'details': {'metric_configuration': {'metric_name': 'column_values.null.unexpected_count',\n",
       "     'domain_kwargs': {'column': 'config_data'},\n",
       "     'metric_value_kwargs': None},\n",
       "    'num_batches': 1}},\n",
       "  '$parameter.column_values_null_unexpected_count': {'value': [26156],\n",
       "   'attributed_value': {'keboola_jobs-keboola_jobs': [26156]},\n",
       "   'details': {'metric_configuration': {'metric_name': 'column_values.null.unexpected_count',\n",
       "     'domain_kwargs': {'column': 'config_data'},\n",
       "     'metric_value_kwargs': None},\n",
       "    'num_batches': 1}}},\n",
       " {\n",
       "   \"domain_type\": \"column\",\n",
       "   \"domain_kwargs\": {\n",
       "     \"column\": \"config_row_ids\"\n",
       "   },\n",
       "   \"details\": {\n",
       "     \"inferred_semantic_domain_type\": {\n",
       "       \"config_row_ids\": \"text\"\n",
       "     }\n",
       "   },\n",
       "   \"rule_name\": \"column_value_nonnullity_rule\"\n",
       " }: {'$parameter.raw.column_values_null_unexpected_count': {'value': array([26156]),\n",
       "   'attributed_value': {'keboola_jobs-keboola_jobs': array([26156])},\n",
       "   'details': {'metric_configuration': {'metric_name': 'column_values.null.unexpected_count',\n",
       "     'domain_kwargs': {'column': 'config_row_ids'},\n",
       "     'metric_value_kwargs': None},\n",
       "    'num_batches': 1}},\n",
       "  '$parameter.column_values_null_unexpected_count': {'value': [26156],\n",
       "   'attributed_value': {'keboola_jobs-keboola_jobs': [26156]},\n",
       "   'details': {'metric_configuration': {'metric_name': 'column_values.null.unexpected_count',\n",
       "     'domain_kwargs': {'column': 'config_row_ids'},\n",
       "     'metric_value_kwargs': None},\n",
       "    'num_batches': 1}}},\n",
       " {\n",
       "   \"domain_type\": \"column\",\n",
       "   \"domain_kwargs\": {\n",
       "     \"column\": \"tag\"\n",
       "   },\n",
       "   \"details\": {\n",
       "     \"inferred_semantic_domain_type\": {\n",
       "       \"tag\": \"text\"\n",
       "     }\n",
       "   },\n",
       "   \"rule_name\": \"column_value_nonnullity_rule\"\n",
       " }: {'$parameter.raw.column_values_null_unexpected_count': {'value': array([26156]),\n",
       "   'attributed_value': {'keboola_jobs-keboola_jobs': array([26156])},\n",
       "   'details': {'metric_configuration': {'metric_name': 'column_values.null.unexpected_count',\n",
       "     'domain_kwargs': {'column': 'tag'},\n",
       "     'metric_value_kwargs': None},\n",
       "    'num_batches': 1}},\n",
       "  '$parameter.column_values_null_unexpected_count': {'value': [26156],\n",
       "   'attributed_value': {'keboola_jobs-keboola_jobs': [26156]},\n",
       "   'details': {'metric_configuration': {'metric_name': 'column_values.null.unexpected_count',\n",
       "     'domain_kwargs': {'column': 'tag'},\n",
       "     'metric_value_kwargs': None},\n",
       "    'num_batches': 1}}},\n",
       " {\n",
       "   \"domain_type\": \"column\",\n",
       "   \"domain_kwargs\": {\n",
       "     \"column\": \"created_time\"\n",
       "   },\n",
       "   \"details\": {\n",
       "     \"inferred_semantic_domain_type\": {\n",
       "       \"created_time\": \"text\"\n",
       "     }\n",
       "   },\n",
       "   \"rule_name\": \"column_value_nonnullity_rule\"\n",
       " }: {'$parameter.raw.column_values_null_unexpected_count': {'value': array([26156]),\n",
       "   'attributed_value': {'keboola_jobs-keboola_jobs': array([26156])},\n",
       "   'details': {'metric_configuration': {'metric_name': 'column_values.null.unexpected_count',\n",
       "     'domain_kwargs': {'column': 'created_time'},\n",
       "     'metric_value_kwargs': None},\n",
       "    'num_batches': 1}},\n",
       "  '$parameter.column_values_null_unexpected_count': {'value': [26156],\n",
       "   'attributed_value': {'keboola_jobs-keboola_jobs': [26156]},\n",
       "   'details': {'metric_configuration': {'metric_name': 'column_values.null.unexpected_count',\n",
       "     'domain_kwargs': {'column': 'created_time'},\n",
       "     'metric_value_kwargs': None},\n",
       "    'num_batches': 1}}},\n",
       " {\n",
       "   \"domain_type\": \"column\",\n",
       "   \"domain_kwargs\": {\n",
       "     \"column\": \"start_time\"\n",
       "   },\n",
       "   \"details\": {\n",
       "     \"inferred_semantic_domain_type\": {\n",
       "       \"start_time\": \"text\"\n",
       "     }\n",
       "   },\n",
       "   \"rule_name\": \"column_value_nonnullity_rule\"\n",
       " }: {'$parameter.raw.column_values_null_unexpected_count': {'value': array([26156]),\n",
       "   'attributed_value': {'keboola_jobs-keboola_jobs': array([26156])},\n",
       "   'details': {'metric_configuration': {'metric_name': 'column_values.null.unexpected_count',\n",
       "     'domain_kwargs': {'column': 'start_time'},\n",
       "     'metric_value_kwargs': None},\n",
       "    'num_batches': 1}},\n",
       "  '$parameter.column_values_null_unexpected_count': {'value': [26156],\n",
       "   'attributed_value': {'keboola_jobs-keboola_jobs': [26156]},\n",
       "   'details': {'metric_configuration': {'metric_name': 'column_values.null.unexpected_count',\n",
       "     'domain_kwargs': {'column': 'start_time'},\n",
       "     'metric_value_kwargs': None},\n",
       "    'num_batches': 1}}},\n",
       " {\n",
       "   \"domain_type\": \"column\",\n",
       "   \"domain_kwargs\": {\n",
       "     \"column\": \"end_time\"\n",
       "   },\n",
       "   \"details\": {\n",
       "     \"inferred_semantic_domain_type\": {\n",
       "       \"end_time\": \"text\"\n",
       "     }\n",
       "   },\n",
       "   \"rule_name\": \"column_value_nonnullity_rule\"\n",
       " }: {'$parameter.raw.column_values_null_unexpected_count': {'value': array([26156]),\n",
       "   'attributed_value': {'keboola_jobs-keboola_jobs': array([26156])},\n",
       "   'details': {'metric_configuration': {'metric_name': 'column_values.null.unexpected_count',\n",
       "     'domain_kwargs': {'column': 'end_time'},\n",
       "     'metric_value_kwargs': None},\n",
       "    'num_batches': 1}},\n",
       "  '$parameter.column_values_null_unexpected_count': {'value': [26156],\n",
       "   'attributed_value': {'keboola_jobs-keboola_jobs': [26156]},\n",
       "   'details': {'metric_configuration': {'metric_name': 'column_values.null.unexpected_count',\n",
       "     'domain_kwargs': {'column': 'end_time'},\n",
       "     'metric_value_kwargs': None},\n",
       "    'num_batches': 1}}},\n",
       " {\n",
       "   \"domain_type\": \"column\",\n",
       "   \"domain_kwargs\": {\n",
       "     \"column\": \"duration_seconds\"\n",
       "   },\n",
       "   \"details\": {\n",
       "     \"inferred_semantic_domain_type\": {\n",
       "       \"duration_seconds\": \"numeric\"\n",
       "     }\n",
       "   },\n",
       "   \"rule_name\": \"column_value_nonnullity_rule\"\n",
       " }: {'$parameter.raw.column_values_null_unexpected_count': {'value': array([26156]),\n",
       "   'attributed_value': {'keboola_jobs-keboola_jobs': array([26156])},\n",
       "   'details': {'metric_configuration': {'metric_name': 'column_values.null.unexpected_count',\n",
       "     'domain_kwargs': {'column': 'duration_seconds'},\n",
       "     'metric_value_kwargs': None},\n",
       "    'num_batches': 1}},\n",
       "  '$parameter.column_values_null_unexpected_count': {'value': [26156],\n",
       "   'attributed_value': {'keboola_jobs-keboola_jobs': [26156]},\n",
       "   'details': {'metric_configuration': {'metric_name': 'column_values.null.unexpected_count',\n",
       "     'domain_kwargs': {'column': 'duration_seconds'},\n",
       "     'metric_value_kwargs': None},\n",
       "    'num_batches': 1}}},\n",
       " {\n",
       "   \"domain_type\": \"column\",\n",
       "   \"domain_kwargs\": {\n",
       "     \"column\": \"usage_data\"\n",
       "   },\n",
       "   \"details\": {\n",
       "     \"inferred_semantic_domain_type\": {\n",
       "       \"usage_data\": \"text\"\n",
       "     }\n",
       "   },\n",
       "   \"rule_name\": \"column_value_nonnullity_rule\"\n",
       " }: {'$parameter.raw.column_values_null_unexpected_count': {'value': array([26156]),\n",
       "   'attributed_value': {'keboola_jobs-keboola_jobs': array([26156])},\n",
       "   'details': {'metric_configuration': {'metric_name': 'column_values.null.unexpected_count',\n",
       "     'domain_kwargs': {'column': 'usage_data'},\n",
       "     'metric_value_kwargs': None},\n",
       "    'num_batches': 1}},\n",
       "  '$parameter.column_values_null_unexpected_count': {'value': [26156],\n",
       "   'attributed_value': {'keboola_jobs-keboola_jobs': [26156]},\n",
       "   'details': {'metric_configuration': {'metric_name': 'column_values.null.unexpected_count',\n",
       "     'domain_kwargs': {'column': 'usage_data'},\n",
       "     'metric_value_kwargs': None},\n",
       "    'num_batches': 1}}},\n",
       " {\n",
       "   \"domain_type\": \"column\",\n",
       "   \"domain_kwargs\": {\n",
       "     \"column\": \"isFinished\"\n",
       "   },\n",
       "   \"details\": {\n",
       "     \"inferred_semantic_domain_type\": {\n",
       "       \"isFinished\": \"numeric\"\n",
       "     }\n",
       "   },\n",
       "   \"rule_name\": \"column_value_nonnullity_rule\"\n",
       " }: {'$parameter.raw.column_values_null_unexpected_count': {'value': array([26156]),\n",
       "   'attributed_value': {'keboola_jobs-keboola_jobs': array([26156])},\n",
       "   'details': {'metric_configuration': {'metric_name': 'column_values.null.unexpected_count',\n",
       "     'domain_kwargs': {'column': 'isFinished'},\n",
       "     'metric_value_kwargs': None},\n",
       "    'num_batches': 1}},\n",
       "  '$parameter.column_values_null_unexpected_count': {'value': [26156],\n",
       "   'attributed_value': {'keboola_jobs-keboola_jobs': [26156]},\n",
       "   'details': {'metric_configuration': {'metric_name': 'column_values.null.unexpected_count',\n",
       "     'domain_kwargs': {'column': 'isFinished'},\n",
       "     'metric_value_kwargs': None},\n",
       "    'num_batches': 1}}},\n",
       " {\n",
       "   \"domain_type\": \"column\",\n",
       "   \"domain_kwargs\": {\n",
       "     \"column\": \"url\"\n",
       "   },\n",
       "   \"details\": {\n",
       "     \"inferred_semantic_domain_type\": {\n",
       "       \"url\": \"text\"\n",
       "     }\n",
       "   },\n",
       "   \"rule_name\": \"column_value_nonnullity_rule\"\n",
       " }: {'$parameter.raw.column_values_null_unexpected_count': {'value': array([26156]),\n",
       "   'attributed_value': {'keboola_jobs-keboola_jobs': array([26156])},\n",
       "   'details': {'metric_configuration': {'metric_name': 'column_values.null.unexpected_count',\n",
       "     'domain_kwargs': {'column': 'url'},\n",
       "     'metric_value_kwargs': None},\n",
       "    'num_batches': 1}},\n",
       "  '$parameter.column_values_null_unexpected_count': {'value': [26156],\n",
       "   'attributed_value': {'keboola_jobs-keboola_jobs': [26156]},\n",
       "   'details': {'metric_configuration': {'metric_name': 'column_values.null.unexpected_count',\n",
       "     'domain_kwargs': {'column': 'url'},\n",
       "     'metric_value_kwargs': None},\n",
       "    'num_batches': 1}}},\n",
       " {\n",
       "   \"domain_type\": \"column\",\n",
       "   \"domain_kwargs\": {\n",
       "     \"column\": \"type\"\n",
       "   },\n",
       "   \"details\": {\n",
       "     \"inferred_semantic_domain_type\": {\n",
       "       \"type\": \"text\"\n",
       "     }\n",
       "   },\n",
       "   \"rule_name\": \"column_value_nonnullity_rule\"\n",
       " }: {'$parameter.raw.column_values_null_unexpected_count': {'value': array([26156]),\n",
       "   'attributed_value': {'keboola_jobs-keboola_jobs': array([26156])},\n",
       "   'details': {'metric_configuration': {'metric_name': 'column_values.null.unexpected_count',\n",
       "     'domain_kwargs': {'column': 'type'},\n",
       "     'metric_value_kwargs': None},\n",
       "    'num_batches': 1}},\n",
       "  '$parameter.column_values_null_unexpected_count': {'value': [26156],\n",
       "   'attributed_value': {'keboola_jobs-keboola_jobs': [26156]},\n",
       "   'details': {'metric_configuration': {'metric_name': 'column_values.null.unexpected_count',\n",
       "     'domain_kwargs': {'column': 'type'},\n",
       "     'metric_value_kwargs': None},\n",
       "    'num_batches': 1}}},\n",
       " {\n",
       "   \"domain_type\": \"column\",\n",
       "   \"domain_kwargs\": {\n",
       "     \"column\": \"variable_values_data\"\n",
       "   },\n",
       "   \"details\": {\n",
       "     \"inferred_semantic_domain_type\": {\n",
       "       \"variable_values_data\": \"text\"\n",
       "     }\n",
       "   },\n",
       "   \"rule_name\": \"column_value_nonnullity_rule\"\n",
       " }: {'$parameter.raw.column_values_null_unexpected_count': {'value': array([26156]),\n",
       "   'attributed_value': {'keboola_jobs-keboola_jobs': array([26156])},\n",
       "   'details': {'metric_configuration': {'metric_name': 'column_values.null.unexpected_count',\n",
       "     'domain_kwargs': {'column': 'variable_values_data'},\n",
       "     'metric_value_kwargs': None},\n",
       "    'num_batches': 1}},\n",
       "  '$parameter.column_values_null_unexpected_count': {'value': [26156],\n",
       "   'attributed_value': {'keboola_jobs-keboola_jobs': [26156]},\n",
       "   'details': {'metric_configuration': {'metric_name': 'column_values.null.unexpected_count',\n",
       "     'domain_kwargs': {'column': 'variable_values_data'},\n",
       "     'metric_value_kwargs': None},\n",
       "    'num_batches': 1}}},\n",
       " {\n",
       "   \"domain_type\": \"column\",\n",
       "   \"domain_kwargs\": {\n",
       "     \"column\": \"result_images\"\n",
       "   },\n",
       "   \"details\": {\n",
       "     \"inferred_semantic_domain_type\": {\n",
       "       \"result_images\": \"text\"\n",
       "     }\n",
       "   },\n",
       "   \"rule_name\": \"column_value_nonnullity_rule\"\n",
       " }: {'$parameter.raw.column_values_null_unexpected_count': {'value': array([26156]),\n",
       "   'attributed_value': {'keboola_jobs-keboola_jobs': array([26156])},\n",
       "   'details': {'metric_configuration': {'metric_name': 'column_values.null.unexpected_count',\n",
       "     'domain_kwargs': {'column': 'result_images'},\n",
       "     'metric_value_kwargs': None},\n",
       "    'num_batches': 1}},\n",
       "  '$parameter.column_values_null_unexpected_count': {'value': [26156],\n",
       "   'attributed_value': {'keboola_jobs-keboola_jobs': [26156]},\n",
       "   'details': {'metric_configuration': {'metric_name': 'column_values.null.unexpected_count',\n",
       "     'domain_kwargs': {'column': 'result_images'},\n",
       "     'metric_value_kwargs': None},\n",
       "    'num_batches': 1}}},\n",
       " {\n",
       "   \"domain_type\": \"column\",\n",
       "   \"domain_kwargs\": {\n",
       "     \"column\": \"result_message\"\n",
       "   },\n",
       "   \"details\": {\n",
       "     \"inferred_semantic_domain_type\": {\n",
       "       \"result_message\": \"text\"\n",
       "     }\n",
       "   },\n",
       "   \"rule_name\": \"column_value_nonnullity_rule\"\n",
       " }: {'$parameter.raw.column_values_null_unexpected_count': {'value': array([26156]),\n",
       "   'attributed_value': {'keboola_jobs-keboola_jobs': array([26156])},\n",
       "   'details': {'metric_configuration': {'metric_name': 'column_values.null.unexpected_count',\n",
       "     'domain_kwargs': {'column': 'result_message'},\n",
       "     'metric_value_kwargs': None},\n",
       "    'num_batches': 1}},\n",
       "  '$parameter.column_values_null_unexpected_count': {'value': [26156],\n",
       "   'attributed_value': {'keboola_jobs-keboola_jobs': [26156]},\n",
       "   'details': {'metric_configuration': {'metric_name': 'column_values.null.unexpected_count',\n",
       "     'domain_kwargs': {'column': 'result_message'},\n",
       "     'metric_value_kwargs': None},\n",
       "    'num_batches': 1}}},\n",
       " {\n",
       "   \"domain_type\": \"column\",\n",
       "   \"domain_kwargs\": {\n",
       "     \"column\": \"extraction_date\"\n",
       "   },\n",
       "   \"details\": {\n",
       "     \"inferred_semantic_domain_type\": {\n",
       "       \"extraction_date\": \"text\"\n",
       "     }\n",
       "   },\n",
       "   \"rule_name\": \"column_value_nonnullity_rule\"\n",
       " }: {'$parameter.raw.column_values_null_unexpected_count': {'value': array([26156]),\n",
       "   'attributed_value': {'keboola_jobs-keboola_jobs': array([26156])},\n",
       "   'details': {'metric_configuration': {'metric_name': 'column_values.null.unexpected_count',\n",
       "     'domain_kwargs': {'column': 'extraction_date'},\n",
       "     'metric_value_kwargs': None},\n",
       "    'num_batches': 1}},\n",
       "  '$parameter.column_values_null_unexpected_count': {'value': [26156],\n",
       "   'attributed_value': {'keboola_jobs-keboola_jobs': [26156]},\n",
       "   'details': {'metric_configuration': {'metric_name': 'column_values.null.unexpected_count',\n",
       "     'domain_kwargs': {'column': 'extraction_date'},\n",
       "     'metric_value_kwargs': None},\n",
       "    'num_batches': 1}}},\n",
       " {\n",
       "   \"domain_type\": \"column\",\n",
       "   \"domain_kwargs\": {\n",
       "     \"column\": \"project_name\"\n",
       "   },\n",
       "   \"details\": {\n",
       "     \"inferred_semantic_domain_type\": {\n",
       "       \"project_name\": \"numeric\"\n",
       "     }\n",
       "   },\n",
       "   \"rule_name\": \"numeric_columns_rule\"\n",
       " }: {'$parameter.raw.column_values_partition': {'value': {'bins': [7167.0],\n",
       "    'weights': [],\n",
       "    'tail_weights': [0.5, 0.5]},\n",
       "   'details': {'metric_configuration': {'metric_name': 'column.histogram',\n",
       "     'domain_kwargs': {'column': 'project_name'},\n",
       "     'metric_value_kwargs': {'bins': [7167.0]}},\n",
       "    'num_batches': 1}},\n",
       "  '$parameter.raw.column_standard_deviation': {'value': array([0.]),\n",
       "   'attributed_value': {'keboola_jobs-keboola_jobs': array([0.])},\n",
       "   'details': {'metric_configuration': {'metric_name': 'column.standard_deviation',\n",
       "     'domain_kwargs': {'column': 'project_name'},\n",
       "     'metric_value_kwargs': None},\n",
       "    'num_batches': 1}},\n",
       "  '$parameter.raw.column_quantile_values': {'value': array([[7167, 7167, 7167]]),\n",
       "   'attributed_value': {'keboola_jobs-keboola_jobs': array([7167, 7167, 7167])},\n",
       "   'details': {'metric_configuration': {'metric_name': 'column.quantile_values',\n",
       "     'domain_kwargs': {'column': 'project_name'},\n",
       "     'metric_value_kwargs': {'quantiles': [0.25, 0.5, 0.75],\n",
       "      'allow_relative_error': False}},\n",
       "    'num_batches': 1}},\n",
       "  '$parameter.raw.column_min': {'value': array([7167]),\n",
       "   'attributed_value': {'keboola_jobs-keboola_jobs': array([7167])},\n",
       "   'details': {'metric_configuration': {'metric_name': 'column.min',\n",
       "     'domain_kwargs': {'column': 'project_name'},\n",
       "     'metric_value_kwargs': None},\n",
       "    'num_batches': 1}},\n",
       "  '$parameter.raw.column_median': {'value': array([7167.]),\n",
       "   'attributed_value': {'keboola_jobs-keboola_jobs': array([7167.])},\n",
       "   'details': {'metric_configuration': {'metric_name': 'column.median',\n",
       "     'domain_kwargs': {'column': 'project_name'},\n",
       "     'metric_value_kwargs': None},\n",
       "    'num_batches': 1}},\n",
       "  '$parameter.raw.column_mean': {'value': array([7167.]),\n",
       "   'attributed_value': {'keboola_jobs-keboola_jobs': array([7167.])},\n",
       "   'details': {'metric_configuration': {'metric_name': 'column.mean',\n",
       "     'domain_kwargs': {'column': 'project_name'},\n",
       "     'metric_value_kwargs': None},\n",
       "    'num_batches': 1}},\n",
       "  '$parameter.raw.column_max': {'value': array([7167]),\n",
       "   'attributed_value': {'keboola_jobs-keboola_jobs': array([7167])},\n",
       "   'details': {'metric_configuration': {'metric_name': 'column.max',\n",
       "     'domain_kwargs': {'column': 'project_name'},\n",
       "     'metric_value_kwargs': None},\n",
       "    'num_batches': 1}},\n",
       "  '$parameter.column_values_partition': {'value': {'bins': [7167.0],\n",
       "    'weights': [],\n",
       "    'tail_weights': [0.5, 0.5]},\n",
       "   'details': {'metric_configuration': {'metric_name': 'column.histogram',\n",
       "     'domain_kwargs': {'column': 'project_name'},\n",
       "     'metric_value_kwargs': {'bins': [7167.0]}},\n",
       "    'num_batches': 1}},\n",
       "  '$parameter.column_standard_deviation': {'value': [0.0],\n",
       "   'attributed_value': {'keboola_jobs-keboola_jobs': [0.0]},\n",
       "   'details': {'metric_configuration': {'metric_name': 'column.standard_deviation',\n",
       "     'domain_kwargs': {'column': 'project_name'},\n",
       "     'metric_value_kwargs': None},\n",
       "    'num_batches': 1}},\n",
       "  '$parameter.column_quantile_values': {'value': [[7167, 7167, 7167]],\n",
       "   'attributed_value': {'keboola_jobs-keboola_jobs': [7167, 7167, 7167]},\n",
       "   'details': {'metric_configuration': {'metric_name': 'column.quantile_values',\n",
       "     'domain_kwargs': {'column': 'project_name'},\n",
       "     'metric_value_kwargs': {'quantiles': [0.25, 0.5, 0.75],\n",
       "      'allow_relative_error': False}},\n",
       "    'num_batches': 1}},\n",
       "  '$parameter.column_min': {'value': [7167],\n",
       "   'attributed_value': {'keboola_jobs-keboola_jobs': [7167]},\n",
       "   'details': {'metric_configuration': {'metric_name': 'column.min',\n",
       "     'domain_kwargs': {'column': 'project_name'},\n",
       "     'metric_value_kwargs': None},\n",
       "    'num_batches': 1}},\n",
       "  '$parameter.column_median': {'value': [7167.0],\n",
       "   'attributed_value': {'keboola_jobs-keboola_jobs': [7167.0]},\n",
       "   'details': {'metric_configuration': {'metric_name': 'column.median',\n",
       "     'domain_kwargs': {'column': 'project_name'},\n",
       "     'metric_value_kwargs': None},\n",
       "    'num_batches': 1}},\n",
       "  '$parameter.column_mean': {'value': [7167.0],\n",
       "   'attributed_value': {'keboola_jobs-keboola_jobs': [7167.0]},\n",
       "   'details': {'metric_configuration': {'metric_name': 'column.mean',\n",
       "     'domain_kwargs': {'column': 'project_name'},\n",
       "     'metric_value_kwargs': None},\n",
       "    'num_batches': 1}},\n",
       "  '$parameter.column_max': {'value': [7167],\n",
       "   'attributed_value': {'keboola_jobs-keboola_jobs': [7167]},\n",
       "   'details': {'metric_configuration': {'metric_name': 'column.max',\n",
       "     'domain_kwargs': {'column': 'project_name'},\n",
       "     'metric_value_kwargs': None},\n",
       "    'num_batches': 1}}},\n",
       " {\n",
       "   \"domain_type\": \"column\",\n",
       "   \"domain_kwargs\": {\n",
       "     \"column\": \"config\"\n",
       "   },\n",
       "   \"details\": {\n",
       "     \"inferred_semantic_domain_type\": {\n",
       "       \"config\": \"numeric\"\n",
       "     }\n",
       "   },\n",
       "   \"rule_name\": \"numeric_columns_rule\"\n",
       " }: {'$parameter.raw.column_values_partition': {'value': {'bins': [18951306.0,\n",
       "     22373942.1,\n",
       "     25796578.2,\n",
       "     29219214.3,\n",
       "     32641850.4,\n",
       "     36064486.5,\n",
       "     39487122.6,\n",
       "     42909758.7,\n",
       "     46332394.8,\n",
       "     49755030.900000006,\n",
       "     53177667.0],\n",
       "    'weights': [0.767024815508737,\n",
       "     0.15841394868657516,\n",
       "     0.0,\n",
       "     7.647306236378236e-05,\n",
       "     0.0017588804343669942,\n",
       "     0.0003441287806370206,\n",
       "     0.0715023133101365,\n",
       "     0.0005735479677283677,\n",
       "     0.00011470959354567354,\n",
       "     0.0001911826559094559],\n",
       "    'tail_weights': [5.551115123125783e-17, 5.551115123125783e-17]},\n",
       "   'details': {'metric_configuration': {'metric_name': 'column.histogram',\n",
       "     'domain_kwargs': {'column': 'config'},\n",
       "     'metric_value_kwargs': {'bins': [18951306.0,\n",
       "       22373942.1,\n",
       "       25796578.2,\n",
       "       29219214.3,\n",
       "       32641850.4,\n",
       "       36064486.5,\n",
       "       39487122.6,\n",
       "       42909758.7,\n",
       "       46332394.8,\n",
       "       49755030.900000006,\n",
       "       53177667.0]}},\n",
       "    'num_batches': 1}},\n",
       "  '$parameter.raw.column_standard_deviation': {'value': array([5269989.9882537]),\n",
       "   'attributed_value': {'keboola_jobs-keboola_jobs': array([5269989.9882537])},\n",
       "   'details': {'metric_configuration': {'metric_name': 'column.standard_deviation',\n",
       "     'domain_kwargs': {'column': 'config'},\n",
       "     'metric_value_kwargs': None},\n",
       "    'num_batches': 1}},\n",
       "  '$parameter.raw.column_quantile_values': {'value': array([[20987332., 21591835., 21591836.]]),\n",
       "   'attributed_value': {'keboola_jobs-keboola_jobs': array([20987332., 21591835., 21591836.])},\n",
       "   'details': {'metric_configuration': {'metric_name': 'column.quantile_values',\n",
       "     'domain_kwargs': {'column': 'config'},\n",
       "     'metric_value_kwargs': {'quantiles': [0.25, 0.5, 0.75],\n",
       "      'allow_relative_error': False}},\n",
       "    'num_batches': 1}},\n",
       "  '$parameter.raw.column_min': {'value': array([18951306.]),\n",
       "   'attributed_value': {'keboola_jobs-keboola_jobs': array([18951306.])},\n",
       "   'details': {'metric_configuration': {'metric_name': 'column.min',\n",
       "     'domain_kwargs': {'column': 'config'},\n",
       "     'metric_value_kwargs': None},\n",
       "    'num_batches': 1}},\n",
       "  '$parameter.raw.column_median': {'value': array([21591835.]),\n",
       "   'attributed_value': {'keboola_jobs-keboola_jobs': array([21591835.])},\n",
       "   'details': {'metric_configuration': {'metric_name': 'column.median',\n",
       "     'domain_kwargs': {'column': 'config'},\n",
       "     'metric_value_kwargs': None},\n",
       "    'num_batches': 1}},\n",
       "  '$parameter.raw.column_mean': {'value': array([22749290.73406493]),\n",
       "   'attributed_value': {'keboola_jobs-keboola_jobs': array([22749290.73406493])},\n",
       "   'details': {'metric_configuration': {'metric_name': 'column.mean',\n",
       "     'domain_kwargs': {'column': 'config'},\n",
       "     'metric_value_kwargs': None},\n",
       "    'num_batches': 1}},\n",
       "  '$parameter.raw.column_max': {'value': array([53177667.]),\n",
       "   'attributed_value': {'keboola_jobs-keboola_jobs': array([53177667.])},\n",
       "   'details': {'metric_configuration': {'metric_name': 'column.max',\n",
       "     'domain_kwargs': {'column': 'config'},\n",
       "     'metric_value_kwargs': None},\n",
       "    'num_batches': 1}},\n",
       "  '$parameter.column_values_partition': {'value': {'bins': [18951306.0,\n",
       "     22373942.1,\n",
       "     25796578.2,\n",
       "     29219214.3,\n",
       "     32641850.4,\n",
       "     36064486.5,\n",
       "     39487122.6,\n",
       "     42909758.7,\n",
       "     46332394.8,\n",
       "     49755030.900000006,\n",
       "     53177667.0],\n",
       "    'weights': [0.767024815508737,\n",
       "     0.15841394868657516,\n",
       "     0.0,\n",
       "     7.647306236378236e-05,\n",
       "     0.0017588804343669942,\n",
       "     0.0003441287806370206,\n",
       "     0.0715023133101365,\n",
       "     0.0005735479677283677,\n",
       "     0.00011470959354567354,\n",
       "     0.0001911826559094559],\n",
       "    'tail_weights': [5.551115123125783e-17, 5.551115123125783e-17]},\n",
       "   'details': {'metric_configuration': {'metric_name': 'column.histogram',\n",
       "     'domain_kwargs': {'column': 'config'},\n",
       "     'metric_value_kwargs': {'bins': [18951306.0,\n",
       "       22373942.1,\n",
       "       25796578.2,\n",
       "       29219214.3,\n",
       "       32641850.4,\n",
       "       36064486.5,\n",
       "       39487122.6,\n",
       "       42909758.7,\n",
       "       46332394.8,\n",
       "       49755030.900000006,\n",
       "       53177667.0]}},\n",
       "    'num_batches': 1}},\n",
       "  '$parameter.column_standard_deviation': {'value': [5269989.988253698],\n",
       "   'attributed_value': {'keboola_jobs-keboola_jobs': [5269989.988253698]},\n",
       "   'details': {'metric_configuration': {'metric_name': 'column.standard_deviation',\n",
       "     'domain_kwargs': {'column': 'config'},\n",
       "     'metric_value_kwargs': None},\n",
       "    'num_batches': 1}},\n",
       "  '$parameter.column_quantile_values': {'value': [[20987332.0,\n",
       "     21591835.0,\n",
       "     21591836.0]],\n",
       "   'attributed_value': {'keboola_jobs-keboola_jobs': [20987332.0,\n",
       "     21591835.0,\n",
       "     21591836.0]},\n",
       "   'details': {'metric_configuration': {'metric_name': 'column.quantile_values',\n",
       "     'domain_kwargs': {'column': 'config'},\n",
       "     'metric_value_kwargs': {'quantiles': [0.25, 0.5, 0.75],\n",
       "      'allow_relative_error': False}},\n",
       "    'num_batches': 1}},\n",
       "  '$parameter.column_min': {'value': [18951306.0],\n",
       "   'attributed_value': {'keboola_jobs-keboola_jobs': [18951306.0]},\n",
       "   'details': {'metric_configuration': {'metric_name': 'column.min',\n",
       "     'domain_kwargs': {'column': 'config'},\n",
       "     'metric_value_kwargs': None},\n",
       "    'num_batches': 1}},\n",
       "  '$parameter.column_median': {'value': [21591835.0],\n",
       "   'attributed_value': {'keboola_jobs-keboola_jobs': [21591835.0]},\n",
       "   'details': {'metric_configuration': {'metric_name': 'column.median',\n",
       "     'domain_kwargs': {'column': 'config'},\n",
       "     'metric_value_kwargs': None},\n",
       "    'num_batches': 1}},\n",
       "  '$parameter.column_mean': {'value': [22749290.734064925],\n",
       "   'attributed_value': {'keboola_jobs-keboola_jobs': [22749290.734064925]},\n",
       "   'details': {'metric_configuration': {'metric_name': 'column.mean',\n",
       "     'domain_kwargs': {'column': 'config'},\n",
       "     'metric_value_kwargs': None},\n",
       "    'num_batches': 1}},\n",
       "  '$parameter.column_max': {'value': [53177667.0],\n",
       "   'attributed_value': {'keboola_jobs-keboola_jobs': [53177667.0]},\n",
       "   'details': {'metric_configuration': {'metric_name': 'column.max',\n",
       "     'domain_kwargs': {'column': 'config'},\n",
       "     'metric_value_kwargs': None},\n",
       "    'num_batches': 1}}},\n",
       " {\n",
       "   \"domain_type\": \"column\",\n",
       "   \"domain_kwargs\": {\n",
       "     \"column\": \"duration_seconds\"\n",
       "   },\n",
       "   \"details\": {\n",
       "     \"inferred_semantic_domain_type\": {\n",
       "       \"duration_seconds\": \"numeric\"\n",
       "     }\n",
       "   },\n",
       "   \"rule_name\": \"numeric_columns_rule\"\n",
       " }: {'$parameter.raw.column_values_partition': {'value': {'bins': [1.0,\n",
       "     453.9,\n",
       "     906.8,\n",
       "     1359.6999999999998,\n",
       "     1812.6,\n",
       "     2265.5,\n",
       "     2718.3999999999996,\n",
       "     3171.2999999999997,\n",
       "     3624.2,\n",
       "     4077.1,\n",
       "     4530.0],\n",
       "    'weights': [0.9966738033338431,\n",
       "     0.0020645358617525614,\n",
       "     0.0006881786205841871,\n",
       "     7.64642911760208e-05,\n",
       "     0.0001529285823520416,\n",
       "     0.0,\n",
       "     0.0,\n",
       "     3.82321455880104e-05,\n",
       "     0.0001529285823520416,\n",
       "     0.0001529285823520416],\n",
       "    'tail_weights': [0.0, 0.0]},\n",
       "   'details': {'metric_configuration': {'metric_name': 'column.histogram',\n",
       "     'domain_kwargs': {'column': 'duration_seconds'},\n",
       "     'metric_value_kwargs': {'bins': [1.0,\n",
       "       453.9,\n",
       "       906.8,\n",
       "       1359.6999999999998,\n",
       "       1812.6,\n",
       "       2265.5,\n",
       "       2718.3999999999996,\n",
       "       3171.2999999999997,\n",
       "       3624.2,\n",
       "       4077.1,\n",
       "       4530.0]}},\n",
       "    'num_batches': 1}},\n",
       "  '$parameter.raw.column_standard_deviation': {'value': array([111.34192894]),\n",
       "   'attributed_value': {'keboola_jobs-keboola_jobs': array([111.34192894])},\n",
       "   'details': {'metric_configuration': {'metric_name': 'column.standard_deviation',\n",
       "     'domain_kwargs': {'column': 'duration_seconds'},\n",
       "     'metric_value_kwargs': None},\n",
       "    'num_batches': 1}},\n",
       "  '$parameter.raw.column_quantile_values': {'value': array([[ 22,  58, 107]]),\n",
       "   'attributed_value': {'keboola_jobs-keboola_jobs': array([ 22,  58, 107])},\n",
       "   'details': {'metric_configuration': {'metric_name': 'column.quantile_values',\n",
       "     'domain_kwargs': {'column': 'duration_seconds'},\n",
       "     'metric_value_kwargs': {'quantiles': [0.25, 0.5, 0.75],\n",
       "      'allow_relative_error': False}},\n",
       "    'num_batches': 1}},\n",
       "  '$parameter.raw.column_min': {'value': array([1]),\n",
       "   'attributed_value': {'keboola_jobs-keboola_jobs': array([1])},\n",
       "   'details': {'metric_configuration': {'metric_name': 'column.min',\n",
       "     'domain_kwargs': {'column': 'duration_seconds'},\n",
       "     'metric_value_kwargs': None},\n",
       "    'num_batches': 1}},\n",
       "  '$parameter.raw.column_median': {'value': array([58.]),\n",
       "   'attributed_value': {'keboola_jobs-keboola_jobs': array([58.])},\n",
       "   'details': {'metric_configuration': {'metric_name': 'column.median',\n",
       "     'domain_kwargs': {'column': 'duration_seconds'},\n",
       "     'metric_value_kwargs': None},\n",
       "    'num_batches': 1}},\n",
       "  '$parameter.raw.column_mean': {'value': array([80.53414131]),\n",
       "   'attributed_value': {'keboola_jobs-keboola_jobs': array([80.53414131])},\n",
       "   'details': {'metric_configuration': {'metric_name': 'column.mean',\n",
       "     'domain_kwargs': {'column': 'duration_seconds'},\n",
       "     'metric_value_kwargs': None},\n",
       "    'num_batches': 1}},\n",
       "  '$parameter.raw.column_max': {'value': array([4530]),\n",
       "   'attributed_value': {'keboola_jobs-keboola_jobs': array([4530])},\n",
       "   'details': {'metric_configuration': {'metric_name': 'column.max',\n",
       "     'domain_kwargs': {'column': 'duration_seconds'},\n",
       "     'metric_value_kwargs': None},\n",
       "    'num_batches': 1}},\n",
       "  '$parameter.column_values_partition': {'value': {'bins': [1.0,\n",
       "     453.9,\n",
       "     906.8,\n",
       "     1359.6999999999998,\n",
       "     1812.6,\n",
       "     2265.5,\n",
       "     2718.3999999999996,\n",
       "     3171.2999999999997,\n",
       "     3624.2,\n",
       "     4077.1,\n",
       "     4530.0],\n",
       "    'weights': [0.9966738033338431,\n",
       "     0.0020645358617525614,\n",
       "     0.0006881786205841871,\n",
       "     7.64642911760208e-05,\n",
       "     0.0001529285823520416,\n",
       "     0.0,\n",
       "     0.0,\n",
       "     3.82321455880104e-05,\n",
       "     0.0001529285823520416,\n",
       "     0.0001529285823520416],\n",
       "    'tail_weights': [0.0, 0.0]},\n",
       "   'details': {'metric_configuration': {'metric_name': 'column.histogram',\n",
       "     'domain_kwargs': {'column': 'duration_seconds'},\n",
       "     'metric_value_kwargs': {'bins': [1.0,\n",
       "       453.9,\n",
       "       906.8,\n",
       "       1359.6999999999998,\n",
       "       1812.6,\n",
       "       2265.5,\n",
       "       2718.3999999999996,\n",
       "       3171.2999999999997,\n",
       "       3624.2,\n",
       "       4077.1,\n",
       "       4530.0]}},\n",
       "    'num_batches': 1}},\n",
       "  '$parameter.column_standard_deviation': {'value': [111.34192893536786],\n",
       "   'attributed_value': {'keboola_jobs-keboola_jobs': [111.34192893536786]},\n",
       "   'details': {'metric_configuration': {'metric_name': 'column.standard_deviation',\n",
       "     'domain_kwargs': {'column': 'duration_seconds'},\n",
       "     'metric_value_kwargs': None},\n",
       "    'num_batches': 1}},\n",
       "  '$parameter.column_quantile_values': {'value': [[22, 58, 107]],\n",
       "   'attributed_value': {'keboola_jobs-keboola_jobs': [22, 58, 107]},\n",
       "   'details': {'metric_configuration': {'metric_name': 'column.quantile_values',\n",
       "     'domain_kwargs': {'column': 'duration_seconds'},\n",
       "     'metric_value_kwargs': {'quantiles': [0.25, 0.5, 0.75],\n",
       "      'allow_relative_error': False}},\n",
       "    'num_batches': 1}},\n",
       "  '$parameter.column_min': {'value': [1],\n",
       "   'attributed_value': {'keboola_jobs-keboola_jobs': [1]},\n",
       "   'details': {'metric_configuration': {'metric_name': 'column.min',\n",
       "     'domain_kwargs': {'column': 'duration_seconds'},\n",
       "     'metric_value_kwargs': None},\n",
       "    'num_batches': 1}},\n",
       "  '$parameter.column_median': {'value': [58.0],\n",
       "   'attributed_value': {'keboola_jobs-keboola_jobs': [58.0]},\n",
       "   'details': {'metric_configuration': {'metric_name': 'column.median',\n",
       "     'domain_kwargs': {'column': 'duration_seconds'},\n",
       "     'metric_value_kwargs': None},\n",
       "    'num_batches': 1}},\n",
       "  '$parameter.column_mean': {'value': [80.5341413060101],\n",
       "   'attributed_value': {'keboola_jobs-keboola_jobs': [80.5341413060101]},\n",
       "   'details': {'metric_configuration': {'metric_name': 'column.mean',\n",
       "     'domain_kwargs': {'column': 'duration_seconds'},\n",
       "     'metric_value_kwargs': None},\n",
       "    'num_batches': 1}},\n",
       "  '$parameter.column_max': {'value': [4530],\n",
       "   'attributed_value': {'keboola_jobs-keboola_jobs': [4530]},\n",
       "   'details': {'metric_configuration': {'metric_name': 'column.max',\n",
       "     'domain_kwargs': {'column': 'duration_seconds'},\n",
       "     'metric_value_kwargs': None},\n",
       "    'num_batches': 1}}},\n",
       " {\n",
       "   \"domain_type\": \"column\",\n",
       "   \"domain_kwargs\": {\n",
       "     \"column\": \"isFinished\"\n",
       "   },\n",
       "   \"details\": {\n",
       "     \"inferred_semantic_domain_type\": {\n",
       "       \"isFinished\": \"numeric\"\n",
       "     }\n",
       "   },\n",
       "   \"rule_name\": \"numeric_columns_rule\"\n",
       " }: {'$parameter.raw.column_values_partition': {'value': {'bins': [1.0],\n",
       "    'weights': [],\n",
       "    'tail_weights': [0.5, 0.5]},\n",
       "   'details': {'metric_configuration': {'metric_name': 'column.histogram',\n",
       "     'domain_kwargs': {'column': 'isFinished'},\n",
       "     'metric_value_kwargs': {'bins': [1.0]}},\n",
       "    'num_batches': 1}},\n",
       "  '$parameter.raw.column_standard_deviation': {'value': array([0.]),\n",
       "   'attributed_value': {'keboola_jobs-keboola_jobs': array([0.])},\n",
       "   'details': {'metric_configuration': {'metric_name': 'column.standard_deviation',\n",
       "     'domain_kwargs': {'column': 'isFinished'},\n",
       "     'metric_value_kwargs': None},\n",
       "    'num_batches': 1}},\n",
       "  '$parameter.raw.column_quantile_values': {'value': array([[1, 1, 1]]),\n",
       "   'attributed_value': {'keboola_jobs-keboola_jobs': array([1, 1, 1])},\n",
       "   'details': {'metric_configuration': {'metric_name': 'column.quantile_values',\n",
       "     'domain_kwargs': {'column': 'isFinished'},\n",
       "     'metric_value_kwargs': {'quantiles': [0.25, 0.5, 0.75],\n",
       "      'allow_relative_error': False}},\n",
       "    'num_batches': 1}},\n",
       "  '$parameter.raw.column_min': {'value': array([1]),\n",
       "   'attributed_value': {'keboola_jobs-keboola_jobs': array([1])},\n",
       "   'details': {'metric_configuration': {'metric_name': 'column.min',\n",
       "     'domain_kwargs': {'column': 'isFinished'},\n",
       "     'metric_value_kwargs': None},\n",
       "    'num_batches': 1}},\n",
       "  '$parameter.raw.column_median': {'value': array([1.]),\n",
       "   'attributed_value': {'keboola_jobs-keboola_jobs': array([1.])},\n",
       "   'details': {'metric_configuration': {'metric_name': 'column.median',\n",
       "     'domain_kwargs': {'column': 'isFinished'},\n",
       "     'metric_value_kwargs': None},\n",
       "    'num_batches': 1}},\n",
       "  '$parameter.raw.column_mean': {'value': array([1.]),\n",
       "   'attributed_value': {'keboola_jobs-keboola_jobs': array([1.])},\n",
       "   'details': {'metric_configuration': {'metric_name': 'column.mean',\n",
       "     'domain_kwargs': {'column': 'isFinished'},\n",
       "     'metric_value_kwargs': None},\n",
       "    'num_batches': 1}},\n",
       "  '$parameter.raw.column_max': {'value': array([1]),\n",
       "   'attributed_value': {'keboola_jobs-keboola_jobs': array([1])},\n",
       "   'details': {'metric_configuration': {'metric_name': 'column.max',\n",
       "     'domain_kwargs': {'column': 'isFinished'},\n",
       "     'metric_value_kwargs': None},\n",
       "    'num_batches': 1}},\n",
       "  '$parameter.column_values_partition': {'value': {'bins': [1.0],\n",
       "    'weights': [],\n",
       "    'tail_weights': [0.5, 0.5]},\n",
       "   'details': {'metric_configuration': {'metric_name': 'column.histogram',\n",
       "     'domain_kwargs': {'column': 'isFinished'},\n",
       "     'metric_value_kwargs': {'bins': [1.0]}},\n",
       "    'num_batches': 1}},\n",
       "  '$parameter.column_standard_deviation': {'value': [0.0],\n",
       "   'attributed_value': {'keboola_jobs-keboola_jobs': [0.0]},\n",
       "   'details': {'metric_configuration': {'metric_name': 'column.standard_deviation',\n",
       "     'domain_kwargs': {'column': 'isFinished'},\n",
       "     'metric_value_kwargs': None},\n",
       "    'num_batches': 1}},\n",
       "  '$parameter.column_quantile_values': {'value': [[1, 1, 1]],\n",
       "   'attributed_value': {'keboola_jobs-keboola_jobs': [1, 1, 1]},\n",
       "   'details': {'metric_configuration': {'metric_name': 'column.quantile_values',\n",
       "     'domain_kwargs': {'column': 'isFinished'},\n",
       "     'metric_value_kwargs': {'quantiles': [0.25, 0.5, 0.75],\n",
       "      'allow_relative_error': False}},\n",
       "    'num_batches': 1}},\n",
       "  '$parameter.column_min': {'value': [1],\n",
       "   'attributed_value': {'keboola_jobs-keboola_jobs': [1]},\n",
       "   'details': {'metric_configuration': {'metric_name': 'column.min',\n",
       "     'domain_kwargs': {'column': 'isFinished'},\n",
       "     'metric_value_kwargs': None},\n",
       "    'num_batches': 1}},\n",
       "  '$parameter.column_median': {'value': [1.0],\n",
       "   'attributed_value': {'keboola_jobs-keboola_jobs': [1.0]},\n",
       "   'details': {'metric_configuration': {'metric_name': 'column.median',\n",
       "     'domain_kwargs': {'column': 'isFinished'},\n",
       "     'metric_value_kwargs': None},\n",
       "    'num_batches': 1}},\n",
       "  '$parameter.column_mean': {'value': [1.0],\n",
       "   'attributed_value': {'keboola_jobs-keboola_jobs': [1.0]},\n",
       "   'details': {'metric_configuration': {'metric_name': 'column.mean',\n",
       "     'domain_kwargs': {'column': 'isFinished'},\n",
       "     'metric_value_kwargs': None},\n",
       "    'num_batches': 1}},\n",
       "  '$parameter.column_max': {'value': [1],\n",
       "   'attributed_value': {'keboola_jobs-keboola_jobs': [1]},\n",
       "   'details': {'metric_configuration': {'metric_name': 'column.max',\n",
       "     'domain_kwargs': {'column': 'isFinished'},\n",
       "     'metric_value_kwargs': None},\n",
       "    'num_batches': 1}}},\n",
       " {\n",
       "   \"domain_type\": \"column\",\n",
       "   \"domain_kwargs\": {\n",
       "     \"column\": \"branchId\"\n",
       "   },\n",
       "   \"details\": {\n",
       "     \"inferred_semantic_domain_type\": {\n",
       "       \"branchId\": \"numeric\"\n",
       "     }\n",
       "   },\n",
       "   \"rule_name\": \"numeric_columns_rule\"\n",
       " }: {'$parameter.raw.column_values_partition': {'value': {'bins': [nan,\n",
       "     nan,\n",
       "     nan,\n",
       "     nan,\n",
       "     nan,\n",
       "     nan,\n",
       "     nan,\n",
       "     nan,\n",
       "     nan,\n",
       "     nan,\n",
       "     nan],\n",
       "    'weights': [0.0, 0.0, 0.0, 0.0, 0.0, 0.0, 0.0, 0.0, 0.0, 0.0],\n",
       "    'tail_weights': [0.5, 0.5]},\n",
       "   'details': {'metric_configuration': {'metric_name': 'column.histogram',\n",
       "     'domain_kwargs': {'column': 'branchId'},\n",
       "     'metric_value_kwargs': {'bins': [nan,\n",
       "       nan,\n",
       "       nan,\n",
       "       nan,\n",
       "       nan,\n",
       "       nan,\n",
       "       nan,\n",
       "       nan,\n",
       "       nan,\n",
       "       nan,\n",
       "       nan]}},\n",
       "    'num_batches': 1}},\n",
       "  '$parameter.raw.column_standard_deviation': {'value': array([0.]),\n",
       "   'attributed_value': {'keboola_jobs-keboola_jobs': array([0.])},\n",
       "   'details': {'metric_configuration': {'metric_name': 'column.standard_deviation',\n",
       "     'domain_kwargs': {'column': 'branchId'},\n",
       "     'metric_value_kwargs': None},\n",
       "    'num_batches': 1}},\n",
       "  '$parameter.raw.column_quantile_values': {'value': array([[0., 0., 0.]]),\n",
       "   'attributed_value': {'keboola_jobs-keboola_jobs': array([0., 0., 0.])},\n",
       "   'details': {'metric_configuration': {'metric_name': 'column.quantile_values',\n",
       "     'domain_kwargs': {'column': 'branchId'},\n",
       "     'metric_value_kwargs': {'quantiles': [0.25, 0.5, 0.75],\n",
       "      'allow_relative_error': False}},\n",
       "    'num_batches': 1}},\n",
       "  '$parameter.raw.column_min': {'value': array([0.]),\n",
       "   'attributed_value': {'keboola_jobs-keboola_jobs': array([0.])},\n",
       "   'details': {'metric_configuration': {'metric_name': 'column.min',\n",
       "     'domain_kwargs': {'column': 'branchId'},\n",
       "     'metric_value_kwargs': None},\n",
       "    'num_batches': 1}},\n",
       "  '$parameter.raw.column_median': {'value': array([0.]),\n",
       "   'attributed_value': {'keboola_jobs-keboola_jobs': array([0.])},\n",
       "   'details': {'metric_configuration': {'metric_name': 'column.median',\n",
       "     'domain_kwargs': {'column': 'branchId'},\n",
       "     'metric_value_kwargs': None},\n",
       "    'num_batches': 1}},\n",
       "  '$parameter.raw.column_mean': {'value': array([0.]),\n",
       "   'attributed_value': {'keboola_jobs-keboola_jobs': array([0.])},\n",
       "   'details': {'metric_configuration': {'metric_name': 'column.mean',\n",
       "     'domain_kwargs': {'column': 'branchId'},\n",
       "     'metric_value_kwargs': None},\n",
       "    'num_batches': 1}},\n",
       "  '$parameter.raw.column_max': {'value': array([0.]),\n",
       "   'attributed_value': {'keboola_jobs-keboola_jobs': array([0.])},\n",
       "   'details': {'metric_configuration': {'metric_name': 'column.max',\n",
       "     'domain_kwargs': {'column': 'branchId'},\n",
       "     'metric_value_kwargs': None},\n",
       "    'num_batches': 1}},\n",
       "  '$parameter.column_values_partition': {'value': {'bins': [None,\n",
       "     None,\n",
       "     None,\n",
       "     None,\n",
       "     None,\n",
       "     None,\n",
       "     None,\n",
       "     None,\n",
       "     None,\n",
       "     None,\n",
       "     None],\n",
       "    'weights': [0.0, 0.0, 0.0, 0.0, 0.0, 0.0, 0.0, 0.0, 0.0, 0.0],\n",
       "    'tail_weights': [0.5, 0.5]},\n",
       "   'details': {'metric_configuration': {'metric_name': 'column.histogram',\n",
       "     'domain_kwargs': {'column': 'branchId'},\n",
       "     'metric_value_kwargs': {'bins': [None,\n",
       "       None,\n",
       "       None,\n",
       "       None,\n",
       "       None,\n",
       "       None,\n",
       "       None,\n",
       "       None,\n",
       "       None,\n",
       "       None,\n",
       "       None]}},\n",
       "    'num_batches': 1}},\n",
       "  '$parameter.column_standard_deviation': {'value': [0.0],\n",
       "   'attributed_value': {'keboola_jobs-keboola_jobs': [0.0]},\n",
       "   'details': {'metric_configuration': {'metric_name': 'column.standard_deviation',\n",
       "     'domain_kwargs': {'column': 'branchId'},\n",
       "     'metric_value_kwargs': None},\n",
       "    'num_batches': 1}},\n",
       "  '$parameter.column_quantile_values': {'value': [[0.0, 0.0, 0.0]],\n",
       "   'attributed_value': {'keboola_jobs-keboola_jobs': [0.0, 0.0, 0.0]},\n",
       "   'details': {'metric_configuration': {'metric_name': 'column.quantile_values',\n",
       "     'domain_kwargs': {'column': 'branchId'},\n",
       "     'metric_value_kwargs': {'quantiles': [0.25, 0.5, 0.75],\n",
       "      'allow_relative_error': False}},\n",
       "    'num_batches': 1}},\n",
       "  '$parameter.column_min': {'value': [0.0],\n",
       "   'attributed_value': {'keboola_jobs-keboola_jobs': [0.0]},\n",
       "   'details': {'metric_configuration': {'metric_name': 'column.min',\n",
       "     'domain_kwargs': {'column': 'branchId'},\n",
       "     'metric_value_kwargs': None},\n",
       "    'num_batches': 1}},\n",
       "  '$parameter.column_median': {'value': [0.0],\n",
       "   'attributed_value': {'keboola_jobs-keboola_jobs': [0.0]},\n",
       "   'details': {'metric_configuration': {'metric_name': 'column.median',\n",
       "     'domain_kwargs': {'column': 'branchId'},\n",
       "     'metric_value_kwargs': None},\n",
       "    'num_batches': 1}},\n",
       "  '$parameter.column_mean': {'value': [0.0],\n",
       "   'attributed_value': {'keboola_jobs-keboola_jobs': [0.0]},\n",
       "   'details': {'metric_configuration': {'metric_name': 'column.mean',\n",
       "     'domain_kwargs': {'column': 'branchId'},\n",
       "     'metric_value_kwargs': None},\n",
       "    'num_batches': 1}},\n",
       "  '$parameter.column_max': {'value': [0.0],\n",
       "   'attributed_value': {'keboola_jobs-keboola_jobs': [0.0]},\n",
       "   'details': {'metric_configuration': {'metric_name': 'column.max',\n",
       "     'domain_kwargs': {'column': 'branchId'},\n",
       "     'metric_value_kwargs': None},\n",
       "    'num_batches': 1}}},\n",
       " {\n",
       "   \"domain_type\": \"column\",\n",
       "   \"domain_kwargs\": {\n",
       "     \"column\": \"parallelism\"\n",
       "   },\n",
       "   \"details\": {\n",
       "     \"inferred_semantic_domain_type\": {\n",
       "       \"parallelism\": \"numeric\"\n",
       "     }\n",
       "   },\n",
       "   \"rule_name\": \"numeric_columns_rule\"\n",
       " }: {'$parameter.raw.column_values_partition': {'value': {'bins': [nan,\n",
       "     nan,\n",
       "     nan,\n",
       "     nan,\n",
       "     nan,\n",
       "     nan,\n",
       "     nan,\n",
       "     nan,\n",
       "     nan,\n",
       "     nan,\n",
       "     nan],\n",
       "    'weights': [0.0, 0.0, 0.0, 0.0, 0.0, 0.0, 0.0, 0.0, 0.0, 0.0],\n",
       "    'tail_weights': [0.5, 0.5]},\n",
       "   'details': {'metric_configuration': {'metric_name': 'column.histogram',\n",
       "     'domain_kwargs': {'column': 'parallelism'},\n",
       "     'metric_value_kwargs': {'bins': [nan,\n",
       "       nan,\n",
       "       nan,\n",
       "       nan,\n",
       "       nan,\n",
       "       nan,\n",
       "       nan,\n",
       "       nan,\n",
       "       nan,\n",
       "       nan,\n",
       "       nan]}},\n",
       "    'num_batches': 1}},\n",
       "  '$parameter.raw.column_standard_deviation': {'value': array([0.]),\n",
       "   'attributed_value': {'keboola_jobs-keboola_jobs': array([0.])},\n",
       "   'details': {'metric_configuration': {'metric_name': 'column.standard_deviation',\n",
       "     'domain_kwargs': {'column': 'parallelism'},\n",
       "     'metric_value_kwargs': None},\n",
       "    'num_batches': 1}},\n",
       "  '$parameter.raw.column_quantile_values': {'value': array([[0., 0., 0.]]),\n",
       "   'attributed_value': {'keboola_jobs-keboola_jobs': array([0., 0., 0.])},\n",
       "   'details': {'metric_configuration': {'metric_name': 'column.quantile_values',\n",
       "     'domain_kwargs': {'column': 'parallelism'},\n",
       "     'metric_value_kwargs': {'quantiles': [0.25, 0.5, 0.75],\n",
       "      'allow_relative_error': False}},\n",
       "    'num_batches': 1}},\n",
       "  '$parameter.raw.column_min': {'value': array([0.]),\n",
       "   'attributed_value': {'keboola_jobs-keboola_jobs': array([0.])},\n",
       "   'details': {'metric_configuration': {'metric_name': 'column.min',\n",
       "     'domain_kwargs': {'column': 'parallelism'},\n",
       "     'metric_value_kwargs': None},\n",
       "    'num_batches': 1}},\n",
       "  '$parameter.raw.column_median': {'value': array([0.]),\n",
       "   'attributed_value': {'keboola_jobs-keboola_jobs': array([0.])},\n",
       "   'details': {'metric_configuration': {'metric_name': 'column.median',\n",
       "     'domain_kwargs': {'column': 'parallelism'},\n",
       "     'metric_value_kwargs': None},\n",
       "    'num_batches': 1}},\n",
       "  '$parameter.raw.column_mean': {'value': array([0.]),\n",
       "   'attributed_value': {'keboola_jobs-keboola_jobs': array([0.])},\n",
       "   'details': {'metric_configuration': {'metric_name': 'column.mean',\n",
       "     'domain_kwargs': {'column': 'parallelism'},\n",
       "     'metric_value_kwargs': None},\n",
       "    'num_batches': 1}},\n",
       "  '$parameter.raw.column_max': {'value': array([0.]),\n",
       "   'attributed_value': {'keboola_jobs-keboola_jobs': array([0.])},\n",
       "   'details': {'metric_configuration': {'metric_name': 'column.max',\n",
       "     'domain_kwargs': {'column': 'parallelism'},\n",
       "     'metric_value_kwargs': None},\n",
       "    'num_batches': 1}},\n",
       "  '$parameter.column_values_partition': {'value': {'bins': [None,\n",
       "     None,\n",
       "     None,\n",
       "     None,\n",
       "     None,\n",
       "     None,\n",
       "     None,\n",
       "     None,\n",
       "     None,\n",
       "     None,\n",
       "     None],\n",
       "    'weights': [0.0, 0.0, 0.0, 0.0, 0.0, 0.0, 0.0, 0.0, 0.0, 0.0],\n",
       "    'tail_weights': [0.5, 0.5]},\n",
       "   'details': {'metric_configuration': {'metric_name': 'column.histogram',\n",
       "     'domain_kwargs': {'column': 'parallelism'},\n",
       "     'metric_value_kwargs': {'bins': [None,\n",
       "       None,\n",
       "       None,\n",
       "       None,\n",
       "       None,\n",
       "       None,\n",
       "       None,\n",
       "       None,\n",
       "       None,\n",
       "       None,\n",
       "       None]}},\n",
       "    'num_batches': 1}},\n",
       "  '$parameter.column_standard_deviation': {'value': [0.0],\n",
       "   'attributed_value': {'keboola_jobs-keboola_jobs': [0.0]},\n",
       "   'details': {'metric_configuration': {'metric_name': 'column.standard_deviation',\n",
       "     'domain_kwargs': {'column': 'parallelism'},\n",
       "     'metric_value_kwargs': None},\n",
       "    'num_batches': 1}},\n",
       "  '$parameter.column_quantile_values': {'value': [[0.0, 0.0, 0.0]],\n",
       "   'attributed_value': {'keboola_jobs-keboola_jobs': [0.0, 0.0, 0.0]},\n",
       "   'details': {'metric_configuration': {'metric_name': 'column.quantile_values',\n",
       "     'domain_kwargs': {'column': 'parallelism'},\n",
       "     'metric_value_kwargs': {'quantiles': [0.25, 0.5, 0.75],\n",
       "      'allow_relative_error': False}},\n",
       "    'num_batches': 1}},\n",
       "  '$parameter.column_min': {'value': [0.0],\n",
       "   'attributed_value': {'keboola_jobs-keboola_jobs': [0.0]},\n",
       "   'details': {'metric_configuration': {'metric_name': 'column.min',\n",
       "     'domain_kwargs': {'column': 'parallelism'},\n",
       "     'metric_value_kwargs': None},\n",
       "    'num_batches': 1}},\n",
       "  '$parameter.column_median': {'value': [0.0],\n",
       "   'attributed_value': {'keboola_jobs-keboola_jobs': [0.0]},\n",
       "   'details': {'metric_configuration': {'metric_name': 'column.median',\n",
       "     'domain_kwargs': {'column': 'parallelism'},\n",
       "     'metric_value_kwargs': None},\n",
       "    'num_batches': 1}},\n",
       "  '$parameter.column_mean': {'value': [0.0],\n",
       "   'attributed_value': {'keboola_jobs-keboola_jobs': [0.0]},\n",
       "   'details': {'metric_configuration': {'metric_name': 'column.mean',\n",
       "     'domain_kwargs': {'column': 'parallelism'},\n",
       "     'metric_value_kwargs': None},\n",
       "    'num_batches': 1}},\n",
       "  '$parameter.column_max': {'value': [0.0],\n",
       "   'attributed_value': {'keboola_jobs-keboola_jobs': [0.0]},\n",
       "   'details': {'metric_configuration': {'metric_name': 'column.max',\n",
       "     'domain_kwargs': {'column': 'parallelism'},\n",
       "     'metric_value_kwargs': None},\n",
       "    'num_batches': 1}}},\n",
       " {\n",
       "   \"domain_type\": \"column\",\n",
       "   \"domain_kwargs\": {\n",
       "     \"column\": \"metrics_storage_input_tables_bytes_sum\"\n",
       "   },\n",
       "   \"details\": {\n",
       "     \"inferred_semantic_domain_type\": {\n",
       "       \"metrics_storage_input_tables_bytes_sum\": \"numeric\"\n",
       "     }\n",
       "   },\n",
       "   \"rule_name\": \"numeric_columns_rule\"\n",
       " }: {'$parameter.raw.column_values_partition': {'value': {'bins': [0.0,\n",
       "     1099724.8,\n",
       "     2199449.6,\n",
       "     3299174.4000000004,\n",
       "     4398899.2,\n",
       "     5498624.0,\n",
       "     6598348.800000001,\n",
       "     7698073.600000001,\n",
       "     8797798.4,\n",
       "     9897523.200000001,\n",
       "     10997248.0],\n",
       "    'weights': [0.7211879030060848,\n",
       "     0.18554173099627644,\n",
       "     9.081827263645445e-05,\n",
       "     0.0,\n",
       "     0.0,\n",
       "     0.0,\n",
       "     0.010625737898465172,\n",
       "     0.02815366451730088,\n",
       "     0.030969030969030968,\n",
       "     0.02343111434020525],\n",
       "    'tail_weights': [0.0, 0.0]},\n",
       "   'details': {'metric_configuration': {'metric_name': 'column.histogram',\n",
       "     'domain_kwargs': {'column': 'metrics_storage_input_tables_bytes_sum'},\n",
       "     'metric_value_kwargs': {'bins': [0.0,\n",
       "       1099724.8,\n",
       "       2199449.6,\n",
       "       3299174.4000000004,\n",
       "       4398899.2,\n",
       "       5498624.0,\n",
       "       6598348.800000001,\n",
       "       7698073.600000001,\n",
       "       8797798.4,\n",
       "       9897523.200000001,\n",
       "       10997248.0]}},\n",
       "    'num_batches': 1}},\n",
       "  '$parameter.raw.column_standard_deviation': {'value': array([2624777.18101123]),\n",
       "   'attributed_value': {'keboola_jobs-keboola_jobs': array([2624777.18101123])},\n",
       "   'details': {'metric_configuration': {'metric_name': 'column.standard_deviation',\n",
       "     'domain_kwargs': {'column': 'metrics_storage_input_tables_bytes_sum'},\n",
       "     'metric_value_kwargs': None},\n",
       "    'num_batches': 1}},\n",
       "  '$parameter.raw.column_quantile_values': {'value': array([[      0.,       0., 1391616.]]),\n",
       "   'attributed_value': {'keboola_jobs-keboola_jobs': array([      0.,       0., 1391616.])},\n",
       "   'details': {'metric_configuration': {'metric_name': 'column.quantile_values',\n",
       "     'domain_kwargs': {'column': 'metrics_storage_input_tables_bytes_sum'},\n",
       "     'metric_value_kwargs': {'quantiles': [0.25, 0.5, 0.75],\n",
       "      'allow_relative_error': False}},\n",
       "    'num_batches': 1}},\n",
       "  '$parameter.raw.column_min': {'value': array([0.]),\n",
       "   'attributed_value': {'keboola_jobs-keboola_jobs': array([0.])},\n",
       "   'details': {'metric_configuration': {'metric_name': 'column.min',\n",
       "     'domain_kwargs': {'column': 'metrics_storage_input_tables_bytes_sum'},\n",
       "     'metric_value_kwargs': None},\n",
       "    'num_batches': 1}},\n",
       "  '$parameter.raw.column_median': {'value': array([0.]),\n",
       "   'attributed_value': {'keboola_jobs-keboola_jobs': array([0.])},\n",
       "   'details': {'metric_configuration': {'metric_name': 'column.median',\n",
       "     'domain_kwargs': {'column': 'metrics_storage_input_tables_bytes_sum'},\n",
       "     'metric_value_kwargs': None},\n",
       "    'num_batches': 1}},\n",
       "  '$parameter.raw.column_mean': {'value': array([1143079.35746072]),\n",
       "   'attributed_value': {'keboola_jobs-keboola_jobs': array([1143079.35746072])},\n",
       "   'details': {'metric_configuration': {'metric_name': 'column.mean',\n",
       "     'domain_kwargs': {'column': 'metrics_storage_input_tables_bytes_sum'},\n",
       "     'metric_value_kwargs': None},\n",
       "    'num_batches': 1}},\n",
       "  '$parameter.raw.column_max': {'value': array([10997248.]),\n",
       "   'attributed_value': {'keboola_jobs-keboola_jobs': array([10997248.])},\n",
       "   'details': {'metric_configuration': {'metric_name': 'column.max',\n",
       "     'domain_kwargs': {'column': 'metrics_storage_input_tables_bytes_sum'},\n",
       "     'metric_value_kwargs': None},\n",
       "    'num_batches': 1}},\n",
       "  '$parameter.column_values_partition': {'value': {'bins': [0.0,\n",
       "     1099724.8,\n",
       "     2199449.6,\n",
       "     3299174.4000000004,\n",
       "     4398899.2,\n",
       "     5498624.0,\n",
       "     6598348.800000001,\n",
       "     7698073.600000001,\n",
       "     8797798.4,\n",
       "     9897523.200000001,\n",
       "     10997248.0],\n",
       "    'weights': [0.7211879030060848,\n",
       "     0.18554173099627644,\n",
       "     9.081827263645445e-05,\n",
       "     0.0,\n",
       "     0.0,\n",
       "     0.0,\n",
       "     0.010625737898465172,\n",
       "     0.02815366451730088,\n",
       "     0.030969030969030968,\n",
       "     0.02343111434020525],\n",
       "    'tail_weights': [0.0, 0.0]},\n",
       "   'details': {'metric_configuration': {'metric_name': 'column.histogram',\n",
       "     'domain_kwargs': {'column': 'metrics_storage_input_tables_bytes_sum'},\n",
       "     'metric_value_kwargs': {'bins': [0.0,\n",
       "       1099724.8,\n",
       "       2199449.6,\n",
       "       3299174.4000000004,\n",
       "       4398899.2,\n",
       "       5498624.0,\n",
       "       6598348.800000001,\n",
       "       7698073.600000001,\n",
       "       8797798.4,\n",
       "       9897523.200000001,\n",
       "       10997248.0]}},\n",
       "    'num_batches': 1}},\n",
       "  '$parameter.column_standard_deviation': {'value': [2624777.1810112298],\n",
       "   'attributed_value': {'keboola_jobs-keboola_jobs': [2624777.1810112298]},\n",
       "   'details': {'metric_configuration': {'metric_name': 'column.standard_deviation',\n",
       "     'domain_kwargs': {'column': 'metrics_storage_input_tables_bytes_sum'},\n",
       "     'metric_value_kwargs': None},\n",
       "    'num_batches': 1}},\n",
       "  '$parameter.column_quantile_values': {'value': [[0.0, 0.0, 1391616.0]],\n",
       "   'attributed_value': {'keboola_jobs-keboola_jobs': [0.0, 0.0, 1391616.0]},\n",
       "   'details': {'metric_configuration': {'metric_name': 'column.quantile_values',\n",
       "     'domain_kwargs': {'column': 'metrics_storage_input_tables_bytes_sum'},\n",
       "     'metric_value_kwargs': {'quantiles': [0.25, 0.5, 0.75],\n",
       "      'allow_relative_error': False}},\n",
       "    'num_batches': 1}},\n",
       "  '$parameter.column_min': {'value': [0.0],\n",
       "   'attributed_value': {'keboola_jobs-keboola_jobs': [0.0]},\n",
       "   'details': {'metric_configuration': {'metric_name': 'column.min',\n",
       "     'domain_kwargs': {'column': 'metrics_storage_input_tables_bytes_sum'},\n",
       "     'metric_value_kwargs': None},\n",
       "    'num_batches': 1}},\n",
       "  '$parameter.column_median': {'value': [0.0],\n",
       "   'attributed_value': {'keboola_jobs-keboola_jobs': [0.0]},\n",
       "   'details': {'metric_configuration': {'metric_name': 'column.median',\n",
       "     'domain_kwargs': {'column': 'metrics_storage_input_tables_bytes_sum'},\n",
       "     'metric_value_kwargs': None},\n",
       "    'num_batches': 1}},\n",
       "  '$parameter.column_mean': {'value': [1143079.3574607212],\n",
       "   'attributed_value': {'keboola_jobs-keboola_jobs': [1143079.3574607212]},\n",
       "   'details': {'metric_configuration': {'metric_name': 'column.mean',\n",
       "     'domain_kwargs': {'column': 'metrics_storage_input_tables_bytes_sum'},\n",
       "     'metric_value_kwargs': None},\n",
       "    'num_batches': 1}},\n",
       "  '$parameter.column_max': {'value': [10997248.0],\n",
       "   'attributed_value': {'keboola_jobs-keboola_jobs': [10997248.0]},\n",
       "   'details': {'metric_configuration': {'metric_name': 'column.max',\n",
       "     'domain_kwargs': {'column': 'metrics_storage_input_tables_bytes_sum'},\n",
       "     'metric_value_kwargs': None},\n",
       "    'num_batches': 1}}},\n",
       " {\n",
       "   \"domain_type\": \"column\",\n",
       "   \"domain_kwargs\": {\n",
       "     \"column\": \"metrics_storage_output_tables_bytes_sum\"\n",
       "   },\n",
       "   \"details\": {\n",
       "     \"inferred_semantic_domain_type\": {\n",
       "       \"metrics_storage_output_tables_bytes_sum\": \"numeric\"\n",
       "     }\n",
       "   },\n",
       "   \"rule_name\": \"numeric_columns_rule\"\n",
       " }: {'$parameter.raw.column_values_partition': {'value': {'bins': [0.0,\n",
       "     1077811.2,\n",
       "     2155622.4,\n",
       "     3233433.5999999996,\n",
       "     4311244.8,\n",
       "     5389056.0,\n",
       "     6466867.199999999,\n",
       "     7544678.399999999,\n",
       "     8622489.6,\n",
       "     9700300.799999999,\n",
       "     10778112.0],\n",
       "    'weights': [0.9533194078648624,\n",
       "     0.02324947779493234,\n",
       "     0.0,\n",
       "     0.0,\n",
       "     0.0,\n",
       "     0.0,\n",
       "     0.001998001998001998,\n",
       "     0.006811370447734084,\n",
       "     0.008264462809917356,\n",
       "     0.006357279084551812],\n",
       "    'tail_weights': [0.0, 0.0]},\n",
       "   'details': {'metric_configuration': {'metric_name': 'column.histogram',\n",
       "     'domain_kwargs': {'column': 'metrics_storage_output_tables_bytes_sum'},\n",
       "     'metric_value_kwargs': {'bins': [0.0,\n",
       "       1077811.2,\n",
       "       2155622.4,\n",
       "       3233433.5999999996,\n",
       "       4311244.8,\n",
       "       5389056.0,\n",
       "       6466867.199999999,\n",
       "       7544678.399999999,\n",
       "       8622489.6,\n",
       "       9700300.799999999,\n",
       "       10778112.0]}},\n",
       "    'num_batches': 1}},\n",
       "  '$parameter.raw.column_standard_deviation': {'value': array([1384703.0857112]),\n",
       "   'attributed_value': {'keboola_jobs-keboola_jobs': array([1384703.0857112])},\n",
       "   'details': {'metric_configuration': {'metric_name': 'column.standard_deviation',\n",
       "     'domain_kwargs': {'column': 'metrics_storage_output_tables_bytes_sum'},\n",
       "     'metric_value_kwargs': None},\n",
       "    'num_batches': 1}},\n",
       "  '$parameter.raw.column_quantile_values': {'value': array([[    0.,   674., 13824.]]),\n",
       "   'attributed_value': {'keboola_jobs-keboola_jobs': array([    0.,   674., 13824.])},\n",
       "   'details': {'metric_configuration': {'metric_name': 'column.quantile_values',\n",
       "     'domain_kwargs': {'column': 'metrics_storage_output_tables_bytes_sum'},\n",
       "     'metric_value_kwargs': {'quantiles': [0.25, 0.5, 0.75],\n",
       "      'allow_relative_error': False}},\n",
       "    'num_batches': 1}},\n",
       "  '$parameter.raw.column_min': {'value': array([0.]),\n",
       "   'attributed_value': {'keboola_jobs-keboola_jobs': array([0.])},\n",
       "   'details': {'metric_configuration': {'metric_name': 'column.min',\n",
       "     'domain_kwargs': {'column': 'metrics_storage_output_tables_bytes_sum'},\n",
       "     'metric_value_kwargs': None},\n",
       "    'num_batches': 1}},\n",
       "  '$parameter.raw.column_median': {'value': array([674.]),\n",
       "   'attributed_value': {'keboola_jobs-keboola_jobs': array([674.])},\n",
       "   'details': {'metric_configuration': {'metric_name': 'column.median',\n",
       "     'domain_kwargs': {'column': 'metrics_storage_output_tables_bytes_sum'},\n",
       "     'metric_value_kwargs': None},\n",
       "    'num_batches': 1}},\n",
       "  '$parameter.raw.column_mean': {'value': array([289376.60412315]),\n",
       "   'attributed_value': {'keboola_jobs-keboola_jobs': array([289376.60412315])},\n",
       "   'details': {'metric_configuration': {'metric_name': 'column.mean',\n",
       "     'domain_kwargs': {'column': 'metrics_storage_output_tables_bytes_sum'},\n",
       "     'metric_value_kwargs': None},\n",
       "    'num_batches': 1}},\n",
       "  '$parameter.raw.column_max': {'value': array([10778112.]),\n",
       "   'attributed_value': {'keboola_jobs-keboola_jobs': array([10778112.])},\n",
       "   'details': {'metric_configuration': {'metric_name': 'column.max',\n",
       "     'domain_kwargs': {'column': 'metrics_storage_output_tables_bytes_sum'},\n",
       "     'metric_value_kwargs': None},\n",
       "    'num_batches': 1}},\n",
       "  '$parameter.column_values_partition': {'value': {'bins': [0.0,\n",
       "     1077811.2,\n",
       "     2155622.4,\n",
       "     3233433.5999999996,\n",
       "     4311244.8,\n",
       "     5389056.0,\n",
       "     6466867.199999999,\n",
       "     7544678.399999999,\n",
       "     8622489.6,\n",
       "     9700300.799999999,\n",
       "     10778112.0],\n",
       "    'weights': [0.9533194078648624,\n",
       "     0.02324947779493234,\n",
       "     0.0,\n",
       "     0.0,\n",
       "     0.0,\n",
       "     0.0,\n",
       "     0.001998001998001998,\n",
       "     0.006811370447734084,\n",
       "     0.008264462809917356,\n",
       "     0.006357279084551812],\n",
       "    'tail_weights': [0.0, 0.0]},\n",
       "   'details': {'metric_configuration': {'metric_name': 'column.histogram',\n",
       "     'domain_kwargs': {'column': 'metrics_storage_output_tables_bytes_sum'},\n",
       "     'metric_value_kwargs': {'bins': [0.0,\n",
       "       1077811.2,\n",
       "       2155622.4,\n",
       "       3233433.5999999996,\n",
       "       4311244.8,\n",
       "       5389056.0,\n",
       "       6466867.199999999,\n",
       "       7544678.399999999,\n",
       "       8622489.6,\n",
       "       9700300.799999999,\n",
       "       10778112.0]}},\n",
       "    'num_batches': 1}},\n",
       "  '$parameter.column_standard_deviation': {'value': [1384703.0857111993],\n",
       "   'attributed_value': {'keboola_jobs-keboola_jobs': [1384703.0857111993]},\n",
       "   'details': {'metric_configuration': {'metric_name': 'column.standard_deviation',\n",
       "     'domain_kwargs': {'column': 'metrics_storage_output_tables_bytes_sum'},\n",
       "     'metric_value_kwargs': None},\n",
       "    'num_batches': 1}},\n",
       "  '$parameter.column_quantile_values': {'value': [[0.0, 674.0, 13824.0]],\n",
       "   'attributed_value': {'keboola_jobs-keboola_jobs': [0.0, 674.0, 13824.0]},\n",
       "   'details': {'metric_configuration': {'metric_name': 'column.quantile_values',\n",
       "     'domain_kwargs': {'column': 'metrics_storage_output_tables_bytes_sum'},\n",
       "     'metric_value_kwargs': {'quantiles': [0.25, 0.5, 0.75],\n",
       "      'allow_relative_error': False}},\n",
       "    'num_batches': 1}},\n",
       "  '$parameter.column_min': {'value': [0.0],\n",
       "   'attributed_value': {'keboola_jobs-keboola_jobs': [0.0]},\n",
       "   'details': {'metric_configuration': {'metric_name': 'column.min',\n",
       "     'domain_kwargs': {'column': 'metrics_storage_output_tables_bytes_sum'},\n",
       "     'metric_value_kwargs': None},\n",
       "    'num_batches': 1}},\n",
       "  '$parameter.column_median': {'value': [674.0],\n",
       "   'attributed_value': {'keboola_jobs-keboola_jobs': [674.0]},\n",
       "   'details': {'metric_configuration': {'metric_name': 'column.median',\n",
       "     'domain_kwargs': {'column': 'metrics_storage_output_tables_bytes_sum'},\n",
       "     'metric_value_kwargs': None},\n",
       "    'num_batches': 1}},\n",
       "  '$parameter.column_mean': {'value': [289376.6041231496],\n",
       "   'attributed_value': {'keboola_jobs-keboola_jobs': [289376.6041231496]},\n",
       "   'details': {'metric_configuration': {'metric_name': 'column.mean',\n",
       "     'domain_kwargs': {'column': 'metrics_storage_output_tables_bytes_sum'},\n",
       "     'metric_value_kwargs': None},\n",
       "    'num_batches': 1}},\n",
       "  '$parameter.column_max': {'value': [10778112.0],\n",
       "   'attributed_value': {'keboola_jobs-keboola_jobs': [10778112.0]},\n",
       "   'details': {'metric_configuration': {'metric_name': 'column.max',\n",
       "     'domain_kwargs': {'column': 'metrics_storage_output_tables_bytes_sum'},\n",
       "     'metric_value_kwargs': None},\n",
       "    'num_batches': 1}}},\n",
       " {\n",
       "   \"domain_type\": \"column\",\n",
       "   \"domain_kwargs\": {\n",
       "     \"column\": \"result_config_version\"\n",
       "   },\n",
       "   \"details\": {\n",
       "     \"inferred_semantic_domain_type\": {\n",
       "       \"result_config_version\": \"numeric\"\n",
       "     }\n",
       "   },\n",
       "   \"rule_name\": \"numeric_columns_rule\"\n",
       " }: {'$parameter.raw.column_values_partition': {'value': {'bins': [1.0,\n",
       "     10.9,\n",
       "     20.8,\n",
       "     30.700000000000003,\n",
       "     40.6,\n",
       "     50.5,\n",
       "     60.400000000000006,\n",
       "     70.3,\n",
       "     80.2,\n",
       "     90.10000000000001,\n",
       "     100.0],\n",
       "    'weights': [0.6510293313900528,\n",
       "     0.14428857715430862,\n",
       "     0.15476407360174896,\n",
       "     0.004099107305520131,\n",
       "     0.04481690654035343,\n",
       "     0.0,\n",
       "     9.109127345600292e-05,\n",
       "     0.0004554563672800146,\n",
       "     9.109127345600292e-05,\n",
       "     0.00036436509382401167],\n",
       "    'tail_weights': [5.551115123125783e-17, 5.551115123125783e-17]},\n",
       "   'details': {'metric_configuration': {'metric_name': 'column.histogram',\n",
       "     'domain_kwargs': {'column': 'result_config_version'},\n",
       "     'metric_value_kwargs': {'bins': [1.0,\n",
       "       10.9,\n",
       "       20.8,\n",
       "       30.700000000000003,\n",
       "       40.6,\n",
       "       50.5,\n",
       "       60.400000000000006,\n",
       "       70.3,\n",
       "       80.2,\n",
       "       90.10000000000001,\n",
       "       100.0]}},\n",
       "    'num_batches': 1}},\n",
       "  '$parameter.raw.column_standard_deviation': {'value': array([10.32662151]),\n",
       "   'attributed_value': {'keboola_jobs-keboola_jobs': array([10.32662151])},\n",
       "   'details': {'metric_configuration': {'metric_name': 'column.standard_deviation',\n",
       "     'domain_kwargs': {'column': 'result_config_version'},\n",
       "     'metric_value_kwargs': None},\n",
       "    'num_batches': 1}},\n",
       "  '$parameter.raw.column_quantile_values': {'value': array([[ 4.,  8., 15.]]),\n",
       "   'attributed_value': {'keboola_jobs-keboola_jobs': array([ 4.,  8., 15.])},\n",
       "   'details': {'metric_configuration': {'metric_name': 'column.quantile_values',\n",
       "     'domain_kwargs': {'column': 'result_config_version'},\n",
       "     'metric_value_kwargs': {'quantiles': [0.25, 0.5, 0.75],\n",
       "      'allow_relative_error': False}},\n",
       "    'num_batches': 1}},\n",
       "  '$parameter.raw.column_min': {'value': array([1.]),\n",
       "   'attributed_value': {'keboola_jobs-keboola_jobs': array([1.])},\n",
       "   'details': {'metric_configuration': {'metric_name': 'column.min',\n",
       "     'domain_kwargs': {'column': 'result_config_version'},\n",
       "     'metric_value_kwargs': None},\n",
       "    'num_batches': 1}},\n",
       "  '$parameter.raw.column_median': {'value': array([8.]),\n",
       "   'attributed_value': {'keboola_jobs-keboola_jobs': array([8.])},\n",
       "   'details': {'metric_configuration': {'metric_name': 'column.median',\n",
       "     'domain_kwargs': {'column': 'result_config_version'},\n",
       "     'metric_value_kwargs': None},\n",
       "    'num_batches': 1}},\n",
       "  '$parameter.raw.column_mean': {'value': array([11.37520496]),\n",
       "   'attributed_value': {'keboola_jobs-keboola_jobs': array([11.37520496])},\n",
       "   'details': {'metric_configuration': {'metric_name': 'column.mean',\n",
       "     'domain_kwargs': {'column': 'result_config_version'},\n",
       "     'metric_value_kwargs': None},\n",
       "    'num_batches': 1}},\n",
       "  '$parameter.raw.column_max': {'value': array([100.]),\n",
       "   'attributed_value': {'keboola_jobs-keboola_jobs': array([100.])},\n",
       "   'details': {'metric_configuration': {'metric_name': 'column.max',\n",
       "     'domain_kwargs': {'column': 'result_config_version'},\n",
       "     'metric_value_kwargs': None},\n",
       "    'num_batches': 1}},\n",
       "  '$parameter.column_values_partition': {'value': {'bins': [1.0,\n",
       "     10.9,\n",
       "     20.8,\n",
       "     30.700000000000003,\n",
       "     40.6,\n",
       "     50.5,\n",
       "     60.400000000000006,\n",
       "     70.3,\n",
       "     80.2,\n",
       "     90.10000000000001,\n",
       "     100.0],\n",
       "    'weights': [0.6510293313900528,\n",
       "     0.14428857715430862,\n",
       "     0.15476407360174896,\n",
       "     0.004099107305520131,\n",
       "     0.04481690654035343,\n",
       "     0.0,\n",
       "     9.109127345600292e-05,\n",
       "     0.0004554563672800146,\n",
       "     9.109127345600292e-05,\n",
       "     0.00036436509382401167],\n",
       "    'tail_weights': [5.551115123125783e-17, 5.551115123125783e-17]},\n",
       "   'details': {'metric_configuration': {'metric_name': 'column.histogram',\n",
       "     'domain_kwargs': {'column': 'result_config_version'},\n",
       "     'metric_value_kwargs': {'bins': [1.0,\n",
       "       10.9,\n",
       "       20.8,\n",
       "       30.700000000000003,\n",
       "       40.6,\n",
       "       50.5,\n",
       "       60.400000000000006,\n",
       "       70.3,\n",
       "       80.2,\n",
       "       90.10000000000001,\n",
       "       100.0]}},\n",
       "    'num_batches': 1}},\n",
       "  '$parameter.column_standard_deviation': {'value': [10.32662151194855],\n",
       "   'attributed_value': {'keboola_jobs-keboola_jobs': [10.32662151194855]},\n",
       "   'details': {'metric_configuration': {'metric_name': 'column.standard_deviation',\n",
       "     'domain_kwargs': {'column': 'result_config_version'},\n",
       "     'metric_value_kwargs': None},\n",
       "    'num_batches': 1}},\n",
       "  '$parameter.column_quantile_values': {'value': [[4.0, 8.0, 15.0]],\n",
       "   'attributed_value': {'keboola_jobs-keboola_jobs': [4.0, 8.0, 15.0]},\n",
       "   'details': {'metric_configuration': {'metric_name': 'column.quantile_values',\n",
       "     'domain_kwargs': {'column': 'result_config_version'},\n",
       "     'metric_value_kwargs': {'quantiles': [0.25, 0.5, 0.75],\n",
       "      'allow_relative_error': False}},\n",
       "    'num_batches': 1}},\n",
       "  '$parameter.column_min': {'value': [1.0],\n",
       "   'attributed_value': {'keboola_jobs-keboola_jobs': [1.0]},\n",
       "   'details': {'metric_configuration': {'metric_name': 'column.min',\n",
       "     'domain_kwargs': {'column': 'result_config_version'},\n",
       "     'metric_value_kwargs': None},\n",
       "    'num_batches': 1}},\n",
       "  '$parameter.column_median': {'value': [8.0],\n",
       "   'attributed_value': {'keboola_jobs-keboola_jobs': [8.0]},\n",
       "   'details': {'metric_configuration': {'metric_name': 'column.median',\n",
       "     'domain_kwargs': {'column': 'result_config_version'},\n",
       "     'metric_value_kwargs': None},\n",
       "    'num_batches': 1}},\n",
       "  '$parameter.column_mean': {'value': [11.375204955365277],\n",
       "   'attributed_value': {'keboola_jobs-keboola_jobs': [11.375204955365277]},\n",
       "   'details': {'metric_configuration': {'metric_name': 'column.mean',\n",
       "     'domain_kwargs': {'column': 'result_config_version'},\n",
       "     'metric_value_kwargs': None},\n",
       "    'num_batches': 1}},\n",
       "  '$parameter.column_max': {'value': [100.0],\n",
       "   'attributed_value': {'keboola_jobs-keboola_jobs': [100.0]},\n",
       "   'details': {'metric_configuration': {'metric_name': 'column.max',\n",
       "     'domain_kwargs': {'column': 'result_config_version'},\n",
       "     'metric_value_kwargs': None},\n",
       "    'num_batches': 1}}},\n",
       " {\n",
       "   \"domain_type\": \"column\",\n",
       "   \"domain_kwargs\": {\n",
       "     \"column\": \"token_description\"\n",
       "   },\n",
       "   \"details\": {\n",
       "     \"inferred_semantic_domain_type\": {\n",
       "       \"token_description\": \"text\"\n",
       "     }\n",
       "   },\n",
       "   \"rule_name\": \"text_columns_rule\"\n",
       " }: {'$parameter.raw.column_values_length_min': {'value': array([16]),\n",
       "   'attributed_value': {'keboola_jobs-keboola_jobs': array([16])},\n",
       "   'details': {'metric_configuration': {'metric_name': 'column_values.length.min',\n",
       "     'domain_kwargs': {'column': 'token_description'},\n",
       "     'metric_value_kwargs': None},\n",
       "    'num_batches': 1}},\n",
       "  '$parameter.raw.column_values_length_max': {'value': array([44]),\n",
       "   'attributed_value': {'keboola_jobs-keboola_jobs': array([44])},\n",
       "   'details': {'metric_configuration': {'metric_name': 'column_values.length.max',\n",
       "     'domain_kwargs': {'column': 'token_description'},\n",
       "     'metric_value_kwargs': None},\n",
       "    'num_batches': 1}},\n",
       "  '$parameter.column_values_length_min': {'value': [16],\n",
       "   'attributed_value': {'keboola_jobs-keboola_jobs': [16]},\n",
       "   'details': {'metric_configuration': {'metric_name': 'column_values.length.min',\n",
       "     'domain_kwargs': {'column': 'token_description'},\n",
       "     'metric_value_kwargs': None},\n",
       "    'num_batches': 1}},\n",
       "  '$parameter.column_values_length_max': {'value': [44],\n",
       "   'attributed_value': {'keboola_jobs-keboola_jobs': [44]},\n",
       "   'details': {'metric_configuration': {'metric_name': 'column_values.length.max',\n",
       "     'domain_kwargs': {'column': 'token_description'},\n",
       "     'metric_value_kwargs': None},\n",
       "    'num_batches': 1}}},\n",
       " {\n",
       "   \"domain_type\": \"column\",\n",
       "   \"domain_kwargs\": {\n",
       "     \"column\": \"status\"\n",
       "   },\n",
       "   \"details\": {\n",
       "     \"inferred_semantic_domain_type\": {\n",
       "       \"status\": \"text\"\n",
       "     }\n",
       "   },\n",
       "   \"rule_name\": \"text_columns_rule\"\n",
       " }: {'$parameter.raw.column_values_length_min': {'value': array([5]),\n",
       "   'attributed_value': {'keboola_jobs-keboola_jobs': array([5])},\n",
       "   'details': {'metric_configuration': {'metric_name': 'column_values.length.min',\n",
       "     'domain_kwargs': {'column': 'status'},\n",
       "     'metric_value_kwargs': None},\n",
       "    'num_batches': 1}},\n",
       "  '$parameter.raw.column_values_length_max': {'value': array([10]),\n",
       "   'attributed_value': {'keboola_jobs-keboola_jobs': array([10])},\n",
       "   'details': {'metric_configuration': {'metric_name': 'column_values.length.max',\n",
       "     'domain_kwargs': {'column': 'status'},\n",
       "     'metric_value_kwargs': None},\n",
       "    'num_batches': 1}},\n",
       "  '$parameter.column_values_length_min': {'value': [5],\n",
       "   'attributed_value': {'keboola_jobs-keboola_jobs': [5]},\n",
       "   'details': {'metric_configuration': {'metric_name': 'column_values.length.min',\n",
       "     'domain_kwargs': {'column': 'status'},\n",
       "     'metric_value_kwargs': None},\n",
       "    'num_batches': 1}},\n",
       "  '$parameter.column_values_length_max': {'value': [10],\n",
       "   'attributed_value': {'keboola_jobs-keboola_jobs': [10]},\n",
       "   'details': {'metric_configuration': {'metric_name': 'column_values.length.max',\n",
       "     'domain_kwargs': {'column': 'status'},\n",
       "     'metric_value_kwargs': None},\n",
       "    'num_batches': 1}}},\n",
       " {\n",
       "   \"domain_type\": \"column\",\n",
       "   \"domain_kwargs\": {\n",
       "     \"column\": \"desired_status\"\n",
       "   },\n",
       "   \"details\": {\n",
       "     \"inferred_semantic_domain_type\": {\n",
       "       \"desired_status\": \"text\"\n",
       "     }\n",
       "   },\n",
       "   \"rule_name\": \"text_columns_rule\"\n",
       " }: {'$parameter.raw.column_values_length_min': {'value': array([10]),\n",
       "   'attributed_value': {'keboola_jobs-keboola_jobs': array([10])},\n",
       "   'details': {'metric_configuration': {'metric_name': 'column_values.length.min',\n",
       "     'domain_kwargs': {'column': 'desired_status'},\n",
       "     'metric_value_kwargs': None},\n",
       "    'num_batches': 1}},\n",
       "  '$parameter.raw.column_values_length_max': {'value': array([11]),\n",
       "   'attributed_value': {'keboola_jobs-keboola_jobs': array([11])},\n",
       "   'details': {'metric_configuration': {'metric_name': 'column_values.length.max',\n",
       "     'domain_kwargs': {'column': 'desired_status'},\n",
       "     'metric_value_kwargs': None},\n",
       "    'num_batches': 1}},\n",
       "  '$parameter.column_values_length_min': {'value': [10],\n",
       "   'attributed_value': {'keboola_jobs-keboola_jobs': [10]},\n",
       "   'details': {'metric_configuration': {'metric_name': 'column_values.length.min',\n",
       "     'domain_kwargs': {'column': 'desired_status'},\n",
       "     'metric_value_kwargs': None},\n",
       "    'num_batches': 1}},\n",
       "  '$parameter.column_values_length_max': {'value': [11],\n",
       "   'attributed_value': {'keboola_jobs-keboola_jobs': [11]},\n",
       "   'details': {'metric_configuration': {'metric_name': 'column_values.length.max',\n",
       "     'domain_kwargs': {'column': 'desired_status'},\n",
       "     'metric_value_kwargs': None},\n",
       "    'num_batches': 1}}},\n",
       " {\n",
       "   \"domain_type\": \"column\",\n",
       "   \"domain_kwargs\": {\n",
       "     \"column\": \"mode\"\n",
       "   },\n",
       "   \"details\": {\n",
       "     \"inferred_semantic_domain_type\": {\n",
       "       \"mode\": \"text\"\n",
       "     }\n",
       "   },\n",
       "   \"rule_name\": \"text_columns_rule\"\n",
       " }: {'$parameter.raw.column_values_length_min': {'value': array([3]),\n",
       "   'attributed_value': {'keboola_jobs-keboola_jobs': array([3])},\n",
       "   'details': {'metric_configuration': {'metric_name': 'column_values.length.min',\n",
       "     'domain_kwargs': {'column': 'mode'},\n",
       "     'metric_value_kwargs': None},\n",
       "    'num_batches': 1}},\n",
       "  '$parameter.raw.column_values_length_max': {'value': array([3]),\n",
       "   'attributed_value': {'keboola_jobs-keboola_jobs': array([3])},\n",
       "   'details': {'metric_configuration': {'metric_name': 'column_values.length.max',\n",
       "     'domain_kwargs': {'column': 'mode'},\n",
       "     'metric_value_kwargs': None},\n",
       "    'num_batches': 1}},\n",
       "  '$parameter.column_values_length_min': {'value': [3],\n",
       "   'attributed_value': {'keboola_jobs-keboola_jobs': [3]},\n",
       "   'details': {'metric_configuration': {'metric_name': 'column_values.length.min',\n",
       "     'domain_kwargs': {'column': 'mode'},\n",
       "     'metric_value_kwargs': None},\n",
       "    'num_batches': 1}},\n",
       "  '$parameter.column_values_length_max': {'value': [3],\n",
       "   'attributed_value': {'keboola_jobs-keboola_jobs': [3]},\n",
       "   'details': {'metric_configuration': {'metric_name': 'column_values.length.max',\n",
       "     'domain_kwargs': {'column': 'mode'},\n",
       "     'metric_value_kwargs': None},\n",
       "    'num_batches': 1}}},\n",
       " {\n",
       "   \"domain_type\": \"column\",\n",
       "   \"domain_kwargs\": {\n",
       "     \"column\": \"component\"\n",
       "   },\n",
       "   \"details\": {\n",
       "     \"inferred_semantic_domain_type\": {\n",
       "       \"component\": \"text\"\n",
       "     }\n",
       "   },\n",
       "   \"rule_name\": \"text_columns_rule\"\n",
       " }: {'$parameter.raw.column_values_length_min': {'value': array([13]),\n",
       "   'attributed_value': {'keboola_jobs-keboola_jobs': array([13])},\n",
       "   'details': {'metric_configuration': {'metric_name': 'column_values.length.min',\n",
       "     'domain_kwargs': {'column': 'component'},\n",
       "     'metric_value_kwargs': None},\n",
       "    'num_batches': 1}},\n",
       "  '$parameter.raw.column_values_length_max': {'value': array([35]),\n",
       "   'attributed_value': {'keboola_jobs-keboola_jobs': array([35])},\n",
       "   'details': {'metric_configuration': {'metric_name': 'column_values.length.max',\n",
       "     'domain_kwargs': {'column': 'component'},\n",
       "     'metric_value_kwargs': None},\n",
       "    'num_batches': 1}},\n",
       "  '$parameter.column_values_length_min': {'value': [13],\n",
       "   'attributed_value': {'keboola_jobs-keboola_jobs': [13]},\n",
       "   'details': {'metric_configuration': {'metric_name': 'column_values.length.min',\n",
       "     'domain_kwargs': {'column': 'component'},\n",
       "     'metric_value_kwargs': None},\n",
       "    'num_batches': 1}},\n",
       "  '$parameter.column_values_length_max': {'value': [35],\n",
       "   'attributed_value': {'keboola_jobs-keboola_jobs': [35]},\n",
       "   'details': {'metric_configuration': {'metric_name': 'column_values.length.max',\n",
       "     'domain_kwargs': {'column': 'component'},\n",
       "     'metric_value_kwargs': None},\n",
       "    'num_batches': 1}}},\n",
       " {\n",
       "   \"domain_type\": \"column\",\n",
       "   \"domain_kwargs\": {\n",
       "     \"column\": \"config_data\"\n",
       "   },\n",
       "   \"details\": {\n",
       "     \"inferred_semantic_domain_type\": {\n",
       "       \"config_data\": \"text\"\n",
       "     }\n",
       "   },\n",
       "   \"rule_name\": \"text_columns_rule\"\n",
       " }: {'$parameter.raw.column_values_length_min': {'value': array([2]),\n",
       "   'attributed_value': {'keboola_jobs-keboola_jobs': array([2])},\n",
       "   'details': {'metric_configuration': {'metric_name': 'column_values.length.min',\n",
       "     'domain_kwargs': {'column': 'config_data'},\n",
       "     'metric_value_kwargs': None},\n",
       "    'num_batches': 1}},\n",
       "  '$parameter.raw.column_values_length_max': {'value': array([1054]),\n",
       "   'attributed_value': {'keboola_jobs-keboola_jobs': array([1054])},\n",
       "   'details': {'metric_configuration': {'metric_name': 'column_values.length.max',\n",
       "     'domain_kwargs': {'column': 'config_data'},\n",
       "     'metric_value_kwargs': None},\n",
       "    'num_batches': 1}},\n",
       "  '$parameter.column_values_length_min': {'value': [2],\n",
       "   'attributed_value': {'keboola_jobs-keboola_jobs': [2]},\n",
       "   'details': {'metric_configuration': {'metric_name': 'column_values.length.min',\n",
       "     'domain_kwargs': {'column': 'config_data'},\n",
       "     'metric_value_kwargs': None},\n",
       "    'num_batches': 1}},\n",
       "  '$parameter.column_values_length_max': {'value': [1054],\n",
       "   'attributed_value': {'keboola_jobs-keboola_jobs': [1054]},\n",
       "   'details': {'metric_configuration': {'metric_name': 'column_values.length.max',\n",
       "     'domain_kwargs': {'column': 'config_data'},\n",
       "     'metric_value_kwargs': None},\n",
       "    'num_batches': 1}}},\n",
       " {\n",
       "   \"domain_type\": \"column\",\n",
       "   \"domain_kwargs\": {\n",
       "     \"column\": \"config_row_ids\"\n",
       "   },\n",
       "   \"details\": {\n",
       "     \"inferred_semantic_domain_type\": {\n",
       "       \"config_row_ids\": \"text\"\n",
       "     }\n",
       "   },\n",
       "   \"rule_name\": \"text_columns_rule\"\n",
       " }: {'$parameter.raw.column_values_length_min': {'value': array([2]),\n",
       "   'attributed_value': {'keboola_jobs-keboola_jobs': array([2])},\n",
       "   'details': {'metric_configuration': {'metric_name': 'column_values.length.min',\n",
       "     'domain_kwargs': {'column': 'config_row_ids'},\n",
       "     'metric_value_kwargs': None},\n",
       "    'num_batches': 1}},\n",
       "  '$parameter.raw.column_values_length_max': {'value': array([12]),\n",
       "   'attributed_value': {'keboola_jobs-keboola_jobs': array([12])},\n",
       "   'details': {'metric_configuration': {'metric_name': 'column_values.length.max',\n",
       "     'domain_kwargs': {'column': 'config_row_ids'},\n",
       "     'metric_value_kwargs': None},\n",
       "    'num_batches': 1}},\n",
       "  '$parameter.column_values_length_min': {'value': [2],\n",
       "   'attributed_value': {'keboola_jobs-keboola_jobs': [2]},\n",
       "   'details': {'metric_configuration': {'metric_name': 'column_values.length.min',\n",
       "     'domain_kwargs': {'column': 'config_row_ids'},\n",
       "     'metric_value_kwargs': None},\n",
       "    'num_batches': 1}},\n",
       "  '$parameter.column_values_length_max': {'value': [12],\n",
       "   'attributed_value': {'keboola_jobs-keboola_jobs': [12]},\n",
       "   'details': {'metric_configuration': {'metric_name': 'column_values.length.max',\n",
       "     'domain_kwargs': {'column': 'config_row_ids'},\n",
       "     'metric_value_kwargs': None},\n",
       "    'num_batches': 1}}},\n",
       " {\n",
       "   \"domain_type\": \"column\",\n",
       "   \"domain_kwargs\": {\n",
       "     \"column\": \"tag\"\n",
       "   },\n",
       "   \"details\": {\n",
       "     \"inferred_semantic_domain_type\": {\n",
       "       \"tag\": \"text\"\n",
       "     }\n",
       "   },\n",
       "   \"rule_name\": \"text_columns_rule\"\n",
       " }: {'$parameter.raw.column_values_length_min': {'value': array([5]),\n",
       "   'attributed_value': {'keboola_jobs-keboola_jobs': array([5])},\n",
       "   'details': {'metric_configuration': {'metric_name': 'column_values.length.min',\n",
       "     'domain_kwargs': {'column': 'tag'},\n",
       "     'metric_value_kwargs': None},\n",
       "    'num_batches': 1}},\n",
       "  '$parameter.raw.column_values_length_max': {'value': array([25]),\n",
       "   'attributed_value': {'keboola_jobs-keboola_jobs': array([25])},\n",
       "   'details': {'metric_configuration': {'metric_name': 'column_values.length.max',\n",
       "     'domain_kwargs': {'column': 'tag'},\n",
       "     'metric_value_kwargs': None},\n",
       "    'num_batches': 1}},\n",
       "  '$parameter.column_values_length_min': {'value': [5],\n",
       "   'attributed_value': {'keboola_jobs-keboola_jobs': [5]},\n",
       "   'details': {'metric_configuration': {'metric_name': 'column_values.length.min',\n",
       "     'domain_kwargs': {'column': 'tag'},\n",
       "     'metric_value_kwargs': None},\n",
       "    'num_batches': 1}},\n",
       "  '$parameter.column_values_length_max': {'value': [25],\n",
       "   'attributed_value': {'keboola_jobs-keboola_jobs': [25]},\n",
       "   'details': {'metric_configuration': {'metric_name': 'column_values.length.max',\n",
       "     'domain_kwargs': {'column': 'tag'},\n",
       "     'metric_value_kwargs': None},\n",
       "    'num_batches': 1}}},\n",
       " {\n",
       "   \"domain_type\": \"column\",\n",
       "   \"domain_kwargs\": {\n",
       "     \"column\": \"created_time\"\n",
       "   },\n",
       "   \"details\": {\n",
       "     \"inferred_semantic_domain_type\": {\n",
       "       \"created_time\": \"text\"\n",
       "     }\n",
       "   },\n",
       "   \"rule_name\": \"text_columns_rule\"\n",
       " }: {'$parameter.raw.column_values_length_min': {'value': array([25]),\n",
       "   'attributed_value': {'keboola_jobs-keboola_jobs': array([25])},\n",
       "   'details': {'metric_configuration': {'metric_name': 'column_values.length.min',\n",
       "     'domain_kwargs': {'column': 'created_time'},\n",
       "     'metric_value_kwargs': None},\n",
       "    'num_batches': 1}},\n",
       "  '$parameter.raw.column_values_length_max': {'value': array([25]),\n",
       "   'attributed_value': {'keboola_jobs-keboola_jobs': array([25])},\n",
       "   'details': {'metric_configuration': {'metric_name': 'column_values.length.max',\n",
       "     'domain_kwargs': {'column': 'created_time'},\n",
       "     'metric_value_kwargs': None},\n",
       "    'num_batches': 1}},\n",
       "  '$parameter.column_values_length_min': {'value': [25],\n",
       "   'attributed_value': {'keboola_jobs-keboola_jobs': [25]},\n",
       "   'details': {'metric_configuration': {'metric_name': 'column_values.length.min',\n",
       "     'domain_kwargs': {'column': 'created_time'},\n",
       "     'metric_value_kwargs': None},\n",
       "    'num_batches': 1}},\n",
       "  '$parameter.column_values_length_max': {'value': [25],\n",
       "   'attributed_value': {'keboola_jobs-keboola_jobs': [25]},\n",
       "   'details': {'metric_configuration': {'metric_name': 'column_values.length.max',\n",
       "     'domain_kwargs': {'column': 'created_time'},\n",
       "     'metric_value_kwargs': None},\n",
       "    'num_batches': 1}}},\n",
       " {\n",
       "   \"domain_type\": \"column\",\n",
       "   \"domain_kwargs\": {\n",
       "     \"column\": \"start_time\"\n",
       "   },\n",
       "   \"details\": {\n",
       "     \"inferred_semantic_domain_type\": {\n",
       "       \"start_time\": \"text\"\n",
       "     }\n",
       "   },\n",
       "   \"rule_name\": \"text_columns_rule\"\n",
       " }: {'$parameter.raw.column_values_length_min': {'value': array([25]),\n",
       "   'attributed_value': {'keboola_jobs-keboola_jobs': array([25])},\n",
       "   'details': {'metric_configuration': {'metric_name': 'column_values.length.min',\n",
       "     'domain_kwargs': {'column': 'start_time'},\n",
       "     'metric_value_kwargs': None},\n",
       "    'num_batches': 1}},\n",
       "  '$parameter.raw.column_values_length_max': {'value': array([25]),\n",
       "   'attributed_value': {'keboola_jobs-keboola_jobs': array([25])},\n",
       "   'details': {'metric_configuration': {'metric_name': 'column_values.length.max',\n",
       "     'domain_kwargs': {'column': 'start_time'},\n",
       "     'metric_value_kwargs': None},\n",
       "    'num_batches': 1}},\n",
       "  '$parameter.column_values_length_min': {'value': [25],\n",
       "   'attributed_value': {'keboola_jobs-keboola_jobs': [25]},\n",
       "   'details': {'metric_configuration': {'metric_name': 'column_values.length.min',\n",
       "     'domain_kwargs': {'column': 'start_time'},\n",
       "     'metric_value_kwargs': None},\n",
       "    'num_batches': 1}},\n",
       "  '$parameter.column_values_length_max': {'value': [25],\n",
       "   'attributed_value': {'keboola_jobs-keboola_jobs': [25]},\n",
       "   'details': {'metric_configuration': {'metric_name': 'column_values.length.max',\n",
       "     'domain_kwargs': {'column': 'start_time'},\n",
       "     'metric_value_kwargs': None},\n",
       "    'num_batches': 1}}},\n",
       " {\n",
       "   \"domain_type\": \"column\",\n",
       "   \"domain_kwargs\": {\n",
       "     \"column\": \"end_time\"\n",
       "   },\n",
       "   \"details\": {\n",
       "     \"inferred_semantic_domain_type\": {\n",
       "       \"end_time\": \"text\"\n",
       "     }\n",
       "   },\n",
       "   \"rule_name\": \"text_columns_rule\"\n",
       " }: {'$parameter.raw.column_values_length_min': {'value': array([25]),\n",
       "   'attributed_value': {'keboola_jobs-keboola_jobs': array([25])},\n",
       "   'details': {'metric_configuration': {'metric_name': 'column_values.length.min',\n",
       "     'domain_kwargs': {'column': 'end_time'},\n",
       "     'metric_value_kwargs': None},\n",
       "    'num_batches': 1}},\n",
       "  '$parameter.raw.column_values_length_max': {'value': array([25]),\n",
       "   'attributed_value': {'keboola_jobs-keboola_jobs': array([25])},\n",
       "   'details': {'metric_configuration': {'metric_name': 'column_values.length.max',\n",
       "     'domain_kwargs': {'column': 'end_time'},\n",
       "     'metric_value_kwargs': None},\n",
       "    'num_batches': 1}},\n",
       "  '$parameter.column_values_length_min': {'value': [25],\n",
       "   'attributed_value': {'keboola_jobs-keboola_jobs': [25]},\n",
       "   'details': {'metric_configuration': {'metric_name': 'column_values.length.min',\n",
       "     'domain_kwargs': {'column': 'end_time'},\n",
       "     'metric_value_kwargs': None},\n",
       "    'num_batches': 1}},\n",
       "  '$parameter.column_values_length_max': {'value': [25],\n",
       "   'attributed_value': {'keboola_jobs-keboola_jobs': [25]},\n",
       "   'details': {'metric_configuration': {'metric_name': 'column_values.length.max',\n",
       "     'domain_kwargs': {'column': 'end_time'},\n",
       "     'metric_value_kwargs': None},\n",
       "    'num_batches': 1}}},\n",
       " {\n",
       "   \"domain_type\": \"column\",\n",
       "   \"domain_kwargs\": {\n",
       "     \"column\": \"usage_data\"\n",
       "   },\n",
       "   \"details\": {\n",
       "     \"inferred_semantic_domain_type\": {\n",
       "       \"usage_data\": \"text\"\n",
       "     }\n",
       "   },\n",
       "   \"rule_name\": \"text_columns_rule\"\n",
       " }: {'$parameter.raw.column_values_length_min': {'value': array([2]),\n",
       "   'attributed_value': {'keboola_jobs-keboola_jobs': array([2])},\n",
       "   'details': {'metric_configuration': {'metric_name': 'column_values.length.min',\n",
       "     'domain_kwargs': {'column': 'usage_data'},\n",
       "     'metric_value_kwargs': None},\n",
       "    'num_batches': 1}},\n",
       "  '$parameter.raw.column_values_length_max': {'value': array([2]),\n",
       "   'attributed_value': {'keboola_jobs-keboola_jobs': array([2])},\n",
       "   'details': {'metric_configuration': {'metric_name': 'column_values.length.max',\n",
       "     'domain_kwargs': {'column': 'usage_data'},\n",
       "     'metric_value_kwargs': None},\n",
       "    'num_batches': 1}},\n",
       "  '$parameter.column_values_length_min': {'value': [2],\n",
       "   'attributed_value': {'keboola_jobs-keboola_jobs': [2]},\n",
       "   'details': {'metric_configuration': {'metric_name': 'column_values.length.min',\n",
       "     'domain_kwargs': {'column': 'usage_data'},\n",
       "     'metric_value_kwargs': None},\n",
       "    'num_batches': 1}},\n",
       "  '$parameter.column_values_length_max': {'value': [2],\n",
       "   'attributed_value': {'keboola_jobs-keboola_jobs': [2]},\n",
       "   'details': {'metric_configuration': {'metric_name': 'column_values.length.max',\n",
       "     'domain_kwargs': {'column': 'usage_data'},\n",
       "     'metric_value_kwargs': None},\n",
       "    'num_batches': 1}}},\n",
       " {\n",
       "   \"domain_type\": \"column\",\n",
       "   \"domain_kwargs\": {\n",
       "     \"column\": \"url\"\n",
       "   },\n",
       "   \"details\": {\n",
       "     \"inferred_semantic_domain_type\": {\n",
       "       \"url\": \"text\"\n",
       "     }\n",
       "   },\n",
       "   \"rule_name\": \"text_columns_rule\"\n",
       " }: {'$parameter.raw.column_values_length_min': {'value': array([58]),\n",
       "   'attributed_value': {'keboola_jobs-keboola_jobs': array([58])},\n",
       "   'details': {'metric_configuration': {'metric_name': 'column_values.length.min',\n",
       "     'domain_kwargs': {'column': 'url'},\n",
       "     'metric_value_kwargs': None},\n",
       "    'num_batches': 1}},\n",
       "  '$parameter.raw.column_values_length_max': {'value': array([58]),\n",
       "   'attributed_value': {'keboola_jobs-keboola_jobs': array([58])},\n",
       "   'details': {'metric_configuration': {'metric_name': 'column_values.length.max',\n",
       "     'domain_kwargs': {'column': 'url'},\n",
       "     'metric_value_kwargs': None},\n",
       "    'num_batches': 1}},\n",
       "  '$parameter.column_values_length_min': {'value': [58],\n",
       "   'attributed_value': {'keboola_jobs-keboola_jobs': [58]},\n",
       "   'details': {'metric_configuration': {'metric_name': 'column_values.length.min',\n",
       "     'domain_kwargs': {'column': 'url'},\n",
       "     'metric_value_kwargs': None},\n",
       "    'num_batches': 1}},\n",
       "  '$parameter.column_values_length_max': {'value': [58],\n",
       "   'attributed_value': {'keboola_jobs-keboola_jobs': [58]},\n",
       "   'details': {'metric_configuration': {'metric_name': 'column_values.length.max',\n",
       "     'domain_kwargs': {'column': 'url'},\n",
       "     'metric_value_kwargs': None},\n",
       "    'num_batches': 1}}},\n",
       " {\n",
       "   \"domain_type\": \"column\",\n",
       "   \"domain_kwargs\": {\n",
       "     \"column\": \"type\"\n",
       "   },\n",
       "   \"details\": {\n",
       "     \"inferred_semantic_domain_type\": {\n",
       "       \"type\": \"text\"\n",
       "     }\n",
       "   },\n",
       "   \"rule_name\": \"text_columns_rule\"\n",
       " }: {'$parameter.raw.column_values_length_min': {'value': array([8]),\n",
       "   'attributed_value': {'keboola_jobs-keboola_jobs': array([8])},\n",
       "   'details': {'metric_configuration': {'metric_name': 'column_values.length.min',\n",
       "     'domain_kwargs': {'column': 'type'},\n",
       "     'metric_value_kwargs': None},\n",
       "    'num_batches': 1}},\n",
       "  '$parameter.raw.column_values_length_max': {'value': array([22]),\n",
       "   'attributed_value': {'keboola_jobs-keboola_jobs': array([22])},\n",
       "   'details': {'metric_configuration': {'metric_name': 'column_values.length.max',\n",
       "     'domain_kwargs': {'column': 'type'},\n",
       "     'metric_value_kwargs': None},\n",
       "    'num_batches': 1}},\n",
       "  '$parameter.column_values_length_min': {'value': [8],\n",
       "   'attributed_value': {'keboola_jobs-keboola_jobs': [8]},\n",
       "   'details': {'metric_configuration': {'metric_name': 'column_values.length.min',\n",
       "     'domain_kwargs': {'column': 'type'},\n",
       "     'metric_value_kwargs': None},\n",
       "    'num_batches': 1}},\n",
       "  '$parameter.column_values_length_max': {'value': [22],\n",
       "   'attributed_value': {'keboola_jobs-keboola_jobs': [22]},\n",
       "   'details': {'metric_configuration': {'metric_name': 'column_values.length.max',\n",
       "     'domain_kwargs': {'column': 'type'},\n",
       "     'metric_value_kwargs': None},\n",
       "    'num_batches': 1}}},\n",
       " {\n",
       "   \"domain_type\": \"column\",\n",
       "   \"domain_kwargs\": {\n",
       "     \"column\": \"variable_values_data\"\n",
       "   },\n",
       "   \"details\": {\n",
       "     \"inferred_semantic_domain_type\": {\n",
       "       \"variable_values_data\": \"text\"\n",
       "     }\n",
       "   },\n",
       "   \"rule_name\": \"text_columns_rule\"\n",
       " }: {'$parameter.raw.column_values_length_min': {'value': array([2]),\n",
       "   'attributed_value': {'keboola_jobs-keboola_jobs': array([2])},\n",
       "   'details': {'metric_configuration': {'metric_name': 'column_values.length.min',\n",
       "     'domain_kwargs': {'column': 'variable_values_data'},\n",
       "     'metric_value_kwargs': None},\n",
       "    'num_batches': 1}},\n",
       "  '$parameter.raw.column_values_length_max': {'value': array([2]),\n",
       "   'attributed_value': {'keboola_jobs-keboola_jobs': array([2])},\n",
       "   'details': {'metric_configuration': {'metric_name': 'column_values.length.max',\n",
       "     'domain_kwargs': {'column': 'variable_values_data'},\n",
       "     'metric_value_kwargs': None},\n",
       "    'num_batches': 1}},\n",
       "  '$parameter.column_values_length_min': {'value': [2],\n",
       "   'attributed_value': {'keboola_jobs-keboola_jobs': [2]},\n",
       "   'details': {'metric_configuration': {'metric_name': 'column_values.length.min',\n",
       "     'domain_kwargs': {'column': 'variable_values_data'},\n",
       "     'metric_value_kwargs': None},\n",
       "    'num_batches': 1}},\n",
       "  '$parameter.column_values_length_max': {'value': [2],\n",
       "   'attributed_value': {'keboola_jobs-keboola_jobs': [2]},\n",
       "   'details': {'metric_configuration': {'metric_name': 'column_values.length.max',\n",
       "     'domain_kwargs': {'column': 'variable_values_data'},\n",
       "     'metric_value_kwargs': None},\n",
       "    'num_batches': 1}}},\n",
       " {\n",
       "   \"domain_type\": \"column\",\n",
       "   \"domain_kwargs\": {\n",
       "     \"column\": \"backend_context\"\n",
       "   },\n",
       "   \"details\": {\n",
       "     \"inferred_semantic_domain_type\": {\n",
       "       \"backend_context\": \"text\"\n",
       "     }\n",
       "   },\n",
       "   \"rule_name\": \"text_columns_rule\"\n",
       " }: {'$parameter.raw.column_values_length_min': {'value': array([10]),\n",
       "   'attributed_value': {'keboola_jobs-keboola_jobs': array([10])},\n",
       "   'details': {'metric_configuration': {'metric_name': 'column_values.length.min',\n",
       "     'domain_kwargs': {'column': 'backend_context'},\n",
       "     'metric_value_kwargs': None},\n",
       "    'num_batches': 1}},\n",
       "  '$parameter.raw.column_values_length_max': {'value': array([19]),\n",
       "   'attributed_value': {'keboola_jobs-keboola_jobs': array([19])},\n",
       "   'details': {'metric_configuration': {'metric_name': 'column_values.length.max',\n",
       "     'domain_kwargs': {'column': 'backend_context'},\n",
       "     'metric_value_kwargs': None},\n",
       "    'num_batches': 1}},\n",
       "  '$parameter.column_values_length_min': {'value': [10],\n",
       "   'attributed_value': {'keboola_jobs-keboola_jobs': [10]},\n",
       "   'details': {'metric_configuration': {'metric_name': 'column_values.length.min',\n",
       "     'domain_kwargs': {'column': 'backend_context'},\n",
       "     'metric_value_kwargs': None},\n",
       "    'num_batches': 1}},\n",
       "  '$parameter.column_values_length_max': {'value': [19],\n",
       "   'attributed_value': {'keboola_jobs-keboola_jobs': [19]},\n",
       "   'details': {'metric_configuration': {'metric_name': 'column_values.length.max',\n",
       "     'domain_kwargs': {'column': 'backend_context'},\n",
       "     'metric_value_kwargs': None},\n",
       "    'num_batches': 1}}},\n",
       " {\n",
       "   \"domain_type\": \"column\",\n",
       "   \"domain_kwargs\": {\n",
       "     \"column\": \"behavior_on_error\"\n",
       "   },\n",
       "   \"details\": {\n",
       "     \"inferred_semantic_domain_type\": {\n",
       "       \"behavior_on_error\": \"text\"\n",
       "     }\n",
       "   },\n",
       "   \"rule_name\": \"text_columns_rule\"\n",
       " }: {'$parameter.raw.column_values_length_min': {'value': array([4]),\n",
       "   'attributed_value': {'keboola_jobs-keboola_jobs': array([4])},\n",
       "   'details': {'metric_configuration': {'metric_name': 'column_values.length.min',\n",
       "     'domain_kwargs': {'column': 'behavior_on_error'},\n",
       "     'metric_value_kwargs': None},\n",
       "    'num_batches': 1}},\n",
       "  '$parameter.raw.column_values_length_max': {'value': array([4]),\n",
       "   'attributed_value': {'keboola_jobs-keboola_jobs': array([4])},\n",
       "   'details': {'metric_configuration': {'metric_name': 'column_values.length.max',\n",
       "     'domain_kwargs': {'column': 'behavior_on_error'},\n",
       "     'metric_value_kwargs': None},\n",
       "    'num_batches': 1}},\n",
       "  '$parameter.column_values_length_min': {'value': [4],\n",
       "   'attributed_value': {'keboola_jobs-keboola_jobs': [4]},\n",
       "   'details': {'metric_configuration': {'metric_name': 'column_values.length.min',\n",
       "     'domain_kwargs': {'column': 'behavior_on_error'},\n",
       "     'metric_value_kwargs': None},\n",
       "    'num_batches': 1}},\n",
       "  '$parameter.column_values_length_max': {'value': [4],\n",
       "   'attributed_value': {'keboola_jobs-keboola_jobs': [4]},\n",
       "   'details': {'metric_configuration': {'metric_name': 'column_values.length.max',\n",
       "     'domain_kwargs': {'column': 'behavior_on_error'},\n",
       "     'metric_value_kwargs': None},\n",
       "    'num_batches': 1}}},\n",
       " {\n",
       "   \"domain_type\": \"column\",\n",
       "   \"domain_kwargs\": {\n",
       "     \"column\": \"metrics_backend_size\"\n",
       "   },\n",
       "   \"details\": {\n",
       "     \"inferred_semantic_domain_type\": {\n",
       "       \"metrics_backend_size\": \"text\"\n",
       "     }\n",
       "   },\n",
       "   \"rule_name\": \"text_columns_rule\"\n",
       " }: {'$parameter.raw.column_values_length_min': {'value': array([5]),\n",
       "   'attributed_value': {'keboola_jobs-keboola_jobs': array([5])},\n",
       "   'details': {'metric_configuration': {'metric_name': 'column_values.length.min',\n",
       "     'domain_kwargs': {'column': 'metrics_backend_size'},\n",
       "     'metric_value_kwargs': None},\n",
       "    'num_batches': 1}},\n",
       "  '$parameter.raw.column_values_length_max': {'value': array([6]),\n",
       "   'attributed_value': {'keboola_jobs-keboola_jobs': array([6])},\n",
       "   'details': {'metric_configuration': {'metric_name': 'column_values.length.max',\n",
       "     'domain_kwargs': {'column': 'metrics_backend_size'},\n",
       "     'metric_value_kwargs': None},\n",
       "    'num_batches': 1}},\n",
       "  '$parameter.column_values_length_min': {'value': [5],\n",
       "   'attributed_value': {'keboola_jobs-keboola_jobs': [5]},\n",
       "   'details': {'metric_configuration': {'metric_name': 'column_values.length.min',\n",
       "     'domain_kwargs': {'column': 'metrics_backend_size'},\n",
       "     'metric_value_kwargs': None},\n",
       "    'num_batches': 1}},\n",
       "  '$parameter.column_values_length_max': {'value': [6],\n",
       "   'attributed_value': {'keboola_jobs-keboola_jobs': [6]},\n",
       "   'details': {'metric_configuration': {'metric_name': 'column_values.length.max',\n",
       "     'domain_kwargs': {'column': 'metrics_backend_size'},\n",
       "     'metric_value_kwargs': None},\n",
       "    'num_batches': 1}}},\n",
       " {\n",
       "   \"domain_type\": \"column\",\n",
       "   \"domain_kwargs\": {\n",
       "     \"column\": \"metrics_backend_context\"\n",
       "   },\n",
       "   \"details\": {\n",
       "     \"inferred_semantic_domain_type\": {\n",
       "       \"metrics_backend_context\": \"text\"\n",
       "     }\n",
       "   },\n",
       "   \"rule_name\": \"text_columns_rule\"\n",
       " }: {'$parameter.raw.column_values_length_min': {'value': array([10]),\n",
       "   'attributed_value': {'keboola_jobs-keboola_jobs': array([10])},\n",
       "   'details': {'metric_configuration': {'metric_name': 'column_values.length.min',\n",
       "     'domain_kwargs': {'column': 'metrics_backend_context'},\n",
       "     'metric_value_kwargs': None},\n",
       "    'num_batches': 1}},\n",
       "  '$parameter.raw.column_values_length_max': {'value': array([19]),\n",
       "   'attributed_value': {'keboola_jobs-keboola_jobs': array([19])},\n",
       "   'details': {'metric_configuration': {'metric_name': 'column_values.length.max',\n",
       "     'domain_kwargs': {'column': 'metrics_backend_context'},\n",
       "     'metric_value_kwargs': None},\n",
       "    'num_batches': 1}},\n",
       "  '$parameter.column_values_length_min': {'value': [10],\n",
       "   'attributed_value': {'keboola_jobs-keboola_jobs': [10]},\n",
       "   'details': {'metric_configuration': {'metric_name': 'column_values.length.min',\n",
       "     'domain_kwargs': {'column': 'metrics_backend_context'},\n",
       "     'metric_value_kwargs': None},\n",
       "    'num_batches': 1}},\n",
       "  '$parameter.column_values_length_max': {'value': [19],\n",
       "   'attributed_value': {'keboola_jobs-keboola_jobs': [19]},\n",
       "   'details': {'metric_configuration': {'metric_name': 'column_values.length.max',\n",
       "     'domain_kwargs': {'column': 'metrics_backend_context'},\n",
       "     'metric_value_kwargs': None},\n",
       "    'num_batches': 1}}},\n",
       " {\n",
       "   \"domain_type\": \"column\",\n",
       "   \"domain_kwargs\": {\n",
       "     \"column\": \"metrics_backend_container_size\"\n",
       "   },\n",
       "   \"details\": {\n",
       "     \"inferred_semantic_domain_type\": {\n",
       "       \"metrics_backend_container_size\": \"text\"\n",
       "     }\n",
       "   },\n",
       "   \"rule_name\": \"text_columns_rule\"\n",
       " }: {'$parameter.raw.column_values_length_min': {'value': array([5]),\n",
       "   'attributed_value': {'keboola_jobs-keboola_jobs': array([5])},\n",
       "   'details': {'metric_configuration': {'metric_name': 'column_values.length.min',\n",
       "     'domain_kwargs': {'column': 'metrics_backend_container_size'},\n",
       "     'metric_value_kwargs': None},\n",
       "    'num_batches': 1}},\n",
       "  '$parameter.raw.column_values_length_max': {'value': array([6]),\n",
       "   'attributed_value': {'keboola_jobs-keboola_jobs': array([6])},\n",
       "   'details': {'metric_configuration': {'metric_name': 'column_values.length.max',\n",
       "     'domain_kwargs': {'column': 'metrics_backend_container_size'},\n",
       "     'metric_value_kwargs': None},\n",
       "    'num_batches': 1}},\n",
       "  '$parameter.column_values_length_min': {'value': [5],\n",
       "   'attributed_value': {'keboola_jobs-keboola_jobs': [5]},\n",
       "   'details': {'metric_configuration': {'metric_name': 'column_values.length.min',\n",
       "     'domain_kwargs': {'column': 'metrics_backend_container_size'},\n",
       "     'metric_value_kwargs': None},\n",
       "    'num_batches': 1}},\n",
       "  '$parameter.column_values_length_max': {'value': [6],\n",
       "   'attributed_value': {'keboola_jobs-keboola_jobs': [6]},\n",
       "   'details': {'metric_configuration': {'metric_name': 'column_values.length.max',\n",
       "     'domain_kwargs': {'column': 'metrics_backend_container_size'},\n",
       "     'metric_value_kwargs': None},\n",
       "    'num_batches': 1}}},\n",
       " {\n",
       "   \"domain_type\": \"column\",\n",
       "   \"domain_kwargs\": {\n",
       "     \"column\": \"result_images\"\n",
       "   },\n",
       "   \"details\": {\n",
       "     \"inferred_semantic_domain_type\": {\n",
       "       \"result_images\": \"text\"\n",
       "     }\n",
       "   },\n",
       "   \"rule_name\": \"text_columns_rule\"\n",
       " }: {'$parameter.raw.column_values_length_min': {'value': array([2]),\n",
       "   'attributed_value': {'keboola_jobs-keboola_jobs': array([2])},\n",
       "   'details': {'metric_configuration': {'metric_name': 'column_values.length.min',\n",
       "     'domain_kwargs': {'column': 'result_images'},\n",
       "     'metric_value_kwargs': None},\n",
       "    'num_batches': 1}},\n",
       "  '$parameter.raw.column_values_length_max': {'value': array([1399]),\n",
       "   'attributed_value': {'keboola_jobs-keboola_jobs': array([1399])},\n",
       "   'details': {'metric_configuration': {'metric_name': 'column_values.length.max',\n",
       "     'domain_kwargs': {'column': 'result_images'},\n",
       "     'metric_value_kwargs': None},\n",
       "    'num_batches': 1}},\n",
       "  '$parameter.column_values_length_min': {'value': [2],\n",
       "   'attributed_value': {'keboola_jobs-keboola_jobs': [2]},\n",
       "   'details': {'metric_configuration': {'metric_name': 'column_values.length.min',\n",
       "     'domain_kwargs': {'column': 'result_images'},\n",
       "     'metric_value_kwargs': None},\n",
       "    'num_batches': 1}},\n",
       "  '$parameter.column_values_length_max': {'value': [1399],\n",
       "   'attributed_value': {'keboola_jobs-keboola_jobs': [1399]},\n",
       "   'details': {'metric_configuration': {'metric_name': 'column_values.length.max',\n",
       "     'domain_kwargs': {'column': 'result_images'},\n",
       "     'metric_value_kwargs': None},\n",
       "    'num_batches': 1}}},\n",
       " {\n",
       "   \"domain_type\": \"column\",\n",
       "   \"domain_kwargs\": {\n",
       "     \"column\": \"result_message\"\n",
       "   },\n",
       "   \"details\": {\n",
       "     \"inferred_semantic_domain_type\": {\n",
       "       \"result_message\": \"text\"\n",
       "     }\n",
       "   },\n",
       "   \"rule_name\": \"text_columns_rule\"\n",
       " }: {'$parameter.raw.column_values_length_min': {'value': array([14]),\n",
       "   'attributed_value': {'keboola_jobs-keboola_jobs': array([14])},\n",
       "   'details': {'metric_configuration': {'metric_name': 'column_values.length.min',\n",
       "     'domain_kwargs': {'column': 'result_message'},\n",
       "     'metric_value_kwargs': None},\n",
       "    'num_batches': 1}},\n",
       "  '$parameter.raw.column_values_length_max': {'value': array([4005]),\n",
       "   'attributed_value': {'keboola_jobs-keboola_jobs': array([4005])},\n",
       "   'details': {'metric_configuration': {'metric_name': 'column_values.length.max',\n",
       "     'domain_kwargs': {'column': 'result_message'},\n",
       "     'metric_value_kwargs': None},\n",
       "    'num_batches': 1}},\n",
       "  '$parameter.column_values_length_min': {'value': [14],\n",
       "   'attributed_value': {'keboola_jobs-keboola_jobs': [14]},\n",
       "   'details': {'metric_configuration': {'metric_name': 'column_values.length.min',\n",
       "     'domain_kwargs': {'column': 'result_message'},\n",
       "     'metric_value_kwargs': None},\n",
       "    'num_batches': 1}},\n",
       "  '$parameter.column_values_length_max': {'value': [4005],\n",
       "   'attributed_value': {'keboola_jobs-keboola_jobs': [4005]},\n",
       "   'details': {'metric_configuration': {'metric_name': 'column_values.length.max',\n",
       "     'domain_kwargs': {'column': 'result_message'},\n",
       "     'metric_value_kwargs': None},\n",
       "    'num_batches': 1}}},\n",
       " {\n",
       "   \"domain_type\": \"column\",\n",
       "   \"domain_kwargs\": {\n",
       "     \"column\": \"result_artifacts_uploaded\"\n",
       "   },\n",
       "   \"details\": {\n",
       "     \"inferred_semantic_domain_type\": {\n",
       "       \"result_artifacts_uploaded\": \"text\"\n",
       "     }\n",
       "   },\n",
       "   \"rule_name\": \"text_columns_rule\"\n",
       " }: {'$parameter.raw.column_values_length_min': {'value': array([2]),\n",
       "   'attributed_value': {'keboola_jobs-keboola_jobs': array([2])},\n",
       "   'details': {'metric_configuration': {'metric_name': 'column_values.length.min',\n",
       "     'domain_kwargs': {'column': 'result_artifacts_uploaded'},\n",
       "     'metric_value_kwargs': None},\n",
       "    'num_batches': 1}},\n",
       "  '$parameter.raw.column_values_length_max': {'value': array([30]),\n",
       "   'attributed_value': {'keboola_jobs-keboola_jobs': array([30])},\n",
       "   'details': {'metric_configuration': {'metric_name': 'column_values.length.max',\n",
       "     'domain_kwargs': {'column': 'result_artifacts_uploaded'},\n",
       "     'metric_value_kwargs': None},\n",
       "    'num_batches': 1}},\n",
       "  '$parameter.column_values_length_min': {'value': [2],\n",
       "   'attributed_value': {'keboola_jobs-keboola_jobs': [2]},\n",
       "   'details': {'metric_configuration': {'metric_name': 'column_values.length.min',\n",
       "     'domain_kwargs': {'column': 'result_artifacts_uploaded'},\n",
       "     'metric_value_kwargs': None},\n",
       "    'num_batches': 1}},\n",
       "  '$parameter.column_values_length_max': {'value': [30],\n",
       "   'attributed_value': {'keboola_jobs-keboola_jobs': [30]},\n",
       "   'details': {'metric_configuration': {'metric_name': 'column_values.length.max',\n",
       "     'domain_kwargs': {'column': 'result_artifacts_uploaded'},\n",
       "     'metric_value_kwargs': None},\n",
       "    'num_batches': 1}}},\n",
       " {\n",
       "   \"domain_type\": \"column\",\n",
       "   \"domain_kwargs\": {\n",
       "     \"column\": \"result_artifacts_downloaded\"\n",
       "   },\n",
       "   \"details\": {\n",
       "     \"inferred_semantic_domain_type\": {\n",
       "       \"result_artifacts_downloaded\": \"text\"\n",
       "     }\n",
       "   },\n",
       "   \"rule_name\": \"text_columns_rule\"\n",
       " }: {'$parameter.raw.column_values_length_min': {'value': array([2]),\n",
       "   'attributed_value': {'keboola_jobs-keboola_jobs': array([2])},\n",
       "   'details': {'metric_configuration': {'metric_name': 'column_values.length.min',\n",
       "     'domain_kwargs': {'column': 'result_artifacts_downloaded'},\n",
       "     'metric_value_kwargs': None},\n",
       "    'num_batches': 1}},\n",
       "  '$parameter.raw.column_values_length_max': {'value': array([2]),\n",
       "   'attributed_value': {'keboola_jobs-keboola_jobs': array([2])},\n",
       "   'details': {'metric_configuration': {'metric_name': 'column_values.length.max',\n",
       "     'domain_kwargs': {'column': 'result_artifacts_downloaded'},\n",
       "     'metric_value_kwargs': None},\n",
       "    'num_batches': 1}},\n",
       "  '$parameter.column_values_length_min': {'value': [2],\n",
       "   'attributed_value': {'keboola_jobs-keboola_jobs': [2]},\n",
       "   'details': {'metric_configuration': {'metric_name': 'column_values.length.min',\n",
       "     'domain_kwargs': {'column': 'result_artifacts_downloaded'},\n",
       "     'metric_value_kwargs': None},\n",
       "    'num_batches': 1}},\n",
       "  '$parameter.column_values_length_max': {'value': [2],\n",
       "   'attributed_value': {'keboola_jobs-keboola_jobs': [2]},\n",
       "   'details': {'metric_configuration': {'metric_name': 'column_values.length.max',\n",
       "     'domain_kwargs': {'column': 'result_artifacts_downloaded'},\n",
       "     'metric_value_kwargs': None},\n",
       "    'num_batches': 1}}},\n",
       " {\n",
       "   \"domain_type\": \"column\",\n",
       "   \"domain_kwargs\": {\n",
       "     \"column\": \"extraction_date\"\n",
       "   },\n",
       "   \"details\": {\n",
       "     \"inferred_semantic_domain_type\": {\n",
       "       \"extraction_date\": \"text\"\n",
       "     }\n",
       "   },\n",
       "   \"rule_name\": \"text_columns_rule\"\n",
       " }: {'$parameter.raw.column_values_length_min': {'value': array([25]),\n",
       "   'attributed_value': {'keboola_jobs-keboola_jobs': array([25])},\n",
       "   'details': {'metric_configuration': {'metric_name': 'column_values.length.min',\n",
       "     'domain_kwargs': {'column': 'extraction_date'},\n",
       "     'metric_value_kwargs': None},\n",
       "    'num_batches': 1}},\n",
       "  '$parameter.raw.column_values_length_max': {'value': array([25]),\n",
       "   'attributed_value': {'keboola_jobs-keboola_jobs': array([25])},\n",
       "   'details': {'metric_configuration': {'metric_name': 'column_values.length.max',\n",
       "     'domain_kwargs': {'column': 'extraction_date'},\n",
       "     'metric_value_kwargs': None},\n",
       "    'num_batches': 1}},\n",
       "  '$parameter.column_values_length_min': {'value': [25],\n",
       "   'attributed_value': {'keboola_jobs-keboola_jobs': [25]},\n",
       "   'details': {'metric_configuration': {'metric_name': 'column_values.length.min',\n",
       "     'domain_kwargs': {'column': 'extraction_date'},\n",
       "     'metric_value_kwargs': None},\n",
       "    'num_batches': 1}},\n",
       "  '$parameter.column_values_length_max': {'value': [25],\n",
       "   'attributed_value': {'keboola_jobs-keboola_jobs': [25]},\n",
       "   'details': {'metric_configuration': {'metric_name': 'column_values.length.max',\n",
       "     'domain_kwargs': {'column': 'extraction_date'},\n",
       "     'metric_value_kwargs': None},\n",
       "    'num_batches': 1}}},\n",
       " {\n",
       "   \"domain_type\": \"column\",\n",
       "   \"domain_kwargs\": {\n",
       "     \"column\": \"project_name\"\n",
       "   },\n",
       "   \"details\": {\n",
       "     \"inferred_semantic_domain_type\": {\n",
       "       \"project_name\": \"numeric\"\n",
       "     }\n",
       "   },\n",
       "   \"rule_name\": \"categorical_columns_rule\"\n",
       " }: {'$parameter.raw.column_value_counts': {'value': [value\n",
       "    7167    26156\n",
       "    Name: count, dtype: int64],\n",
       "   'attributed_value': {'keboola_jobs-keboola_jobs': value\n",
       "    7167    26156\n",
       "    Name: count, dtype: int64},\n",
       "   'details': {'metric_configuration': {'metric_name': 'column.value_counts',\n",
       "     'domain_kwargs': {'column': 'project_name'},\n",
       "     'metric_value_kwargs': {'sort': 'value'}},\n",
       "    'num_batches': 1}},\n",
       "  '$parameter.raw.column_distinct_values_count': {'value': array([1]),\n",
       "   'attributed_value': {'keboola_jobs-keboola_jobs': array([1])},\n",
       "   'details': {'metric_configuration': {'metric_name': 'column.distinct_values.count',\n",
       "     'domain_kwargs': {'column': 'project_name'},\n",
       "     'metric_value_kwargs': None},\n",
       "    'num_batches': 1}},\n",
       "  '$parameter.column_value_counts': {'value': [[{'value': 7167,\n",
       "      'count': 26156}]],\n",
       "   'attributed_value': {'keboola_jobs-keboola_jobs': [{'value': 7167,\n",
       "      'count': 26156}]},\n",
       "   'details': {'metric_configuration': {'metric_name': 'column.value_counts',\n",
       "     'domain_kwargs': {'column': 'project_name'},\n",
       "     'metric_value_kwargs': {'sort': 'value'}},\n",
       "    'num_batches': 1}},\n",
       "  '$parameter.column_distinct_values_count': {'value': [1],\n",
       "   'attributed_value': {'keboola_jobs-keboola_jobs': [1]},\n",
       "   'details': {'metric_configuration': {'metric_name': 'column.distinct_values.count',\n",
       "     'domain_kwargs': {'column': 'project_name'},\n",
       "     'metric_value_kwargs': None},\n",
       "    'num_batches': 1}}},\n",
       " {\n",
       "   \"domain_type\": \"column\",\n",
       "   \"domain_kwargs\": {\n",
       "     \"column\": \"token_description\"\n",
       "   },\n",
       "   \"details\": {\n",
       "     \"inferred_semantic_domain_type\": {\n",
       "       \"token_description\": \"text\"\n",
       "     }\n",
       "   },\n",
       "   \"rule_name\": \"categorical_columns_rule\"\n",
       " }: {'$parameter.raw.column_value_counts': {'value': [value\n",
       "    Cli utils - data-apps migration                     3\n",
       "    [_internal] Scheduler for 19351333 Scheduler     7369\n",
       "    [_internal] Scheduler for 20987553 Scheduler     3157\n",
       "    [_internal] Scheduler for 21591835 Scheduler    11601\n",
       "    [_internal] Scheduler for 22435816 Scheduler     1581\n",
       "    [_internal] Scheduler for 23269303 Scheduler      441\n",
       "    [_internal] Scheduler for 40924565 Scheduler     1862\n",
       "    fisa@keboola.com                                  120\n",
       "    kritiga.ravishankar@keboola.com                    22\n",
       "    Name: count, dtype: int64],\n",
       "   'attributed_value': {'keboola_jobs-keboola_jobs': value\n",
       "    Cli utils - data-apps migration                     3\n",
       "    [_internal] Scheduler for 19351333 Scheduler     7369\n",
       "    [_internal] Scheduler for 20987553 Scheduler     3157\n",
       "    [_internal] Scheduler for 21591835 Scheduler    11601\n",
       "    [_internal] Scheduler for 22435816 Scheduler     1581\n",
       "    [_internal] Scheduler for 23269303 Scheduler      441\n",
       "    [_internal] Scheduler for 40924565 Scheduler     1862\n",
       "    fisa@keboola.com                                  120\n",
       "    kritiga.ravishankar@keboola.com                    22\n",
       "    Name: count, dtype: int64},\n",
       "   'details': {'metric_configuration': {'metric_name': 'column.value_counts',\n",
       "     'domain_kwargs': {'column': 'token_description'},\n",
       "     'metric_value_kwargs': {'sort': 'value'}},\n",
       "    'num_batches': 1}},\n",
       "  '$parameter.raw.column_distinct_values_count': {'value': array([9]),\n",
       "   'attributed_value': {'keboola_jobs-keboola_jobs': array([9])},\n",
       "   'details': {'metric_configuration': {'metric_name': 'column.distinct_values.count',\n",
       "     'domain_kwargs': {'column': 'token_description'},\n",
       "     'metric_value_kwargs': None},\n",
       "    'num_batches': 1}},\n",
       "  '$parameter.column_value_counts': {'value': [[{'value': 'Cli utils - data-apps migration',\n",
       "      'count': 3},\n",
       "     {'value': '[_internal] Scheduler for 19351333 Scheduler', 'count': 7369},\n",
       "     {'value': '[_internal] Scheduler for 20987553 Scheduler', 'count': 3157},\n",
       "     {'value': '[_internal] Scheduler for 21591835 Scheduler', 'count': 11601},\n",
       "     {'value': '[_internal] Scheduler for 22435816 Scheduler', 'count': 1581},\n",
       "     {'value': '[_internal] Scheduler for 23269303 Scheduler', 'count': 441},\n",
       "     {'value': '[_internal] Scheduler for 40924565 Scheduler', 'count': 1862},\n",
       "     {'value': 'fisa@keboola.com', 'count': 120},\n",
       "     {'value': 'kritiga.ravishankar@keboola.com', 'count': 22}]],\n",
       "   'attributed_value': {'keboola_jobs-keboola_jobs': [{'value': 'Cli utils - data-apps migration',\n",
       "      'count': 3},\n",
       "     {'value': '[_internal] Scheduler for 19351333 Scheduler', 'count': 7369},\n",
       "     {'value': '[_internal] Scheduler for 20987553 Scheduler', 'count': 3157},\n",
       "     {'value': '[_internal] Scheduler for 21591835 Scheduler', 'count': 11601},\n",
       "     {'value': '[_internal] Scheduler for 22435816 Scheduler', 'count': 1581},\n",
       "     {'value': '[_internal] Scheduler for 23269303 Scheduler', 'count': 441},\n",
       "     {'value': '[_internal] Scheduler for 40924565 Scheduler', 'count': 1862},\n",
       "     {'value': 'fisa@keboola.com', 'count': 120},\n",
       "     {'value': 'kritiga.ravishankar@keboola.com', 'count': 22}]},\n",
       "   'details': {'metric_configuration': {'metric_name': 'column.value_counts',\n",
       "     'domain_kwargs': {'column': 'token_description'},\n",
       "     'metric_value_kwargs': {'sort': 'value'}},\n",
       "    'num_batches': 1}},\n",
       "  '$parameter.column_distinct_values_count': {'value': [9],\n",
       "   'attributed_value': {'keboola_jobs-keboola_jobs': [9]},\n",
       "   'details': {'metric_configuration': {'metric_name': 'column.distinct_values.count',\n",
       "     'domain_kwargs': {'column': 'token_description'},\n",
       "     'metric_value_kwargs': None},\n",
       "    'num_batches': 1}}},\n",
       " {\n",
       "   \"domain_type\": \"column\",\n",
       "   \"domain_kwargs\": {\n",
       "     \"column\": \"status\"\n",
       "   },\n",
       "   \"details\": {\n",
       "     \"inferred_semantic_domain_type\": {\n",
       "       \"status\": \"text\"\n",
       "     }\n",
       "   },\n",
       "   \"rule_name\": \"categorical_columns_rule\"\n",
       " }: {'$parameter.raw.column_value_counts': {'value': [value\n",
       "    error           782\n",
       "    success       25373\n",
       "    terminated        1\n",
       "    Name: count, dtype: int64],\n",
       "   'attributed_value': {'keboola_jobs-keboola_jobs': value\n",
       "    error           782\n",
       "    success       25373\n",
       "    terminated        1\n",
       "    Name: count, dtype: int64},\n",
       "   'details': {'metric_configuration': {'metric_name': 'column.value_counts',\n",
       "     'domain_kwargs': {'column': 'status'},\n",
       "     'metric_value_kwargs': {'sort': 'value'}},\n",
       "    'num_batches': 1}},\n",
       "  '$parameter.raw.column_distinct_values_count': {'value': array([3]),\n",
       "   'attributed_value': {'keboola_jobs-keboola_jobs': array([3])},\n",
       "   'details': {'metric_configuration': {'metric_name': 'column.distinct_values.count',\n",
       "     'domain_kwargs': {'column': 'status'},\n",
       "     'metric_value_kwargs': None},\n",
       "    'num_batches': 1}},\n",
       "  '$parameter.column_value_counts': {'value': [[{'value': 'error',\n",
       "      'count': 782},\n",
       "     {'value': 'success', 'count': 25373},\n",
       "     {'value': 'terminated', 'count': 1}]],\n",
       "   'attributed_value': {'keboola_jobs-keboola_jobs': [{'value': 'error',\n",
       "      'count': 782},\n",
       "     {'value': 'success', 'count': 25373},\n",
       "     {'value': 'terminated', 'count': 1}]},\n",
       "   'details': {'metric_configuration': {'metric_name': 'column.value_counts',\n",
       "     'domain_kwargs': {'column': 'status'},\n",
       "     'metric_value_kwargs': {'sort': 'value'}},\n",
       "    'num_batches': 1}},\n",
       "  '$parameter.column_distinct_values_count': {'value': [3],\n",
       "   'attributed_value': {'keboola_jobs-keboola_jobs': [3]},\n",
       "   'details': {'metric_configuration': {'metric_name': 'column.distinct_values.count',\n",
       "     'domain_kwargs': {'column': 'status'},\n",
       "     'metric_value_kwargs': None},\n",
       "    'num_batches': 1}}},\n",
       " {\n",
       "   \"domain_type\": \"column\",\n",
       "   \"domain_kwargs\": {\n",
       "     \"column\": \"desired_status\"\n",
       "   },\n",
       "   \"details\": {\n",
       "     \"inferred_semantic_domain_type\": {\n",
       "       \"desired_status\": \"text\"\n",
       "     }\n",
       "   },\n",
       "   \"rule_name\": \"categorical_columns_rule\"\n",
       " }: {'$parameter.raw.column_value_counts': {'value': [value\n",
       "    processing     25911\n",
       "    terminating      245\n",
       "    Name: count, dtype: int64],\n",
       "   'attributed_value': {'keboola_jobs-keboola_jobs': value\n",
       "    processing     25911\n",
       "    terminating      245\n",
       "    Name: count, dtype: int64},\n",
       "   'details': {'metric_configuration': {'metric_name': 'column.value_counts',\n",
       "     'domain_kwargs': {'column': 'desired_status'},\n",
       "     'metric_value_kwargs': {'sort': 'value'}},\n",
       "    'num_batches': 1}},\n",
       "  '$parameter.raw.column_distinct_values_count': {'value': array([2]),\n",
       "   'attributed_value': {'keboola_jobs-keboola_jobs': array([2])},\n",
       "   'details': {'metric_configuration': {'metric_name': 'column.distinct_values.count',\n",
       "     'domain_kwargs': {'column': 'desired_status'},\n",
       "     'metric_value_kwargs': None},\n",
       "    'num_batches': 1}},\n",
       "  '$parameter.column_value_counts': {'value': [[{'value': 'processing',\n",
       "      'count': 25911},\n",
       "     {'value': 'terminating', 'count': 245}]],\n",
       "   'attributed_value': {'keboola_jobs-keboola_jobs': [{'value': 'processing',\n",
       "      'count': 25911},\n",
       "     {'value': 'terminating', 'count': 245}]},\n",
       "   'details': {'metric_configuration': {'metric_name': 'column.value_counts',\n",
       "     'domain_kwargs': {'column': 'desired_status'},\n",
       "     'metric_value_kwargs': {'sort': 'value'}},\n",
       "    'num_batches': 1}},\n",
       "  '$parameter.column_distinct_values_count': {'value': [2],\n",
       "   'attributed_value': {'keboola_jobs-keboola_jobs': [2]},\n",
       "   'details': {'metric_configuration': {'metric_name': 'column.distinct_values.count',\n",
       "     'domain_kwargs': {'column': 'desired_status'},\n",
       "     'metric_value_kwargs': None},\n",
       "    'num_batches': 1}}},\n",
       " {\n",
       "   \"domain_type\": \"column\",\n",
       "   \"domain_kwargs\": {\n",
       "     \"column\": \"mode\"\n",
       "   },\n",
       "   \"details\": {\n",
       "     \"inferred_semantic_domain_type\": {\n",
       "       \"mode\": \"text\"\n",
       "     }\n",
       "   },\n",
       "   \"rule_name\": \"categorical_columns_rule\"\n",
       " }: {'$parameter.raw.column_value_counts': {'value': [value\n",
       "    run    26156\n",
       "    Name: count, dtype: int64],\n",
       "   'attributed_value': {'keboola_jobs-keboola_jobs': value\n",
       "    run    26156\n",
       "    Name: count, dtype: int64},\n",
       "   'details': {'metric_configuration': {'metric_name': 'column.value_counts',\n",
       "     'domain_kwargs': {'column': 'mode'},\n",
       "     'metric_value_kwargs': {'sort': 'value'}},\n",
       "    'num_batches': 1}},\n",
       "  '$parameter.raw.column_distinct_values_count': {'value': array([1]),\n",
       "   'attributed_value': {'keboola_jobs-keboola_jobs': array([1])},\n",
       "   'details': {'metric_configuration': {'metric_name': 'column.distinct_values.count',\n",
       "     'domain_kwargs': {'column': 'mode'},\n",
       "     'metric_value_kwargs': None},\n",
       "    'num_batches': 1}},\n",
       "  '$parameter.column_value_counts': {'value': [[{'value': 'run',\n",
       "      'count': 26156}]],\n",
       "   'attributed_value': {'keboola_jobs-keboola_jobs': [{'value': 'run',\n",
       "      'count': 26156}]},\n",
       "   'details': {'metric_configuration': {'metric_name': 'column.value_counts',\n",
       "     'domain_kwargs': {'column': 'mode'},\n",
       "     'metric_value_kwargs': {'sort': 'value'}},\n",
       "    'num_batches': 1}},\n",
       "  '$parameter.column_distinct_values_count': {'value': [1],\n",
       "   'attributed_value': {'keboola_jobs-keboola_jobs': [1]},\n",
       "   'details': {'metric_configuration': {'metric_name': 'column.distinct_values.count',\n",
       "     'domain_kwargs': {'column': 'mode'},\n",
       "     'metric_value_kwargs': None},\n",
       "    'num_batches': 1}}},\n",
       " {\n",
       "   \"domain_type\": \"column\",\n",
       "   \"domain_kwargs\": {\n",
       "     \"column\": \"component\"\n",
       "   },\n",
       "   \"details\": {\n",
       "     \"inferred_semantic_domain_type\": {\n",
       "       \"component\": \"text\"\n",
       "     }\n",
       "   },\n",
       "   \"rule_name\": \"categorical_columns_rule\"\n",
       " }: {'$parameter.raw.column_value_counts': {'value': [value\n",
       "    ex-generic-v2                            626\n",
       "    kds-team.ex-google-translation             2\n",
       "    kds-team.ex-jira                        1056\n",
       "    kds-team.ex-kbc-project-metadata-v2        1\n",
       "    keboola.dbt-transformation              1609\n",
       "    keboola.ex-db-mysql                        2\n",
       "    keboola.ex-db-snowflake                    1\n",
       "    keboola.ex-github                          1\n",
       "    keboola.ex-google-drive                 1053\n",
       "    keboola.ex-http                            4\n",
       "    keboola.no-code-dbt-transformation         2\n",
       "    keboola.orchestrator                   15144\n",
       "    keboola.python-transformation-v2         168\n",
       "    keboola.sandboxes                         28\n",
       "    keboola.sapi-merged-export                 1\n",
       "    keboola.sliced-files-downloader            2\n",
       "    keboola.snowflake-transformation        3106\n",
       "    keboola.wr-db-pgsql                        1\n",
       "    keboola.wr-google-sheets                2296\n",
       "    keboola.wr-openlineage                  1053\n",
       "    Name: count, dtype: int64],\n",
       "   'attributed_value': {'keboola_jobs-keboola_jobs': value\n",
       "    ex-generic-v2                            626\n",
       "    kds-team.ex-google-translation             2\n",
       "    kds-team.ex-jira                        1056\n",
       "    kds-team.ex-kbc-project-metadata-v2        1\n",
       "    keboola.dbt-transformation              1609\n",
       "    keboola.ex-db-mysql                        2\n",
       "    keboola.ex-db-snowflake                    1\n",
       "    keboola.ex-github                          1\n",
       "    keboola.ex-google-drive                 1053\n",
       "    keboola.ex-http                            4\n",
       "    keboola.no-code-dbt-transformation         2\n",
       "    keboola.orchestrator                   15144\n",
       "    keboola.python-transformation-v2         168\n",
       "    keboola.sandboxes                         28\n",
       "    keboola.sapi-merged-export                 1\n",
       "    keboola.sliced-files-downloader            2\n",
       "    keboola.snowflake-transformation        3106\n",
       "    keboola.wr-db-pgsql                        1\n",
       "    keboola.wr-google-sheets                2296\n",
       "    keboola.wr-openlineage                  1053\n",
       "    Name: count, dtype: int64},\n",
       "   'details': {'metric_configuration': {'metric_name': 'column.value_counts',\n",
       "     'domain_kwargs': {'column': 'component'},\n",
       "     'metric_value_kwargs': {'sort': 'value'}},\n",
       "    'num_batches': 1}},\n",
       "  '$parameter.raw.column_distinct_values_count': {'value': array([20]),\n",
       "   'attributed_value': {'keboola_jobs-keboola_jobs': array([20])},\n",
       "   'details': {'metric_configuration': {'metric_name': 'column.distinct_values.count',\n",
       "     'domain_kwargs': {'column': 'component'},\n",
       "     'metric_value_kwargs': None},\n",
       "    'num_batches': 1}},\n",
       "  '$parameter.column_value_counts': {'value': [[{'value': 'ex-generic-v2',\n",
       "      'count': 626},\n",
       "     {'value': 'kds-team.ex-google-translation', 'count': 2},\n",
       "     {'value': 'kds-team.ex-jira', 'count': 1056},\n",
       "     {'value': 'kds-team.ex-kbc-project-metadata-v2', 'count': 1},\n",
       "     {'value': 'keboola.dbt-transformation', 'count': 1609},\n",
       "     {'value': 'keboola.ex-db-mysql', 'count': 2},\n",
       "     {'value': 'keboola.ex-db-snowflake', 'count': 1},\n",
       "     {'value': 'keboola.ex-github', 'count': 1},\n",
       "     {'value': 'keboola.ex-google-drive', 'count': 1053},\n",
       "     {'value': 'keboola.ex-http', 'count': 4},\n",
       "     {'value': 'keboola.no-code-dbt-transformation', 'count': 2},\n",
       "     {'value': 'keboola.orchestrator', 'count': 15144},\n",
       "     {'value': 'keboola.python-transformation-v2', 'count': 168},\n",
       "     {'value': 'keboola.sandboxes', 'count': 28},\n",
       "     {'value': 'keboola.sapi-merged-export', 'count': 1},\n",
       "     {'value': 'keboola.sliced-files-downloader', 'count': 2},\n",
       "     {'value': 'keboola.snowflake-transformation', 'count': 3106},\n",
       "     {'value': 'keboola.wr-db-pgsql', 'count': 1},\n",
       "     {'value': 'keboola.wr-google-sheets', 'count': 2296},\n",
       "     {'value': 'keboola.wr-openlineage', 'count': 1053}]],\n",
       "   'attributed_value': {'keboola_jobs-keboola_jobs': [{'value': 'ex-generic-v2',\n",
       "      'count': 626},\n",
       "     {'value': 'kds-team.ex-google-translation', 'count': 2},\n",
       "     {'value': 'kds-team.ex-jira', 'count': 1056},\n",
       "     {'value': 'kds-team.ex-kbc-project-metadata-v2', 'count': 1},\n",
       "     {'value': 'keboola.dbt-transformation', 'count': 1609},\n",
       "     {'value': 'keboola.ex-db-mysql', 'count': 2},\n",
       "     {'value': 'keboola.ex-db-snowflake', 'count': 1},\n",
       "     {'value': 'keboola.ex-github', 'count': 1},\n",
       "     {'value': 'keboola.ex-google-drive', 'count': 1053},\n",
       "     {'value': 'keboola.ex-http', 'count': 4},\n",
       "     {'value': 'keboola.no-code-dbt-transformation', 'count': 2},\n",
       "     {'value': 'keboola.orchestrator', 'count': 15144},\n",
       "     {'value': 'keboola.python-transformation-v2', 'count': 168},\n",
       "     {'value': 'keboola.sandboxes', 'count': 28},\n",
       "     {'value': 'keboola.sapi-merged-export', 'count': 1},\n",
       "     {'value': 'keboola.sliced-files-downloader', 'count': 2},\n",
       "     {'value': 'keboola.snowflake-transformation', 'count': 3106},\n",
       "     {'value': 'keboola.wr-db-pgsql', 'count': 1},\n",
       "     {'value': 'keboola.wr-google-sheets', 'count': 2296},\n",
       "     {'value': 'keboola.wr-openlineage', 'count': 1053}]},\n",
       "   'details': {'metric_configuration': {'metric_name': 'column.value_counts',\n",
       "     'domain_kwargs': {'column': 'component'},\n",
       "     'metric_value_kwargs': {'sort': 'value'}},\n",
       "    'num_batches': 1}},\n",
       "  '$parameter.column_distinct_values_count': {'value': [20],\n",
       "   'attributed_value': {'keboola_jobs-keboola_jobs': [20]},\n",
       "   'details': {'metric_configuration': {'metric_name': 'column.distinct_values.count',\n",
       "     'domain_kwargs': {'column': 'component'},\n",
       "     'metric_value_kwargs': None},\n",
       "    'num_batches': 1}}},\n",
       " {\n",
       "   \"domain_type\": \"column\",\n",
       "   \"domain_kwargs\": {\n",
       "     \"column\": \"config\"\n",
       "   },\n",
       "   \"details\": {\n",
       "     \"inferred_semantic_domain_type\": {\n",
       "       \"config\": \"numeric\"\n",
       "     }\n",
       "   },\n",
       "   \"rule_name\": \"categorical_columns_rule\"\n",
       " }: {'$parameter.raw.column_value_counts': {'value': [value\n",
       "    18951306.0      12\n",
       "    19351333.0    4211\n",
       "    19901574.0       1\n",
       "    19911362.0    1275\n",
       "    20987332.0    1053\n",
       "    20987553.0    2104\n",
       "    21587860.0    1056\n",
       "    21588824.0    1056\n",
       "    21590509.0    1021\n",
       "    21591041.0    1021\n",
       "    21591835.0    6228\n",
       "    21591836.0    1021\n",
       "    21666352.0       1\n",
       "    22381551.0     533\n",
       "    22435816.0    1056\n",
       "    23050126.0    1053\n",
       "    23132176.0       2\n",
       "    23268573.0     147\n",
       "    23269303.0     294\n",
       "    24157715.0    1053\n",
       "    24264229.0       2\n",
       "    24423883.0       1\n",
       "    25220583.0       2\n",
       "    30613102.0       2\n",
       "    33600261.0       2\n",
       "    33600334.0       4\n",
       "    33860161.0       3\n",
       "    33860162.0       1\n",
       "    33860163.0       1\n",
       "    34305539.0       3\n",
       "    35005722.0       5\n",
       "    35005913.0       1\n",
       "    35279194.0       2\n",
       "    35314384.0       1\n",
       "    35333377.0      21\n",
       "    35911558.0       1\n",
       "    35911615.0       1\n",
       "    36840997.0       1\n",
       "    36915241.0       4\n",
       "    37673597.0       1\n",
       "    37680251.0       1\n",
       "    38356655.0       1\n",
       "    38770375.0       1\n",
       "    40923877.0     626\n",
       "    40924565.0    1244\n",
       "    43159326.0       4\n",
       "    43159668.0       2\n",
       "    44257884.0       2\n",
       "    44258072.0       2\n",
       "    44562395.0       4\n",
       "    45068091.0       1\n",
       "    46893562.0       2\n",
       "    46894716.0       1\n",
       "    52919046.0       2\n",
       "    52936073.0       1\n",
       "    53177667.0       2\n",
       "    Name: count, dtype: int64],\n",
       "   'attributed_value': {'keboola_jobs-keboola_jobs': value\n",
       "    18951306.0      12\n",
       "    19351333.0    4211\n",
       "    19901574.0       1\n",
       "    19911362.0    1275\n",
       "    20987332.0    1053\n",
       "    20987553.0    2104\n",
       "    21587860.0    1056\n",
       "    21588824.0    1056\n",
       "    21590509.0    1021\n",
       "    21591041.0    1021\n",
       "    21591835.0    6228\n",
       "    21591836.0    1021\n",
       "    21666352.0       1\n",
       "    22381551.0     533\n",
       "    22435816.0    1056\n",
       "    23050126.0    1053\n",
       "    23132176.0       2\n",
       "    23268573.0     147\n",
       "    23269303.0     294\n",
       "    24157715.0    1053\n",
       "    24264229.0       2\n",
       "    24423883.0       1\n",
       "    25220583.0       2\n",
       "    30613102.0       2\n",
       "    33600261.0       2\n",
       "    33600334.0       4\n",
       "    33860161.0       3\n",
       "    33860162.0       1\n",
       "    33860163.0       1\n",
       "    34305539.0       3\n",
       "    35005722.0       5\n",
       "    35005913.0       1\n",
       "    35279194.0       2\n",
       "    35314384.0       1\n",
       "    35333377.0      21\n",
       "    35911558.0       1\n",
       "    35911615.0       1\n",
       "    36840997.0       1\n",
       "    36915241.0       4\n",
       "    37673597.0       1\n",
       "    37680251.0       1\n",
       "    38356655.0       1\n",
       "    38770375.0       1\n",
       "    40923877.0     626\n",
       "    40924565.0    1244\n",
       "    43159326.0       4\n",
       "    43159668.0       2\n",
       "    44257884.0       2\n",
       "    44258072.0       2\n",
       "    44562395.0       4\n",
       "    45068091.0       1\n",
       "    46893562.0       2\n",
       "    46894716.0       1\n",
       "    52919046.0       2\n",
       "    52936073.0       1\n",
       "    53177667.0       2\n",
       "    Name: count, dtype: int64},\n",
       "   'details': {'metric_configuration': {'metric_name': 'column.value_counts',\n",
       "     'domain_kwargs': {'column': 'config'},\n",
       "     'metric_value_kwargs': {'sort': 'value'}},\n",
       "    'num_batches': 1}},\n",
       "  '$parameter.raw.column_distinct_values_count': {'value': array([56]),\n",
       "   'attributed_value': {'keboola_jobs-keboola_jobs': array([56])},\n",
       "   'details': {'metric_configuration': {'metric_name': 'column.distinct_values.count',\n",
       "     'domain_kwargs': {'column': 'config'},\n",
       "     'metric_value_kwargs': None},\n",
       "    'num_batches': 1}},\n",
       "  '$parameter.column_value_counts': {'value': [[{'value': 18951306.0,\n",
       "      'count': 12},\n",
       "     {'value': 19351333.0, 'count': 4211},\n",
       "     {'value': 19901574.0, 'count': 1},\n",
       "     {'value': 19911362.0, 'count': 1275},\n",
       "     {'value': 20987332.0, 'count': 1053},\n",
       "     {'value': 20987553.0, 'count': 2104},\n",
       "     {'value': 21587860.0, 'count': 1056},\n",
       "     {'value': 21588824.0, 'count': 1056},\n",
       "     {'value': 21590509.0, 'count': 1021},\n",
       "     {'value': 21591041.0, 'count': 1021},\n",
       "     {'value': 21591835.0, 'count': 6228},\n",
       "     {'value': 21591836.0, 'count': 1021},\n",
       "     {'value': 21666352.0, 'count': 1},\n",
       "     {'value': 22381551.0, 'count': 533},\n",
       "     {'value': 22435816.0, 'count': 1056},\n",
       "     {'value': 23050126.0, 'count': 1053},\n",
       "     {'value': 23132176.0, 'count': 2},\n",
       "     {'value': 23268573.0, 'count': 147},\n",
       "     {'value': 23269303.0, 'count': 294},\n",
       "     {'value': 24157715.0, 'count': 1053},\n",
       "     {'value': 24264229.0, 'count': 2},\n",
       "     {'value': 24423883.0, 'count': 1},\n",
       "     {'value': 25220583.0, 'count': 2},\n",
       "     {'value': 30613102.0, 'count': 2},\n",
       "     {'value': 33600261.0, 'count': 2},\n",
       "     {'value': 33600334.0, 'count': 4},\n",
       "     {'value': 33860161.0, 'count': 3},\n",
       "     {'value': 33860162.0, 'count': 1},\n",
       "     {'value': 33860163.0, 'count': 1},\n",
       "     {'value': 34305539.0, 'count': 3},\n",
       "     {'value': 35005722.0, 'count': 5},\n",
       "     {'value': 35005913.0, 'count': 1},\n",
       "     {'value': 35279194.0, 'count': 2},\n",
       "     {'value': 35314384.0, 'count': 1},\n",
       "     {'value': 35333377.0, 'count': 21},\n",
       "     {'value': 35911558.0, 'count': 1},\n",
       "     {'value': 35911615.0, 'count': 1},\n",
       "     {'value': 36840997.0, 'count': 1},\n",
       "     {'value': 36915241.0, 'count': 4},\n",
       "     {'value': 37673597.0, 'count': 1},\n",
       "     {'value': 37680251.0, 'count': 1},\n",
       "     {'value': 38356655.0, 'count': 1},\n",
       "     {'value': 38770375.0, 'count': 1},\n",
       "     {'value': 40923877.0, 'count': 626},\n",
       "     {'value': 40924565.0, 'count': 1244},\n",
       "     {'value': 43159326.0, 'count': 4},\n",
       "     {'value': 43159668.0, 'count': 2},\n",
       "     {'value': 44257884.0, 'count': 2},\n",
       "     {'value': 44258072.0, 'count': 2},\n",
       "     {'value': 44562395.0, 'count': 4},\n",
       "     {'value': 45068091.0, 'count': 1},\n",
       "     {'value': 46893562.0, 'count': 2},\n",
       "     {'value': 46894716.0, 'count': 1},\n",
       "     {'value': 52919046.0, 'count': 2},\n",
       "     {'value': 52936073.0, 'count': 1},\n",
       "     {'value': 53177667.0, 'count': 2}]],\n",
       "   'attributed_value': {'keboola_jobs-keboola_jobs': [{'value': 18951306.0,\n",
       "      'count': 12},\n",
       "     {'value': 19351333.0, 'count': 4211},\n",
       "     {'value': 19901574.0, 'count': 1},\n",
       "     {'value': 19911362.0, 'count': 1275},\n",
       "     {'value': 20987332.0, 'count': 1053},\n",
       "     {'value': 20987553.0, 'count': 2104},\n",
       "     {'value': 21587860.0, 'count': 1056},\n",
       "     {'value': 21588824.0, 'count': 1056},\n",
       "     {'value': 21590509.0, 'count': 1021},\n",
       "     {'value': 21591041.0, 'count': 1021},\n",
       "     {'value': 21591835.0, 'count': 6228},\n",
       "     {'value': 21591836.0, 'count': 1021},\n",
       "     {'value': 21666352.0, 'count': 1},\n",
       "     {'value': 22381551.0, 'count': 533},\n",
       "     {'value': 22435816.0, 'count': 1056},\n",
       "     {'value': 23050126.0, 'count': 1053},\n",
       "     {'value': 23132176.0, 'count': 2},\n",
       "     {'value': 23268573.0, 'count': 147},\n",
       "     {'value': 23269303.0, 'count': 294},\n",
       "     {'value': 24157715.0, 'count': 1053},\n",
       "     {'value': 24264229.0, 'count': 2},\n",
       "     {'value': 24423883.0, 'count': 1},\n",
       "     {'value': 25220583.0, 'count': 2},\n",
       "     {'value': 30613102.0, 'count': 2},\n",
       "     {'value': 33600261.0, 'count': 2},\n",
       "     {'value': 33600334.0, 'count': 4},\n",
       "     {'value': 33860161.0, 'count': 3},\n",
       "     {'value': 33860162.0, 'count': 1},\n",
       "     {'value': 33860163.0, 'count': 1},\n",
       "     {'value': 34305539.0, 'count': 3},\n",
       "     {'value': 35005722.0, 'count': 5},\n",
       "     {'value': 35005913.0, 'count': 1},\n",
       "     {'value': 35279194.0, 'count': 2},\n",
       "     {'value': 35314384.0, 'count': 1},\n",
       "     {'value': 35333377.0, 'count': 21},\n",
       "     {'value': 35911558.0, 'count': 1},\n",
       "     {'value': 35911615.0, 'count': 1},\n",
       "     {'value': 36840997.0, 'count': 1},\n",
       "     {'value': 36915241.0, 'count': 4},\n",
       "     {'value': 37673597.0, 'count': 1},\n",
       "     {'value': 37680251.0, 'count': 1},\n",
       "     {'value': 38356655.0, 'count': 1},\n",
       "     {'value': 38770375.0, 'count': 1},\n",
       "     {'value': 40923877.0, 'count': 626},\n",
       "     {'value': 40924565.0, 'count': 1244},\n",
       "     {'value': 43159326.0, 'count': 4},\n",
       "     {'value': 43159668.0, 'count': 2},\n",
       "     {'value': 44257884.0, 'count': 2},\n",
       "     {'value': 44258072.0, 'count': 2},\n",
       "     {'value': 44562395.0, 'count': 4},\n",
       "     {'value': 45068091.0, 'count': 1},\n",
       "     {'value': 46893562.0, 'count': 2},\n",
       "     {'value': 46894716.0, 'count': 1},\n",
       "     {'value': 52919046.0, 'count': 2},\n",
       "     {'value': 52936073.0, 'count': 1},\n",
       "     {'value': 53177667.0, 'count': 2}]},\n",
       "   'details': {'metric_configuration': {'metric_name': 'column.value_counts',\n",
       "     'domain_kwargs': {'column': 'config'},\n",
       "     'metric_value_kwargs': {'sort': 'value'}},\n",
       "    'num_batches': 1}},\n",
       "  '$parameter.column_distinct_values_count': {'value': [56],\n",
       "   'attributed_value': {'keboola_jobs-keboola_jobs': [56]},\n",
       "   'details': {'metric_configuration': {'metric_name': 'column.distinct_values.count',\n",
       "     'domain_kwargs': {'column': 'config'},\n",
       "     'metric_value_kwargs': None},\n",
       "    'num_batches': 1}}},\n",
       " {\n",
       "   \"domain_type\": \"column\",\n",
       "   \"domain_kwargs\": {\n",
       "     \"column\": \"config_row_ids\"\n",
       "   },\n",
       "   \"details\": {\n",
       "     \"inferred_semantic_domain_type\": {\n",
       "       \"config_row_ids\": \"text\"\n",
       "     }\n",
       "   },\n",
       "   \"rule_name\": \"categorical_columns_rule\"\n",
       " }: {'$parameter.raw.column_value_counts': {'value': [value\n",
       "    [\"17224\"]           1\n",
       "    [\"36915248\"]        4\n",
       "    [\"51240\"]           1\n",
       "    []              26150\n",
       "    Name: count, dtype: int64],\n",
       "   'attributed_value': {'keboola_jobs-keboola_jobs': value\n",
       "    [\"17224\"]           1\n",
       "    [\"36915248\"]        4\n",
       "    [\"51240\"]           1\n",
       "    []              26150\n",
       "    Name: count, dtype: int64},\n",
       "   'details': {'metric_configuration': {'metric_name': 'column.value_counts',\n",
       "     'domain_kwargs': {'column': 'config_row_ids'},\n",
       "     'metric_value_kwargs': {'sort': 'value'}},\n",
       "    'num_batches': 1}},\n",
       "  '$parameter.raw.column_distinct_values_count': {'value': array([4]),\n",
       "   'attributed_value': {'keboola_jobs-keboola_jobs': array([4])},\n",
       "   'details': {'metric_configuration': {'metric_name': 'column.distinct_values.count',\n",
       "     'domain_kwargs': {'column': 'config_row_ids'},\n",
       "     'metric_value_kwargs': None},\n",
       "    'num_batches': 1}},\n",
       "  '$parameter.column_value_counts': {'value': [[{'value': '[\"17224\"]',\n",
       "      'count': 1},\n",
       "     {'value': '[\"36915248\"]', 'count': 4},\n",
       "     {'value': '[\"51240\"]', 'count': 1},\n",
       "     {'value': '[]', 'count': 26150}]],\n",
       "   'attributed_value': {'keboola_jobs-keboola_jobs': [{'value': '[\"17224\"]',\n",
       "      'count': 1},\n",
       "     {'value': '[\"36915248\"]', 'count': 4},\n",
       "     {'value': '[\"51240\"]', 'count': 1},\n",
       "     {'value': '[]', 'count': 26150}]},\n",
       "   'details': {'metric_configuration': {'metric_name': 'column.value_counts',\n",
       "     'domain_kwargs': {'column': 'config_row_ids'},\n",
       "     'metric_value_kwargs': {'sort': 'value'}},\n",
       "    'num_batches': 1}},\n",
       "  '$parameter.column_distinct_values_count': {'value': [4],\n",
       "   'attributed_value': {'keboola_jobs-keboola_jobs': [4]},\n",
       "   'details': {'metric_configuration': {'metric_name': 'column.distinct_values.count',\n",
       "     'domain_kwargs': {'column': 'config_row_ids'},\n",
       "     'metric_value_kwargs': None},\n",
       "    'num_batches': 1}}},\n",
       " {\n",
       "   \"domain_type\": \"column\",\n",
       "   \"domain_kwargs\": {\n",
       "     \"column\": \"tag\"\n",
       "   },\n",
       "   \"details\": {\n",
       "     \"inferred_semantic_domain_type\": {\n",
       "       \"tag\": \"text\"\n",
       "     }\n",
       "   },\n",
       "   \"rule_name\": \"categorical_columns_rule\"\n",
       " }: {'$parameter.raw.column_value_counts': {'value': [value\n",
       "    0.10.2                        1517\n",
       "    0.3.5                            2\n",
       "    0.4.0                            1\n",
       "    0.9.0                          620\n",
       "    0.9.1                          522\n",
       "    0.9.2                          447\n",
       "    1.1.0                         1053\n",
       "    1.12.3                         474\n",
       "    1.13.0                         113\n",
       "    1.14.0                           7\n",
       "    1.15.0                           6\n",
       "    1.16.0                          30\n",
       "    1.16.1                          13\n",
       "    1.16.2                          42\n",
       "    1.17.0                          24\n",
       "    1.17.1                          11\n",
       "    1.18.0                           6\n",
       "    1.2.0                            1\n",
       "    1.2.1                            1\n",
       "    1.2.3                           70\n",
       "    1.2.4                          272\n",
       "    1.2.5                           28\n",
       "    1.2.6                          460\n",
       "    1.3.0                          228\n",
       "    1.3.4                          168\n",
       "    1.5.0                         1996\n",
       "    1.6.0                          300\n",
       "    1.9.5                            1\n",
       "    2.0.0-1.5.0                    114\n",
       "    2.0.1-1.5.0                      6\n",
       "    2.0.2-1.5.0                    378\n",
       "    2.0.3-1.5.0                     40\n",
       "    2.0.4-1.5.0                    345\n",
       "    2.3.3                            1\n",
       "    2.7.1                          253\n",
       "    2.7.2                           16\n",
       "    2.7.3                          784\n",
       "    3.27.2                           1\n",
       "    3.28.3                           3\n",
       "    3.28.4                           1\n",
       "    3.29.0                           5\n",
       "    3.30.0                           2\n",
       "    3.32.0                           1\n",
       "    3.35.2                           1\n",
       "    3.40.0                           3\n",
       "    3.40.1                           2\n",
       "    3.47.0                           2\n",
       "    3.49.0                           4\n",
       "    3.7.7                            1\n",
       "    4.2.13                         142\n",
       "    4.2.14                         358\n",
       "    4.3.0                          126\n",
       "    6.2.0                            1\n",
       "    7.0.0                            1\n",
       "    7.1.0                            1\n",
       "    dev-data-apps-migration-7        3\n",
       "    latest                       15144\n",
       "    v2.5.5                           4\n",
       "    Name: count, dtype: int64],\n",
       "   'attributed_value': {'keboola_jobs-keboola_jobs': value\n",
       "    0.10.2                        1517\n",
       "    0.3.5                            2\n",
       "    0.4.0                            1\n",
       "    0.9.0                          620\n",
       "    0.9.1                          522\n",
       "    0.9.2                          447\n",
       "    1.1.0                         1053\n",
       "    1.12.3                         474\n",
       "    1.13.0                         113\n",
       "    1.14.0                           7\n",
       "    1.15.0                           6\n",
       "    1.16.0                          30\n",
       "    1.16.1                          13\n",
       "    1.16.2                          42\n",
       "    1.17.0                          24\n",
       "    1.17.1                          11\n",
       "    1.18.0                           6\n",
       "    1.2.0                            1\n",
       "    1.2.1                            1\n",
       "    1.2.3                           70\n",
       "    1.2.4                          272\n",
       "    1.2.5                           28\n",
       "    1.2.6                          460\n",
       "    1.3.0                          228\n",
       "    1.3.4                          168\n",
       "    1.5.0                         1996\n",
       "    1.6.0                          300\n",
       "    1.9.5                            1\n",
       "    2.0.0-1.5.0                    114\n",
       "    2.0.1-1.5.0                      6\n",
       "    2.0.2-1.5.0                    378\n",
       "    2.0.3-1.5.0                     40\n",
       "    2.0.4-1.5.0                    345\n",
       "    2.3.3                            1\n",
       "    2.7.1                          253\n",
       "    2.7.2                           16\n",
       "    2.7.3                          784\n",
       "    3.27.2                           1\n",
       "    3.28.3                           3\n",
       "    3.28.4                           1\n",
       "    3.29.0                           5\n",
       "    3.30.0                           2\n",
       "    3.32.0                           1\n",
       "    3.35.2                           1\n",
       "    3.40.0                           3\n",
       "    3.40.1                           2\n",
       "    3.47.0                           2\n",
       "    3.49.0                           4\n",
       "    3.7.7                            1\n",
       "    4.2.13                         142\n",
       "    4.2.14                         358\n",
       "    4.3.0                          126\n",
       "    6.2.0                            1\n",
       "    7.0.0                            1\n",
       "    7.1.0                            1\n",
       "    dev-data-apps-migration-7        3\n",
       "    latest                       15144\n",
       "    v2.5.5                           4\n",
       "    Name: count, dtype: int64},\n",
       "   'details': {'metric_configuration': {'metric_name': 'column.value_counts',\n",
       "     'domain_kwargs': {'column': 'tag'},\n",
       "     'metric_value_kwargs': {'sort': 'value'}},\n",
       "    'num_batches': 1}},\n",
       "  '$parameter.raw.column_distinct_values_count': {'value': array([58]),\n",
       "   'attributed_value': {'keboola_jobs-keboola_jobs': array([58])},\n",
       "   'details': {'metric_configuration': {'metric_name': 'column.distinct_values.count',\n",
       "     'domain_kwargs': {'column': 'tag'},\n",
       "     'metric_value_kwargs': None},\n",
       "    'num_batches': 1}},\n",
       "  '$parameter.column_value_counts': {'value': [[{'value': '0.10.2',\n",
       "      'count': 1517},\n",
       "     {'value': '0.3.5', 'count': 2},\n",
       "     {'value': '0.4.0', 'count': 1},\n",
       "     {'value': '0.9.0', 'count': 620},\n",
       "     {'value': '0.9.1', 'count': 522},\n",
       "     {'value': '0.9.2', 'count': 447},\n",
       "     {'value': '1.1.0', 'count': 1053},\n",
       "     {'value': '1.12.3', 'count': 474},\n",
       "     {'value': '1.13.0', 'count': 113},\n",
       "     {'value': '1.14.0', 'count': 7},\n",
       "     {'value': '1.15.0', 'count': 6},\n",
       "     {'value': '1.16.0', 'count': 30},\n",
       "     {'value': '1.16.1', 'count': 13},\n",
       "     {'value': '1.16.2', 'count': 42},\n",
       "     {'value': '1.17.0', 'count': 24},\n",
       "     {'value': '1.17.1', 'count': 11},\n",
       "     {'value': '1.18.0', 'count': 6},\n",
       "     {'value': '1.2.0', 'count': 1},\n",
       "     {'value': '1.2.1', 'count': 1},\n",
       "     {'value': '1.2.3', 'count': 70},\n",
       "     {'value': '1.2.4', 'count': 272},\n",
       "     {'value': '1.2.5', 'count': 28},\n",
       "     {'value': '1.2.6', 'count': 460},\n",
       "     {'value': '1.3.0', 'count': 228},\n",
       "     {'value': '1.3.4', 'count': 168},\n",
       "     {'value': '1.5.0', 'count': 1996},\n",
       "     {'value': '1.6.0', 'count': 300},\n",
       "     {'value': '1.9.5', 'count': 1},\n",
       "     {'value': '2.0.0-1.5.0', 'count': 114},\n",
       "     {'value': '2.0.1-1.5.0', 'count': 6},\n",
       "     {'value': '2.0.2-1.5.0', 'count': 378},\n",
       "     {'value': '2.0.3-1.5.0', 'count': 40},\n",
       "     {'value': '2.0.4-1.5.0', 'count': 345},\n",
       "     {'value': '2.3.3', 'count': 1},\n",
       "     {'value': '2.7.1', 'count': 253},\n",
       "     {'value': '2.7.2', 'count': 16},\n",
       "     {'value': '2.7.3', 'count': 784},\n",
       "     {'value': '3.27.2', 'count': 1},\n",
       "     {'value': '3.28.3', 'count': 3},\n",
       "     {'value': '3.28.4', 'count': 1},\n",
       "     {'value': '3.29.0', 'count': 5},\n",
       "     {'value': '3.30.0', 'count': 2},\n",
       "     {'value': '3.32.0', 'count': 1},\n",
       "     {'value': '3.35.2', 'count': 1},\n",
       "     {'value': '3.40.0', 'count': 3},\n",
       "     {'value': '3.40.1', 'count': 2},\n",
       "     {'value': '3.47.0', 'count': 2},\n",
       "     {'value': '3.49.0', 'count': 4},\n",
       "     {'value': '3.7.7', 'count': 1},\n",
       "     {'value': '4.2.13', 'count': 142},\n",
       "     {'value': '4.2.14', 'count': 358},\n",
       "     {'value': '4.3.0', 'count': 126},\n",
       "     {'value': '6.2.0', 'count': 1},\n",
       "     {'value': '7.0.0', 'count': 1},\n",
       "     {'value': '7.1.0', 'count': 1},\n",
       "     {'value': 'dev-data-apps-migration-7', 'count': 3},\n",
       "     {'value': 'latest', 'count': 15144},\n",
       "     {'value': 'v2.5.5', 'count': 4}]],\n",
       "   'attributed_value': {'keboola_jobs-keboola_jobs': [{'value': '0.10.2',\n",
       "      'count': 1517},\n",
       "     {'value': '0.3.5', 'count': 2},\n",
       "     {'value': '0.4.0', 'count': 1},\n",
       "     {'value': '0.9.0', 'count': 620},\n",
       "     {'value': '0.9.1', 'count': 522},\n",
       "     {'value': '0.9.2', 'count': 447},\n",
       "     {'value': '1.1.0', 'count': 1053},\n",
       "     {'value': '1.12.3', 'count': 474},\n",
       "     {'value': '1.13.0', 'count': 113},\n",
       "     {'value': '1.14.0', 'count': 7},\n",
       "     {'value': '1.15.0', 'count': 6},\n",
       "     {'value': '1.16.0', 'count': 30},\n",
       "     {'value': '1.16.1', 'count': 13},\n",
       "     {'value': '1.16.2', 'count': 42},\n",
       "     {'value': '1.17.0', 'count': 24},\n",
       "     {'value': '1.17.1', 'count': 11},\n",
       "     {'value': '1.18.0', 'count': 6},\n",
       "     {'value': '1.2.0', 'count': 1},\n",
       "     {'value': '1.2.1', 'count': 1},\n",
       "     {'value': '1.2.3', 'count': 70},\n",
       "     {'value': '1.2.4', 'count': 272},\n",
       "     {'value': '1.2.5', 'count': 28},\n",
       "     {'value': '1.2.6', 'count': 460},\n",
       "     {'value': '1.3.0', 'count': 228},\n",
       "     {'value': '1.3.4', 'count': 168},\n",
       "     {'value': '1.5.0', 'count': 1996},\n",
       "     {'value': '1.6.0', 'count': 300},\n",
       "     {'value': '1.9.5', 'count': 1},\n",
       "     {'value': '2.0.0-1.5.0', 'count': 114},\n",
       "     {'value': '2.0.1-1.5.0', 'count': 6},\n",
       "     {'value': '2.0.2-1.5.0', 'count': 378},\n",
       "     {'value': '2.0.3-1.5.0', 'count': 40},\n",
       "     {'value': '2.0.4-1.5.0', 'count': 345},\n",
       "     {'value': '2.3.3', 'count': 1},\n",
       "     {'value': '2.7.1', 'count': 253},\n",
       "     {'value': '2.7.2', 'count': 16},\n",
       "     {'value': '2.7.3', 'count': 784},\n",
       "     {'value': '3.27.2', 'count': 1},\n",
       "     {'value': '3.28.3', 'count': 3},\n",
       "     {'value': '3.28.4', 'count': 1},\n",
       "     {'value': '3.29.0', 'count': 5},\n",
       "     {'value': '3.30.0', 'count': 2},\n",
       "     {'value': '3.32.0', 'count': 1},\n",
       "     {'value': '3.35.2', 'count': 1},\n",
       "     {'value': '3.40.0', 'count': 3},\n",
       "     {'value': '3.40.1', 'count': 2},\n",
       "     {'value': '3.47.0', 'count': 2},\n",
       "     {'value': '3.49.0', 'count': 4},\n",
       "     {'value': '3.7.7', 'count': 1},\n",
       "     {'value': '4.2.13', 'count': 142},\n",
       "     {'value': '4.2.14', 'count': 358},\n",
       "     {'value': '4.3.0', 'count': 126},\n",
       "     {'value': '6.2.0', 'count': 1},\n",
       "     {'value': '7.0.0', 'count': 1},\n",
       "     {'value': '7.1.0', 'count': 1},\n",
       "     {'value': 'dev-data-apps-migration-7', 'count': 3},\n",
       "     {'value': 'latest', 'count': 15144},\n",
       "     {'value': 'v2.5.5', 'count': 4}]},\n",
       "   'details': {'metric_configuration': {'metric_name': 'column.value_counts',\n",
       "     'domain_kwargs': {'column': 'tag'},\n",
       "     'metric_value_kwargs': {'sort': 'value'}},\n",
       "    'num_batches': 1}},\n",
       "  '$parameter.column_distinct_values_count': {'value': [58],\n",
       "   'attributed_value': {'keboola_jobs-keboola_jobs': [58]},\n",
       "   'details': {'metric_configuration': {'metric_name': 'column.distinct_values.count',\n",
       "     'domain_kwargs': {'column': 'tag'},\n",
       "     'metric_value_kwargs': None},\n",
       "    'num_batches': 1}}},\n",
       " {\n",
       "   \"domain_type\": \"column\",\n",
       "   \"domain_kwargs\": {\n",
       "     \"column\": \"usage_data\"\n",
       "   },\n",
       "   \"details\": {\n",
       "     \"inferred_semantic_domain_type\": {\n",
       "       \"usage_data\": \"text\"\n",
       "     }\n",
       "   },\n",
       "   \"rule_name\": \"categorical_columns_rule\"\n",
       " }: {'$parameter.raw.column_value_counts': {'value': [value\n",
       "    []    26156\n",
       "    Name: count, dtype: int64],\n",
       "   'attributed_value': {'keboola_jobs-keboola_jobs': value\n",
       "    []    26156\n",
       "    Name: count, dtype: int64},\n",
       "   'details': {'metric_configuration': {'metric_name': 'column.value_counts',\n",
       "     'domain_kwargs': {'column': 'usage_data'},\n",
       "     'metric_value_kwargs': {'sort': 'value'}},\n",
       "    'num_batches': 1}},\n",
       "  '$parameter.raw.column_distinct_values_count': {'value': array([1]),\n",
       "   'attributed_value': {'keboola_jobs-keboola_jobs': array([1])},\n",
       "   'details': {'metric_configuration': {'metric_name': 'column.distinct_values.count',\n",
       "     'domain_kwargs': {'column': 'usage_data'},\n",
       "     'metric_value_kwargs': None},\n",
       "    'num_batches': 1}},\n",
       "  '$parameter.column_value_counts': {'value': [[{'value': '[]',\n",
       "      'count': 26156}]],\n",
       "   'attributed_value': {'keboola_jobs-keboola_jobs': [{'value': '[]',\n",
       "      'count': 26156}]},\n",
       "   'details': {'metric_configuration': {'metric_name': 'column.value_counts',\n",
       "     'domain_kwargs': {'column': 'usage_data'},\n",
       "     'metric_value_kwargs': {'sort': 'value'}},\n",
       "    'num_batches': 1}},\n",
       "  '$parameter.column_distinct_values_count': {'value': [1],\n",
       "   'attributed_value': {'keboola_jobs-keboola_jobs': [1]},\n",
       "   'details': {'metric_configuration': {'metric_name': 'column.distinct_values.count',\n",
       "     'domain_kwargs': {'column': 'usage_data'},\n",
       "     'metric_value_kwargs': None},\n",
       "    'num_batches': 1}}},\n",
       " {\n",
       "   \"domain_type\": \"column\",\n",
       "   \"domain_kwargs\": {\n",
       "     \"column\": \"isFinished\"\n",
       "   },\n",
       "   \"details\": {\n",
       "     \"inferred_semantic_domain_type\": {\n",
       "       \"isFinished\": \"numeric\"\n",
       "     }\n",
       "   },\n",
       "   \"rule_name\": \"categorical_columns_rule\"\n",
       " }: {'$parameter.raw.column_value_counts': {'value': [value\n",
       "    1    26156\n",
       "    Name: count, dtype: int64],\n",
       "   'attributed_value': {'keboola_jobs-keboola_jobs': value\n",
       "    1    26156\n",
       "    Name: count, dtype: int64},\n",
       "   'details': {'metric_configuration': {'metric_name': 'column.value_counts',\n",
       "     'domain_kwargs': {'column': 'isFinished'},\n",
       "     'metric_value_kwargs': {'sort': 'value'}},\n",
       "    'num_batches': 1}},\n",
       "  '$parameter.raw.column_distinct_values_count': {'value': array([1]),\n",
       "   'attributed_value': {'keboola_jobs-keboola_jobs': array([1])},\n",
       "   'details': {'metric_configuration': {'metric_name': 'column.distinct_values.count',\n",
       "     'domain_kwargs': {'column': 'isFinished'},\n",
       "     'metric_value_kwargs': None},\n",
       "    'num_batches': 1}},\n",
       "  '$parameter.column_value_counts': {'value': [[{'value': 1, 'count': 26156}]],\n",
       "   'attributed_value': {'keboola_jobs-keboola_jobs': [{'value': 1,\n",
       "      'count': 26156}]},\n",
       "   'details': {'metric_configuration': {'metric_name': 'column.value_counts',\n",
       "     'domain_kwargs': {'column': 'isFinished'},\n",
       "     'metric_value_kwargs': {'sort': 'value'}},\n",
       "    'num_batches': 1}},\n",
       "  '$parameter.column_distinct_values_count': {'value': [1],\n",
       "   'attributed_value': {'keboola_jobs-keboola_jobs': [1]},\n",
       "   'details': {'metric_configuration': {'metric_name': 'column.distinct_values.count',\n",
       "     'domain_kwargs': {'column': 'isFinished'},\n",
       "     'metric_value_kwargs': None},\n",
       "    'num_batches': 1}}},\n",
       " {\n",
       "   \"domain_type\": \"column\",\n",
       "   \"domain_kwargs\": {\n",
       "     \"column\": \"branchId\"\n",
       "   },\n",
       "   \"details\": {\n",
       "     \"inferred_semantic_domain_type\": {\n",
       "       \"branchId\": \"numeric\"\n",
       "     }\n",
       "   },\n",
       "   \"rule_name\": \"categorical_columns_rule\"\n",
       " }: {'$parameter.raw.column_value_counts': {'value': [Series([], Name: count, dtype: int64)],\n",
       "   'attributed_value': {'keboola_jobs-keboola_jobs': Series([], Name: count, dtype: int64)},\n",
       "   'details': {'metric_configuration': {'metric_name': 'column.value_counts',\n",
       "     'domain_kwargs': {'column': 'branchId'},\n",
       "     'metric_value_kwargs': {'sort': 'value'}},\n",
       "    'num_batches': 1}},\n",
       "  '$parameter.raw.column_distinct_values_count': {'value': array([0]),\n",
       "   'attributed_value': {'keboola_jobs-keboola_jobs': array([0])},\n",
       "   'details': {'metric_configuration': {'metric_name': 'column.distinct_values.count',\n",
       "     'domain_kwargs': {'column': 'branchId'},\n",
       "     'metric_value_kwargs': None},\n",
       "    'num_batches': 1}},\n",
       "  '$parameter.column_value_counts': {'value': [[]],\n",
       "   'attributed_value': {'keboola_jobs-keboola_jobs': []},\n",
       "   'details': {'metric_configuration': {'metric_name': 'column.value_counts',\n",
       "     'domain_kwargs': {'column': 'branchId'},\n",
       "     'metric_value_kwargs': {'sort': 'value'}},\n",
       "    'num_batches': 1}},\n",
       "  '$parameter.column_distinct_values_count': {'value': [0],\n",
       "   'attributed_value': {'keboola_jobs-keboola_jobs': [0]},\n",
       "   'details': {'metric_configuration': {'metric_name': 'column.distinct_values.count',\n",
       "     'domain_kwargs': {'column': 'branchId'},\n",
       "     'metric_value_kwargs': None},\n",
       "    'num_batches': 1}}},\n",
       " {\n",
       "   \"domain_type\": \"column\",\n",
       "   \"domain_kwargs\": {\n",
       "     \"column\": \"parallelism\"\n",
       "   },\n",
       "   \"details\": {\n",
       "     \"inferred_semantic_domain_type\": {\n",
       "       \"parallelism\": \"numeric\"\n",
       "     }\n",
       "   },\n",
       "   \"rule_name\": \"categorical_columns_rule\"\n",
       " }: {'$parameter.raw.column_value_counts': {'value': [Series([], Name: count, dtype: int64)],\n",
       "   'attributed_value': {'keboola_jobs-keboola_jobs': Series([], Name: count, dtype: int64)},\n",
       "   'details': {'metric_configuration': {'metric_name': 'column.value_counts',\n",
       "     'domain_kwargs': {'column': 'parallelism'},\n",
       "     'metric_value_kwargs': {'sort': 'value'}},\n",
       "    'num_batches': 1}},\n",
       "  '$parameter.raw.column_distinct_values_count': {'value': array([0]),\n",
       "   'attributed_value': {'keboola_jobs-keboola_jobs': array([0])},\n",
       "   'details': {'metric_configuration': {'metric_name': 'column.distinct_values.count',\n",
       "     'domain_kwargs': {'column': 'parallelism'},\n",
       "     'metric_value_kwargs': None},\n",
       "    'num_batches': 1}},\n",
       "  '$parameter.column_value_counts': {'value': [[]],\n",
       "   'attributed_value': {'keboola_jobs-keboola_jobs': []},\n",
       "   'details': {'metric_configuration': {'metric_name': 'column.value_counts',\n",
       "     'domain_kwargs': {'column': 'parallelism'},\n",
       "     'metric_value_kwargs': {'sort': 'value'}},\n",
       "    'num_batches': 1}},\n",
       "  '$parameter.column_distinct_values_count': {'value': [0],\n",
       "   'attributed_value': {'keboola_jobs-keboola_jobs': [0]},\n",
       "   'details': {'metric_configuration': {'metric_name': 'column.distinct_values.count',\n",
       "     'domain_kwargs': {'column': 'parallelism'},\n",
       "     'metric_value_kwargs': None},\n",
       "    'num_batches': 1}}},\n",
       " {\n",
       "   \"domain_type\": \"column\",\n",
       "   \"domain_kwargs\": {\n",
       "     \"column\": \"type\"\n",
       "   },\n",
       "   \"details\": {\n",
       "     \"inferred_semantic_domain_type\": {\n",
       "       \"type\": \"text\"\n",
       "     }\n",
       "   },\n",
       "   \"rule_name\": \"categorical_columns_rule\"\n",
       " }: {'$parameter.raw.column_value_counts': {'value': [value\n",
       "    orchestrationContainer     4459\n",
       "    phaseContainer            10685\n",
       "    standard                  11012\n",
       "    Name: count, dtype: int64],\n",
       "   'attributed_value': {'keboola_jobs-keboola_jobs': value\n",
       "    orchestrationContainer     4459\n",
       "    phaseContainer            10685\n",
       "    standard                  11012\n",
       "    Name: count, dtype: int64},\n",
       "   'details': {'metric_configuration': {'metric_name': 'column.value_counts',\n",
       "     'domain_kwargs': {'column': 'type'},\n",
       "     'metric_value_kwargs': {'sort': 'value'}},\n",
       "    'num_batches': 1}},\n",
       "  '$parameter.raw.column_distinct_values_count': {'value': array([3]),\n",
       "   'attributed_value': {'keboola_jobs-keboola_jobs': array([3])},\n",
       "   'details': {'metric_configuration': {'metric_name': 'column.distinct_values.count',\n",
       "     'domain_kwargs': {'column': 'type'},\n",
       "     'metric_value_kwargs': None},\n",
       "    'num_batches': 1}},\n",
       "  '$parameter.column_value_counts': {'value': [[{'value': 'orchestrationContainer',\n",
       "      'count': 4459},\n",
       "     {'value': 'phaseContainer', 'count': 10685},\n",
       "     {'value': 'standard', 'count': 11012}]],\n",
       "   'attributed_value': {'keboola_jobs-keboola_jobs': [{'value': 'orchestrationContainer',\n",
       "      'count': 4459},\n",
       "     {'value': 'phaseContainer', 'count': 10685},\n",
       "     {'value': 'standard', 'count': 11012}]},\n",
       "   'details': {'metric_configuration': {'metric_name': 'column.value_counts',\n",
       "     'domain_kwargs': {'column': 'type'},\n",
       "     'metric_value_kwargs': {'sort': 'value'}},\n",
       "    'num_batches': 1}},\n",
       "  '$parameter.column_distinct_values_count': {'value': [3],\n",
       "   'attributed_value': {'keboola_jobs-keboola_jobs': [3]},\n",
       "   'details': {'metric_configuration': {'metric_name': 'column.distinct_values.count',\n",
       "     'domain_kwargs': {'column': 'type'},\n",
       "     'metric_value_kwargs': None},\n",
       "    'num_batches': 1}}},\n",
       " {\n",
       "   \"domain_type\": \"column\",\n",
       "   \"domain_kwargs\": {\n",
       "     \"column\": \"variable_values_data\"\n",
       "   },\n",
       "   \"details\": {\n",
       "     \"inferred_semantic_domain_type\": {\n",
       "       \"variable_values_data\": \"text\"\n",
       "     }\n",
       "   },\n",
       "   \"rule_name\": \"categorical_columns_rule\"\n",
       " }: {'$parameter.raw.column_value_counts': {'value': [value\n",
       "    []    26156\n",
       "    Name: count, dtype: int64],\n",
       "   'attributed_value': {'keboola_jobs-keboola_jobs': value\n",
       "    []    26156\n",
       "    Name: count, dtype: int64},\n",
       "   'details': {'metric_configuration': {'metric_name': 'column.value_counts',\n",
       "     'domain_kwargs': {'column': 'variable_values_data'},\n",
       "     'metric_value_kwargs': {'sort': 'value'}},\n",
       "    'num_batches': 1}},\n",
       "  '$parameter.raw.column_distinct_values_count': {'value': array([1]),\n",
       "   'attributed_value': {'keboola_jobs-keboola_jobs': array([1])},\n",
       "   'details': {'metric_configuration': {'metric_name': 'column.distinct_values.count',\n",
       "     'domain_kwargs': {'column': 'variable_values_data'},\n",
       "     'metric_value_kwargs': None},\n",
       "    'num_batches': 1}},\n",
       "  '$parameter.column_value_counts': {'value': [[{'value': '[]',\n",
       "      'count': 26156}]],\n",
       "   'attributed_value': {'keboola_jobs-keboola_jobs': [{'value': '[]',\n",
       "      'count': 26156}]},\n",
       "   'details': {'metric_configuration': {'metric_name': 'column.value_counts',\n",
       "     'domain_kwargs': {'column': 'variable_values_data'},\n",
       "     'metric_value_kwargs': {'sort': 'value'}},\n",
       "    'num_batches': 1}},\n",
       "  '$parameter.column_distinct_values_count': {'value': [1],\n",
       "   'attributed_value': {'keboola_jobs-keboola_jobs': [1]},\n",
       "   'details': {'metric_configuration': {'metric_name': 'column.distinct_values.count',\n",
       "     'domain_kwargs': {'column': 'variable_values_data'},\n",
       "     'metric_value_kwargs': None},\n",
       "    'num_batches': 1}}},\n",
       " {\n",
       "   \"domain_type\": \"column\",\n",
       "   \"domain_kwargs\": {\n",
       "     \"column\": \"backend_context\"\n",
       "   },\n",
       "   \"details\": {\n",
       "     \"inferred_semantic_domain_type\": {\n",
       "       \"backend_context\": \"text\"\n",
       "     }\n",
       "   },\n",
       "   \"rule_name\": \"categorical_columns_rule\"\n",
       " }: {'$parameter.raw.column_value_counts': {'value': [value\n",
       "    7167-application          5\n",
       "    7167-extractor         2744\n",
       "    7167-other               28\n",
       "    7167-transformation    4885\n",
       "    7167-writer            3350\n",
       "    Name: count, dtype: int64],\n",
       "   'attributed_value': {'keboola_jobs-keboola_jobs': value\n",
       "    7167-application          5\n",
       "    7167-extractor         2744\n",
       "    7167-other               28\n",
       "    7167-transformation    4885\n",
       "    7167-writer            3350\n",
       "    Name: count, dtype: int64},\n",
       "   'details': {'metric_configuration': {'metric_name': 'column.value_counts',\n",
       "     'domain_kwargs': {'column': 'backend_context'},\n",
       "     'metric_value_kwargs': {'sort': 'value'}},\n",
       "    'num_batches': 1}},\n",
       "  '$parameter.raw.column_distinct_values_count': {'value': array([5]),\n",
       "   'attributed_value': {'keboola_jobs-keboola_jobs': array([5])},\n",
       "   'details': {'metric_configuration': {'metric_name': 'column.distinct_values.count',\n",
       "     'domain_kwargs': {'column': 'backend_context'},\n",
       "     'metric_value_kwargs': None},\n",
       "    'num_batches': 1}},\n",
       "  '$parameter.column_value_counts': {'value': [[{'value': '7167-application',\n",
       "      'count': 5},\n",
       "     {'value': '7167-extractor', 'count': 2744},\n",
       "     {'value': '7167-other', 'count': 28},\n",
       "     {'value': '7167-transformation', 'count': 4885},\n",
       "     {'value': '7167-writer', 'count': 3350}]],\n",
       "   'attributed_value': {'keboola_jobs-keboola_jobs': [{'value': '7167-application',\n",
       "      'count': 5},\n",
       "     {'value': '7167-extractor', 'count': 2744},\n",
       "     {'value': '7167-other', 'count': 28},\n",
       "     {'value': '7167-transformation', 'count': 4885},\n",
       "     {'value': '7167-writer', 'count': 3350}]},\n",
       "   'details': {'metric_configuration': {'metric_name': 'column.value_counts',\n",
       "     'domain_kwargs': {'column': 'backend_context'},\n",
       "     'metric_value_kwargs': {'sort': 'value'}},\n",
       "    'num_batches': 1}},\n",
       "  '$parameter.column_distinct_values_count': {'value': [5],\n",
       "   'attributed_value': {'keboola_jobs-keboola_jobs': [5]},\n",
       "   'details': {'metric_configuration': {'metric_name': 'column.distinct_values.count',\n",
       "     'domain_kwargs': {'column': 'backend_context'},\n",
       "     'metric_value_kwargs': None},\n",
       "    'num_batches': 1}}},\n",
       " {\n",
       "   \"domain_type\": \"column\",\n",
       "   \"domain_kwargs\": {\n",
       "     \"column\": \"behavior_on_error\"\n",
       "   },\n",
       "   \"details\": {\n",
       "     \"inferred_semantic_domain_type\": {\n",
       "       \"behavior_on_error\": \"text\"\n",
       "     }\n",
       "   },\n",
       "   \"rule_name\": \"categorical_columns_rule\"\n",
       " }: {'$parameter.raw.column_value_counts': {'value': [value\n",
       "    stop    10685\n",
       "    Name: count, dtype: int64],\n",
       "   'attributed_value': {'keboola_jobs-keboola_jobs': value\n",
       "    stop    10685\n",
       "    Name: count, dtype: int64},\n",
       "   'details': {'metric_configuration': {'metric_name': 'column.value_counts',\n",
       "     'domain_kwargs': {'column': 'behavior_on_error'},\n",
       "     'metric_value_kwargs': {'sort': 'value'}},\n",
       "    'num_batches': 1}},\n",
       "  '$parameter.raw.column_distinct_values_count': {'value': array([1]),\n",
       "   'attributed_value': {'keboola_jobs-keboola_jobs': array([1])},\n",
       "   'details': {'metric_configuration': {'metric_name': 'column.distinct_values.count',\n",
       "     'domain_kwargs': {'column': 'behavior_on_error'},\n",
       "     'metric_value_kwargs': None},\n",
       "    'num_batches': 1}},\n",
       "  '$parameter.column_value_counts': {'value': [[{'value': 'stop',\n",
       "      'count': 10685}]],\n",
       "   'attributed_value': {'keboola_jobs-keboola_jobs': [{'value': 'stop',\n",
       "      'count': 10685}]},\n",
       "   'details': {'metric_configuration': {'metric_name': 'column.value_counts',\n",
       "     'domain_kwargs': {'column': 'behavior_on_error'},\n",
       "     'metric_value_kwargs': {'sort': 'value'}},\n",
       "    'num_batches': 1}},\n",
       "  '$parameter.column_distinct_values_count': {'value': [1],\n",
       "   'attributed_value': {'keboola_jobs-keboola_jobs': [1]},\n",
       "   'details': {'metric_configuration': {'metric_name': 'column.distinct_values.count',\n",
       "     'domain_kwargs': {'column': 'behavior_on_error'},\n",
       "     'metric_value_kwargs': None},\n",
       "    'num_batches': 1}}},\n",
       " {\n",
       "   \"domain_type\": \"column\",\n",
       "   \"domain_kwargs\": {\n",
       "     \"column\": \"metrics_backend_size\"\n",
       "   },\n",
       "   \"details\": {\n",
       "     \"inferred_semantic_domain_type\": {\n",
       "       \"metrics_backend_size\": \"text\"\n",
       "     }\n",
       "   },\n",
       "   \"rule_name\": \"categorical_columns_rule\"\n",
       " }: {'$parameter.raw.column_value_counts': {'value': [value\n",
       "    medium       2\n",
       "    small     4715\n",
       "    Name: count, dtype: int64],\n",
       "   'attributed_value': {'keboola_jobs-keboola_jobs': value\n",
       "    medium       2\n",
       "    small     4715\n",
       "    Name: count, dtype: int64},\n",
       "   'details': {'metric_configuration': {'metric_name': 'column.value_counts',\n",
       "     'domain_kwargs': {'column': 'metrics_backend_size'},\n",
       "     'metric_value_kwargs': {'sort': 'value'}},\n",
       "    'num_batches': 1}},\n",
       "  '$parameter.raw.column_distinct_values_count': {'value': array([2]),\n",
       "   'attributed_value': {'keboola_jobs-keboola_jobs': array([2])},\n",
       "   'details': {'metric_configuration': {'metric_name': 'column.distinct_values.count',\n",
       "     'domain_kwargs': {'column': 'metrics_backend_size'},\n",
       "     'metric_value_kwargs': None},\n",
       "    'num_batches': 1}},\n",
       "  '$parameter.column_value_counts': {'value': [[{'value': 'medium',\n",
       "      'count': 2},\n",
       "     {'value': 'small', 'count': 4715}]],\n",
       "   'attributed_value': {'keboola_jobs-keboola_jobs': [{'value': 'medium',\n",
       "      'count': 2},\n",
       "     {'value': 'small', 'count': 4715}]},\n",
       "   'details': {'metric_configuration': {'metric_name': 'column.value_counts',\n",
       "     'domain_kwargs': {'column': 'metrics_backend_size'},\n",
       "     'metric_value_kwargs': {'sort': 'value'}},\n",
       "    'num_batches': 1}},\n",
       "  '$parameter.column_distinct_values_count': {'value': [2],\n",
       "   'attributed_value': {'keboola_jobs-keboola_jobs': [2]},\n",
       "   'details': {'metric_configuration': {'metric_name': 'column.distinct_values.count',\n",
       "     'domain_kwargs': {'column': 'metrics_backend_size'},\n",
       "     'metric_value_kwargs': None},\n",
       "    'num_batches': 1}}},\n",
       " {\n",
       "   \"domain_type\": \"column\",\n",
       "   \"domain_kwargs\": {\n",
       "     \"column\": \"metrics_backend_context\"\n",
       "   },\n",
       "   \"details\": {\n",
       "     \"inferred_semantic_domain_type\": {\n",
       "       \"metrics_backend_context\": \"text\"\n",
       "     }\n",
       "   },\n",
       "   \"rule_name\": \"categorical_columns_rule\"\n",
       " }: {'$parameter.raw.column_value_counts': {'value': [value\n",
       "    7167-application          5\n",
       "    7167-extractor         2744\n",
       "    7167-other               28\n",
       "    7167-transformation    4884\n",
       "    7167-writer            3350\n",
       "    Name: count, dtype: int64],\n",
       "   'attributed_value': {'keboola_jobs-keboola_jobs': value\n",
       "    7167-application          5\n",
       "    7167-extractor         2744\n",
       "    7167-other               28\n",
       "    7167-transformation    4884\n",
       "    7167-writer            3350\n",
       "    Name: count, dtype: int64},\n",
       "   'details': {'metric_configuration': {'metric_name': 'column.value_counts',\n",
       "     'domain_kwargs': {'column': 'metrics_backend_context'},\n",
       "     'metric_value_kwargs': {'sort': 'value'}},\n",
       "    'num_batches': 1}},\n",
       "  '$parameter.raw.column_distinct_values_count': {'value': array([5]),\n",
       "   'attributed_value': {'keboola_jobs-keboola_jobs': array([5])},\n",
       "   'details': {'metric_configuration': {'metric_name': 'column.distinct_values.count',\n",
       "     'domain_kwargs': {'column': 'metrics_backend_context'},\n",
       "     'metric_value_kwargs': None},\n",
       "    'num_batches': 1}},\n",
       "  '$parameter.column_value_counts': {'value': [[{'value': '7167-application',\n",
       "      'count': 5},\n",
       "     {'value': '7167-extractor', 'count': 2744},\n",
       "     {'value': '7167-other', 'count': 28},\n",
       "     {'value': '7167-transformation', 'count': 4884},\n",
       "     {'value': '7167-writer', 'count': 3350}]],\n",
       "   'attributed_value': {'keboola_jobs-keboola_jobs': [{'value': '7167-application',\n",
       "      'count': 5},\n",
       "     {'value': '7167-extractor', 'count': 2744},\n",
       "     {'value': '7167-other', 'count': 28},\n",
       "     {'value': '7167-transformation', 'count': 4884},\n",
       "     {'value': '7167-writer', 'count': 3350}]},\n",
       "   'details': {'metric_configuration': {'metric_name': 'column.value_counts',\n",
       "     'domain_kwargs': {'column': 'metrics_backend_context'},\n",
       "     'metric_value_kwargs': {'sort': 'value'}},\n",
       "    'num_batches': 1}},\n",
       "  '$parameter.column_distinct_values_count': {'value': [5],\n",
       "   'attributed_value': {'keboola_jobs-keboola_jobs': [5]},\n",
       "   'details': {'metric_configuration': {'metric_name': 'column.distinct_values.count',\n",
       "     'domain_kwargs': {'column': 'metrics_backend_context'},\n",
       "     'metric_value_kwargs': None},\n",
       "    'num_batches': 1}}},\n",
       " {\n",
       "   \"domain_type\": \"column\",\n",
       "   \"domain_kwargs\": {\n",
       "     \"column\": \"metrics_backend_container_size\"\n",
       "   },\n",
       "   \"details\": {\n",
       "     \"inferred_semantic_domain_type\": {\n",
       "       \"metrics_backend_container_size\": \"text\"\n",
       "     }\n",
       "   },\n",
       "   \"rule_name\": \"categorical_columns_rule\"\n",
       " }: {'$parameter.raw.column_value_counts': {'value': [value\n",
       "    medium       11\n",
       "    small     11000\n",
       "    Name: count, dtype: int64],\n",
       "   'attributed_value': {'keboola_jobs-keboola_jobs': value\n",
       "    medium       11\n",
       "    small     11000\n",
       "    Name: count, dtype: int64},\n",
       "   'details': {'metric_configuration': {'metric_name': 'column.value_counts',\n",
       "     'domain_kwargs': {'column': 'metrics_backend_container_size'},\n",
       "     'metric_value_kwargs': {'sort': 'value'}},\n",
       "    'num_batches': 1}},\n",
       "  '$parameter.raw.column_distinct_values_count': {'value': array([2]),\n",
       "   'attributed_value': {'keboola_jobs-keboola_jobs': array([2])},\n",
       "   'details': {'metric_configuration': {'metric_name': 'column.distinct_values.count',\n",
       "     'domain_kwargs': {'column': 'metrics_backend_container_size'},\n",
       "     'metric_value_kwargs': None},\n",
       "    'num_batches': 1}},\n",
       "  '$parameter.column_value_counts': {'value': [[{'value': 'medium',\n",
       "      'count': 11},\n",
       "     {'value': 'small', 'count': 11000}]],\n",
       "   'attributed_value': {'keboola_jobs-keboola_jobs': [{'value': 'medium',\n",
       "      'count': 11},\n",
       "     {'value': 'small', 'count': 11000}]},\n",
       "   'details': {'metric_configuration': {'metric_name': 'column.value_counts',\n",
       "     'domain_kwargs': {'column': 'metrics_backend_container_size'},\n",
       "     'metric_value_kwargs': {'sort': 'value'}},\n",
       "    'num_batches': 1}},\n",
       "  '$parameter.column_distinct_values_count': {'value': [2],\n",
       "   'attributed_value': {'keboola_jobs-keboola_jobs': [2]},\n",
       "   'details': {'metric_configuration': {'metric_name': 'column.distinct_values.count',\n",
       "     'domain_kwargs': {'column': 'metrics_backend_container_size'},\n",
       "     'metric_value_kwargs': None},\n",
       "    'num_batches': 1}}},\n",
       " {\n",
       "   \"domain_type\": \"column\",\n",
       "   \"domain_kwargs\": {\n",
       "     \"column\": \"result_images\"\n",
       "   },\n",
       "   \"details\": {\n",
       "     \"inferred_semantic_domain_type\": {\n",
       "       \"result_images\": \"text\"\n",
       "     }\n",
       "   },\n",
       "   \"rule_name\": \"categorical_columns_rule\"\n",
       " }: {'$parameter.raw.column_value_counts': {'value': [value\n",
       "    [[{\"id\":\"developer-portal-v2\\/ex-generic-v2:3.7.7\",\"digests\":[\"developer-portal-v2\\/ex-generic-v2@sha256:94cfffd999f111f40c6c92773001aedef142fdaa7601a5bb511949c6ae66e37d\"]}]]                                          1\n",
       "    [[{\"id\":\"developer-portal-v2\\/ex-generic-v2:4.2.13\",\"digests\":[\"developer-portal-v2\\/ex-generic-v2@sha256:134c1527fdd661a6dde9eea998bc774f32d93d4a3b72c680a23c7186a09f5678\"]}]]                                       142\n",
       "    [[{\"id\":\"developer-portal-v2\\/ex-generic-v2:4.2.14\",\"digests\":[\"developer-portal-v2\\/ex-generic-v2@sha256:a7ff9308c9a892f16b9187a9664ace8af8151c54e6b6351e64cdec784006c571\"]}]]                                       358\n",
       "    [[{\"id\":\"developer-portal-v2\\/ex-generic-v2:4.3.0\",\"digests\":[\"developer-portal-v2\\/ex-generic-v2@sha256:9bfdcc6c9a994c20b9550f017bc2322cb5860f372202131458062ea44a2d189d\"]}]]                                        126\n",
       "    [[{\"id\":\"developer-portal-v2\\/kds-team.ex-google-translation:0.3.5\",\"digests\":[\"developer-portal-v2\\/kds-team.ex-google-translation@sha256:4b97220b86a980a1627a87fc5a42b1dfed15fa684bd5eafa8c90044fab5d2b89\"]}]]        2\n",
       "                                                                                                                                                                                                                        ...  \n",
       "    [[{\"id\":\"developer-portal-v2\\/keboola.wr-db-pgsql:1.9.5\",\"digests\":[\"developer-portal-v2\\/keboola.wr-db-pgsql@sha256:8203a59d35ab40aa873aeba0a94c0c0a63fb4652a8b9f7b75c4629472efe66b6\"]}]]                              1\n",
       "    [[{\"id\":\"developer-portal-v2\\/keboola.wr-google-sheets:1.5.0\",\"digests\":[\"developer-portal-v2\\/keboola.wr-google-sheets@sha256:5a7f43bec35408696fb310019f6cecafd1c8fa154439f298d5339532a4f64e12\"]}]]                 1996\n",
       "    [[{\"id\":\"developer-portal-v2\\/keboola.wr-google-sheets:1.6.0\",\"digests\":[\"developer-portal-v2\\/keboola.wr-google-sheets@sha256:4309167a615274802a1b1d2bb221120dfad07586dd893a507481bc32dc9b9fa0\"]}]]                  300\n",
       "    [[{\"id\":\"developer-portal-v2\\/keboola.wr-openlineage:1.1.0\",\"digests\":[\"developer-portal-v2\\/keboola.wr-openlineage@sha256:06ada18ef1553f302ef68f19d4c7de1ea021c639fab30c75a5f7d35728d6dd3f\"]}]]                     1053\n",
       "    []                                                                                                                                                                                                                  15146\n",
       "    Name: count, Length: 61, dtype: int64],\n",
       "   'attributed_value': {'keboola_jobs-keboola_jobs': value\n",
       "    [[{\"id\":\"developer-portal-v2\\/ex-generic-v2:3.7.7\",\"digests\":[\"developer-portal-v2\\/ex-generic-v2@sha256:94cfffd999f111f40c6c92773001aedef142fdaa7601a5bb511949c6ae66e37d\"]}]]                                          1\n",
       "    [[{\"id\":\"developer-portal-v2\\/ex-generic-v2:4.2.13\",\"digests\":[\"developer-portal-v2\\/ex-generic-v2@sha256:134c1527fdd661a6dde9eea998bc774f32d93d4a3b72c680a23c7186a09f5678\"]}]]                                       142\n",
       "    [[{\"id\":\"developer-portal-v2\\/ex-generic-v2:4.2.14\",\"digests\":[\"developer-portal-v2\\/ex-generic-v2@sha256:a7ff9308c9a892f16b9187a9664ace8af8151c54e6b6351e64cdec784006c571\"]}]]                                       358\n",
       "    [[{\"id\":\"developer-portal-v2\\/ex-generic-v2:4.3.0\",\"digests\":[\"developer-portal-v2\\/ex-generic-v2@sha256:9bfdcc6c9a994c20b9550f017bc2322cb5860f372202131458062ea44a2d189d\"]}]]                                        126\n",
       "    [[{\"id\":\"developer-portal-v2\\/kds-team.ex-google-translation:0.3.5\",\"digests\":[\"developer-portal-v2\\/kds-team.ex-google-translation@sha256:4b97220b86a980a1627a87fc5a42b1dfed15fa684bd5eafa8c90044fab5d2b89\"]}]]        2\n",
       "                                                                                                                                                                                                                        ...  \n",
       "    [[{\"id\":\"developer-portal-v2\\/keboola.wr-db-pgsql:1.9.5\",\"digests\":[\"developer-portal-v2\\/keboola.wr-db-pgsql@sha256:8203a59d35ab40aa873aeba0a94c0c0a63fb4652a8b9f7b75c4629472efe66b6\"]}]]                              1\n",
       "    [[{\"id\":\"developer-portal-v2\\/keboola.wr-google-sheets:1.5.0\",\"digests\":[\"developer-portal-v2\\/keboola.wr-google-sheets@sha256:5a7f43bec35408696fb310019f6cecafd1c8fa154439f298d5339532a4f64e12\"]}]]                 1996\n",
       "    [[{\"id\":\"developer-portal-v2\\/keboola.wr-google-sheets:1.6.0\",\"digests\":[\"developer-portal-v2\\/keboola.wr-google-sheets@sha256:4309167a615274802a1b1d2bb221120dfad07586dd893a507481bc32dc9b9fa0\"]}]]                  300\n",
       "    [[{\"id\":\"developer-portal-v2\\/keboola.wr-openlineage:1.1.0\",\"digests\":[\"developer-portal-v2\\/keboola.wr-openlineage@sha256:06ada18ef1553f302ef68f19d4c7de1ea021c639fab30c75a5f7d35728d6dd3f\"]}]]                     1053\n",
       "    []                                                                                                                                                                                                                  15146\n",
       "    Name: count, Length: 61, dtype: int64},\n",
       "   'details': {'metric_configuration': {'metric_name': 'column.value_counts',\n",
       "     'domain_kwargs': {'column': 'result_images'},\n",
       "     'metric_value_kwargs': {'sort': 'value'}},\n",
       "    'num_batches': 1}},\n",
       "  '$parameter.raw.column_distinct_values_count': {'value': array([61]),\n",
       "   'attributed_value': {'keboola_jobs-keboola_jobs': array([61])},\n",
       "   'details': {'metric_configuration': {'metric_name': 'column.distinct_values.count',\n",
       "     'domain_kwargs': {'column': 'result_images'},\n",
       "     'metric_value_kwargs': None},\n",
       "    'num_batches': 1}},\n",
       "  '$parameter.column_value_counts': {'value': [[{'value': '[[{\"id\":\"developer-portal-v2\\\\/ex-generic-v2:3.7.7\",\"digests\":[\"developer-portal-v2\\\\/ex-generic-v2@sha256:94cfffd999f111f40c6c92773001aedef142fdaa7601a5bb511949c6ae66e37d\"]}]]',\n",
       "      'count': 1},\n",
       "     {'value': '[[{\"id\":\"developer-portal-v2\\\\/ex-generic-v2:4.2.13\",\"digests\":[\"developer-portal-v2\\\\/ex-generic-v2@sha256:134c1527fdd661a6dde9eea998bc774f32d93d4a3b72c680a23c7186a09f5678\"]}]]',\n",
       "      'count': 142},\n",
       "     {'value': '[[{\"id\":\"developer-portal-v2\\\\/ex-generic-v2:4.2.14\",\"digests\":[\"developer-portal-v2\\\\/ex-generic-v2@sha256:a7ff9308c9a892f16b9187a9664ace8af8151c54e6b6351e64cdec784006c571\"]}]]',\n",
       "      'count': 358},\n",
       "     {'value': '[[{\"id\":\"developer-portal-v2\\\\/ex-generic-v2:4.3.0\",\"digests\":[\"developer-portal-v2\\\\/ex-generic-v2@sha256:9bfdcc6c9a994c20b9550f017bc2322cb5860f372202131458062ea44a2d189d\"]}]]',\n",
       "      'count': 126},\n",
       "     {'value': '[[{\"id\":\"developer-portal-v2\\\\/kds-team.ex-google-translation:0.3.5\",\"digests\":[\"developer-portal-v2\\\\/kds-team.ex-google-translation@sha256:4b97220b86a980a1627a87fc5a42b1dfed15fa684bd5eafa8c90044fab5d2b89\"]}]]',\n",
       "      'count': 2},\n",
       "     {'value': '[[{\"id\":\"developer-portal-v2\\\\/kds-team.ex-jira:1.2.3\",\"digests\":[\"developer-portal-v2\\\\/kds-team.ex-jira@sha256:e7cbf98b0d1e3d55393564a5a5b59e1140d20d55074d41ccfad6ed7d87c12eed\"]}]]',\n",
       "      'count': 70},\n",
       "     {'value': '[[{\"id\":\"developer-portal-v2\\\\/kds-team.ex-jira:1.2.4\",\"digests\":[\"developer-portal-v2\\\\/kds-team.ex-jira@sha256:93e23e801f3caad89e7a4744212ca6a960db6ed5366657b875942a3501c8613b\"]}]]',\n",
       "      'count': 272},\n",
       "     {'value': '[[{\"id\":\"developer-portal-v2\\\\/kds-team.ex-jira:1.2.5\",\"digests\":[\"developer-portal-v2\\\\/kds-team.ex-jira@sha256:7a91b25768e6cc075098449008901991e0e1948fb6727e752077d86d491c67b9\"]}]]',\n",
       "      'count': 28},\n",
       "     {'value': '[[{\"id\":\"developer-portal-v2\\\\/kds-team.ex-jira:1.2.6\",\"digests\":[\"developer-portal-v2\\\\/kds-team.ex-jira@sha256:5d5e6c2c6c4abffee25a40c03fedd8a1233ac6f811a211565fb790d1f8683f2f\"]}]]',\n",
       "      'count': 460},\n",
       "     {'value': '[[{\"id\":\"developer-portal-v2\\\\/kds-team.ex-jira:1.3.0\",\"digests\":[\"developer-portal-v2\\\\/kds-team.ex-jira@sha256:fcbc76e0efdafe423219327403a938f6b962eed2d2717cefbc21b749caf7e21e\"]}]]',\n",
       "      'count': 226},\n",
       "     {'value': '[[{\"id\":\"developer-portal-v2\\\\/kds-team.ex-kbc-project-metadata-v2:2.3.3\",\"digests\":[\"developer-portal-v2\\\\/kds-team.ex-kbc-project-metadata-v2@sha256:83c4daec12aca92dbee92488e2068f08af5cec60006c264f3243fa905dde34a0\"]}]]',\n",
       "      'count': 1},\n",
       "     {'value': '[[{\"id\":\"developer-portal-v2\\\\/keboola.dbt-transformation:1.12.3\",\"digests\":[\"developer-portal-v2\\\\/keboola.dbt-transformation@sha256:bbb49fc4b0088f14c090400b8300c893a8120a705ff13fea5874ad288b92938d\"]}]]',\n",
       "      'count': 474},\n",
       "     {'value': '[[{\"id\":\"developer-portal-v2\\\\/keboola.dbt-transformation:1.13.0\",\"digests\":[\"developer-portal-v2\\\\/keboola.dbt-transformation@sha256:f712ffc1a10c6171a9075e5c39acb2738d328f28302755baa49dce10b7192453\"]}]]',\n",
       "      'count': 113},\n",
       "     {'value': '[[{\"id\":\"developer-portal-v2\\\\/keboola.dbt-transformation:1.14.0\",\"digests\":[\"developer-portal-v2\\\\/keboola.dbt-transformation@sha256:2d2ffb40ea3e417ddd38296c9824a260c2f3b5624c4686c7850296a4c2c465b0\"]}]]',\n",
       "      'count': 7},\n",
       "     {'value': '[[{\"id\":\"developer-portal-v2\\\\/keboola.dbt-transformation:1.15.0\",\"digests\":[\"developer-portal-v2\\\\/keboola.dbt-transformation@sha256:2ace2e6a90f45f43762137a10c3198471b898090fe12d69ce4970bd3f84b5119\"]}]]',\n",
       "      'count': 6},\n",
       "     {'value': '[[{\"id\":\"developer-portal-v2\\\\/keboola.dbt-transformation:1.16.0\",\"digests\":[\"developer-portal-v2\\\\/keboola.dbt-transformation@sha256:58221407131cc20c78fc5274249cd34b4f1961d32a61afaa56120b2407cf93af\"]}]]',\n",
       "      'count': 30},\n",
       "     {'value': '[[{\"id\":\"developer-portal-v2\\\\/keboola.dbt-transformation:1.16.1\",\"digests\":[\"developer-portal-v2\\\\/keboola.dbt-transformation@sha256:f743de3a333161e4102c513523c2793ce8ed749508a7f8b90cae91ee8c0b94fe\"]}]]',\n",
       "      'count': 13},\n",
       "     {'value': '[[{\"id\":\"developer-portal-v2\\\\/keboola.dbt-transformation:1.16.2\",\"digests\":[\"developer-portal-v2\\\\/keboola.dbt-transformation@sha256:12ce906db842d74dc7e50de72859a938a6b64017688456621289df0eadb631d2\"]}]]',\n",
       "      'count': 42},\n",
       "     {'value': '[[{\"id\":\"developer-portal-v2\\\\/keboola.dbt-transformation:1.17.0\",\"digests\":[\"developer-portal-v2\\\\/keboola.dbt-transformation@sha256:981ea4d753549c25dc7ae6676748d7b41d27650c6c5d1d147034c0a761282026\"]}]]',\n",
       "      'count': 24},\n",
       "     {'value': '[[{\"id\":\"developer-portal-v2\\\\/keboola.dbt-transformation:1.17.1\",\"digests\":[\"developer-portal-v2\\\\/keboola.dbt-transformation@sha256:71a8d441fc226254298b602e78362d94490a91be4b1c6861ac4d09131179d682\"]}]]',\n",
       "      'count': 11},\n",
       "     {'value': '[[{\"id\":\"developer-portal-v2\\\\/keboola.dbt-transformation:1.18.0\",\"digests\":[\"developer-portal-v2\\\\/keboola.dbt-transformation@sha256:8841d15c79db3f62d3a04efb57f3122265d606cbe1d993ad20ce57d5c8db7bec\"]}]]',\n",
       "      'count': 6},\n",
       "     {'value': '[[{\"id\":\"developer-portal-v2\\\\/keboola.dbt-transformation:2.0.0-1.5.0\",\"digests\":[\"developer-portal-v2\\\\/keboola.dbt-transformation@sha256:3544d19821f78bb74f79c57aba5c4155705314fe2575990e09933e6efe93ce5b\"]}]]',\n",
       "      'count': 114},\n",
       "     {'value': '[[{\"id\":\"developer-portal-v2\\\\/keboola.dbt-transformation:2.0.1-1.5.0\",\"digests\":[\"developer-portal-v2\\\\/keboola.dbt-transformation@sha256:531c37b11711796ca7dfb7ee26e9de42e9df11c9c302950ca3eb9baf6f66f527\"]}]]',\n",
       "      'count': 6},\n",
       "     {'value': '[[{\"id\":\"developer-portal-v2\\\\/keboola.dbt-transformation:2.0.2-1.5.0\",\"digests\":[\"developer-portal-v2\\\\/keboola.dbt-transformation@sha256:d8798f8fbbfe7b66254af877f6010e6c3a066efec9148c8a0ea6c33f26ca6d62\"]}]]',\n",
       "      'count': 378},\n",
       "     {'value': '[[{\"id\":\"developer-portal-v2\\\\/keboola.dbt-transformation:2.0.3-1.5.0\",\"digests\":[\"developer-portal-v2\\\\/keboola.dbt-transformation@sha256:a2419a6a0451cd61207378cdc7be5ab9396aadcb3dacc810c541d1934fced998\"]}]]',\n",
       "      'count': 40},\n",
       "     {'value': '[[{\"id\":\"developer-portal-v2\\\\/keboola.dbt-transformation:2.0.4-1.5.0\",\"digests\":[\"developer-portal-v2\\\\/keboola.dbt-transformation@sha256:6ee180b534fd6b72fbc699156a34c4de1cc0d16df045f9cb9c7b45a992777e1f\"]}]]',\n",
       "      'count': 345},\n",
       "     {'value': '[[{\"id\":\"developer-portal-v2\\\\/keboola.ex-db-mysql:7.0.0\",\"digests\":[\"developer-portal-v2\\\\/keboola.ex-db-mysql@sha256:52a70bbf3280b324e40a04d024f333e3bbebd9dd0be85d2ce661c898b6317b09\"]}]]',\n",
       "      'count': 1},\n",
       "     {'value': '[[{\"id\":\"developer-portal-v2\\\\/keboola.ex-db-mysql:7.1.0\",\"digests\":[\"developer-portal-v2\\\\/keboola.ex-db-mysql@sha256:dd55198010b3fec23b1f8122be3bbbe8a40c2831ad72e26f3e65767cd0ab648c\"]}]]',\n",
       "      'count': 1},\n",
       "     {'value': '[[{\"id\":\"developer-portal-v2\\\\/keboola.ex-db-snowflake:6.2.0\",\"digests\":[\"developer-portal-v2\\\\/keboola.ex-db-snowflake@sha256:d4a40119827f746fb6eb792057a5b1958207684dc1e4cf6a4c5012541aff99ef\"]}]]',\n",
       "      'count': 1},\n",
       "     {'value': '[[{\"id\":\"developer-portal-v2\\\\/keboola.ex-google-drive:2.7.1\",\"digests\":[\"developer-portal-v2\\\\/keboola.ex-google-drive@sha256:5e0773f7aa9cfb0342667584d69c837c9307b897f236381b68eaeadeadfb24cf\"]}]]',\n",
       "      'count': 253},\n",
       "     {'value': '[[{\"id\":\"developer-portal-v2\\\\/keboola.ex-google-drive:2.7.2\",\"digests\":[\"developer-portal-v2\\\\/keboola.ex-google-drive@sha256:7fefc44b350020f35769a15fadba09f7c75b4f6d93afdbf8191e1e4a2d3154e5\"]}]]',\n",
       "      'count': 16},\n",
       "     {'value': '[[{\"id\":\"developer-portal-v2\\\\/keboola.ex-google-drive:2.7.3\",\"digests\":[\"developer-portal-v2\\\\/keboola.ex-google-drive@sha256:6cbbe414ad84c372f8d78ded8c596251e34d7453beb2366bbe077137a07d8dbd\"]}]]',\n",
       "      'count': 784},\n",
       "     {'value': '[[{\"id\":\"developer-portal-v2\\\\/keboola.ex-http:v2.5.5\",\"digests\":[\"developer-portal-v2\\\\/keboola.ex-http@sha256:55b3d56f0d05215c117e61db378b6b8559ae61630d550cc9335abeed05803050\"]},{\"id\":\"developer-portal-v2\\\\/keboola.processor-decompress:v4.3.0\",\"digests\":[\"developer-portal-v2\\\\/keboola.processor-decompress@sha256:12000010ac552e7286a37b33cdd27f0c6620779265c09fc29d96cf4507f2ae3f\"]},{\"id\":\"developer-portal-v2\\\\/keboola.processor-move-files:v3.1.0\",\"digests\":[\"developer-portal-v2\\\\/keboola.processor-move-files@sha256:e9f9e67911cef9af68cebace7d14a7217af483a568669d9d2fd9015da97de637\"]},{\"id\":\"developer-portal-v2\\\\/keboola.processor-flatten-folders:v1.2.0\",\"digests\":[\"developer-portal-v2\\\\/keboola.processor-flatten-folders@sha256:069d609f7f9ea49a3119ab50c4664a017dfa231adbd9497dfe1f931e3e1a1d71\"]},{\"id\":\"developer-portal-v2\\\\/keboola.processor-create-manifest:v0.4.2\",\"digests\":[\"developer-portal-v2\\\\/keboola.processor-create-manifest@sha256:13acf59f48df4244a8d9ea571c961bb2ecfb99667f6f46148cdd95d572359b67\"]},{\"id\":\"developer-portal-v2\\\\/keboola.processor-skip-lines:2.2.0\",\"digests\":[\"developer-portal-v2\\\\/keboola.processor-skip-lines@sha256:b30d0291a5d098a3bc86cfe1094c9f580566c97f184979620141f01532c1d21e\"]}]]',\n",
       "      'count': 2},\n",
       "     {'value': '[[{\"id\":\"developer-portal-v2\\\\/keboola.ex-http:v2.5.5\",\"digests\":[\"developer-portal-v2\\\\/keboola.ex-http@sha256:55b3d56f0d05215c117e61db378b6b8559ae61630d550cc9335abeed05803050\"]},{\"id\":\"developer-portal-v2\\\\/keboola.processor-decompress:v4.3.0\",\"digests\":[\"developer-portal-v2\\\\/keboola.processor-decompress@sha256:12000010ac552e7286a37b33cdd27f0c6620779265c09fc29d96cf4507f2ae3f\"]},{\"id\":\"developer-portal-v2\\\\/keboola.processor-move-files:v3.1.0\",\"digests\":[\"developer-portal-v2\\\\/keboola.processor-move-files@sha256:e9f9e67911cef9af68cebace7d14a7217af483a568669d9d2fd9015da97de637\"]},{\"id\":\"developer-portal-v2\\\\/keboola.processor-flatten-folders:v1.2.0\",\"digests\":[\"developer-portal-v2\\\\/keboola.processor-flatten-folders@sha256:069d609f7f9ea49a3119ab50c4664a017dfa231adbd9497dfe1f931e3e1a1d71\"]},{\"id\":\"developer-portal-v2\\\\/keboola.processor-iconv:4.0.3\",\"digests\":[\"developer-portal-v2\\\\/keboola.processor-iconv@sha256:3bd3ac3b2366120cd41f3c0c8b390a79ba1f0fa704be1bc102173c7720efcab6\"]},{\"id\":\"developer-portal-v2\\\\/keboola.processor-create-manifest:v0.4.2\",\"digests\":[\"developer-portal-v2\\\\/keboola.processor-create-manifest@sha256:13acf59f48df4244a8d9ea571c961bb2ecfb99667f6f46148cdd95d572359b67\"]},{\"id\":\"developer-portal-v2\\\\/keboola.processor-skip-lines:2.2.0\",\"digests\":[\"developer-portal-v2\\\\/keboola.processor-skip-lines@sha256:b30d0291a5d098a3bc86cfe1094c9f580566c97f184979620141f01532c1d21e\"]}]]',\n",
       "      'count': 1},\n",
       "     {'value': '[[{\"id\":\"developer-portal-v2\\\\/keboola.ex-http:v2.5.5\",\"digests\":[\"developer-portal-v2\\\\/keboola.ex-http@sha256:55b3d56f0d05215c117e61db378b6b8559ae61630d550cc9335abeed05803050\"]}]]',\n",
       "      'count': 1},\n",
       "     {'value': '[[{\"id\":\"developer-portal-v2\\\\/keboola.no-code-dbt-transformation:1.2.0\",\"digests\":[\"developer-portal-v2\\\\/keboola.no-code-dbt-transformation@sha256:4222394982d8482ac92f236de8c5f723743920a8cfc6862ed886ab34bb0430b6\"]}]]',\n",
       "      'count': 1},\n",
       "     {'value': '[[{\"id\":\"developer-portal-v2\\\\/keboola.no-code-dbt-transformation:1.2.1\",\"digests\":[\"developer-portal-v2\\\\/keboola.no-code-dbt-transformation@sha256:a859003e50eff0aa1eb9523830eeddeaee3f60909308468ada4268a91ef5ae9e\"]}]]',\n",
       "      'count': 1},\n",
       "     {'value': '[[{\"id\":\"developer-portal-v2\\\\/keboola.python-transformation-v2:1.3.4\",\"digests\":[\"developer-portal-v2\\\\/keboola.python-transformation-v2@sha256:75cee6c754fc10960c010a888ef7fec4fc8493d9d9c2b2b98514a3b8b480eb10\"]}]]',\n",
       "      'count': 166},\n",
       "     {'value': '[[{\"id\":\"developer-portal-v2\\\\/keboola.sandboxes:3.27.2\",\"digests\":[\"developer-portal-v2\\\\/keboola.sandboxes@sha256:29717c424c175c3e27285c0ee7b98f2cb49251647046ae44992308fa13b69c93\"]}]]',\n",
       "      'count': 1},\n",
       "     {'value': '[[{\"id\":\"developer-portal-v2\\\\/keboola.sandboxes:3.28.3\",\"digests\":[\"developer-portal-v2\\\\/keboola.sandboxes@sha256:724f3be448c987d1caf7e9e2fbb1e93e3fd5c003c9140e720d137e6cc6b35b03\"]}]]',\n",
       "      'count': 3},\n",
       "     {'value': '[[{\"id\":\"developer-portal-v2\\\\/keboola.sandboxes:3.28.4\",\"digests\":[\"developer-portal-v2\\\\/keboola.sandboxes@sha256:a247b37861339618668d1354413cd0a88438b06763a64ede2c6904ce56bbcb4c\"]}]]',\n",
       "      'count': 1},\n",
       "     {'value': '[[{\"id\":\"developer-portal-v2\\\\/keboola.sandboxes:3.29.0\",\"digests\":[\"developer-portal-v2\\\\/keboola.sandboxes@sha256:4446269e4d31cb99a2e37bb65c07375347b3901bfe59f82fadefffa9cd88c303\"]}]]',\n",
       "      'count': 5},\n",
       "     {'value': '[[{\"id\":\"developer-portal-v2\\\\/keboola.sandboxes:3.30.0\",\"digests\":[\"developer-portal-v2\\\\/keboola.sandboxes@sha256:7fa6679e851dd34eed9efcc72ca2e00ef0d64e056eb08f13191a001cd53ba29c\"]}]]',\n",
       "      'count': 2},\n",
       "     {'value': '[[{\"id\":\"developer-portal-v2\\\\/keboola.sandboxes:3.32.0\",\"digests\":[\"developer-portal-v2\\\\/keboola.sandboxes@sha256:5905a7ffa6a0ab3e65a56e13d88c4b781dd3772a7fa57a9661fcba95090a937b\"]}]]',\n",
       "      'count': 1},\n",
       "     {'value': '[[{\"id\":\"developer-portal-v2\\\\/keboola.sandboxes:3.35.2\",\"digests\":[\"developer-portal-v2\\\\/keboola.sandboxes@sha256:8f2f1de6eb442e6b4a04eb92d6147dc26173e37b11c739df38bdc241bb9bd299\"]}]]',\n",
       "      'count': 1},\n",
       "     {'value': '[[{\"id\":\"developer-portal-v2\\\\/keboola.sandboxes:3.40.0\",\"digests\":[\"developer-portal-v2\\\\/keboola.sandboxes@sha256:5b53af30596b9afdd87284244c1a7af19b8ccd42620452b70241a7dc40ae996b\"]}]]',\n",
       "      'count': 3},\n",
       "     {'value': '[[{\"id\":\"developer-portal-v2\\\\/keboola.sandboxes:3.40.1\",\"digests\":[\"developer-portal-v2\\\\/keboola.sandboxes@sha256:e980dad9fb62b445d6bfb3ca0fb10336b46c2a75e750c8134fb0a16febb023f9\"]}]]',\n",
       "      'count': 2},\n",
       "     {'value': '[[{\"id\":\"developer-portal-v2\\\\/keboola.sandboxes:3.47.0\",\"digests\":[\"developer-portal-v2\\\\/keboola.data-apps@sha256:69a5138347327952bb7a88658cd75f42763804bed01feb97fdb9ab0f2c582668\",\"developer-portal-v2\\\\/keboola.sandboxes@sha256:69a5138347327952bb7a88658cd75f42763804bed01feb97fdb9ab0f2c582668\"]}]]',\n",
       "      'count': 2},\n",
       "     {'value': '[[{\"id\":\"developer-portal-v2\\\\/keboola.sandboxes:3.49.0\",\"digests\":[\"developer-portal-v2\\\\/keboola.data-apps@sha256:7d2c007788d2d8a3c6f1c24129a5828ba92118e72889a8361e6b7e53d4fea917\",\"developer-portal-v2\\\\/keboola.sandboxes@sha256:7d2c007788d2d8a3c6f1c24129a5828ba92118e72889a8361e6b7e53d4fea917\"]}]]',\n",
       "      'count': 4},\n",
       "     {'value': '[[{\"id\":\"developer-portal-v2\\\\/keboola.sandboxes:dev-data-apps-migration-7\",\"digests\":[\"developer-portal-v2\\\\/keboola.sandboxes@sha256:c6b3caf78cd80a220785bfd803a280f334c5420d59e67af6ad12ec0f589346d4\"]}]]',\n",
       "      'count': 3},\n",
       "     {'value': '[[{\"id\":\"developer-portal-v2\\\\/keboola.sapi-merged-export:0.4.0\",\"digests\":[\"developer-portal-v2\\\\/keboola.sapi-merged-export@sha256:97ee568ff43e13672936f8832e15980618e91fdd2498f69c9f03afc603b17ec6\"]}]]',\n",
       "      'count': 1},\n",
       "     {'value': '[[{\"id\":\"developer-portal-v2\\\\/keboola.sliced-files-downloader:1.3.0\",\"digests\":[\"developer-portal-v2\\\\/keboola.sliced-files-downloader@sha256:85423d653cf44efe4f186bef8e079b3068d22513b16e1e60093b0b9dfe93b577\"]}]]',\n",
       "      'count': 2},\n",
       "     {'value': '[[{\"id\":\"developer-portal-v2\\\\/keboola.snowflake-transformation:0.10.2\",\"digests\":[\"developer-portal-v2\\\\/keboola.snowflake-transformation@sha256:abaa563e78c21bef3b6be5daea33ad83da700cab9a84cc1324d64bc167af67e1\"]}]]',\n",
       "      'count': 1517},\n",
       "     {'value': '[[{\"id\":\"developer-portal-v2\\\\/keboola.snowflake-transformation:0.9.0\",\"digests\":[\"developer-portal-v2\\\\/keboola.snowflake-transformation@sha256:31d10ccb54aebdfdba241828a1cbdd498ab36c6087e21a7cdda5ec8b872b289c\"]}]]',\n",
       "      'count': 620},\n",
       "     {'value': '[[{\"id\":\"developer-portal-v2\\\\/keboola.snowflake-transformation:0.9.1\",\"digests\":[\"developer-portal-v2\\\\/keboola.snowflake-transformation@sha256:ee17bfb73c4a120271d45bb7438321528726c14aa25a251eee99bbeb38fd6afd\"]}]]',\n",
       "      'count': 522},\n",
       "     {'value': '[[{\"id\":\"developer-portal-v2\\\\/keboola.snowflake-transformation:0.9.2\",\"digests\":[\"developer-portal-v2\\\\/keboola.snowflake-transformation@sha256:f6c358475df68b7061461ea86a8f46bd73ee31cd1c5a94feb761e227a8bc13eb\"]}]]',\n",
       "      'count': 447},\n",
       "     {'value': '[[{\"id\":\"developer-portal-v2\\\\/keboola.wr-db-pgsql:1.9.5\",\"digests\":[\"developer-portal-v2\\\\/keboola.wr-db-pgsql@sha256:8203a59d35ab40aa873aeba0a94c0c0a63fb4652a8b9f7b75c4629472efe66b6\"]}]]',\n",
       "      'count': 1},\n",
       "     {'value': '[[{\"id\":\"developer-portal-v2\\\\/keboola.wr-google-sheets:1.5.0\",\"digests\":[\"developer-portal-v2\\\\/keboola.wr-google-sheets@sha256:5a7f43bec35408696fb310019f6cecafd1c8fa154439f298d5339532a4f64e12\"]}]]',\n",
       "      'count': 1996},\n",
       "     {'value': '[[{\"id\":\"developer-portal-v2\\\\/keboola.wr-google-sheets:1.6.0\",\"digests\":[\"developer-portal-v2\\\\/keboola.wr-google-sheets@sha256:4309167a615274802a1b1d2bb221120dfad07586dd893a507481bc32dc9b9fa0\"]}]]',\n",
       "      'count': 300},\n",
       "     {'value': '[[{\"id\":\"developer-portal-v2\\\\/keboola.wr-openlineage:1.1.0\",\"digests\":[\"developer-portal-v2\\\\/keboola.wr-openlineage@sha256:06ada18ef1553f302ef68f19d4c7de1ea021c639fab30c75a5f7d35728d6dd3f\"]}]]',\n",
       "      'count': 1053},\n",
       "     {'value': '[]', 'count': 15146}]],\n",
       "   'attributed_value': {'keboola_jobs-keboola_jobs': [{'value': '[[{\"id\":\"developer-portal-v2\\\\/ex-generic-v2:3.7.7\",\"digests\":[\"developer-portal-v2\\\\/ex-generic-v2@sha256:94cfffd999f111f40c6c92773001aedef142fdaa7601a5bb511949c6ae66e37d\"]}]]',\n",
       "      'count': 1},\n",
       "     {'value': '[[{\"id\":\"developer-portal-v2\\\\/ex-generic-v2:4.2.13\",\"digests\":[\"developer-portal-v2\\\\/ex-generic-v2@sha256:134c1527fdd661a6dde9eea998bc774f32d93d4a3b72c680a23c7186a09f5678\"]}]]',\n",
       "      'count': 142},\n",
       "     {'value': '[[{\"id\":\"developer-portal-v2\\\\/ex-generic-v2:4.2.14\",\"digests\":[\"developer-portal-v2\\\\/ex-generic-v2@sha256:a7ff9308c9a892f16b9187a9664ace8af8151c54e6b6351e64cdec784006c571\"]}]]',\n",
       "      'count': 358},\n",
       "     {'value': '[[{\"id\":\"developer-portal-v2\\\\/ex-generic-v2:4.3.0\",\"digests\":[\"developer-portal-v2\\\\/ex-generic-v2@sha256:9bfdcc6c9a994c20b9550f017bc2322cb5860f372202131458062ea44a2d189d\"]}]]',\n",
       "      'count': 126},\n",
       "     {'value': '[[{\"id\":\"developer-portal-v2\\\\/kds-team.ex-google-translation:0.3.5\",\"digests\":[\"developer-portal-v2\\\\/kds-team.ex-google-translation@sha256:4b97220b86a980a1627a87fc5a42b1dfed15fa684bd5eafa8c90044fab5d2b89\"]}]]',\n",
       "      'count': 2},\n",
       "     {'value': '[[{\"id\":\"developer-portal-v2\\\\/kds-team.ex-jira:1.2.3\",\"digests\":[\"developer-portal-v2\\\\/kds-team.ex-jira@sha256:e7cbf98b0d1e3d55393564a5a5b59e1140d20d55074d41ccfad6ed7d87c12eed\"]}]]',\n",
       "      'count': 70},\n",
       "     {'value': '[[{\"id\":\"developer-portal-v2\\\\/kds-team.ex-jira:1.2.4\",\"digests\":[\"developer-portal-v2\\\\/kds-team.ex-jira@sha256:93e23e801f3caad89e7a4744212ca6a960db6ed5366657b875942a3501c8613b\"]}]]',\n",
       "      'count': 272},\n",
       "     {'value': '[[{\"id\":\"developer-portal-v2\\\\/kds-team.ex-jira:1.2.5\",\"digests\":[\"developer-portal-v2\\\\/kds-team.ex-jira@sha256:7a91b25768e6cc075098449008901991e0e1948fb6727e752077d86d491c67b9\"]}]]',\n",
       "      'count': 28},\n",
       "     {'value': '[[{\"id\":\"developer-portal-v2\\\\/kds-team.ex-jira:1.2.6\",\"digests\":[\"developer-portal-v2\\\\/kds-team.ex-jira@sha256:5d5e6c2c6c4abffee25a40c03fedd8a1233ac6f811a211565fb790d1f8683f2f\"]}]]',\n",
       "      'count': 460},\n",
       "     {'value': '[[{\"id\":\"developer-portal-v2\\\\/kds-team.ex-jira:1.3.0\",\"digests\":[\"developer-portal-v2\\\\/kds-team.ex-jira@sha256:fcbc76e0efdafe423219327403a938f6b962eed2d2717cefbc21b749caf7e21e\"]}]]',\n",
       "      'count': 226},\n",
       "     {'value': '[[{\"id\":\"developer-portal-v2\\\\/kds-team.ex-kbc-project-metadata-v2:2.3.3\",\"digests\":[\"developer-portal-v2\\\\/kds-team.ex-kbc-project-metadata-v2@sha256:83c4daec12aca92dbee92488e2068f08af5cec60006c264f3243fa905dde34a0\"]}]]',\n",
       "      'count': 1},\n",
       "     {'value': '[[{\"id\":\"developer-portal-v2\\\\/keboola.dbt-transformation:1.12.3\",\"digests\":[\"developer-portal-v2\\\\/keboola.dbt-transformation@sha256:bbb49fc4b0088f14c090400b8300c893a8120a705ff13fea5874ad288b92938d\"]}]]',\n",
       "      'count': 474},\n",
       "     {'value': '[[{\"id\":\"developer-portal-v2\\\\/keboola.dbt-transformation:1.13.0\",\"digests\":[\"developer-portal-v2\\\\/keboola.dbt-transformation@sha256:f712ffc1a10c6171a9075e5c39acb2738d328f28302755baa49dce10b7192453\"]}]]',\n",
       "      'count': 113},\n",
       "     {'value': '[[{\"id\":\"developer-portal-v2\\\\/keboola.dbt-transformation:1.14.0\",\"digests\":[\"developer-portal-v2\\\\/keboola.dbt-transformation@sha256:2d2ffb40ea3e417ddd38296c9824a260c2f3b5624c4686c7850296a4c2c465b0\"]}]]',\n",
       "      'count': 7},\n",
       "     {'value': '[[{\"id\":\"developer-portal-v2\\\\/keboola.dbt-transformation:1.15.0\",\"digests\":[\"developer-portal-v2\\\\/keboola.dbt-transformation@sha256:2ace2e6a90f45f43762137a10c3198471b898090fe12d69ce4970bd3f84b5119\"]}]]',\n",
       "      'count': 6},\n",
       "     {'value': '[[{\"id\":\"developer-portal-v2\\\\/keboola.dbt-transformation:1.16.0\",\"digests\":[\"developer-portal-v2\\\\/keboola.dbt-transformation@sha256:58221407131cc20c78fc5274249cd34b4f1961d32a61afaa56120b2407cf93af\"]}]]',\n",
       "      'count': 30},\n",
       "     {'value': '[[{\"id\":\"developer-portal-v2\\\\/keboola.dbt-transformation:1.16.1\",\"digests\":[\"developer-portal-v2\\\\/keboola.dbt-transformation@sha256:f743de3a333161e4102c513523c2793ce8ed749508a7f8b90cae91ee8c0b94fe\"]}]]',\n",
       "      'count': 13},\n",
       "     {'value': '[[{\"id\":\"developer-portal-v2\\\\/keboola.dbt-transformation:1.16.2\",\"digests\":[\"developer-portal-v2\\\\/keboola.dbt-transformation@sha256:12ce906db842d74dc7e50de72859a938a6b64017688456621289df0eadb631d2\"]}]]',\n",
       "      'count': 42},\n",
       "     {'value': '[[{\"id\":\"developer-portal-v2\\\\/keboola.dbt-transformation:1.17.0\",\"digests\":[\"developer-portal-v2\\\\/keboola.dbt-transformation@sha256:981ea4d753549c25dc7ae6676748d7b41d27650c6c5d1d147034c0a761282026\"]}]]',\n",
       "      'count': 24},\n",
       "     {'value': '[[{\"id\":\"developer-portal-v2\\\\/keboola.dbt-transformation:1.17.1\",\"digests\":[\"developer-portal-v2\\\\/keboola.dbt-transformation@sha256:71a8d441fc226254298b602e78362d94490a91be4b1c6861ac4d09131179d682\"]}]]',\n",
       "      'count': 11},\n",
       "     {'value': '[[{\"id\":\"developer-portal-v2\\\\/keboola.dbt-transformation:1.18.0\",\"digests\":[\"developer-portal-v2\\\\/keboola.dbt-transformation@sha256:8841d15c79db3f62d3a04efb57f3122265d606cbe1d993ad20ce57d5c8db7bec\"]}]]',\n",
       "      'count': 6},\n",
       "     {'value': '[[{\"id\":\"developer-portal-v2\\\\/keboola.dbt-transformation:2.0.0-1.5.0\",\"digests\":[\"developer-portal-v2\\\\/keboola.dbt-transformation@sha256:3544d19821f78bb74f79c57aba5c4155705314fe2575990e09933e6efe93ce5b\"]}]]',\n",
       "      'count': 114},\n",
       "     {'value': '[[{\"id\":\"developer-portal-v2\\\\/keboola.dbt-transformation:2.0.1-1.5.0\",\"digests\":[\"developer-portal-v2\\\\/keboola.dbt-transformation@sha256:531c37b11711796ca7dfb7ee26e9de42e9df11c9c302950ca3eb9baf6f66f527\"]}]]',\n",
       "      'count': 6},\n",
       "     {'value': '[[{\"id\":\"developer-portal-v2\\\\/keboola.dbt-transformation:2.0.2-1.5.0\",\"digests\":[\"developer-portal-v2\\\\/keboola.dbt-transformation@sha256:d8798f8fbbfe7b66254af877f6010e6c3a066efec9148c8a0ea6c33f26ca6d62\"]}]]',\n",
       "      'count': 378},\n",
       "     {'value': '[[{\"id\":\"developer-portal-v2\\\\/keboola.dbt-transformation:2.0.3-1.5.0\",\"digests\":[\"developer-portal-v2\\\\/keboola.dbt-transformation@sha256:a2419a6a0451cd61207378cdc7be5ab9396aadcb3dacc810c541d1934fced998\"]}]]',\n",
       "      'count': 40},\n",
       "     {'value': '[[{\"id\":\"developer-portal-v2\\\\/keboola.dbt-transformation:2.0.4-1.5.0\",\"digests\":[\"developer-portal-v2\\\\/keboola.dbt-transformation@sha256:6ee180b534fd6b72fbc699156a34c4de1cc0d16df045f9cb9c7b45a992777e1f\"]}]]',\n",
       "      'count': 345},\n",
       "     {'value': '[[{\"id\":\"developer-portal-v2\\\\/keboola.ex-db-mysql:7.0.0\",\"digests\":[\"developer-portal-v2\\\\/keboola.ex-db-mysql@sha256:52a70bbf3280b324e40a04d024f333e3bbebd9dd0be85d2ce661c898b6317b09\"]}]]',\n",
       "      'count': 1},\n",
       "     {'value': '[[{\"id\":\"developer-portal-v2\\\\/keboola.ex-db-mysql:7.1.0\",\"digests\":[\"developer-portal-v2\\\\/keboola.ex-db-mysql@sha256:dd55198010b3fec23b1f8122be3bbbe8a40c2831ad72e26f3e65767cd0ab648c\"]}]]',\n",
       "      'count': 1},\n",
       "     {'value': '[[{\"id\":\"developer-portal-v2\\\\/keboola.ex-db-snowflake:6.2.0\",\"digests\":[\"developer-portal-v2\\\\/keboola.ex-db-snowflake@sha256:d4a40119827f746fb6eb792057a5b1958207684dc1e4cf6a4c5012541aff99ef\"]}]]',\n",
       "      'count': 1},\n",
       "     {'value': '[[{\"id\":\"developer-portal-v2\\\\/keboola.ex-google-drive:2.7.1\",\"digests\":[\"developer-portal-v2\\\\/keboola.ex-google-drive@sha256:5e0773f7aa9cfb0342667584d69c837c9307b897f236381b68eaeadeadfb24cf\"]}]]',\n",
       "      'count': 253},\n",
       "     {'value': '[[{\"id\":\"developer-portal-v2\\\\/keboola.ex-google-drive:2.7.2\",\"digests\":[\"developer-portal-v2\\\\/keboola.ex-google-drive@sha256:7fefc44b350020f35769a15fadba09f7c75b4f6d93afdbf8191e1e4a2d3154e5\"]}]]',\n",
       "      'count': 16},\n",
       "     {'value': '[[{\"id\":\"developer-portal-v2\\\\/keboola.ex-google-drive:2.7.3\",\"digests\":[\"developer-portal-v2\\\\/keboola.ex-google-drive@sha256:6cbbe414ad84c372f8d78ded8c596251e34d7453beb2366bbe077137a07d8dbd\"]}]]',\n",
       "      'count': 784},\n",
       "     {'value': '[[{\"id\":\"developer-portal-v2\\\\/keboola.ex-http:v2.5.5\",\"digests\":[\"developer-portal-v2\\\\/keboola.ex-http@sha256:55b3d56f0d05215c117e61db378b6b8559ae61630d550cc9335abeed05803050\"]},{\"id\":\"developer-portal-v2\\\\/keboola.processor-decompress:v4.3.0\",\"digests\":[\"developer-portal-v2\\\\/keboola.processor-decompress@sha256:12000010ac552e7286a37b33cdd27f0c6620779265c09fc29d96cf4507f2ae3f\"]},{\"id\":\"developer-portal-v2\\\\/keboola.processor-move-files:v3.1.0\",\"digests\":[\"developer-portal-v2\\\\/keboola.processor-move-files@sha256:e9f9e67911cef9af68cebace7d14a7217af483a568669d9d2fd9015da97de637\"]},{\"id\":\"developer-portal-v2\\\\/keboola.processor-flatten-folders:v1.2.0\",\"digests\":[\"developer-portal-v2\\\\/keboola.processor-flatten-folders@sha256:069d609f7f9ea49a3119ab50c4664a017dfa231adbd9497dfe1f931e3e1a1d71\"]},{\"id\":\"developer-portal-v2\\\\/keboola.processor-create-manifest:v0.4.2\",\"digests\":[\"developer-portal-v2\\\\/keboola.processor-create-manifest@sha256:13acf59f48df4244a8d9ea571c961bb2ecfb99667f6f46148cdd95d572359b67\"]},{\"id\":\"developer-portal-v2\\\\/keboola.processor-skip-lines:2.2.0\",\"digests\":[\"developer-portal-v2\\\\/keboola.processor-skip-lines@sha256:b30d0291a5d098a3bc86cfe1094c9f580566c97f184979620141f01532c1d21e\"]}]]',\n",
       "      'count': 2},\n",
       "     {'value': '[[{\"id\":\"developer-portal-v2\\\\/keboola.ex-http:v2.5.5\",\"digests\":[\"developer-portal-v2\\\\/keboola.ex-http@sha256:55b3d56f0d05215c117e61db378b6b8559ae61630d550cc9335abeed05803050\"]},{\"id\":\"developer-portal-v2\\\\/keboola.processor-decompress:v4.3.0\",\"digests\":[\"developer-portal-v2\\\\/keboola.processor-decompress@sha256:12000010ac552e7286a37b33cdd27f0c6620779265c09fc29d96cf4507f2ae3f\"]},{\"id\":\"developer-portal-v2\\\\/keboola.processor-move-files:v3.1.0\",\"digests\":[\"developer-portal-v2\\\\/keboola.processor-move-files@sha256:e9f9e67911cef9af68cebace7d14a7217af483a568669d9d2fd9015da97de637\"]},{\"id\":\"developer-portal-v2\\\\/keboola.processor-flatten-folders:v1.2.0\",\"digests\":[\"developer-portal-v2\\\\/keboola.processor-flatten-folders@sha256:069d609f7f9ea49a3119ab50c4664a017dfa231adbd9497dfe1f931e3e1a1d71\"]},{\"id\":\"developer-portal-v2\\\\/keboola.processor-iconv:4.0.3\",\"digests\":[\"developer-portal-v2\\\\/keboola.processor-iconv@sha256:3bd3ac3b2366120cd41f3c0c8b390a79ba1f0fa704be1bc102173c7720efcab6\"]},{\"id\":\"developer-portal-v2\\\\/keboola.processor-create-manifest:v0.4.2\",\"digests\":[\"developer-portal-v2\\\\/keboola.processor-create-manifest@sha256:13acf59f48df4244a8d9ea571c961bb2ecfb99667f6f46148cdd95d572359b67\"]},{\"id\":\"developer-portal-v2\\\\/keboola.processor-skip-lines:2.2.0\",\"digests\":[\"developer-portal-v2\\\\/keboola.processor-skip-lines@sha256:b30d0291a5d098a3bc86cfe1094c9f580566c97f184979620141f01532c1d21e\"]}]]',\n",
       "      'count': 1},\n",
       "     {'value': '[[{\"id\":\"developer-portal-v2\\\\/keboola.ex-http:v2.5.5\",\"digests\":[\"developer-portal-v2\\\\/keboola.ex-http@sha256:55b3d56f0d05215c117e61db378b6b8559ae61630d550cc9335abeed05803050\"]}]]',\n",
       "      'count': 1},\n",
       "     {'value': '[[{\"id\":\"developer-portal-v2\\\\/keboola.no-code-dbt-transformation:1.2.0\",\"digests\":[\"developer-portal-v2\\\\/keboola.no-code-dbt-transformation@sha256:4222394982d8482ac92f236de8c5f723743920a8cfc6862ed886ab34bb0430b6\"]}]]',\n",
       "      'count': 1},\n",
       "     {'value': '[[{\"id\":\"developer-portal-v2\\\\/keboola.no-code-dbt-transformation:1.2.1\",\"digests\":[\"developer-portal-v2\\\\/keboola.no-code-dbt-transformation@sha256:a859003e50eff0aa1eb9523830eeddeaee3f60909308468ada4268a91ef5ae9e\"]}]]',\n",
       "      'count': 1},\n",
       "     {'value': '[[{\"id\":\"developer-portal-v2\\\\/keboola.python-transformation-v2:1.3.4\",\"digests\":[\"developer-portal-v2\\\\/keboola.python-transformation-v2@sha256:75cee6c754fc10960c010a888ef7fec4fc8493d9d9c2b2b98514a3b8b480eb10\"]}]]',\n",
       "      'count': 166},\n",
       "     {'value': '[[{\"id\":\"developer-portal-v2\\\\/keboola.sandboxes:3.27.2\",\"digests\":[\"developer-portal-v2\\\\/keboola.sandboxes@sha256:29717c424c175c3e27285c0ee7b98f2cb49251647046ae44992308fa13b69c93\"]}]]',\n",
       "      'count': 1},\n",
       "     {'value': '[[{\"id\":\"developer-portal-v2\\\\/keboola.sandboxes:3.28.3\",\"digests\":[\"developer-portal-v2\\\\/keboola.sandboxes@sha256:724f3be448c987d1caf7e9e2fbb1e93e3fd5c003c9140e720d137e6cc6b35b03\"]}]]',\n",
       "      'count': 3},\n",
       "     {'value': '[[{\"id\":\"developer-portal-v2\\\\/keboola.sandboxes:3.28.4\",\"digests\":[\"developer-portal-v2\\\\/keboola.sandboxes@sha256:a247b37861339618668d1354413cd0a88438b06763a64ede2c6904ce56bbcb4c\"]}]]',\n",
       "      'count': 1},\n",
       "     {'value': '[[{\"id\":\"developer-portal-v2\\\\/keboola.sandboxes:3.29.0\",\"digests\":[\"developer-portal-v2\\\\/keboola.sandboxes@sha256:4446269e4d31cb99a2e37bb65c07375347b3901bfe59f82fadefffa9cd88c303\"]}]]',\n",
       "      'count': 5},\n",
       "     {'value': '[[{\"id\":\"developer-portal-v2\\\\/keboola.sandboxes:3.30.0\",\"digests\":[\"developer-portal-v2\\\\/keboola.sandboxes@sha256:7fa6679e851dd34eed9efcc72ca2e00ef0d64e056eb08f13191a001cd53ba29c\"]}]]',\n",
       "      'count': 2},\n",
       "     {'value': '[[{\"id\":\"developer-portal-v2\\\\/keboola.sandboxes:3.32.0\",\"digests\":[\"developer-portal-v2\\\\/keboola.sandboxes@sha256:5905a7ffa6a0ab3e65a56e13d88c4b781dd3772a7fa57a9661fcba95090a937b\"]}]]',\n",
       "      'count': 1},\n",
       "     {'value': '[[{\"id\":\"developer-portal-v2\\\\/keboola.sandboxes:3.35.2\",\"digests\":[\"developer-portal-v2\\\\/keboola.sandboxes@sha256:8f2f1de6eb442e6b4a04eb92d6147dc26173e37b11c739df38bdc241bb9bd299\"]}]]',\n",
       "      'count': 1},\n",
       "     {'value': '[[{\"id\":\"developer-portal-v2\\\\/keboola.sandboxes:3.40.0\",\"digests\":[\"developer-portal-v2\\\\/keboola.sandboxes@sha256:5b53af30596b9afdd87284244c1a7af19b8ccd42620452b70241a7dc40ae996b\"]}]]',\n",
       "      'count': 3},\n",
       "     {'value': '[[{\"id\":\"developer-portal-v2\\\\/keboola.sandboxes:3.40.1\",\"digests\":[\"developer-portal-v2\\\\/keboola.sandboxes@sha256:e980dad9fb62b445d6bfb3ca0fb10336b46c2a75e750c8134fb0a16febb023f9\"]}]]',\n",
       "      'count': 2},\n",
       "     {'value': '[[{\"id\":\"developer-portal-v2\\\\/keboola.sandboxes:3.47.0\",\"digests\":[\"developer-portal-v2\\\\/keboola.data-apps@sha256:69a5138347327952bb7a88658cd75f42763804bed01feb97fdb9ab0f2c582668\",\"developer-portal-v2\\\\/keboola.sandboxes@sha256:69a5138347327952bb7a88658cd75f42763804bed01feb97fdb9ab0f2c582668\"]}]]',\n",
       "      'count': 2},\n",
       "     {'value': '[[{\"id\":\"developer-portal-v2\\\\/keboola.sandboxes:3.49.0\",\"digests\":[\"developer-portal-v2\\\\/keboola.data-apps@sha256:7d2c007788d2d8a3c6f1c24129a5828ba92118e72889a8361e6b7e53d4fea917\",\"developer-portal-v2\\\\/keboola.sandboxes@sha256:7d2c007788d2d8a3c6f1c24129a5828ba92118e72889a8361e6b7e53d4fea917\"]}]]',\n",
       "      'count': 4},\n",
       "     {'value': '[[{\"id\":\"developer-portal-v2\\\\/keboola.sandboxes:dev-data-apps-migration-7\",\"digests\":[\"developer-portal-v2\\\\/keboola.sandboxes@sha256:c6b3caf78cd80a220785bfd803a280f334c5420d59e67af6ad12ec0f589346d4\"]}]]',\n",
       "      'count': 3},\n",
       "     {'value': '[[{\"id\":\"developer-portal-v2\\\\/keboola.sapi-merged-export:0.4.0\",\"digests\":[\"developer-portal-v2\\\\/keboola.sapi-merged-export@sha256:97ee568ff43e13672936f8832e15980618e91fdd2498f69c9f03afc603b17ec6\"]}]]',\n",
       "      'count': 1},\n",
       "     {'value': '[[{\"id\":\"developer-portal-v2\\\\/keboola.sliced-files-downloader:1.3.0\",\"digests\":[\"developer-portal-v2\\\\/keboola.sliced-files-downloader@sha256:85423d653cf44efe4f186bef8e079b3068d22513b16e1e60093b0b9dfe93b577\"]}]]',\n",
       "      'count': 2},\n",
       "     {'value': '[[{\"id\":\"developer-portal-v2\\\\/keboola.snowflake-transformation:0.10.2\",\"digests\":[\"developer-portal-v2\\\\/keboola.snowflake-transformation@sha256:abaa563e78c21bef3b6be5daea33ad83da700cab9a84cc1324d64bc167af67e1\"]}]]',\n",
       "      'count': 1517},\n",
       "     {'value': '[[{\"id\":\"developer-portal-v2\\\\/keboola.snowflake-transformation:0.9.0\",\"digests\":[\"developer-portal-v2\\\\/keboola.snowflake-transformation@sha256:31d10ccb54aebdfdba241828a1cbdd498ab36c6087e21a7cdda5ec8b872b289c\"]}]]',\n",
       "      'count': 620},\n",
       "     {'value': '[[{\"id\":\"developer-portal-v2\\\\/keboola.snowflake-transformation:0.9.1\",\"digests\":[\"developer-portal-v2\\\\/keboola.snowflake-transformation@sha256:ee17bfb73c4a120271d45bb7438321528726c14aa25a251eee99bbeb38fd6afd\"]}]]',\n",
       "      'count': 522},\n",
       "     {'value': '[[{\"id\":\"developer-portal-v2\\\\/keboola.snowflake-transformation:0.9.2\",\"digests\":[\"developer-portal-v2\\\\/keboola.snowflake-transformation@sha256:f6c358475df68b7061461ea86a8f46bd73ee31cd1c5a94feb761e227a8bc13eb\"]}]]',\n",
       "      'count': 447},\n",
       "     {'value': '[[{\"id\":\"developer-portal-v2\\\\/keboola.wr-db-pgsql:1.9.5\",\"digests\":[\"developer-portal-v2\\\\/keboola.wr-db-pgsql@sha256:8203a59d35ab40aa873aeba0a94c0c0a63fb4652a8b9f7b75c4629472efe66b6\"]}]]',\n",
       "      'count': 1},\n",
       "     {'value': '[[{\"id\":\"developer-portal-v2\\\\/keboola.wr-google-sheets:1.5.0\",\"digests\":[\"developer-portal-v2\\\\/keboola.wr-google-sheets@sha256:5a7f43bec35408696fb310019f6cecafd1c8fa154439f298d5339532a4f64e12\"]}]]',\n",
       "      'count': 1996},\n",
       "     {'value': '[[{\"id\":\"developer-portal-v2\\\\/keboola.wr-google-sheets:1.6.0\",\"digests\":[\"developer-portal-v2\\\\/keboola.wr-google-sheets@sha256:4309167a615274802a1b1d2bb221120dfad07586dd893a507481bc32dc9b9fa0\"]}]]',\n",
       "      'count': 300},\n",
       "     {'value': '[[{\"id\":\"developer-portal-v2\\\\/keboola.wr-openlineage:1.1.0\",\"digests\":[\"developer-portal-v2\\\\/keboola.wr-openlineage@sha256:06ada18ef1553f302ef68f19d4c7de1ea021c639fab30c75a5f7d35728d6dd3f\"]}]]',\n",
       "      'count': 1053},\n",
       "     {'value': '[]', 'count': 15146}]},\n",
       "   'details': {'metric_configuration': {'metric_name': 'column.value_counts',\n",
       "     'domain_kwargs': {'column': 'result_images'},\n",
       "     'metric_value_kwargs': {'sort': 'value'}},\n",
       "    'num_batches': 1}},\n",
       "  '$parameter.column_distinct_values_count': {'value': [61],\n",
       "   'attributed_value': {'keboola_jobs-keboola_jobs': [61]},\n",
       "   'details': {'metric_configuration': {'metric_name': 'column.distinct_values.count',\n",
       "     'domain_kwargs': {'column': 'result_images'},\n",
       "     'metric_value_kwargs': None},\n",
       "    'num_batches': 1}}},\n",
       " {\n",
       "   \"domain_type\": \"column\",\n",
       "   \"domain_kwargs\": {\n",
       "     \"column\": \"result_artifacts_downloaded\"\n",
       "   },\n",
       "   \"details\": {\n",
       "     \"inferred_semantic_domain_type\": {\n",
       "       \"result_artifacts_downloaded\": \"text\"\n",
       "     }\n",
       "   },\n",
       "   \"rule_name\": \"categorical_columns_rule\"\n",
       " }: {'$parameter.raw.column_value_counts': {'value': [value\n",
       "    []    10717\n",
       "    Name: count, dtype: int64],\n",
       "   'attributed_value': {'keboola_jobs-keboola_jobs': value\n",
       "    []    10717\n",
       "    Name: count, dtype: int64},\n",
       "   'details': {'metric_configuration': {'metric_name': 'column.value_counts',\n",
       "     'domain_kwargs': {'column': 'result_artifacts_downloaded'},\n",
       "     'metric_value_kwargs': {'sort': 'value'}},\n",
       "    'num_batches': 1}},\n",
       "  '$parameter.raw.column_distinct_values_count': {'value': array([1]),\n",
       "   'attributed_value': {'keboola_jobs-keboola_jobs': array([1])},\n",
       "   'details': {'metric_configuration': {'metric_name': 'column.distinct_values.count',\n",
       "     'domain_kwargs': {'column': 'result_artifacts_downloaded'},\n",
       "     'metric_value_kwargs': None},\n",
       "    'num_batches': 1}},\n",
       "  '$parameter.column_value_counts': {'value': [[{'value': '[]',\n",
       "      'count': 10717}]],\n",
       "   'attributed_value': {'keboola_jobs-keboola_jobs': [{'value': '[]',\n",
       "      'count': 10717}]},\n",
       "   'details': {'metric_configuration': {'metric_name': 'column.value_counts',\n",
       "     'domain_kwargs': {'column': 'result_artifacts_downloaded'},\n",
       "     'metric_value_kwargs': {'sort': 'value'}},\n",
       "    'num_batches': 1}},\n",
       "  '$parameter.column_distinct_values_count': {'value': [1],\n",
       "   'attributed_value': {'keboola_jobs-keboola_jobs': [1]},\n",
       "   'details': {'metric_configuration': {'metric_name': 'column.distinct_values.count',\n",
       "     'domain_kwargs': {'column': 'result_artifacts_downloaded'},\n",
       "     'metric_value_kwargs': None},\n",
       "    'num_batches': 1}}},\n",
       " {\n",
       "   \"domain_type\": \"column\",\n",
       "   \"domain_kwargs\": {\n",
       "     \"column\": \"result_config_version\"\n",
       "   },\n",
       "   \"details\": {\n",
       "     \"inferred_semantic_domain_type\": {\n",
       "       \"result_config_version\": \"numeric\"\n",
       "     }\n",
       "   },\n",
       "   \"rule_name\": \"categorical_columns_rule\"\n",
       " }: {'$parameter.raw.column_value_counts': {'value': [value\n",
       "    1.0         3\n",
       "    3.0      2331\n",
       "    4.0      1057\n",
       "    5.0      1156\n",
       "    6.0         7\n",
       "    7.0       928\n",
       "    8.0       626\n",
       "    9.0        17\n",
       "    10.0     1022\n",
       "    11.0      341\n",
       "    12.0       58\n",
       "    13.0        3\n",
       "    14.0      629\n",
       "    15.0      136\n",
       "    16.0        1\n",
       "    17.0        1\n",
       "    18.0        1\n",
       "    19.0      132\n",
       "    20.0      282\n",
       "    21.0        1\n",
       "    22.0     1238\n",
       "    23.0      459\n",
       "    27.0        1\n",
       "    31.0        1\n",
       "    32.0        1\n",
       "    34.0       38\n",
       "    36.0        1\n",
       "    37.0        1\n",
       "    38.0        1\n",
       "    39.0        1\n",
       "    40.0        1\n",
       "    44.0      259\n",
       "    46.0      233\n",
       "    66.0        1\n",
       "    73.0        1\n",
       "    74.0        1\n",
       "    76.0        1\n",
       "    78.0        1\n",
       "    80.0        1\n",
       "    88.0        1\n",
       "    94.0        1\n",
       "    95.0        1\n",
       "    99.0        1\n",
       "    100.0       1\n",
       "    Name: count, dtype: int64],\n",
       "   'attributed_value': {'keboola_jobs-keboola_jobs': value\n",
       "    1.0         3\n",
       "    3.0      2331\n",
       "    4.0      1057\n",
       "    5.0      1156\n",
       "    6.0         7\n",
       "    7.0       928\n",
       "    8.0       626\n",
       "    9.0        17\n",
       "    10.0     1022\n",
       "    11.0      341\n",
       "    12.0       58\n",
       "    13.0        3\n",
       "    14.0      629\n",
       "    15.0      136\n",
       "    16.0        1\n",
       "    17.0        1\n",
       "    18.0        1\n",
       "    19.0      132\n",
       "    20.0      282\n",
       "    21.0        1\n",
       "    22.0     1238\n",
       "    23.0      459\n",
       "    27.0        1\n",
       "    31.0        1\n",
       "    32.0        1\n",
       "    34.0       38\n",
       "    36.0        1\n",
       "    37.0        1\n",
       "    38.0        1\n",
       "    39.0        1\n",
       "    40.0        1\n",
       "    44.0      259\n",
       "    46.0      233\n",
       "    66.0        1\n",
       "    73.0        1\n",
       "    74.0        1\n",
       "    76.0        1\n",
       "    78.0        1\n",
       "    80.0        1\n",
       "    88.0        1\n",
       "    94.0        1\n",
       "    95.0        1\n",
       "    99.0        1\n",
       "    100.0       1\n",
       "    Name: count, dtype: int64},\n",
       "   'details': {'metric_configuration': {'metric_name': 'column.value_counts',\n",
       "     'domain_kwargs': {'column': 'result_config_version'},\n",
       "     'metric_value_kwargs': {'sort': 'value'}},\n",
       "    'num_batches': 1}},\n",
       "  '$parameter.raw.column_distinct_values_count': {'value': array([44]),\n",
       "   'attributed_value': {'keboola_jobs-keboola_jobs': array([44])},\n",
       "   'details': {'metric_configuration': {'metric_name': 'column.distinct_values.count',\n",
       "     'domain_kwargs': {'column': 'result_config_version'},\n",
       "     'metric_value_kwargs': None},\n",
       "    'num_batches': 1}},\n",
       "  '$parameter.column_value_counts': {'value': [[{'value': 1.0, 'count': 3},\n",
       "     {'value': 3.0, 'count': 2331},\n",
       "     {'value': 4.0, 'count': 1057},\n",
       "     {'value': 5.0, 'count': 1156},\n",
       "     {'value': 6.0, 'count': 7},\n",
       "     {'value': 7.0, 'count': 928},\n",
       "     {'value': 8.0, 'count': 626},\n",
       "     {'value': 9.0, 'count': 17},\n",
       "     {'value': 10.0, 'count': 1022},\n",
       "     {'value': 11.0, 'count': 341},\n",
       "     {'value': 12.0, 'count': 58},\n",
       "     {'value': 13.0, 'count': 3},\n",
       "     {'value': 14.0, 'count': 629},\n",
       "     {'value': 15.0, 'count': 136},\n",
       "     {'value': 16.0, 'count': 1},\n",
       "     {'value': 17.0, 'count': 1},\n",
       "     {'value': 18.0, 'count': 1},\n",
       "     {'value': 19.0, 'count': 132},\n",
       "     {'value': 20.0, 'count': 282},\n",
       "     {'value': 21.0, 'count': 1},\n",
       "     {'value': 22.0, 'count': 1238},\n",
       "     {'value': 23.0, 'count': 459},\n",
       "     {'value': 27.0, 'count': 1},\n",
       "     {'value': 31.0, 'count': 1},\n",
       "     {'value': 32.0, 'count': 1},\n",
       "     {'value': 34.0, 'count': 38},\n",
       "     {'value': 36.0, 'count': 1},\n",
       "     {'value': 37.0, 'count': 1},\n",
       "     {'value': 38.0, 'count': 1},\n",
       "     {'value': 39.0, 'count': 1},\n",
       "     {'value': 40.0, 'count': 1},\n",
       "     {'value': 44.0, 'count': 259},\n",
       "     {'value': 46.0, 'count': 233},\n",
       "     {'value': 66.0, 'count': 1},\n",
       "     {'value': 73.0, 'count': 1},\n",
       "     {'value': 74.0, 'count': 1},\n",
       "     {'value': 76.0, 'count': 1},\n",
       "     {'value': 78.0, 'count': 1},\n",
       "     {'value': 80.0, 'count': 1},\n",
       "     {'value': 88.0, 'count': 1},\n",
       "     {'value': 94.0, 'count': 1},\n",
       "     {'value': 95.0, 'count': 1},\n",
       "     {'value': 99.0, 'count': 1},\n",
       "     {'value': 100.0, 'count': 1}]],\n",
       "   'attributed_value': {'keboola_jobs-keboola_jobs': [{'value': 1.0,\n",
       "      'count': 3},\n",
       "     {'value': 3.0, 'count': 2331},\n",
       "     {'value': 4.0, 'count': 1057},\n",
       "     {'value': 5.0, 'count': 1156},\n",
       "     {'value': 6.0, 'count': 7},\n",
       "     {'value': 7.0, 'count': 928},\n",
       "     {'value': 8.0, 'count': 626},\n",
       "     {'value': 9.0, 'count': 17},\n",
       "     {'value': 10.0, 'count': 1022},\n",
       "     {'value': 11.0, 'count': 341},\n",
       "     {'value': 12.0, 'count': 58},\n",
       "     {'value': 13.0, 'count': 3},\n",
       "     {'value': 14.0, 'count': 629},\n",
       "     {'value': 15.0, 'count': 136},\n",
       "     {'value': 16.0, 'count': 1},\n",
       "     {'value': 17.0, 'count': 1},\n",
       "     {'value': 18.0, 'count': 1},\n",
       "     {'value': 19.0, 'count': 132},\n",
       "     {'value': 20.0, 'count': 282},\n",
       "     {'value': 21.0, 'count': 1},\n",
       "     {'value': 22.0, 'count': 1238},\n",
       "     {'value': 23.0, 'count': 459},\n",
       "     {'value': 27.0, 'count': 1},\n",
       "     {'value': 31.0, 'count': 1},\n",
       "     {'value': 32.0, 'count': 1},\n",
       "     {'value': 34.0, 'count': 38},\n",
       "     {'value': 36.0, 'count': 1},\n",
       "     {'value': 37.0, 'count': 1},\n",
       "     {'value': 38.0, 'count': 1},\n",
       "     {'value': 39.0, 'count': 1},\n",
       "     {'value': 40.0, 'count': 1},\n",
       "     {'value': 44.0, 'count': 259},\n",
       "     {'value': 46.0, 'count': 233},\n",
       "     {'value': 66.0, 'count': 1},\n",
       "     {'value': 73.0, 'count': 1},\n",
       "     {'value': 74.0, 'count': 1},\n",
       "     {'value': 76.0, 'count': 1},\n",
       "     {'value': 78.0, 'count': 1},\n",
       "     {'value': 80.0, 'count': 1},\n",
       "     {'value': 88.0, 'count': 1},\n",
       "     {'value': 94.0, 'count': 1},\n",
       "     {'value': 95.0, 'count': 1},\n",
       "     {'value': 99.0, 'count': 1},\n",
       "     {'value': 100.0, 'count': 1}]},\n",
       "   'details': {'metric_configuration': {'metric_name': 'column.value_counts',\n",
       "     'domain_kwargs': {'column': 'result_config_version'},\n",
       "     'metric_value_kwargs': {'sort': 'value'}},\n",
       "    'num_batches': 1}},\n",
       "  '$parameter.column_distinct_values_count': {'value': [44],\n",
       "   'attributed_value': {'keboola_jobs-keboola_jobs': [44]},\n",
       "   'details': {'metric_configuration': {'metric_name': 'column.distinct_values.count',\n",
       "     'domain_kwargs': {'column': 'result_config_version'},\n",
       "     'metric_value_kwargs': None},\n",
       "    'num_batches': 1}}}}"
      ]
     },
     "execution_count": 42,
     "metadata": {},
     "output_type": "execute_result"
    }
   ],
   "source": [
    "data_assistant_result.metrics_by_domain"
   ]
  },
  {
   "cell_type": "code",
   "execution_count": 47,
   "metadata": {},
   "outputs": [],
   "source": [
    "my_suite = context.get_expectation_suite(expectation_suite_name)\n",
    "context.save_expectation_suite(my_suite)"
   ]
  },
  {
   "cell_type": "code",
   "execution_count": null,
   "metadata": {},
   "outputs": [],
   "source": [
    "expect_column_values_to_be_in_set\n",
    "[\"success\"]"
   ]
  }
 ],
 "metadata": {
  "kernelspec": {
   "display_name": "Python 3",
   "language": "python",
   "name": "python3"
  },
  "language_info": {
   "codemirror_mode": {
    "name": "ipython",
    "version": 3
   },
   "file_extension": ".py",
   "mimetype": "text/x-python",
   "name": "python",
   "nbconvert_exporter": "python",
   "pygments_lexer": "ipython3",
   "version": "3.11.4"
  }
 },
 "nbformat": 4,
 "nbformat_minor": 2
}
